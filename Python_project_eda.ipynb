{
 "cells": [
  {
   "cell_type": "code",
   "execution_count": 1,
   "id": "ff17fe21",
   "metadata": {},
   "outputs": [],
   "source": [
    "import numpy as np\n",
    "import pandas as pd"
   ]
  },
  {
   "cell_type": "code",
   "execution_count": 2,
   "id": "af126220",
   "metadata": {},
   "outputs": [
    {
     "name": "stdout",
     "output_type": "stream",
     "text": [
      "/Users/jamesreno/Documents/Documents - James’s MacBook Air/NYCDSA/Python/Python Project/Meetup_Data\r\n"
     ]
    }
   ],
   "source": [
    "!pwd"
   ]
  },
  {
   "cell_type": "code",
   "execution_count": 3,
   "id": "46b81550",
   "metadata": {},
   "outputs": [],
   "source": [
    "rsvps = pd.read_csv('rsvps.csv')\n",
    "meta_members = pd.read_csv('meta-members.csv')\n",
    "meta_groups = pd.read_csv('meta-groups.csv')\n",
    "meta_events = pd.read_csv('meta-events.csv')\n",
    "m_to_g_edges = pd.read_csv('member-to-group-edges.csv')\n",
    "member_edges = pd.read_csv('member-edges.csv')\n",
    "group_edges = pd.read_csv('group-edges.csv')"
   ]
  },
  {
   "cell_type": "markdown",
   "id": "5dbc3775",
   "metadata": {},
   "source": [
    "Data Organization\n",
    "Below are the data sets retrieved from: https://www.kaggle.com/datasets/stkbailey/nashville-meetup?select=meta-groups.csv\n",
    "on 04/19/2022\n",
    "And their assumed definitions and links.\n",
    "\n",
    "rsvps: (list of rsvps with member, event, and group)\n",
    "has two indices - probably useless\n",
    "event_id - unique id might be used to join to the meta_events\n",
    "member_id - unique id might be used to join to: meta_members, m_to_g_edges, member_edges\n",
    "group_id - unique id might be used to join to: meta_groups, m_to_g_edges, group_edges\n",
    "\n",
    "meta_members: (list of members)\n",
    "member_id - unique id might be used to join to m_to_g_edges, member_edges, rsvps\n",
    "name - name of member\n",
    "?hometown- either where they live or where they grew up\n",
    "?city - where they joined meetup?\n",
    "?state - where they are attending meetups?\n",
    "lat - lattitude\n",
    "lon - longitude\n",
    "\n",
    "meta_groups: (list of groups)\n",
    "group_id - unique id might be used to join to: rsvps, meta_events, m_to_g_edges, group_edges\n",
    "group_name - group name\n",
    "num_members - number of members\n",
    "category_id - unique category id\n",
    "category_name - broad category of the type of group\n",
    "?organizer_id - member id of the organizer(s) or admin(s) ??? Need to confirm\n",
    "group_urlname - url within the meetup.com space\n",
    "\n",
    "meta_events: (list of events)\n",
    "event_id - unique id might be used to join to: rsvps\n",
    "group_id - unique id might be used to join to: rsvps, meta_groups, m_to_g_edges, group_edges\n",
    "name - event name\n",
    "time - Nashville time of event start time\n",
    "\n",
    "m_to_g_edges: (member to group connections)\n",
    "member_id - unique id might be used to join to: rsvps, meta_members, meta_events, member_edges\n",
    "group_id - unique id might be used to join to: rsvps, meta_groups, meta_events, group_edges\n",
    "weight - ?\n",
    "\n",
    "member_edges: (data used to show connection between members)\n",
    "member1 - unique member id\n",
    "member2 - unique member id\n",
    "weight - ?\n",
    "\n",
    "group_edges: (data used to show connections between groups)\n",
    "group1 - unique group id\n",
    "group2 - unique group id\n",
    "weight - ?"
   ]
  },
  {
   "cell_type": "code",
   "execution_count": 10,
   "id": "859f6309",
   "metadata": {},
   "outputs": [
    {
     "data": {
      "text/html": [
       "<div>\n",
       "<style scoped>\n",
       "    .dataframe tbody tr th:only-of-type {\n",
       "        vertical-align: middle;\n",
       "    }\n",
       "\n",
       "    .dataframe tbody tr th {\n",
       "        vertical-align: top;\n",
       "    }\n",
       "\n",
       "    .dataframe thead th {\n",
       "        text-align: right;\n",
       "    }\n",
       "</style>\n",
       "<table border=\"1\" class=\"dataframe\">\n",
       "  <thead>\n",
       "    <tr style=\"text-align: right;\">\n",
       "      <th></th>\n",
       "      <th>Unnamed: 0</th>\n",
       "      <th>group1</th>\n",
       "      <th>group2</th>\n",
       "      <th>weight</th>\n",
       "    </tr>\n",
       "  </thead>\n",
       "  <tbody>\n",
       "    <tr>\n",
       "      <th>0</th>\n",
       "      <td>0</td>\n",
       "      <td>19292162</td>\n",
       "      <td>535553</td>\n",
       "      <td>2</td>\n",
       "    </tr>\n",
       "    <tr>\n",
       "      <th>1</th>\n",
       "      <td>1</td>\n",
       "      <td>19292162</td>\n",
       "      <td>19194894</td>\n",
       "      <td>1</td>\n",
       "    </tr>\n",
       "    <tr>\n",
       "      <th>2</th>\n",
       "      <td>2</td>\n",
       "      <td>19292162</td>\n",
       "      <td>19728145</td>\n",
       "      <td>1</td>\n",
       "    </tr>\n",
       "    <tr>\n",
       "      <th>3</th>\n",
       "      <td>3</td>\n",
       "      <td>19292162</td>\n",
       "      <td>18850080</td>\n",
       "      <td>2</td>\n",
       "    </tr>\n",
       "    <tr>\n",
       "      <th>4</th>\n",
       "      <td>4</td>\n",
       "      <td>19292162</td>\n",
       "      <td>1728035</td>\n",
       "      <td>1</td>\n",
       "    </tr>\n",
       "  </tbody>\n",
       "</table>\n",
       "</div>"
      ],
      "text/plain": [
       "   Unnamed: 0    group1    group2  weight\n",
       "0           0  19292162    535553       2\n",
       "1           1  19292162  19194894       1\n",
       "2           2  19292162  19728145       1\n",
       "3           3  19292162  18850080       2\n",
       "4           4  19292162   1728035       1"
      ]
     },
     "execution_count": 10,
     "metadata": {},
     "output_type": "execute_result"
    }
   ],
   "source": [
    "group_edges.head()"
   ]
  },
  {
   "cell_type": "code",
   "execution_count": null,
   "id": "d01fb529",
   "metadata": {},
   "outputs": [],
   "source": [
    "df.shape"
   ]
  },
  {
   "cell_type": "code",
   "execution_count": null,
   "id": "e506b5c9",
   "metadata": {},
   "outputs": [],
   "source": [
    "df.tail()"
   ]
  },
  {
   "cell_type": "code",
   "execution_count": null,
   "id": "9607eb0a",
   "metadata": {},
   "outputs": [],
   "source": []
  },
  {
   "cell_type": "code",
   "execution_count": null,
   "id": "e219cd0f",
   "metadata": {},
   "outputs": [],
   "source": []
  },
  {
   "cell_type": "code",
   "execution_count": null,
   "id": "1854dd8a",
   "metadata": {},
   "outputs": [],
   "source": []
  },
  {
   "cell_type": "code",
   "execution_count": null,
   "id": "7b6313c7",
   "metadata": {},
   "outputs": [],
   "source": []
  },
  {
   "cell_type": "code",
   "execution_count": null,
   "id": "1bfa7997",
   "metadata": {},
   "outputs": [],
   "source": []
  },
  {
   "cell_type": "code",
   "execution_count": null,
   "id": "35b05835",
   "metadata": {},
   "outputs": [],
   "source": [
    "import prettytable"
   ]
  },
  {
   "cell_type": "code",
   "execution_count": null,
   "id": "da7e9c9b",
   "metadata": {},
   "outputs": [],
   "source": [
    "import requests\n",
    "import json\n",
    "import prettytable\n",
    "headers = {'Content-type': 'application/json'}\n",
    "data = json.dumps({\"seriesid\": ['CUUR0000SA0','SUUR0000SA0'],\"startyear\":\"2011\", \"endyear\":\"2014\"})\n",
    "p = requests.post('https://api.bls.gov/publicAPI/v1/timeseries/data/', data=data, headers=headers)\n",
    "json_data = json.loads(p.text)\n",
    "for series in json_data['Results']['series']:\n",
    "    x=prettytable.PrettyTable([\"series id\",\"year\",\"period\",\"value\",\"footnotes\"])\n",
    "    seriesId = series['seriesID']\n",
    "    for item in series['data']:\n",
    "        year = item['year']\n",
    "        period = item['period']\n",
    "        value = item['value']\n",
    "        footnotes=\"\"\n",
    "        for footnote in item['footnotes']:\n",
    "            if footnote:\n",
    "                footnotes = footnotes + footnote['text'] + ','\n",
    "    \n",
    "        if 'M01' <= period <= 'M12':\n",
    "            x.add_row([seriesId,year,period,value,footnotes[0:-1]])\n",
    "    output = open(seriesId + '.txt','w')\n",
    "    output.write (x.get_string())\n",
    "    output.close()"
   ]
  },
  {
   "cell_type": "code",
   "execution_count": null,
   "id": "7ac7a8b3",
   "metadata": {},
   "outputs": [],
   "source": []
  }
 ],
 "metadata": {
  "kernelspec": {
   "display_name": "Python 3 (ipykernel)",
   "language": "python",
   "name": "python3"
  },
  "language_info": {
   "codemirror_mode": {
    "name": "ipython",
    "version": 3
   },
   "file_extension": ".py",
   "mimetype": "text/x-python",
   "name": "python",
   "nbconvert_exporter": "python",
   "pygments_lexer": "ipython3",
   "version": "3.9.7"
  }
 },
 "nbformat": 4,
 "nbformat_minor": 5
}
