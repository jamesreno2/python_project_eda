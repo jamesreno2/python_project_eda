{
 "cells": [
  {
   "cell_type": "code",
   "execution_count": 1,
   "id": "ff17fe21",
   "metadata": {},
   "outputs": [],
   "source": [
    "import numpy as np\n",
    "import pandas as pd"
   ]
  },
  {
   "cell_type": "code",
   "execution_count": 2,
   "id": "af126220",
   "metadata": {},
   "outputs": [
    {
     "name": "stdout",
     "output_type": "stream",
     "text": [
      "/Users/jamesreno/Documents/Documents - James’s MacBook Air/NYCDSA/Python/Python Project/Meetup_Data\r\n"
     ]
    }
   ],
   "source": [
    "!pwd"
   ]
  },
  {
   "cell_type": "code",
   "execution_count": 3,
   "id": "46b81550",
   "metadata": {},
   "outputs": [],
   "source": [
    "rsvps = pd.read_csv('rsvps.csv')\n",
    "meta_members = pd.read_csv('meta-members.csv')\n",
    "meta_groups = pd.read_csv('meta-groups.csv')\n",
    "meta_events = pd.read_csv('meta-events.csv')\n",
    "m_to_g_edges = pd.read_csv('member-to-group-edges.csv')\n",
    "member_edges = pd.read_csv('member-edges.csv')\n",
    "group_edges = pd.read_csv('group-edges.csv')"
   ]
  },
  {
   "cell_type": "markdown",
   "id": "b54874bb",
   "metadata": {},
   "source": [
    "Data Organization\n",
    "Below are the data sets retrieved from: https://www.kaggle.com/datasets/stkbailey/nashville-meetup?select=meta-groups.csv\n",
    "on 04/19/2022\n",
    "\n",
    "Defined their assumed definitions and links between data sets.\n",
    "\n",
    "rsvps: (list of rsvps with member, event, and group)\n",
    "has two indices - probably useless\n",
    "event_id - unique id might be used to join to the meta_events\n",
    "member_id - unique id might be used to join to: meta_members, m_to_g_edges, member_edges\n",
    "group_id - unique id might be used to join to: meta_groups, m_to_g_edges, group_edges\n",
    "\n",
    "meta_members: (list of members)\n",
    "member_id - unique id might be used to join to m_to_g_edges, member_edges, rsvps\n",
    "name - name of member\n",
    "?hometown- either where they live or where they grew up\n",
    "?city - where they joined meetup?\n",
    "?state - where they are attending meetups?\n",
    "lat - lattitude\n",
    "lon - longitude\n",
    "\n",
    "meta_groups: (list of groups)\n",
    "group_id - unique id might be used to join to: rsvps, meta_events, m_to_g_edges, group_edges\n",
    "group_name - group name\n",
    "num_members - number of members\n",
    "category_id - unique category id\n",
    "category_name - broad category of the type of group\n",
    "?organizer_id - member id of the organizer(s) or admin(s) ??? Need to confirm\n",
    "group_urlname - url within the meetup.com space\n",
    "\n",
    "meta_events: (list of events)\n",
    "event_id - unique id might be used to join to: rsvps\n",
    "group_id - unique id might be used to join to: rsvps, meta_groups, m_to_g_edges, group_edges\n",
    "name - event name\n",
    "time - Nashville time of event start time\n",
    "\n",
    "m_to_g_edges: (member to group connections)\n",
    "member_id - unique id might be used to join to: rsvps, meta_members, meta_events, member_edges\n",
    "group_id - unique id might be used to join to: rsvps, meta_groups, meta_events, group_edges\n",
    "weight - ?\n",
    "\n",
    "member_edges: (data used to show connection between members)\n",
    "member1 - unique member id\n",
    "member2 - unique member id\n",
    "weight - ?\n",
    "\n",
    "group_edges: (data used to show connections between groups)\n",
    "group1 - unique group id\n",
    "group2 - unique group id\n",
    "weight - ?"
   ]
  },
  {
   "cell_type": "code",
   "execution_count": 20,
   "id": "b6838000",
   "metadata": {},
   "outputs": [
    {
     "data": {
      "text/html": [
       "<div>\n",
       "<style scoped>\n",
       "    .dataframe tbody tr th:only-of-type {\n",
       "        vertical-align: middle;\n",
       "    }\n",
       "\n",
       "    .dataframe tbody tr th {\n",
       "        vertical-align: top;\n",
       "    }\n",
       "\n",
       "    .dataframe thead th {\n",
       "        text-align: right;\n",
       "    }\n",
       "</style>\n",
       "<table border=\"1\" class=\"dataframe\">\n",
       "  <thead>\n",
       "    <tr style=\"text-align: right;\">\n",
       "      <th></th>\n",
       "      <th>Unnamed: 0</th>\n",
       "      <th>member1</th>\n",
       "      <th>member2</th>\n",
       "      <th>weight</th>\n",
       "    </tr>\n",
       "  </thead>\n",
       "  <tbody>\n",
       "    <tr>\n",
       "      <th>0</th>\n",
       "      <td>0</td>\n",
       "      <td>198737924</td>\n",
       "      <td>220654721</td>\n",
       "      <td>1</td>\n",
       "    </tr>\n",
       "    <tr>\n",
       "      <th>1</th>\n",
       "      <td>1</td>\n",
       "      <td>198737924</td>\n",
       "      <td>208201738</td>\n",
       "      <td>1</td>\n",
       "    </tr>\n",
       "    <tr>\n",
       "      <th>2</th>\n",
       "      <td>2</td>\n",
       "      <td>198737924</td>\n",
       "      <td>88664332</td>\n",
       "      <td>1</td>\n",
       "    </tr>\n",
       "    <tr>\n",
       "      <th>3</th>\n",
       "      <td>3</td>\n",
       "      <td>198737924</td>\n",
       "      <td>8640526</td>\n",
       "      <td>1</td>\n",
       "    </tr>\n",
       "    <tr>\n",
       "      <th>4</th>\n",
       "      <td>4</td>\n",
       "      <td>198737924</td>\n",
       "      <td>56356372</td>\n",
       "      <td>1</td>\n",
       "    </tr>\n",
       "  </tbody>\n",
       "</table>\n",
       "</div>"
      ],
      "text/plain": [
       "   Unnamed: 0    member1    member2  weight\n",
       "0           0  198737924  220654721       1\n",
       "1           1  198737924  208201738       1\n",
       "2           2  198737924   88664332       1\n",
       "3           3  198737924    8640526       1\n",
       "4           4  198737924   56356372       1"
      ]
     },
     "execution_count": 20,
     "metadata": {},
     "output_type": "execute_result"
    }
   ],
   "source": [
    "member_edges.head()"
   ]
  },
  {
   "cell_type": "code",
   "execution_count": 25,
   "id": "9607eb0a",
   "metadata": {},
   "outputs": [
    {
     "data": {
      "text/html": [
       "<div>\n",
       "<style scoped>\n",
       "    .dataframe tbody tr th:only-of-type {\n",
       "        vertical-align: middle;\n",
       "    }\n",
       "\n",
       "    .dataframe tbody tr th {\n",
       "        vertical-align: top;\n",
       "    }\n",
       "\n",
       "    .dataframe thead th {\n",
       "        text-align: right;\n",
       "    }\n",
       "</style>\n",
       "<table border=\"1\" class=\"dataframe\">\n",
       "  <thead>\n",
       "    <tr style=\"text-align: right;\">\n",
       "      <th></th>\n",
       "      <th>Unnamed: 0</th>\n",
       "      <th>event_id</th>\n",
       "      <th>member_id</th>\n",
       "      <th>group_id</th>\n",
       "    </tr>\n",
       "  </thead>\n",
       "  <tbody>\n",
       "    <tr>\n",
       "      <th>0</th>\n",
       "      <td>0</td>\n",
       "      <td>243930425</td>\n",
       "      <td>6770985</td>\n",
       "      <td>26140018</td>\n",
       "    </tr>\n",
       "    <tr>\n",
       "      <th>1</th>\n",
       "      <td>1</td>\n",
       "      <td>244208851</td>\n",
       "      <td>234724627</td>\n",
       "      <td>25604533</td>\n",
       "    </tr>\n",
       "    <tr>\n",
       "      <th>2</th>\n",
       "      <td>2</td>\n",
       "      <td>pxlktnywnbfb</td>\n",
       "      <td>199563568</td>\n",
       "      <td>25973656</td>\n",
       "    </tr>\n",
       "    <tr>\n",
       "      <th>3</th>\n",
       "      <td>3</td>\n",
       "      <td>pxlktnywnbfb</td>\n",
       "      <td>208888939</td>\n",
       "      <td>25973656</td>\n",
       "    </tr>\n",
       "    <tr>\n",
       "      <th>4</th>\n",
       "      <td>4</td>\n",
       "      <td>244444551</td>\n",
       "      <td>1720391</td>\n",
       "      <td>18571126</td>\n",
       "    </tr>\n",
       "  </tbody>\n",
       "</table>\n",
       "</div>"
      ],
      "text/plain": [
       "   Unnamed: 0      event_id  member_id  group_id\n",
       "0           0     243930425    6770985  26140018\n",
       "1           1     244208851  234724627  25604533\n",
       "2           2  pxlktnywnbfb  199563568  25973656\n",
       "3           3  pxlktnywnbfb  208888939  25973656\n",
       "4           4     244444551    1720391  18571126"
      ]
     },
     "execution_count": 25,
     "metadata": {},
     "output_type": "execute_result"
    }
   ],
   "source": [
    "rsvps.head()"
   ]
  },
  {
   "cell_type": "code",
   "execution_count": 26,
   "id": "b22e1da1",
   "metadata": {},
   "outputs": [
    {
     "data": {
      "text/html": [
       "<div>\n",
       "<style scoped>\n",
       "    .dataframe tbody tr th:only-of-type {\n",
       "        vertical-align: middle;\n",
       "    }\n",
       "\n",
       "    .dataframe tbody tr th {\n",
       "        vertical-align: top;\n",
       "    }\n",
       "\n",
       "    .dataframe thead th {\n",
       "        text-align: right;\n",
       "    }\n",
       "</style>\n",
       "<table border=\"1\" class=\"dataframe\">\n",
       "  <thead>\n",
       "    <tr style=\"text-align: right;\">\n",
       "      <th></th>\n",
       "      <th>Unnamed: 0</th>\n",
       "      <th>member_id</th>\n",
       "      <th>group_id</th>\n",
       "    </tr>\n",
       "  </thead>\n",
       "  <tbody>\n",
       "    <tr>\n",
       "      <th>count</th>\n",
       "      <td>126813.000000</td>\n",
       "      <td>1.268130e+05</td>\n",
       "      <td>1.268130e+05</td>\n",
       "    </tr>\n",
       "    <tr>\n",
       "      <th>mean</th>\n",
       "      <td>63406.000000</td>\n",
       "      <td>1.313540e+08</td>\n",
       "      <td>1.158637e+07</td>\n",
       "    </tr>\n",
       "    <tr>\n",
       "      <th>std</th>\n",
       "      <td>36607.904181</td>\n",
       "      <td>8.368705e+07</td>\n",
       "      <td>8.092142e+06</td>\n",
       "    </tr>\n",
       "    <tr>\n",
       "      <th>min</th>\n",
       "      <td>0.000000</td>\n",
       "      <td>2.069000e+03</td>\n",
       "      <td>4.709400e+04</td>\n",
       "    </tr>\n",
       "    <tr>\n",
       "      <th>25%</th>\n",
       "      <td>31703.000000</td>\n",
       "      <td>3.859148e+07</td>\n",
       "      <td>1.763190e+06</td>\n",
       "    </tr>\n",
       "    <tr>\n",
       "      <th>50%</th>\n",
       "      <td>63406.000000</td>\n",
       "      <td>1.753005e+08</td>\n",
       "      <td>1.177650e+07</td>\n",
       "    </tr>\n",
       "    <tr>\n",
       "      <th>75%</th>\n",
       "      <td>95109.000000</td>\n",
       "      <td>2.036641e+08</td>\n",
       "      <td>1.895583e+07</td>\n",
       "    </tr>\n",
       "    <tr>\n",
       "      <th>max</th>\n",
       "      <td>126812.000000</td>\n",
       "      <td>2.400034e+08</td>\n",
       "      <td>2.629659e+07</td>\n",
       "    </tr>\n",
       "  </tbody>\n",
       "</table>\n",
       "</div>"
      ],
      "text/plain": [
       "          Unnamed: 0     member_id      group_id\n",
       "count  126813.000000  1.268130e+05  1.268130e+05\n",
       "mean    63406.000000  1.313540e+08  1.158637e+07\n",
       "std     36607.904181  8.368705e+07  8.092142e+06\n",
       "min         0.000000  2.069000e+03  4.709400e+04\n",
       "25%     31703.000000  3.859148e+07  1.763190e+06\n",
       "50%     63406.000000  1.753005e+08  1.177650e+07\n",
       "75%     95109.000000  2.036641e+08  1.895583e+07\n",
       "max    126812.000000  2.400034e+08  2.629659e+07"
      ]
     },
     "execution_count": 26,
     "metadata": {},
     "output_type": "execute_result"
    }
   ],
   "source": [
    "rsvps.describe()"
   ]
  },
  {
   "cell_type": "code",
   "execution_count": 29,
   "id": "c2434b88",
   "metadata": {},
   "outputs": [
    {
     "data": {
      "text/plain": [
       "Unnamed: 0     int64\n",
       "event_id      object\n",
       "member_id      int64\n",
       "group_id       int64\n",
       "dtype: object"
      ]
     },
     "execution_count": 29,
     "metadata": {},
     "output_type": "execute_result"
    }
   ],
   "source": [
    "rsvps.dtypes"
   ]
  },
  {
   "cell_type": "code",
   "execution_count": 31,
   "id": "e219cd0f",
   "metadata": {},
   "outputs": [
    {
     "data": {
      "text/plain": [
       "19031"
      ]
     },
     "execution_count": 31,
     "metadata": {},
     "output_type": "execute_result"
    }
   ],
   "source": [
    "len(rsvps['event_id'].unique())"
   ]
  },
  {
   "cell_type": "code",
   "execution_count": null,
   "id": "f393b8f0",
   "metadata": {},
   "outputs": [],
   "source": []
  },
  {
   "cell_type": "code",
   "execution_count": 47,
   "id": "1854dd8a",
   "metadata": {},
   "outputs": [
    {
     "data": {
      "text/html": [
       "<div>\n",
       "<style scoped>\n",
       "    .dataframe tbody tr th:only-of-type {\n",
       "        vertical-align: middle;\n",
       "    }\n",
       "\n",
       "    .dataframe tbody tr th {\n",
       "        vertical-align: top;\n",
       "    }\n",
       "\n",
       "    .dataframe thead th {\n",
       "        text-align: right;\n",
       "    }\n",
       "</style>\n",
       "<table border=\"1\" class=\"dataframe\">\n",
       "  <thead>\n",
       "    <tr style=\"text-align: right;\">\n",
       "      <th></th>\n",
       "      <th>Unnamed: 0</th>\n",
       "      <th>event_id</th>\n",
       "      <th>member_id</th>\n",
       "      <th>group_id</th>\n",
       "    </tr>\n",
       "  </thead>\n",
       "  <tbody>\n",
       "  </tbody>\n",
       "</table>\n",
       "</div>"
      ],
      "text/plain": [
       "Empty DataFrame\n",
       "Columns: [Unnamed: 0, event_id, member_id, group_id]\n",
       "Index: []"
      ]
     },
     "execution_count": 47,
     "metadata": {},
     "output_type": "execute_result"
    }
   ],
   "source": [
    "rsvps[rsvps[['event_id','member_id','group_id']].isna().all(axis=1)]"
   ]
  },
  {
   "cell_type": "code",
   "execution_count": 54,
   "id": "7b6313c7",
   "metadata": {},
   "outputs": [
    {
     "data": {
      "text/html": [
       "<div>\n",
       "<style scoped>\n",
       "    .dataframe tbody tr th:only-of-type {\n",
       "        vertical-align: middle;\n",
       "    }\n",
       "\n",
       "    .dataframe tbody tr th {\n",
       "        vertical-align: top;\n",
       "    }\n",
       "\n",
       "    .dataframe thead th {\n",
       "        text-align: right;\n",
       "    }\n",
       "</style>\n",
       "<table border=\"1\" class=\"dataframe\">\n",
       "  <thead>\n",
       "    <tr style=\"text-align: right;\">\n",
       "      <th></th>\n",
       "      <th>Unnamed: 0</th>\n",
       "      <th>event_id</th>\n",
       "      <th>member_id</th>\n",
       "      <th>group_id</th>\n",
       "    </tr>\n",
       "  </thead>\n",
       "  <tbody>\n",
       "  </tbody>\n",
       "</table>\n",
       "</div>"
      ],
      "text/plain": [
       "Empty DataFrame\n",
       "Columns: [Unnamed: 0, event_id, member_id, group_id]\n",
       "Index: []"
      ]
     },
     "execution_count": 54,
     "metadata": {},
     "output_type": "execute_result"
    }
   ],
   "source": [
    "rsvps[rsvps['group_id'].isnull()]"
   ]
  },
  {
   "cell_type": "code",
   "execution_count": 75,
   "id": "1bfa7997",
   "metadata": {},
   "outputs": [],
   "source": [
    "def drop_unnamed(df):\n",
    "    #checking if 'Unnamed: 0' exists as a column name, if so drop and reassign\n",
    "    \n",
    "    if 'Unnamed: 0' in df.columns:\n",
    "        return df.drop(labels='Unnamed: 0',axis=1)\n",
    "    "
   ]
  },
  {
   "cell_type": "code",
   "execution_count": 76,
   "id": "7ac7a8b3",
   "metadata": {},
   "outputs": [],
   "source": [
    "rsvps=drop_unnamed(rsvps)\n",
    "#rsvps.drop(labels='Unnamed: 0',axis=1)"
   ]
  },
  {
   "cell_type": "code",
   "execution_count": 79,
   "id": "d983ab74",
   "metadata": {},
   "outputs": [],
   "source": [
    "for df in [rsvps,meta_members,meta_groups,meta_events,m_to_g_edges,member_edges,group_edges]:\n",
    "    df = drop_unnamed(df)"
   ]
  },
  {
   "cell_type": "code",
   "execution_count": 80,
   "id": "399e363c",
   "metadata": {},
   "outputs": [
    {
     "data": {
      "text/html": [
       "<div>\n",
       "<style scoped>\n",
       "    .dataframe tbody tr th:only-of-type {\n",
       "        vertical-align: middle;\n",
       "    }\n",
       "\n",
       "    .dataframe tbody tr th {\n",
       "        vertical-align: top;\n",
       "    }\n",
       "\n",
       "    .dataframe thead th {\n",
       "        text-align: right;\n",
       "    }\n",
       "</style>\n",
       "<table border=\"1\" class=\"dataframe\">\n",
       "  <thead>\n",
       "    <tr style=\"text-align: right;\">\n",
       "      <th></th>\n",
       "      <th>member_id</th>\n",
       "      <th>name</th>\n",
       "      <th>hometown</th>\n",
       "      <th>city</th>\n",
       "      <th>state</th>\n",
       "      <th>lat</th>\n",
       "      <th>lon</th>\n",
       "    </tr>\n",
       "  </thead>\n",
       "  <tbody>\n",
       "    <tr>\n",
       "      <th>0</th>\n",
       "      <td>2069</td>\n",
       "      <td>Wesley Duffee-Braun</td>\n",
       "      <td>Brentwood</td>\n",
       "      <td>Brentwood</td>\n",
       "      <td>TN</td>\n",
       "      <td>36.00</td>\n",
       "      <td>-86.79</td>\n",
       "    </tr>\n",
       "    <tr>\n",
       "      <th>1</th>\n",
       "      <td>8386</td>\n",
       "      <td>Tim</td>\n",
       "      <td>Nashville</td>\n",
       "      <td>Nashville</td>\n",
       "      <td>TN</td>\n",
       "      <td>36.07</td>\n",
       "      <td>-86.78</td>\n",
       "    </tr>\n",
       "    <tr>\n",
       "      <th>2</th>\n",
       "      <td>9205</td>\n",
       "      <td>Brenda</td>\n",
       "      <td>Brentwood</td>\n",
       "      <td>Brentwood</td>\n",
       "      <td>TN</td>\n",
       "      <td>36.00</td>\n",
       "      <td>-86.79</td>\n",
       "    </tr>\n",
       "    <tr>\n",
       "      <th>3</th>\n",
       "      <td>17903</td>\n",
       "      <td>Steve</td>\n",
       "      <td>NaN</td>\n",
       "      <td>Nashville</td>\n",
       "      <td>TN</td>\n",
       "      <td>36.13</td>\n",
       "      <td>-86.80</td>\n",
       "    </tr>\n",
       "    <tr>\n",
       "      <th>4</th>\n",
       "      <td>20418</td>\n",
       "      <td>Andrea Reynolds</td>\n",
       "      <td>Huntington, WV</td>\n",
       "      <td>Nashville</td>\n",
       "      <td>TN</td>\n",
       "      <td>36.17</td>\n",
       "      <td>-86.72</td>\n",
       "    </tr>\n",
       "  </tbody>\n",
       "</table>\n",
       "</div>"
      ],
      "text/plain": [
       "   member_id                 name        hometown       city state    lat  \\\n",
       "0       2069  Wesley Duffee-Braun       Brentwood  Brentwood    TN  36.00   \n",
       "1       8386                  Tim       Nashville  Nashville    TN  36.07   \n",
       "2       9205               Brenda       Brentwood  Brentwood    TN  36.00   \n",
       "3      17903                Steve             NaN  Nashville    TN  36.13   \n",
       "4      20418      Andrea Reynolds  Huntington, WV  Nashville    TN  36.17   \n",
       "\n",
       "     lon  \n",
       "0 -86.79  \n",
       "1 -86.78  \n",
       "2 -86.79  \n",
       "3 -86.80  \n",
       "4 -86.72  "
      ]
     },
     "execution_count": 80,
     "metadata": {},
     "output_type": "execute_result"
    }
   ],
   "source": [
    "meta_members.head()"
   ]
  },
  {
   "cell_type": "code",
   "execution_count": 83,
   "id": "a67c1fc1",
   "metadata": {},
   "outputs": [
    {
     "data": {
      "text/plain": [
       "member_id        0\n",
       "name             0\n",
       "hometown     19664\n",
       "city             0\n",
       "state           94\n",
       "lat              0\n",
       "lon              0\n",
       "dtype: int64"
      ]
     },
     "execution_count": 83,
     "metadata": {},
     "output_type": "execute_result"
    }
   ],
   "source": [
    "meta_members.isna().sum()"
   ]
  },
  {
   "cell_type": "code",
   "execution_count": 87,
   "id": "d41bc5f5",
   "metadata": {},
   "outputs": [
    {
     "data": {
      "text/plain": [
       "24591"
      ]
     },
     "execution_count": 87,
     "metadata": {},
     "output_type": "execute_result"
    }
   ],
   "source": [
    "len(meta_members['member_id'].unique())"
   ]
  },
  {
   "cell_type": "code",
   "execution_count": 86,
   "id": "7db23e4d",
   "metadata": {},
   "outputs": [
    {
     "data": {
      "text/plain": [
       "24591"
      ]
     },
     "execution_count": 86,
     "metadata": {},
     "output_type": "execute_result"
    }
   ],
   "source": [
    "len(meta_members)"
   ]
  },
  {
   "cell_type": "code",
   "execution_count": 89,
   "id": "fb309572",
   "metadata": {},
   "outputs": [],
   "source": [
    "merged_df = meta_members.merge(rsvps, how='inner', on='member_id')"
   ]
  },
  {
   "cell_type": "code",
   "execution_count": null,
   "id": "f5916205",
   "metadata": {},
   "outputs": [],
   "source": [
    "# am going to count the number of events attended and number organized etc\n",
    "merged_df.groupby(member_id)."
   ]
  },
  {
   "cell_type": "code",
   "execution_count": 109,
   "id": "881e9a04",
   "metadata": {},
   "outputs": [
    {
     "data": {
      "text/html": [
       "<div>\n",
       "<style scoped>\n",
       "    .dataframe tbody tr th:only-of-type {\n",
       "        vertical-align: middle;\n",
       "    }\n",
       "\n",
       "    .dataframe tbody tr th {\n",
       "        vertical-align: top;\n",
       "    }\n",
       "\n",
       "    .dataframe thead th {\n",
       "        text-align: right;\n",
       "    }\n",
       "</style>\n",
       "<table border=\"1\" class=\"dataframe\">\n",
       "  <thead>\n",
       "    <tr style=\"text-align: right;\">\n",
       "      <th></th>\n",
       "      <th>member_id</th>\n",
       "      <th>name</th>\n",
       "      <th>hometown</th>\n",
       "      <th>city</th>\n",
       "      <th>state</th>\n",
       "      <th>lat</th>\n",
       "      <th>lon</th>\n",
       "    </tr>\n",
       "  </thead>\n",
       "  <tbody>\n",
       "    <tr>\n",
       "      <th>0</th>\n",
       "      <td>2069</td>\n",
       "      <td>Wesley Duffee-Braun</td>\n",
       "      <td>Brentwood</td>\n",
       "      <td>Brentwood</td>\n",
       "      <td>TN</td>\n",
       "      <td>36.00</td>\n",
       "      <td>-86.79</td>\n",
       "    </tr>\n",
       "    <tr>\n",
       "      <th>1</th>\n",
       "      <td>8386</td>\n",
       "      <td>Tim</td>\n",
       "      <td>Nashville</td>\n",
       "      <td>Nashville</td>\n",
       "      <td>TN</td>\n",
       "      <td>36.07</td>\n",
       "      <td>-86.78</td>\n",
       "    </tr>\n",
       "    <tr>\n",
       "      <th>2</th>\n",
       "      <td>9205</td>\n",
       "      <td>Brenda</td>\n",
       "      <td>Brentwood</td>\n",
       "      <td>Brentwood</td>\n",
       "      <td>TN</td>\n",
       "      <td>36.00</td>\n",
       "      <td>-86.79</td>\n",
       "    </tr>\n",
       "    <tr>\n",
       "      <th>3</th>\n",
       "      <td>17903</td>\n",
       "      <td>Steve</td>\n",
       "      <td>NaN</td>\n",
       "      <td>Nashville</td>\n",
       "      <td>TN</td>\n",
       "      <td>36.13</td>\n",
       "      <td>-86.80</td>\n",
       "    </tr>\n",
       "    <tr>\n",
       "      <th>4</th>\n",
       "      <td>20418</td>\n",
       "      <td>Andrea Reynolds</td>\n",
       "      <td>Huntington, WV</td>\n",
       "      <td>Nashville</td>\n",
       "      <td>TN</td>\n",
       "      <td>36.17</td>\n",
       "      <td>-86.72</td>\n",
       "    </tr>\n",
       "  </tbody>\n",
       "</table>\n",
       "</div>"
      ],
      "text/plain": [
       "   member_id                 name        hometown       city state    lat  \\\n",
       "0       2069  Wesley Duffee-Braun       Brentwood  Brentwood    TN  36.00   \n",
       "1       8386                  Tim       Nashville  Nashville    TN  36.07   \n",
       "2       9205               Brenda       Brentwood  Brentwood    TN  36.00   \n",
       "3      17903                Steve             NaN  Nashville    TN  36.13   \n",
       "4      20418      Andrea Reynolds  Huntington, WV  Nashville    TN  36.17   \n",
       "\n",
       "     lon  \n",
       "0 -86.79  \n",
       "1 -86.78  \n",
       "2 -86.79  \n",
       "3 -86.80  \n",
       "4 -86.72  "
      ]
     },
     "execution_count": 109,
     "metadata": {},
     "output_type": "execute_result"
    }
   ],
   "source": [
    "meta_members.head()"
   ]
  },
  {
   "cell_type": "code",
   "execution_count": 110,
   "id": "4488df26",
   "metadata": {},
   "outputs": [
    {
     "data": {
      "text/html": [
       "<div>\n",
       "<style scoped>\n",
       "    .dataframe tbody tr th:only-of-type {\n",
       "        vertical-align: middle;\n",
       "    }\n",
       "\n",
       "    .dataframe tbody tr th {\n",
       "        vertical-align: top;\n",
       "    }\n",
       "\n",
       "    .dataframe thead th {\n",
       "        text-align: right;\n",
       "    }\n",
       "</style>\n",
       "<table border=\"1\" class=\"dataframe\">\n",
       "  <thead>\n",
       "    <tr style=\"text-align: right;\">\n",
       "      <th></th>\n",
       "      <th>event_id</th>\n",
       "      <th>member_id</th>\n",
       "      <th>group_id</th>\n",
       "    </tr>\n",
       "  </thead>\n",
       "  <tbody>\n",
       "    <tr>\n",
       "      <th>14137</th>\n",
       "      <td>239307600</td>\n",
       "      <td>2069</td>\n",
       "      <td>18855476</td>\n",
       "    </tr>\n",
       "    <tr>\n",
       "      <th>26704</th>\n",
       "      <td>kjzzdlyvcbrb</td>\n",
       "      <td>2069</td>\n",
       "      <td>17872862</td>\n",
       "    </tr>\n",
       "    <tr>\n",
       "      <th>29418</th>\n",
       "      <td>234956674</td>\n",
       "      <td>2069</td>\n",
       "      <td>19277993</td>\n",
       "    </tr>\n",
       "    <tr>\n",
       "      <th>29611</th>\n",
       "      <td>rwnwplyvkblb</td>\n",
       "      <td>2069</td>\n",
       "      <td>19277993</td>\n",
       "    </tr>\n",
       "    <tr>\n",
       "      <th>29699</th>\n",
       "      <td>rwnwplyvhbrb</td>\n",
       "      <td>2069</td>\n",
       "      <td>19277993</td>\n",
       "    </tr>\n",
       "    <tr>\n",
       "      <th>32844</th>\n",
       "      <td>qxncmlywlbzb</td>\n",
       "      <td>2069</td>\n",
       "      <td>405938</td>\n",
       "    </tr>\n",
       "    <tr>\n",
       "      <th>32847</th>\n",
       "      <td>241937707</td>\n",
       "      <td>2069</td>\n",
       "      <td>405938</td>\n",
       "    </tr>\n",
       "    <tr>\n",
       "      <th>32856</th>\n",
       "      <td>qxncmlywkbtb</td>\n",
       "      <td>2069</td>\n",
       "      <td>405938</td>\n",
       "    </tr>\n",
       "    <tr>\n",
       "      <th>36071</th>\n",
       "      <td>qgllhkyvcbqb</td>\n",
       "      <td>2069</td>\n",
       "      <td>11862932</td>\n",
       "    </tr>\n",
       "    <tr>\n",
       "      <th>36077</th>\n",
       "      <td>qgllhkytqblb</td>\n",
       "      <td>2069</td>\n",
       "      <td>11862932</td>\n",
       "    </tr>\n",
       "    <tr>\n",
       "      <th>41448</th>\n",
       "      <td>242195172</td>\n",
       "      <td>2069</td>\n",
       "      <td>17467312</td>\n",
       "    </tr>\n",
       "    <tr>\n",
       "      <th>74407</th>\n",
       "      <td>cldxflywnbgb</td>\n",
       "      <td>2069</td>\n",
       "      <td>11625832</td>\n",
       "    </tr>\n",
       "    <tr>\n",
       "      <th>74912</th>\n",
       "      <td>cldxflywfbcb</td>\n",
       "      <td>2069</td>\n",
       "      <td>11625832</td>\n",
       "    </tr>\n",
       "    <tr>\n",
       "      <th>75280</th>\n",
       "      <td>cldxflyvmbkb</td>\n",
       "      <td>2069</td>\n",
       "      <td>11625832</td>\n",
       "    </tr>\n",
       "    <tr>\n",
       "      <th>75482</th>\n",
       "      <td>cldxflyvhbgb</td>\n",
       "      <td>2069</td>\n",
       "      <td>11625832</td>\n",
       "    </tr>\n",
       "  </tbody>\n",
       "</table>\n",
       "</div>"
      ],
      "text/plain": [
       "           event_id  member_id  group_id\n",
       "14137     239307600       2069  18855476\n",
       "26704  kjzzdlyvcbrb       2069  17872862\n",
       "29418     234956674       2069  19277993\n",
       "29611  rwnwplyvkblb       2069  19277993\n",
       "29699  rwnwplyvhbrb       2069  19277993\n",
       "32844  qxncmlywlbzb       2069    405938\n",
       "32847     241937707       2069    405938\n",
       "32856  qxncmlywkbtb       2069    405938\n",
       "36071  qgllhkyvcbqb       2069  11862932\n",
       "36077  qgllhkytqblb       2069  11862932\n",
       "41448     242195172       2069  17467312\n",
       "74407  cldxflywnbgb       2069  11625832\n",
       "74912  cldxflywfbcb       2069  11625832\n",
       "75280  cldxflyvmbkb       2069  11625832\n",
       "75482  cldxflyvhbgb       2069  11625832"
      ]
     },
     "execution_count": 110,
     "metadata": {},
     "output_type": "execute_result"
    }
   ],
   "source": [
    "rsvps.loc[rsvps['member_id']==2069]"
   ]
  },
  {
   "cell_type": "code",
   "execution_count": null,
   "id": "dd39c5b7",
   "metadata": {},
   "outputs": [],
   "source": []
  },
  {
   "cell_type": "code",
   "execution_count": 90,
   "id": "d6b51efa",
   "metadata": {},
   "outputs": [
    {
     "data": {
      "text/html": [
       "<div>\n",
       "<style scoped>\n",
       "    .dataframe tbody tr th:only-of-type {\n",
       "        vertical-align: middle;\n",
       "    }\n",
       "\n",
       "    .dataframe tbody tr th {\n",
       "        vertical-align: top;\n",
       "    }\n",
       "\n",
       "    .dataframe thead th {\n",
       "        text-align: right;\n",
       "    }\n",
       "</style>\n",
       "<table border=\"1\" class=\"dataframe\">\n",
       "  <thead>\n",
       "    <tr style=\"text-align: right;\">\n",
       "      <th></th>\n",
       "      <th>event_id</th>\n",
       "      <th>group_id</th>\n",
       "      <th>name</th>\n",
       "      <th>time</th>\n",
       "    </tr>\n",
       "  </thead>\n",
       "  <tbody>\n",
       "    <tr>\n",
       "      <th>0</th>\n",
       "      <td>243930425</td>\n",
       "      <td>26140018</td>\n",
       "      <td>2017 Nashville Walk to End Alzheimers - Octob...</td>\n",
       "      <td>2017-10-14 12:00:00</td>\n",
       "    </tr>\n",
       "    <tr>\n",
       "      <th>1</th>\n",
       "      <td>244208851</td>\n",
       "      <td>25604533</td>\n",
       "      <td>Steak Dinner on the Patio</td>\n",
       "      <td>2017-10-15 00:15:00</td>\n",
       "    </tr>\n",
       "    <tr>\n",
       "      <th>2</th>\n",
       "      <td>pxlktnywnbfb</td>\n",
       "      <td>25973656</td>\n",
       "      <td>Schedule Meetup</td>\n",
       "      <td>2017-10-03 23:30:00</td>\n",
       "    </tr>\n",
       "    <tr>\n",
       "      <th>3</th>\n",
       "      <td>244444551</td>\n",
       "      <td>18571126</td>\n",
       "      <td>Happy Hour Wednesday, Jonathan's Green Hills, ...</td>\n",
       "      <td>2017-10-25 22:30:00</td>\n",
       "    </tr>\n",
       "    <tr>\n",
       "      <th>4</th>\n",
       "      <td>244257722</td>\n",
       "      <td>18571126</td>\n",
       "      <td>Happy Hour Wednesday, Brentwood, Oct. 18</td>\n",
       "      <td>2017-10-18 22:30:00</td>\n",
       "    </tr>\n",
       "  </tbody>\n",
       "</table>\n",
       "</div>"
      ],
      "text/plain": [
       "       event_id  group_id                                               name  \\\n",
       "0     243930425  26140018  2017 Nashville Walk to End Alzheimers - Octob...   \n",
       "1     244208851  25604533                          Steak Dinner on the Patio   \n",
       "2  pxlktnywnbfb  25973656                                    Schedule Meetup   \n",
       "3     244444551  18571126  Happy Hour Wednesday, Jonathan's Green Hills, ...   \n",
       "4     244257722  18571126           Happy Hour Wednesday, Brentwood, Oct. 18   \n",
       "\n",
       "                  time  \n",
       "0  2017-10-14 12:00:00  \n",
       "1  2017-10-15 00:15:00  \n",
       "2  2017-10-03 23:30:00  \n",
       "3  2017-10-25 22:30:00  \n",
       "4  2017-10-18 22:30:00  "
      ]
     },
     "execution_count": 90,
     "metadata": {},
     "output_type": "execute_result"
    }
   ],
   "source": [
    "meta_events.head()"
   ]
  },
  {
   "cell_type": "code",
   "execution_count": 95,
   "id": "8a4362bc",
   "metadata": {},
   "outputs": [],
   "source": [
    "from datetime import datetime"
   ]
  },
  {
   "cell_type": "code",
   "execution_count": 93,
   "id": "5f4320c6",
   "metadata": {},
   "outputs": [],
   "source": [
    "sample_date = meta_events['time'][0]"
   ]
  },
  {
   "cell_type": "code",
   "execution_count": 98,
   "id": "75b8fe33",
   "metadata": {},
   "outputs": [
    {
     "data": {
      "text/plain": [
       "'2017-10-14 12:00:00'"
      ]
     },
     "execution_count": 98,
     "metadata": {},
     "output_type": "execute_result"
    }
   ],
   "source": [
    "sample_date"
   ]
  },
  {
   "cell_type": "code",
   "execution_count": 101,
   "id": "7ec84d46",
   "metadata": {},
   "outputs": [],
   "source": [
    "sample_date_dt = datetime.strptime(sample_date, '%Y-%m-%d %H:%M:%S')"
   ]
  },
  {
   "cell_type": "code",
   "execution_count": 108,
   "id": "3e00e99d",
   "metadata": {},
   "outputs": [
    {
     "data": {
      "text/plain": [
       "5"
      ]
     },
     "execution_count": 108,
     "metadata": {},
     "output_type": "execute_result"
    }
   ],
   "source": [
    "sample_date_dt.weekday()"
   ]
  },
  {
   "cell_type": "code",
   "execution_count": 113,
   "id": "cdfd8a8e",
   "metadata": {},
   "outputs": [
    {
     "ename": "TypeError",
     "evalue": "'getset_descriptor' object is not callable",
     "output_type": "error",
     "traceback": [
      "\u001b[0;31m---------------------------------------------------------------------------\u001b[0m",
      "\u001b[0;31mTypeError\u001b[0m                                 Traceback (most recent call last)",
      "\u001b[0;32m/var/folders/w6/m13k9fgs76s835wznks2wrwh0000gn/T/ipykernel_62077/414450514.py\u001b[0m in \u001b[0;36m<module>\u001b[0;34m\u001b[0m\n\u001b[0;32m----> 1\u001b[0;31m \u001b[0mdatetime\u001b[0m\u001b[0;34m.\u001b[0m\u001b[0mday\u001b[0m\u001b[0;34m(\u001b[0m\u001b[0msample_date_dt\u001b[0m\u001b[0;34m.\u001b[0m\u001b[0mweekday\u001b[0m\u001b[0;34m(\u001b[0m\u001b[0;34m)\u001b[0m\u001b[0;34m)\u001b[0m\u001b[0;34m\u001b[0m\u001b[0;34m\u001b[0m\u001b[0m\n\u001b[0m",
      "\u001b[0;31mTypeError\u001b[0m: 'getset_descriptor' object is not callable"
     ]
    }
   ],
   "source": [
    "datetime.day(sample_date_dt.weekday())"
   ]
  },
  {
   "cell_type": "code",
   "execution_count": null,
   "id": "d91e5135",
   "metadata": {},
   "outputs": [],
   "source": [
    "#import pandas as pd\n",
    "\n",
    "#temp = pd.Timestamp('2020-11-25')\n",
    "#print(temp.dayofweek, temp.day_name())"
   ]
  },
  {
   "cell_type": "code",
   "execution_count": 120,
   "id": "04eff155",
   "metadata": {},
   "outputs": [],
   "source": [
    "meta_events['time_ts']=meta_events['time'].apply(pd.Timestamp)\n",
    "#meta_events['day_of_week']=meta_events['time_ts'].day_name()"
   ]
  },
  {
   "cell_type": "code",
   "execution_count": 121,
   "id": "e1990304",
   "metadata": {},
   "outputs": [
    {
     "data": {
      "text/html": [
       "<div>\n",
       "<style scoped>\n",
       "    .dataframe tbody tr th:only-of-type {\n",
       "        vertical-align: middle;\n",
       "    }\n",
       "\n",
       "    .dataframe tbody tr th {\n",
       "        vertical-align: top;\n",
       "    }\n",
       "\n",
       "    .dataframe thead th {\n",
       "        text-align: right;\n",
       "    }\n",
       "</style>\n",
       "<table border=\"1\" class=\"dataframe\">\n",
       "  <thead>\n",
       "    <tr style=\"text-align: right;\">\n",
       "      <th></th>\n",
       "      <th>event_id</th>\n",
       "      <th>group_id</th>\n",
       "      <th>name</th>\n",
       "      <th>time</th>\n",
       "      <th>time_ts</th>\n",
       "    </tr>\n",
       "  </thead>\n",
       "  <tbody>\n",
       "    <tr>\n",
       "      <th>0</th>\n",
       "      <td>243930425</td>\n",
       "      <td>26140018</td>\n",
       "      <td>2017 Nashville Walk to End Alzheimers - Octob...</td>\n",
       "      <td>2017-10-14 12:00:00</td>\n",
       "      <td>2017-10-14 12:00:00</td>\n",
       "    </tr>\n",
       "    <tr>\n",
       "      <th>1</th>\n",
       "      <td>244208851</td>\n",
       "      <td>25604533</td>\n",
       "      <td>Steak Dinner on the Patio</td>\n",
       "      <td>2017-10-15 00:15:00</td>\n",
       "      <td>2017-10-15 00:15:00</td>\n",
       "    </tr>\n",
       "    <tr>\n",
       "      <th>2</th>\n",
       "      <td>pxlktnywnbfb</td>\n",
       "      <td>25973656</td>\n",
       "      <td>Schedule Meetup</td>\n",
       "      <td>2017-10-03 23:30:00</td>\n",
       "      <td>2017-10-03 23:30:00</td>\n",
       "    </tr>\n",
       "    <tr>\n",
       "      <th>3</th>\n",
       "      <td>244444551</td>\n",
       "      <td>18571126</td>\n",
       "      <td>Happy Hour Wednesday, Jonathan's Green Hills, ...</td>\n",
       "      <td>2017-10-25 22:30:00</td>\n",
       "      <td>2017-10-25 22:30:00</td>\n",
       "    </tr>\n",
       "    <tr>\n",
       "      <th>4</th>\n",
       "      <td>244257722</td>\n",
       "      <td>18571126</td>\n",
       "      <td>Happy Hour Wednesday, Brentwood, Oct. 18</td>\n",
       "      <td>2017-10-18 22:30:00</td>\n",
       "      <td>2017-10-18 22:30:00</td>\n",
       "    </tr>\n",
       "  </tbody>\n",
       "</table>\n",
       "</div>"
      ],
      "text/plain": [
       "       event_id  group_id                                               name  \\\n",
       "0     243930425  26140018  2017 Nashville Walk to End Alzheimers - Octob...   \n",
       "1     244208851  25604533                          Steak Dinner on the Patio   \n",
       "2  pxlktnywnbfb  25973656                                    Schedule Meetup   \n",
       "3     244444551  18571126  Happy Hour Wednesday, Jonathan's Green Hills, ...   \n",
       "4     244257722  18571126           Happy Hour Wednesday, Brentwood, Oct. 18   \n",
       "\n",
       "                  time             time_ts  \n",
       "0  2017-10-14 12:00:00 2017-10-14 12:00:00  \n",
       "1  2017-10-15 00:15:00 2017-10-15 00:15:00  \n",
       "2  2017-10-03 23:30:00 2017-10-03 23:30:00  \n",
       "3  2017-10-25 22:30:00 2017-10-25 22:30:00  \n",
       "4  2017-10-18 22:30:00 2017-10-18 22:30:00  "
      ]
     },
     "execution_count": 121,
     "metadata": {},
     "output_type": "execute_result"
    }
   ],
   "source": [
    "meta_events.head()"
   ]
  },
  {
   "cell_type": "code",
   "execution_count": 127,
   "id": "bbcbf863",
   "metadata": {},
   "outputs": [],
   "source": [
    "meta_events['day_of_week']=meta_events['time_ts'].apply(pd.Timestamp.day_name)"
   ]
  },
  {
   "cell_type": "code",
   "execution_count": 128,
   "id": "d725bec6",
   "metadata": {},
   "outputs": [
    {
     "data": {
      "text/html": [
       "<div>\n",
       "<style scoped>\n",
       "    .dataframe tbody tr th:only-of-type {\n",
       "        vertical-align: middle;\n",
       "    }\n",
       "\n",
       "    .dataframe tbody tr th {\n",
       "        vertical-align: top;\n",
       "    }\n",
       "\n",
       "    .dataframe thead th {\n",
       "        text-align: right;\n",
       "    }\n",
       "</style>\n",
       "<table border=\"1\" class=\"dataframe\">\n",
       "  <thead>\n",
       "    <tr style=\"text-align: right;\">\n",
       "      <th></th>\n",
       "      <th>event_id</th>\n",
       "      <th>group_id</th>\n",
       "      <th>name</th>\n",
       "      <th>time</th>\n",
       "      <th>time_ts</th>\n",
       "      <th>day_of_week</th>\n",
       "    </tr>\n",
       "  </thead>\n",
       "  <tbody>\n",
       "    <tr>\n",
       "      <th>0</th>\n",
       "      <td>243930425</td>\n",
       "      <td>26140018</td>\n",
       "      <td>2017 Nashville Walk to End Alzheimers - Octob...</td>\n",
       "      <td>2017-10-14 12:00:00</td>\n",
       "      <td>2017-10-14 12:00:00</td>\n",
       "      <td>Saturday</td>\n",
       "    </tr>\n",
       "    <tr>\n",
       "      <th>1</th>\n",
       "      <td>244208851</td>\n",
       "      <td>25604533</td>\n",
       "      <td>Steak Dinner on the Patio</td>\n",
       "      <td>2017-10-15 00:15:00</td>\n",
       "      <td>2017-10-15 00:15:00</td>\n",
       "      <td>Sunday</td>\n",
       "    </tr>\n",
       "    <tr>\n",
       "      <th>2</th>\n",
       "      <td>pxlktnywnbfb</td>\n",
       "      <td>25973656</td>\n",
       "      <td>Schedule Meetup</td>\n",
       "      <td>2017-10-03 23:30:00</td>\n",
       "      <td>2017-10-03 23:30:00</td>\n",
       "      <td>Tuesday</td>\n",
       "    </tr>\n",
       "    <tr>\n",
       "      <th>3</th>\n",
       "      <td>244444551</td>\n",
       "      <td>18571126</td>\n",
       "      <td>Happy Hour Wednesday, Jonathan's Green Hills, ...</td>\n",
       "      <td>2017-10-25 22:30:00</td>\n",
       "      <td>2017-10-25 22:30:00</td>\n",
       "      <td>Wednesday</td>\n",
       "    </tr>\n",
       "    <tr>\n",
       "      <th>4</th>\n",
       "      <td>244257722</td>\n",
       "      <td>18571126</td>\n",
       "      <td>Happy Hour Wednesday, Brentwood, Oct. 18</td>\n",
       "      <td>2017-10-18 22:30:00</td>\n",
       "      <td>2017-10-18 22:30:00</td>\n",
       "      <td>Wednesday</td>\n",
       "    </tr>\n",
       "  </tbody>\n",
       "</table>\n",
       "</div>"
      ],
      "text/plain": [
       "       event_id  group_id                                               name  \\\n",
       "0     243930425  26140018  2017 Nashville Walk to End Alzheimers - Octob...   \n",
       "1     244208851  25604533                          Steak Dinner on the Patio   \n",
       "2  pxlktnywnbfb  25973656                                    Schedule Meetup   \n",
       "3     244444551  18571126  Happy Hour Wednesday, Jonathan's Green Hills, ...   \n",
       "4     244257722  18571126           Happy Hour Wednesday, Brentwood, Oct. 18   \n",
       "\n",
       "                  time             time_ts day_of_week  \n",
       "0  2017-10-14 12:00:00 2017-10-14 12:00:00    Saturday  \n",
       "1  2017-10-15 00:15:00 2017-10-15 00:15:00      Sunday  \n",
       "2  2017-10-03 23:30:00 2017-10-03 23:30:00     Tuesday  \n",
       "3  2017-10-25 22:30:00 2017-10-25 22:30:00   Wednesday  \n",
       "4  2017-10-18 22:30:00 2017-10-18 22:30:00   Wednesday  "
      ]
     },
     "execution_count": 128,
     "metadata": {},
     "output_type": "execute_result"
    }
   ],
   "source": [
    "meta_events.head()"
   ]
  },
  {
   "cell_type": "code",
   "execution_count": 129,
   "id": "bcda18fe",
   "metadata": {},
   "outputs": [
    {
     "name": "stdout",
     "output_type": "stream",
     "text": [
      "2015-11-01 01:00:00\n",
      "2017-10-30 23:15:00\n",
      "729 days 22:15:00\n"
     ]
    }
   ],
   "source": [
    "print(min(meta_events['time_ts']))\n",
    "print(max(meta_events['time_ts']))\n",
    "print(max(meta_events['time_ts'])-min(meta_events['time_ts']))"
   ]
  },
  {
   "cell_type": "code",
   "execution_count": 130,
   "id": "037acd6a",
   "metadata": {},
   "outputs": [
    {
     "data": {
      "text/plain": [
       "1.9972602739726026"
      ]
     },
     "execution_count": 130,
     "metadata": {},
     "output_type": "execute_result"
    }
   ],
   "source": [
    "729/365"
   ]
  },
  {
   "cell_type": "code",
   "execution_count": 131,
   "id": "8e3e46c5",
   "metadata": {},
   "outputs": [
    {
     "data": {
      "text/html": [
       "<div>\n",
       "<style scoped>\n",
       "    .dataframe tbody tr th:only-of-type {\n",
       "        vertical-align: middle;\n",
       "    }\n",
       "\n",
       "    .dataframe tbody tr th {\n",
       "        vertical-align: top;\n",
       "    }\n",
       "\n",
       "    .dataframe thead th {\n",
       "        text-align: right;\n",
       "    }\n",
       "</style>\n",
       "<table border=\"1\" class=\"dataframe\">\n",
       "  <thead>\n",
       "    <tr style=\"text-align: right;\">\n",
       "      <th></th>\n",
       "      <th>group_id</th>\n",
       "      <th>group_name</th>\n",
       "      <th>num_members</th>\n",
       "      <th>category_id</th>\n",
       "      <th>category_name</th>\n",
       "      <th>organizer_id</th>\n",
       "      <th>group_urlname</th>\n",
       "    </tr>\n",
       "  </thead>\n",
       "  <tbody>\n",
       "    <tr>\n",
       "      <th>0</th>\n",
       "      <td>339011</td>\n",
       "      <td>Nashville Hiking Meetup</td>\n",
       "      <td>15838</td>\n",
       "      <td>23</td>\n",
       "      <td>Outdoors &amp; Adventure</td>\n",
       "      <td>4353803</td>\n",
       "      <td>nashville-hiking</td>\n",
       "    </tr>\n",
       "    <tr>\n",
       "      <th>1</th>\n",
       "      <td>19728145</td>\n",
       "      <td>Stepping Out Social Dance Meetup</td>\n",
       "      <td>1778</td>\n",
       "      <td>5</td>\n",
       "      <td>Dancing</td>\n",
       "      <td>118484462</td>\n",
       "      <td>steppingoutsocialdance</td>\n",
       "    </tr>\n",
       "    <tr>\n",
       "      <th>2</th>\n",
       "      <td>6335372</td>\n",
       "      <td>Nashville soccer</td>\n",
       "      <td>2869</td>\n",
       "      <td>32</td>\n",
       "      <td>Sports &amp; Recreation</td>\n",
       "      <td>108448302</td>\n",
       "      <td>Nashville-soccer</td>\n",
       "    </tr>\n",
       "    <tr>\n",
       "      <th>3</th>\n",
       "      <td>10016242</td>\n",
       "      <td>NashJS</td>\n",
       "      <td>1975</td>\n",
       "      <td>34</td>\n",
       "      <td>Tech</td>\n",
       "      <td>8111102</td>\n",
       "      <td>nashjs</td>\n",
       "    </tr>\n",
       "    <tr>\n",
       "      <th>4</th>\n",
       "      <td>21174496</td>\n",
       "      <td>20's &amp; 30's Women looking for girlfriends</td>\n",
       "      <td>2782</td>\n",
       "      <td>31</td>\n",
       "      <td>Socializing</td>\n",
       "      <td>184580248</td>\n",
       "      <td>new-friends-in-Nashville</td>\n",
       "    </tr>\n",
       "  </tbody>\n",
       "</table>\n",
       "</div>"
      ],
      "text/plain": [
       "   group_id                                 group_name  num_members  \\\n",
       "0    339011                    Nashville Hiking Meetup        15838   \n",
       "1  19728145           Stepping Out Social Dance Meetup         1778   \n",
       "2   6335372                           Nashville soccer         2869   \n",
       "3  10016242                                     NashJS         1975   \n",
       "4  21174496  20's & 30's Women looking for girlfriends         2782   \n",
       "\n",
       "   category_id         category_name  organizer_id             group_urlname  \n",
       "0           23  Outdoors & Adventure       4353803          nashville-hiking  \n",
       "1            5               Dancing     118484462    steppingoutsocialdance  \n",
       "2           32   Sports & Recreation     108448302          Nashville-soccer  \n",
       "3           34                  Tech       8111102                    nashjs  \n",
       "4           31           Socializing     184580248  new-friends-in-Nashville  "
      ]
     },
     "execution_count": 131,
     "metadata": {},
     "output_type": "execute_result"
    }
   ],
   "source": [
    "meta_groups.head()"
   ]
  },
  {
   "cell_type": "code",
   "execution_count": 132,
   "id": "75a0c96d",
   "metadata": {},
   "outputs": [
    {
     "data": {
      "text/plain": [
       "array(['Outdoors & Adventure', 'Dancing', 'Sports & Recreation', 'Tech',\n",
       "       'Socializing', 'Religion & Beliefs', 'Singles', 'Writing', 'Games',\n",
       "       'Career & Business', 'Pets & Animals', 'Music', 'Food & Drink',\n",
       "       'LGBT', 'New Age & Spirituality', 'Movements & Politics',\n",
       "       'Health & Wellbeing', 'Education & Learning',\n",
       "       'Language & Ethnic Identity', 'Arts & Culture',\n",
       "       'Cars & Motorcycles', 'Book Clubs', 'Photography',\n",
       "       'Community & Environment', 'Hobbies & Crafts', 'Movies & Film',\n",
       "       'Fitness', 'Support', 'Sci-Fi & Fantasy', 'Fashion & Beauty',\n",
       "       'Parents & Family'], dtype=object)"
      ]
     },
     "execution_count": 132,
     "metadata": {},
     "output_type": "execute_result"
    }
   ],
   "source": [
    "meta_groups['category_name'].unique()"
   ]
  },
  {
   "cell_type": "code",
   "execution_count": 134,
   "id": "81f43f63",
   "metadata": {},
   "outputs": [
    {
     "data": {
      "text/plain": [
       "category_name\n",
       "Arts & Culture                  9\n",
       "Book Clubs                     11\n",
       "Career & Business              93\n",
       "Cars & Motorcycles              2\n",
       "Community & Environment        20\n",
       "Dancing                         5\n",
       "Education & Learning           13\n",
       "Fashion & Beauty                4\n",
       "Fitness                        14\n",
       "Food & Drink                   15\n",
       "Games                          20\n",
       "Health & Wellbeing             36\n",
       "Hobbies & Crafts                6\n",
       "LGBT                            6\n",
       "Language & Ethnic Identity     13\n",
       "Movements & Politics           12\n",
       "Movies & Film                   6\n",
       "Music                          19\n",
       "New Age & Spirituality         33\n",
       "Outdoors & Adventure           36\n",
       "Parents & Family                7\n",
       "Pets & Animals                  6\n",
       "Photography                     5\n",
       "Religion & Beliefs             18\n",
       "Sci-Fi & Fantasy                4\n",
       "Singles                         3\n",
       "Socializing                    48\n",
       "Sports & Recreation            26\n",
       "Support                         9\n",
       "Tech                          100\n",
       "Writing                         3\n",
       "Name: group_id, dtype: int64"
      ]
     },
     "execution_count": 134,
     "metadata": {},
     "output_type": "execute_result"
    }
   ],
   "source": [
    "meta_groups.groupby('category_name')['group_id'].size()"
   ]
  },
  {
   "cell_type": "code",
   "execution_count": 138,
   "id": "77767e47",
   "metadata": {},
   "outputs": [
    {
     "data": {
      "text/plain": [
       "878"
      ]
     },
     "execution_count": 138,
     "metadata": {},
     "output_type": "execute_result"
    }
   ],
   "source": [
    "#shows that the number of members isn't based on this data set\n",
    "len(m_to_g_edges.loc[m_to_g_edges['group_id']==339011]['member_id'].unique())"
   ]
  },
  {
   "cell_type": "code",
   "execution_count": null,
   "id": "86e70c93",
   "metadata": {},
   "outputs": [],
   "source": [
    "'''I was going to check if you had to be a member to attend an event, but I don't have specific membership data,\n",
    "only member id and group id'''\n",
    "#rsvps.loc[rsvps['group_id']==339011]['member_id'].unique().isin()"
   ]
  },
  {
   "cell_type": "code",
   "execution_count": 149,
   "id": "78c2d11c",
   "metadata": {},
   "outputs": [],
   "source": [
    "#count number of rsvps per event per group and get average number of attendees\n",
    "test = rsvps.groupby(['group_id','event_id'])['member_id'].size().reset_index(name='counts')"
   ]
  },
  {
   "cell_type": "code",
   "execution_count": 161,
   "id": "a3f69428",
   "metadata": {},
   "outputs": [],
   "source": [
    "meta_groups = meta_groups.drop(labels=['avg_rsvps'], axis = 1)"
   ]
  },
  {
   "cell_type": "code",
   "execution_count": 168,
   "id": "867f72ff",
   "metadata": {},
   "outputs": [],
   "source": [
    "temp_gp = rsvps.groupby(['group_id','event_id'])['member_id'].size().groupby('group_id').agg('mean').reset_index(name='avg_rsvps')"
   ]
  },
  {
   "cell_type": "code",
   "execution_count": 171,
   "id": "4a2dd6d3",
   "metadata": {},
   "outputs": [
    {
     "data": {
      "text/html": [
       "<div>\n",
       "<style scoped>\n",
       "    .dataframe tbody tr th:only-of-type {\n",
       "        vertical-align: middle;\n",
       "    }\n",
       "\n",
       "    .dataframe tbody tr th {\n",
       "        vertical-align: top;\n",
       "    }\n",
       "\n",
       "    .dataframe thead th {\n",
       "        text-align: right;\n",
       "    }\n",
       "</style>\n",
       "<table border=\"1\" class=\"dataframe\">\n",
       "  <thead>\n",
       "    <tr style=\"text-align: right;\">\n",
       "      <th></th>\n",
       "      <th>group_id</th>\n",
       "      <th>avg_rsvps</th>\n",
       "    </tr>\n",
       "  </thead>\n",
       "  <tbody>\n",
       "    <tr>\n",
       "      <th>598</th>\n",
       "      <td>26282355</td>\n",
       "      <td>1.333333</td>\n",
       "    </tr>\n",
       "  </tbody>\n",
       "</table>\n",
       "</div>"
      ],
      "text/plain": [
       "     group_id  avg_rsvps\n",
       "598  26282355   1.333333"
      ]
     },
     "execution_count": 171,
     "metadata": {},
     "output_type": "execute_result"
    }
   ],
   "source": [
    "temp_gp.loc[temp_gp['group_id']==26282355]"
   ]
  },
  {
   "cell_type": "code",
   "execution_count": 172,
   "id": "6e59d494",
   "metadata": {},
   "outputs": [],
   "source": [
    "meta_groups=meta_groups.merge(temp_gp, how = 'left', on = 'group_id')"
   ]
  },
  {
   "cell_type": "code",
   "execution_count": 173,
   "id": "7efa273b",
   "metadata": {},
   "outputs": [
    {
     "data": {
      "text/html": [
       "<div>\n",
       "<style scoped>\n",
       "    .dataframe tbody tr th:only-of-type {\n",
       "        vertical-align: middle;\n",
       "    }\n",
       "\n",
       "    .dataframe tbody tr th {\n",
       "        vertical-align: top;\n",
       "    }\n",
       "\n",
       "    .dataframe thead th {\n",
       "        text-align: right;\n",
       "    }\n",
       "</style>\n",
       "<table border=\"1\" class=\"dataframe\">\n",
       "  <thead>\n",
       "    <tr style=\"text-align: right;\">\n",
       "      <th></th>\n",
       "      <th>group_id</th>\n",
       "      <th>group_name</th>\n",
       "      <th>num_members</th>\n",
       "      <th>category_id</th>\n",
       "      <th>category_name</th>\n",
       "      <th>organizer_id</th>\n",
       "      <th>group_urlname</th>\n",
       "      <th>avg_rsvps</th>\n",
       "    </tr>\n",
       "  </thead>\n",
       "  <tbody>\n",
       "    <tr>\n",
       "      <th>0</th>\n",
       "      <td>339011</td>\n",
       "      <td>Nashville Hiking Meetup</td>\n",
       "      <td>15838</td>\n",
       "      <td>23</td>\n",
       "      <td>Outdoors &amp; Adventure</td>\n",
       "      <td>4353803</td>\n",
       "      <td>nashville-hiking</td>\n",
       "      <td>10.462312</td>\n",
       "    </tr>\n",
       "    <tr>\n",
       "      <th>1</th>\n",
       "      <td>19728145</td>\n",
       "      <td>Stepping Out Social Dance Meetup</td>\n",
       "      <td>1778</td>\n",
       "      <td>5</td>\n",
       "      <td>Dancing</td>\n",
       "      <td>118484462</td>\n",
       "      <td>steppingoutsocialdance</td>\n",
       "      <td>16.575000</td>\n",
       "    </tr>\n",
       "    <tr>\n",
       "      <th>2</th>\n",
       "      <td>6335372</td>\n",
       "      <td>Nashville soccer</td>\n",
       "      <td>2869</td>\n",
       "      <td>32</td>\n",
       "      <td>Sports &amp; Recreation</td>\n",
       "      <td>108448302</td>\n",
       "      <td>Nashville-soccer</td>\n",
       "      <td>17.945000</td>\n",
       "    </tr>\n",
       "    <tr>\n",
       "      <th>3</th>\n",
       "      <td>10016242</td>\n",
       "      <td>NashJS</td>\n",
       "      <td>1975</td>\n",
       "      <td>34</td>\n",
       "      <td>Tech</td>\n",
       "      <td>8111102</td>\n",
       "      <td>nashjs</td>\n",
       "      <td>81.782609</td>\n",
       "    </tr>\n",
       "    <tr>\n",
       "      <th>4</th>\n",
       "      <td>21174496</td>\n",
       "      <td>20's &amp; 30's Women looking for girlfriends</td>\n",
       "      <td>2782</td>\n",
       "      <td>31</td>\n",
       "      <td>Socializing</td>\n",
       "      <td>184580248</td>\n",
       "      <td>new-friends-in-Nashville</td>\n",
       "      <td>30.450000</td>\n",
       "    </tr>\n",
       "  </tbody>\n",
       "</table>\n",
       "</div>"
      ],
      "text/plain": [
       "   group_id                                 group_name  num_members  \\\n",
       "0    339011                    Nashville Hiking Meetup        15838   \n",
       "1  19728145           Stepping Out Social Dance Meetup         1778   \n",
       "2   6335372                           Nashville soccer         2869   \n",
       "3  10016242                                     NashJS         1975   \n",
       "4  21174496  20's & 30's Women looking for girlfriends         2782   \n",
       "\n",
       "   category_id         category_name  organizer_id             group_urlname  \\\n",
       "0           23  Outdoors & Adventure       4353803          nashville-hiking   \n",
       "1            5               Dancing     118484462    steppingoutsocialdance   \n",
       "2           32   Sports & Recreation     108448302          Nashville-soccer   \n",
       "3           34                  Tech       8111102                    nashjs   \n",
       "4           31           Socializing     184580248  new-friends-in-Nashville   \n",
       "\n",
       "   avg_rsvps  \n",
       "0  10.462312  \n",
       "1  16.575000  \n",
       "2  17.945000  \n",
       "3  81.782609  \n",
       "4  30.450000  "
      ]
     },
     "execution_count": 173,
     "metadata": {},
     "output_type": "execute_result"
    }
   ],
   "source": [
    "meta_groups.head()"
   ]
  },
  {
   "cell_type": "code",
   "execution_count": 176,
   "id": "828d5ca4",
   "metadata": {},
   "outputs": [],
   "source": [
    "#add earliest event as proxy for group creation\n",
    "meta_groups=meta_groups.merge(meta_events.groupby(['group_id'])['time_ts'].agg('min').reset_index(name='first_event'),how='left',on='group_id')"
   ]
  },
  {
   "cell_type": "code",
   "execution_count": 178,
   "id": "96c87a31",
   "metadata": {},
   "outputs": [],
   "source": [
    "#add number of events\n",
    "meta_groups=meta_groups.merge(meta_events.groupby(['group_id'])['event_id'].size().reset_index(name='num_events'),how='left',on='group_id')"
   ]
  },
  {
   "cell_type": "code",
   "execution_count": 175,
   "id": "d806895d",
   "metadata": {},
   "outputs": [
    {
     "data": {
      "text/html": [
       "<div>\n",
       "<style scoped>\n",
       "    .dataframe tbody tr th:only-of-type {\n",
       "        vertical-align: middle;\n",
       "    }\n",
       "\n",
       "    .dataframe tbody tr th {\n",
       "        vertical-align: top;\n",
       "    }\n",
       "\n",
       "    .dataframe thead th {\n",
       "        text-align: right;\n",
       "    }\n",
       "</style>\n",
       "<table border=\"1\" class=\"dataframe\">\n",
       "  <thead>\n",
       "    <tr style=\"text-align: right;\">\n",
       "      <th></th>\n",
       "      <th>event_id</th>\n",
       "      <th>group_id</th>\n",
       "      <th>name</th>\n",
       "      <th>time</th>\n",
       "      <th>time_ts</th>\n",
       "      <th>day_of_week</th>\n",
       "    </tr>\n",
       "  </thead>\n",
       "  <tbody>\n",
       "    <tr>\n",
       "      <th>92</th>\n",
       "      <td>244479480</td>\n",
       "      <td>26282355</td>\n",
       "      <td>Moss Wright Park Meetup</td>\n",
       "      <td>2017-10-28 12:30:00</td>\n",
       "      <td>2017-10-28 12:30:00</td>\n",
       "      <td>Saturday</td>\n",
       "    </tr>\n",
       "    <tr>\n",
       "      <th>93</th>\n",
       "      <td>244293547</td>\n",
       "      <td>26282355</td>\n",
       "      <td>Moss Right Park</td>\n",
       "      <td>2017-10-21 13:00:00</td>\n",
       "      <td>2017-10-21 13:00:00</td>\n",
       "      <td>Saturday</td>\n",
       "    </tr>\n",
       "    <tr>\n",
       "      <th>94</th>\n",
       "      <td>244246979</td>\n",
       "      <td>26282355</td>\n",
       "      <td>Moss Right Park</td>\n",
       "      <td>2017-10-17 23:00:00</td>\n",
       "      <td>2017-10-17 23:00:00</td>\n",
       "      <td>Tuesday</td>\n",
       "    </tr>\n",
       "  </tbody>\n",
       "</table>\n",
       "</div>"
      ],
      "text/plain": [
       "     event_id  group_id                     name                 time  \\\n",
       "92  244479480  26282355  Moss Wright Park Meetup  2017-10-28 12:30:00   \n",
       "93  244293547  26282355          Moss Right Park  2017-10-21 13:00:00   \n",
       "94  244246979  26282355          Moss Right Park  2017-10-17 23:00:00   \n",
       "\n",
       "               time_ts day_of_week  \n",
       "92 2017-10-28 12:30:00    Saturday  \n",
       "93 2017-10-21 13:00:00    Saturday  \n",
       "94 2017-10-17 23:00:00     Tuesday  "
      ]
     },
     "execution_count": 175,
     "metadata": {},
     "output_type": "execute_result"
    }
   ],
   "source": [
    "meta_events.loc[meta_events['group_id']==26282355]"
   ]
  },
  {
   "cell_type": "code",
   "execution_count": 156,
   "id": "01847f05",
   "metadata": {},
   "outputs": [
    {
     "data": {
      "text/html": [
       "<div>\n",
       "<style scoped>\n",
       "    .dataframe tbody tr th:only-of-type {\n",
       "        vertical-align: middle;\n",
       "    }\n",
       "\n",
       "    .dataframe tbody tr th {\n",
       "        vertical-align: top;\n",
       "    }\n",
       "\n",
       "    .dataframe thead th {\n",
       "        text-align: right;\n",
       "    }\n",
       "</style>\n",
       "<table border=\"1\" class=\"dataframe\">\n",
       "  <thead>\n",
       "    <tr style=\"text-align: right;\">\n",
       "      <th></th>\n",
       "      <th>group_id</th>\n",
       "      <th>event_id</th>\n",
       "      <th>counts</th>\n",
       "    </tr>\n",
       "  </thead>\n",
       "  <tbody>\n",
       "    <tr>\n",
       "      <th>19024</th>\n",
       "      <td>26282355</td>\n",
       "      <td>244246979</td>\n",
       "      <td>2</td>\n",
       "    </tr>\n",
       "    <tr>\n",
       "      <th>19025</th>\n",
       "      <td>26282355</td>\n",
       "      <td>244293547</td>\n",
       "      <td>1</td>\n",
       "    </tr>\n",
       "    <tr>\n",
       "      <th>19026</th>\n",
       "      <td>26282355</td>\n",
       "      <td>244479480</td>\n",
       "      <td>1</td>\n",
       "    </tr>\n",
       "  </tbody>\n",
       "</table>\n",
       "</div>"
      ],
      "text/plain": [
       "       group_id   event_id  counts\n",
       "19024  26282355  244246979       2\n",
       "19025  26282355  244293547       1\n",
       "19026  26282355  244479480       1"
      ]
     },
     "execution_count": 156,
     "metadata": {},
     "output_type": "execute_result"
    }
   ],
   "source": [
    "test.loc[test['group_id']==26282355]"
   ]
  },
  {
   "cell_type": "code",
   "execution_count": 179,
   "id": "4d57698a",
   "metadata": {},
   "outputs": [
    {
     "data": {
      "text/html": [
       "<div>\n",
       "<style scoped>\n",
       "    .dataframe tbody tr th:only-of-type {\n",
       "        vertical-align: middle;\n",
       "    }\n",
       "\n",
       "    .dataframe tbody tr th {\n",
       "        vertical-align: top;\n",
       "    }\n",
       "\n",
       "    .dataframe thead th {\n",
       "        text-align: right;\n",
       "    }\n",
       "</style>\n",
       "<table border=\"1\" class=\"dataframe\">\n",
       "  <thead>\n",
       "    <tr style=\"text-align: right;\">\n",
       "      <th></th>\n",
       "      <th>group_id</th>\n",
       "      <th>group_name</th>\n",
       "      <th>num_members</th>\n",
       "      <th>category_id</th>\n",
       "      <th>category_name</th>\n",
       "      <th>organizer_id</th>\n",
       "      <th>group_urlname</th>\n",
       "      <th>avg_rsvps</th>\n",
       "      <th>first_event</th>\n",
       "      <th>num_events</th>\n",
       "    </tr>\n",
       "  </thead>\n",
       "  <tbody>\n",
       "    <tr>\n",
       "      <th>330</th>\n",
       "      <td>26282355</td>\n",
       "      <td>Goodlettsville Roadrunners</td>\n",
       "      <td>11</td>\n",
       "      <td>9</td>\n",
       "      <td>Fitness</td>\n",
       "      <td>184360544</td>\n",
       "      <td>Goodlettsville-Roadrunners</td>\n",
       "      <td>1.333333</td>\n",
       "      <td>2017-10-17 23:00:00</td>\n",
       "      <td>3</td>\n",
       "    </tr>\n",
       "  </tbody>\n",
       "</table>\n",
       "</div>"
      ],
      "text/plain": [
       "     group_id                  group_name  num_members  category_id  \\\n",
       "330  26282355  Goodlettsville Roadrunners           11            9   \n",
       "\n",
       "    category_name  organizer_id               group_urlname  avg_rsvps  \\\n",
       "330       Fitness     184360544  Goodlettsville-Roadrunners   1.333333   \n",
       "\n",
       "            first_event  num_events  \n",
       "330 2017-10-17 23:00:00           3  "
      ]
     },
     "execution_count": 179,
     "metadata": {},
     "output_type": "execute_result"
    }
   ],
   "source": [
    "meta_groups.loc[meta_groups['group_id']==26282355]"
   ]
  },
  {
   "cell_type": "code",
   "execution_count": 145,
   "id": "e5207bad",
   "metadata": {},
   "outputs": [
    {
     "data": {
      "text/html": [
       "<div>\n",
       "<style scoped>\n",
       "    .dataframe tbody tr th:only-of-type {\n",
       "        vertical-align: middle;\n",
       "    }\n",
       "\n",
       "    .dataframe tbody tr th {\n",
       "        vertical-align: top;\n",
       "    }\n",
       "\n",
       "    .dataframe thead th {\n",
       "        text-align: right;\n",
       "    }\n",
       "</style>\n",
       "<table border=\"1\" class=\"dataframe\">\n",
       "  <thead>\n",
       "    <tr style=\"text-align: right;\">\n",
       "      <th></th>\n",
       "      <th>event_id</th>\n",
       "      <th>member_id</th>\n",
       "      <th>group_id</th>\n",
       "    </tr>\n",
       "  </thead>\n",
       "  <tbody>\n",
       "    <tr>\n",
       "      <th>102793</th>\n",
       "      <td>235958072</td>\n",
       "      <td>45253562</td>\n",
       "      <td>47094</td>\n",
       "    </tr>\n",
       "    <tr>\n",
       "      <th>102794</th>\n",
       "      <td>235958072</td>\n",
       "      <td>133931222</td>\n",
       "      <td>47094</td>\n",
       "    </tr>\n",
       "    <tr>\n",
       "      <th>102795</th>\n",
       "      <td>235958072</td>\n",
       "      <td>211623283</td>\n",
       "      <td>47094</td>\n",
       "    </tr>\n",
       "    <tr>\n",
       "      <th>102796</th>\n",
       "      <td>235958072</td>\n",
       "      <td>185299351</td>\n",
       "      <td>47094</td>\n",
       "    </tr>\n",
       "    <tr>\n",
       "      <th>102797</th>\n",
       "      <td>235958072</td>\n",
       "      <td>208234459</td>\n",
       "      <td>47094</td>\n",
       "    </tr>\n",
       "    <tr>\n",
       "      <th>102798</th>\n",
       "      <td>235958072</td>\n",
       "      <td>14040142</td>\n",
       "      <td>47094</td>\n",
       "    </tr>\n",
       "    <tr>\n",
       "      <th>102799</th>\n",
       "      <td>235958072</td>\n",
       "      <td>218342229</td>\n",
       "      <td>47094</td>\n",
       "    </tr>\n",
       "    <tr>\n",
       "      <th>102800</th>\n",
       "      <td>235958072</td>\n",
       "      <td>48664802</td>\n",
       "      <td>47094</td>\n",
       "    </tr>\n",
       "    <tr>\n",
       "      <th>102801</th>\n",
       "      <td>235958072</td>\n",
       "      <td>189365973</td>\n",
       "      <td>47094</td>\n",
       "    </tr>\n",
       "    <tr>\n",
       "      <th>102802</th>\n",
       "      <td>235958072</td>\n",
       "      <td>32832232</td>\n",
       "      <td>47094</td>\n",
       "    </tr>\n",
       "    <tr>\n",
       "      <th>102803</th>\n",
       "      <td>235958072</td>\n",
       "      <td>163960702</td>\n",
       "      <td>47094</td>\n",
       "    </tr>\n",
       "    <tr>\n",
       "      <th>102804</th>\n",
       "      <td>235958072</td>\n",
       "      <td>108371612</td>\n",
       "      <td>47094</td>\n",
       "    </tr>\n",
       "    <tr>\n",
       "      <th>102805</th>\n",
       "      <td>235958072</td>\n",
       "      <td>96613192</td>\n",
       "      <td>47094</td>\n",
       "    </tr>\n",
       "    <tr>\n",
       "      <th>102806</th>\n",
       "      <td>235958072</td>\n",
       "      <td>5220206</td>\n",
       "      <td>47094</td>\n",
       "    </tr>\n",
       "    <tr>\n",
       "      <th>102807</th>\n",
       "      <td>235958072</td>\n",
       "      <td>178778422</td>\n",
       "      <td>47094</td>\n",
       "    </tr>\n",
       "  </tbody>\n",
       "</table>\n",
       "</div>"
      ],
      "text/plain": [
       "         event_id  member_id  group_id\n",
       "102793  235958072   45253562     47094\n",
       "102794  235958072  133931222     47094\n",
       "102795  235958072  211623283     47094\n",
       "102796  235958072  185299351     47094\n",
       "102797  235958072  208234459     47094\n",
       "102798  235958072   14040142     47094\n",
       "102799  235958072  218342229     47094\n",
       "102800  235958072   48664802     47094\n",
       "102801  235958072  189365973     47094\n",
       "102802  235958072   32832232     47094\n",
       "102803  235958072  163960702     47094\n",
       "102804  235958072  108371612     47094\n",
       "102805  235958072   96613192     47094\n",
       "102806  235958072    5220206     47094\n",
       "102807  235958072  178778422     47094"
      ]
     },
     "execution_count": 145,
     "metadata": {},
     "output_type": "execute_result"
    }
   ],
   "source": [
    "rsvps.loc[(rsvps['group_id']==47094)&(rsvps['event_id']=='235958072')]"
   ]
  },
  {
   "cell_type": "code",
   "execution_count": 141,
   "id": "28a05672",
   "metadata": {},
   "outputs": [
    {
     "data": {
      "text/plain": [
       "0    Saturday\n",
       "dtype: object"
      ]
     },
     "execution_count": 141,
     "metadata": {},
     "output_type": "execute_result"
    }
   ],
   "source": [
    "meta_events['day_of_week'].mode()"
   ]
  },
  {
   "cell_type": "code",
   "execution_count": null,
   "id": "ca03bebd",
   "metadata": {},
   "outputs": [],
   "source": []
  }
 ],
 "metadata": {
  "kernelspec": {
   "display_name": "Python 3 (ipykernel)",
   "language": "python",
   "name": "python3"
  },
  "language_info": {
   "codemirror_mode": {
    "name": "ipython",
    "version": 3
   },
   "file_extension": ".py",
   "mimetype": "text/x-python",
   "name": "python",
   "nbconvert_exporter": "python",
   "pygments_lexer": "ipython3",
   "version": "3.9.7"
  }
 },
 "nbformat": 4,
 "nbformat_minor": 5
}
