{
 "cells": [
  {
   "cell_type": "code",
   "execution_count": 1,
   "id": "ff17fe21",
   "metadata": {},
   "outputs": [],
   "source": [
    "import numpy as np\n",
    "import pandas as pd"
   ]
  },
  {
   "cell_type": "code",
   "execution_count": 2,
   "id": "af126220",
   "metadata": {},
   "outputs": [
    {
     "name": "stdout",
     "output_type": "stream",
     "text": [
      "/Users/jamesreno/Documents/Documents - James’s MacBook Air/NYCDSA/Python/Python Project/Meetup_Data\r\n"
     ]
    }
   ],
   "source": [
    "!pwd"
   ]
  },
  {
   "cell_type": "code",
   "execution_count": 3,
   "id": "46b81550",
   "metadata": {},
   "outputs": [],
   "source": [
    "rsvps = pd.read_csv('rsvps.csv')\n",
    "meta_members = pd.read_csv('meta-members.csv')\n",
    "meta_groups = pd.read_csv('meta-groups.csv')\n",
    "meta_events = pd.read_csv('meta-events.csv')\n",
    "m_to_g_edges = pd.read_csv('member-to-group-edges.csv')\n",
    "member_edges = pd.read_csv('member-edges.csv')\n",
    "group_edges = pd.read_csv('group-edges.csv')"
   ]
  },
  {
   "cell_type": "markdown",
   "id": "1cd6f240",
   "metadata": {},
   "source": [
    "Data Organization\n",
    "Below are the data sets retrieved from: https://www.kaggle.com/datasets/stkbailey/nashville-meetup?select=meta-groups.csv\n",
    "on 04/19/2022\n",
    "\n",
    "Defined their assumed definitions and links between data sets.\n",
    "\n",
    "rsvps: (list of rsvps with member, event, and group)\n",
    "has two indices - probably useless\n",
    "event_id - unique id might be used to join to the meta_events\n",
    "member_id - unique id might be used to join to: meta_members, m_to_g_edges, member_edges\n",
    "group_id - unique id might be used to join to: meta_groups, m_to_g_edges, group_edges\n",
    "\n",
    "meta_members: (list of members)\n",
    "member_id - unique id might be used to join to m_to_g_edges, member_edges, rsvps\n",
    "name - name of member\n",
    "?hometown- either where they live or where they grew up\n",
    "?city - where they joined meetup?\n",
    "?state - where they are attending meetups?\n",
    "lat - lattitude\n",
    "lon - longitude\n",
    "\n",
    "meta_groups: (list of groups)\n",
    "group_id - unique id might be used to join to: rsvps, meta_events, m_to_g_edges, group_edges\n",
    "group_name - group name\n",
    "num_members - number of members\n",
    "category_id - unique category id\n",
    "category_name - broad category of the type of group\n",
    "?organizer_id - member id of the organizer(s) or admin(s) ??? Need to confirm\n",
    "group_urlname - url within the meetup.com space\n",
    "\n",
    "meta_events: (list of events)\n",
    "event_id - unique id might be used to join to: rsvps\n",
    "group_id - unique id might be used to join to: rsvps, meta_groups, m_to_g_edges, group_edges\n",
    "name - event name\n",
    "time - Nashville time of event start time\n",
    "\n",
    "m_to_g_edges: (member to group connections)\n",
    "member_id - unique id might be used to join to: rsvps, meta_members, meta_events, member_edges\n",
    "group_id - unique id might be used to join to: rsvps, meta_groups, meta_events, group_edges\n",
    "weight - ?\n",
    "\n",
    "member_edges: (data used to show connection between members)\n",
    "member1 - unique member id\n",
    "member2 - unique member id\n",
    "weight - ?\n",
    "\n",
    "group_edges: (data used to show connections between groups)\n",
    "group1 - unique group id\n",
    "group2 - unique group id\n",
    "weight - ?"
   ]
  },
  {
   "cell_type": "code",
   "execution_count": 20,
   "id": "146c890d",
   "metadata": {},
   "outputs": [
    {
     "data": {
      "text/html": [
       "<div>\n",
       "<style scoped>\n",
       "    .dataframe tbody tr th:only-of-type {\n",
       "        vertical-align: middle;\n",
       "    }\n",
       "\n",
       "    .dataframe tbody tr th {\n",
       "        vertical-align: top;\n",
       "    }\n",
       "\n",
       "    .dataframe thead th {\n",
       "        text-align: right;\n",
       "    }\n",
       "</style>\n",
       "<table border=\"1\" class=\"dataframe\">\n",
       "  <thead>\n",
       "    <tr style=\"text-align: right;\">\n",
       "      <th></th>\n",
       "      <th>Unnamed: 0</th>\n",
       "      <th>member1</th>\n",
       "      <th>member2</th>\n",
       "      <th>weight</th>\n",
       "    </tr>\n",
       "  </thead>\n",
       "  <tbody>\n",
       "    <tr>\n",
       "      <th>0</th>\n",
       "      <td>0</td>\n",
       "      <td>198737924</td>\n",
       "      <td>220654721</td>\n",
       "      <td>1</td>\n",
       "    </tr>\n",
       "    <tr>\n",
       "      <th>1</th>\n",
       "      <td>1</td>\n",
       "      <td>198737924</td>\n",
       "      <td>208201738</td>\n",
       "      <td>1</td>\n",
       "    </tr>\n",
       "    <tr>\n",
       "      <th>2</th>\n",
       "      <td>2</td>\n",
       "      <td>198737924</td>\n",
       "      <td>88664332</td>\n",
       "      <td>1</td>\n",
       "    </tr>\n",
       "    <tr>\n",
       "      <th>3</th>\n",
       "      <td>3</td>\n",
       "      <td>198737924</td>\n",
       "      <td>8640526</td>\n",
       "      <td>1</td>\n",
       "    </tr>\n",
       "    <tr>\n",
       "      <th>4</th>\n",
       "      <td>4</td>\n",
       "      <td>198737924</td>\n",
       "      <td>56356372</td>\n",
       "      <td>1</td>\n",
       "    </tr>\n",
       "  </tbody>\n",
       "</table>\n",
       "</div>"
      ],
      "text/plain": [
       "   Unnamed: 0    member1    member2  weight\n",
       "0           0  198737924  220654721       1\n",
       "1           1  198737924  208201738       1\n",
       "2           2  198737924   88664332       1\n",
       "3           3  198737924    8640526       1\n",
       "4           4  198737924   56356372       1"
      ]
     },
     "execution_count": 20,
     "metadata": {},
     "output_type": "execute_result"
    }
   ],
   "source": [
    "member_edges.head()"
   ]
  },
  {
   "cell_type": "code",
   "execution_count": 25,
   "id": "9607eb0a",
   "metadata": {},
   "outputs": [
    {
     "data": {
      "text/html": [
       "<div>\n",
       "<style scoped>\n",
       "    .dataframe tbody tr th:only-of-type {\n",
       "        vertical-align: middle;\n",
       "    }\n",
       "\n",
       "    .dataframe tbody tr th {\n",
       "        vertical-align: top;\n",
       "    }\n",
       "\n",
       "    .dataframe thead th {\n",
       "        text-align: right;\n",
       "    }\n",
       "</style>\n",
       "<table border=\"1\" class=\"dataframe\">\n",
       "  <thead>\n",
       "    <tr style=\"text-align: right;\">\n",
       "      <th></th>\n",
       "      <th>Unnamed: 0</th>\n",
       "      <th>event_id</th>\n",
       "      <th>member_id</th>\n",
       "      <th>group_id</th>\n",
       "    </tr>\n",
       "  </thead>\n",
       "  <tbody>\n",
       "    <tr>\n",
       "      <th>0</th>\n",
       "      <td>0</td>\n",
       "      <td>243930425</td>\n",
       "      <td>6770985</td>\n",
       "      <td>26140018</td>\n",
       "    </tr>\n",
       "    <tr>\n",
       "      <th>1</th>\n",
       "      <td>1</td>\n",
       "      <td>244208851</td>\n",
       "      <td>234724627</td>\n",
       "      <td>25604533</td>\n",
       "    </tr>\n",
       "    <tr>\n",
       "      <th>2</th>\n",
       "      <td>2</td>\n",
       "      <td>pxlktnywnbfb</td>\n",
       "      <td>199563568</td>\n",
       "      <td>25973656</td>\n",
       "    </tr>\n",
       "    <tr>\n",
       "      <th>3</th>\n",
       "      <td>3</td>\n",
       "      <td>pxlktnywnbfb</td>\n",
       "      <td>208888939</td>\n",
       "      <td>25973656</td>\n",
       "    </tr>\n",
       "    <tr>\n",
       "      <th>4</th>\n",
       "      <td>4</td>\n",
       "      <td>244444551</td>\n",
       "      <td>1720391</td>\n",
       "      <td>18571126</td>\n",
       "    </tr>\n",
       "  </tbody>\n",
       "</table>\n",
       "</div>"
      ],
      "text/plain": [
       "   Unnamed: 0      event_id  member_id  group_id\n",
       "0           0     243930425    6770985  26140018\n",
       "1           1     244208851  234724627  25604533\n",
       "2           2  pxlktnywnbfb  199563568  25973656\n",
       "3           3  pxlktnywnbfb  208888939  25973656\n",
       "4           4     244444551    1720391  18571126"
      ]
     },
     "execution_count": 25,
     "metadata": {},
     "output_type": "execute_result"
    }
   ],
   "source": [
    "rsvps.head()"
   ]
  },
  {
   "cell_type": "code",
   "execution_count": 26,
   "id": "0bace53e",
   "metadata": {},
   "outputs": [
    {
     "data": {
      "text/html": [
       "<div>\n",
       "<style scoped>\n",
       "    .dataframe tbody tr th:only-of-type {\n",
       "        vertical-align: middle;\n",
       "    }\n",
       "\n",
       "    .dataframe tbody tr th {\n",
       "        vertical-align: top;\n",
       "    }\n",
       "\n",
       "    .dataframe thead th {\n",
       "        text-align: right;\n",
       "    }\n",
       "</style>\n",
       "<table border=\"1\" class=\"dataframe\">\n",
       "  <thead>\n",
       "    <tr style=\"text-align: right;\">\n",
       "      <th></th>\n",
       "      <th>Unnamed: 0</th>\n",
       "      <th>member_id</th>\n",
       "      <th>group_id</th>\n",
       "    </tr>\n",
       "  </thead>\n",
       "  <tbody>\n",
       "    <tr>\n",
       "      <th>count</th>\n",
       "      <td>126813.000000</td>\n",
       "      <td>1.268130e+05</td>\n",
       "      <td>1.268130e+05</td>\n",
       "    </tr>\n",
       "    <tr>\n",
       "      <th>mean</th>\n",
       "      <td>63406.000000</td>\n",
       "      <td>1.313540e+08</td>\n",
       "      <td>1.158637e+07</td>\n",
       "    </tr>\n",
       "    <tr>\n",
       "      <th>std</th>\n",
       "      <td>36607.904181</td>\n",
       "      <td>8.368705e+07</td>\n",
       "      <td>8.092142e+06</td>\n",
       "    </tr>\n",
       "    <tr>\n",
       "      <th>min</th>\n",
       "      <td>0.000000</td>\n",
       "      <td>2.069000e+03</td>\n",
       "      <td>4.709400e+04</td>\n",
       "    </tr>\n",
       "    <tr>\n",
       "      <th>25%</th>\n",
       "      <td>31703.000000</td>\n",
       "      <td>3.859148e+07</td>\n",
       "      <td>1.763190e+06</td>\n",
       "    </tr>\n",
       "    <tr>\n",
       "      <th>50%</th>\n",
       "      <td>63406.000000</td>\n",
       "      <td>1.753005e+08</td>\n",
       "      <td>1.177650e+07</td>\n",
       "    </tr>\n",
       "    <tr>\n",
       "      <th>75%</th>\n",
       "      <td>95109.000000</td>\n",
       "      <td>2.036641e+08</td>\n",
       "      <td>1.895583e+07</td>\n",
       "    </tr>\n",
       "    <tr>\n",
       "      <th>max</th>\n",
       "      <td>126812.000000</td>\n",
       "      <td>2.400034e+08</td>\n",
       "      <td>2.629659e+07</td>\n",
       "    </tr>\n",
       "  </tbody>\n",
       "</table>\n",
       "</div>"
      ],
      "text/plain": [
       "          Unnamed: 0     member_id      group_id\n",
       "count  126813.000000  1.268130e+05  1.268130e+05\n",
       "mean    63406.000000  1.313540e+08  1.158637e+07\n",
       "std     36607.904181  8.368705e+07  8.092142e+06\n",
       "min         0.000000  2.069000e+03  4.709400e+04\n",
       "25%     31703.000000  3.859148e+07  1.763190e+06\n",
       "50%     63406.000000  1.753005e+08  1.177650e+07\n",
       "75%     95109.000000  2.036641e+08  1.895583e+07\n",
       "max    126812.000000  2.400034e+08  2.629659e+07"
      ]
     },
     "execution_count": 26,
     "metadata": {},
     "output_type": "execute_result"
    }
   ],
   "source": [
    "rsvps.describe()"
   ]
  },
  {
   "cell_type": "code",
   "execution_count": 29,
   "id": "7adebd5b",
   "metadata": {},
   "outputs": [
    {
     "data": {
      "text/plain": [
       "Unnamed: 0     int64\n",
       "event_id      object\n",
       "member_id      int64\n",
       "group_id       int64\n",
       "dtype: object"
      ]
     },
     "execution_count": 29,
     "metadata": {},
     "output_type": "execute_result"
    }
   ],
   "source": [
    "rsvps.dtypes"
   ]
  },
  {
   "cell_type": "code",
   "execution_count": 31,
   "id": "e219cd0f",
   "metadata": {},
   "outputs": [
    {
     "data": {
      "text/plain": [
       "19031"
      ]
     },
     "execution_count": 31,
     "metadata": {},
     "output_type": "execute_result"
    }
   ],
   "source": [
    "len(rsvps['event_id'].unique())"
   ]
  },
  {
   "cell_type": "code",
   "execution_count": null,
   "id": "d2ae0e69",
   "metadata": {},
   "outputs": [],
   "source": []
  },
  {
   "cell_type": "code",
   "execution_count": 47,
   "id": "1854dd8a",
   "metadata": {},
   "outputs": [
    {
     "data": {
      "text/html": [
       "<div>\n",
       "<style scoped>\n",
       "    .dataframe tbody tr th:only-of-type {\n",
       "        vertical-align: middle;\n",
       "    }\n",
       "\n",
       "    .dataframe tbody tr th {\n",
       "        vertical-align: top;\n",
       "    }\n",
       "\n",
       "    .dataframe thead th {\n",
       "        text-align: right;\n",
       "    }\n",
       "</style>\n",
       "<table border=\"1\" class=\"dataframe\">\n",
       "  <thead>\n",
       "    <tr style=\"text-align: right;\">\n",
       "      <th></th>\n",
       "      <th>Unnamed: 0</th>\n",
       "      <th>event_id</th>\n",
       "      <th>member_id</th>\n",
       "      <th>group_id</th>\n",
       "    </tr>\n",
       "  </thead>\n",
       "  <tbody>\n",
       "  </tbody>\n",
       "</table>\n",
       "</div>"
      ],
      "text/plain": [
       "Empty DataFrame\n",
       "Columns: [Unnamed: 0, event_id, member_id, group_id]\n",
       "Index: []"
      ]
     },
     "execution_count": 47,
     "metadata": {},
     "output_type": "execute_result"
    }
   ],
   "source": [
    "rsvps[rsvps[['event_id','member_id','group_id']].isna().all(axis=1)]"
   ]
  },
  {
   "cell_type": "code",
   "execution_count": 54,
   "id": "7b6313c7",
   "metadata": {},
   "outputs": [
    {
     "data": {
      "text/html": [
       "<div>\n",
       "<style scoped>\n",
       "    .dataframe tbody tr th:only-of-type {\n",
       "        vertical-align: middle;\n",
       "    }\n",
       "\n",
       "    .dataframe tbody tr th {\n",
       "        vertical-align: top;\n",
       "    }\n",
       "\n",
       "    .dataframe thead th {\n",
       "        text-align: right;\n",
       "    }\n",
       "</style>\n",
       "<table border=\"1\" class=\"dataframe\">\n",
       "  <thead>\n",
       "    <tr style=\"text-align: right;\">\n",
       "      <th></th>\n",
       "      <th>Unnamed: 0</th>\n",
       "      <th>event_id</th>\n",
       "      <th>member_id</th>\n",
       "      <th>group_id</th>\n",
       "    </tr>\n",
       "  </thead>\n",
       "  <tbody>\n",
       "  </tbody>\n",
       "</table>\n",
       "</div>"
      ],
      "text/plain": [
       "Empty DataFrame\n",
       "Columns: [Unnamed: 0, event_id, member_id, group_id]\n",
       "Index: []"
      ]
     },
     "execution_count": 54,
     "metadata": {},
     "output_type": "execute_result"
    }
   ],
   "source": [
    "rsvps[rsvps['group_id'].isnull()]"
   ]
  },
  {
   "cell_type": "code",
   "execution_count": 75,
   "id": "1bfa7997",
   "metadata": {},
   "outputs": [],
   "source": [
    "def drop_unnamed(df):\n",
    "    #checking if 'Unnamed: 0' exists as a column name, if so drop and reassign\n",
    "    \n",
    "    if 'Unnamed: 0' in df.columns:\n",
    "        return df.drop(labels='Unnamed: 0',axis=1)\n",
    "    "
   ]
  },
  {
   "cell_type": "code",
   "execution_count": 76,
   "id": "7ac7a8b3",
   "metadata": {},
   "outputs": [],
   "source": [
    "rsvps=drop_unnamed(rsvps)\n",
    "#rsvps.drop(labels='Unnamed: 0',axis=1)"
   ]
  },
  {
   "cell_type": "code",
   "execution_count": 79,
   "id": "75ab323b",
   "metadata": {},
   "outputs": [],
   "source": [
    "for df in [rsvps,meta_members,meta_groups,meta_events,m_to_g_edges,member_edges,group_edges]:\n",
    "    df = drop_unnamed(df)"
   ]
  },
  {
   "cell_type": "code",
   "execution_count": 80,
   "id": "520d4c01",
   "metadata": {},
   "outputs": [
    {
     "data": {
      "text/html": [
       "<div>\n",
       "<style scoped>\n",
       "    .dataframe tbody tr th:only-of-type {\n",
       "        vertical-align: middle;\n",
       "    }\n",
       "\n",
       "    .dataframe tbody tr th {\n",
       "        vertical-align: top;\n",
       "    }\n",
       "\n",
       "    .dataframe thead th {\n",
       "        text-align: right;\n",
       "    }\n",
       "</style>\n",
       "<table border=\"1\" class=\"dataframe\">\n",
       "  <thead>\n",
       "    <tr style=\"text-align: right;\">\n",
       "      <th></th>\n",
       "      <th>member_id</th>\n",
       "      <th>name</th>\n",
       "      <th>hometown</th>\n",
       "      <th>city</th>\n",
       "      <th>state</th>\n",
       "      <th>lat</th>\n",
       "      <th>lon</th>\n",
       "    </tr>\n",
       "  </thead>\n",
       "  <tbody>\n",
       "    <tr>\n",
       "      <th>0</th>\n",
       "      <td>2069</td>\n",
       "      <td>Wesley Duffee-Braun</td>\n",
       "      <td>Brentwood</td>\n",
       "      <td>Brentwood</td>\n",
       "      <td>TN</td>\n",
       "      <td>36.00</td>\n",
       "      <td>-86.79</td>\n",
       "    </tr>\n",
       "    <tr>\n",
       "      <th>1</th>\n",
       "      <td>8386</td>\n",
       "      <td>Tim</td>\n",
       "      <td>Nashville</td>\n",
       "      <td>Nashville</td>\n",
       "      <td>TN</td>\n",
       "      <td>36.07</td>\n",
       "      <td>-86.78</td>\n",
       "    </tr>\n",
       "    <tr>\n",
       "      <th>2</th>\n",
       "      <td>9205</td>\n",
       "      <td>Brenda</td>\n",
       "      <td>Brentwood</td>\n",
       "      <td>Brentwood</td>\n",
       "      <td>TN</td>\n",
       "      <td>36.00</td>\n",
       "      <td>-86.79</td>\n",
       "    </tr>\n",
       "    <tr>\n",
       "      <th>3</th>\n",
       "      <td>17903</td>\n",
       "      <td>Steve</td>\n",
       "      <td>NaN</td>\n",
       "      <td>Nashville</td>\n",
       "      <td>TN</td>\n",
       "      <td>36.13</td>\n",
       "      <td>-86.80</td>\n",
       "    </tr>\n",
       "    <tr>\n",
       "      <th>4</th>\n",
       "      <td>20418</td>\n",
       "      <td>Andrea Reynolds</td>\n",
       "      <td>Huntington, WV</td>\n",
       "      <td>Nashville</td>\n",
       "      <td>TN</td>\n",
       "      <td>36.17</td>\n",
       "      <td>-86.72</td>\n",
       "    </tr>\n",
       "  </tbody>\n",
       "</table>\n",
       "</div>"
      ],
      "text/plain": [
       "   member_id                 name        hometown       city state    lat  \\\n",
       "0       2069  Wesley Duffee-Braun       Brentwood  Brentwood    TN  36.00   \n",
       "1       8386                  Tim       Nashville  Nashville    TN  36.07   \n",
       "2       9205               Brenda       Brentwood  Brentwood    TN  36.00   \n",
       "3      17903                Steve             NaN  Nashville    TN  36.13   \n",
       "4      20418      Andrea Reynolds  Huntington, WV  Nashville    TN  36.17   \n",
       "\n",
       "     lon  \n",
       "0 -86.79  \n",
       "1 -86.78  \n",
       "2 -86.79  \n",
       "3 -86.80  \n",
       "4 -86.72  "
      ]
     },
     "execution_count": 80,
     "metadata": {},
     "output_type": "execute_result"
    }
   ],
   "source": [
    "meta_members.head()"
   ]
  },
  {
   "cell_type": "code",
   "execution_count": 83,
   "id": "dcc44089",
   "metadata": {},
   "outputs": [
    {
     "data": {
      "text/plain": [
       "member_id        0\n",
       "name             0\n",
       "hometown     19664\n",
       "city             0\n",
       "state           94\n",
       "lat              0\n",
       "lon              0\n",
       "dtype: int64"
      ]
     },
     "execution_count": 83,
     "metadata": {},
     "output_type": "execute_result"
    }
   ],
   "source": [
    "meta_members.isna().sum()"
   ]
  },
  {
   "cell_type": "code",
   "execution_count": 87,
   "id": "34b7acc4",
   "metadata": {},
   "outputs": [
    {
     "data": {
      "text/plain": [
       "24591"
      ]
     },
     "execution_count": 87,
     "metadata": {},
     "output_type": "execute_result"
    }
   ],
   "source": [
    "len(meta_members['member_id'].unique())"
   ]
  },
  {
   "cell_type": "code",
   "execution_count": 86,
   "id": "8b0cc439",
   "metadata": {},
   "outputs": [
    {
     "data": {
      "text/plain": [
       "24591"
      ]
     },
     "execution_count": 86,
     "metadata": {},
     "output_type": "execute_result"
    }
   ],
   "source": [
    "len(meta_members)"
   ]
  },
  {
   "cell_type": "code",
   "execution_count": 89,
   "id": "c773f57e",
   "metadata": {},
   "outputs": [],
   "source": [
    "merged_df = meta_members.merge(rsvps, how='inner', on='member_id')"
   ]
  },
  {
   "cell_type": "code",
   "execution_count": null,
   "id": "f2446f61",
   "metadata": {},
   "outputs": [],
   "source": [
    "# am going to count the number of events attended and number organized etc\n",
    "merged_df.groupby(member_id)."
   ]
  },
  {
   "cell_type": "code",
   "execution_count": 109,
   "id": "c05ca230",
   "metadata": {},
   "outputs": [
    {
     "data": {
      "text/html": [
       "<div>\n",
       "<style scoped>\n",
       "    .dataframe tbody tr th:only-of-type {\n",
       "        vertical-align: middle;\n",
       "    }\n",
       "\n",
       "    .dataframe tbody tr th {\n",
       "        vertical-align: top;\n",
       "    }\n",
       "\n",
       "    .dataframe thead th {\n",
       "        text-align: right;\n",
       "    }\n",
       "</style>\n",
       "<table border=\"1\" class=\"dataframe\">\n",
       "  <thead>\n",
       "    <tr style=\"text-align: right;\">\n",
       "      <th></th>\n",
       "      <th>member_id</th>\n",
       "      <th>name</th>\n",
       "      <th>hometown</th>\n",
       "      <th>city</th>\n",
       "      <th>state</th>\n",
       "      <th>lat</th>\n",
       "      <th>lon</th>\n",
       "    </tr>\n",
       "  </thead>\n",
       "  <tbody>\n",
       "    <tr>\n",
       "      <th>0</th>\n",
       "      <td>2069</td>\n",
       "      <td>Wesley Duffee-Braun</td>\n",
       "      <td>Brentwood</td>\n",
       "      <td>Brentwood</td>\n",
       "      <td>TN</td>\n",
       "      <td>36.00</td>\n",
       "      <td>-86.79</td>\n",
       "    </tr>\n",
       "    <tr>\n",
       "      <th>1</th>\n",
       "      <td>8386</td>\n",
       "      <td>Tim</td>\n",
       "      <td>Nashville</td>\n",
       "      <td>Nashville</td>\n",
       "      <td>TN</td>\n",
       "      <td>36.07</td>\n",
       "      <td>-86.78</td>\n",
       "    </tr>\n",
       "    <tr>\n",
       "      <th>2</th>\n",
       "      <td>9205</td>\n",
       "      <td>Brenda</td>\n",
       "      <td>Brentwood</td>\n",
       "      <td>Brentwood</td>\n",
       "      <td>TN</td>\n",
       "      <td>36.00</td>\n",
       "      <td>-86.79</td>\n",
       "    </tr>\n",
       "    <tr>\n",
       "      <th>3</th>\n",
       "      <td>17903</td>\n",
       "      <td>Steve</td>\n",
       "      <td>NaN</td>\n",
       "      <td>Nashville</td>\n",
       "      <td>TN</td>\n",
       "      <td>36.13</td>\n",
       "      <td>-86.80</td>\n",
       "    </tr>\n",
       "    <tr>\n",
       "      <th>4</th>\n",
       "      <td>20418</td>\n",
       "      <td>Andrea Reynolds</td>\n",
       "      <td>Huntington, WV</td>\n",
       "      <td>Nashville</td>\n",
       "      <td>TN</td>\n",
       "      <td>36.17</td>\n",
       "      <td>-86.72</td>\n",
       "    </tr>\n",
       "  </tbody>\n",
       "</table>\n",
       "</div>"
      ],
      "text/plain": [
       "   member_id                 name        hometown       city state    lat  \\\n",
       "0       2069  Wesley Duffee-Braun       Brentwood  Brentwood    TN  36.00   \n",
       "1       8386                  Tim       Nashville  Nashville    TN  36.07   \n",
       "2       9205               Brenda       Brentwood  Brentwood    TN  36.00   \n",
       "3      17903                Steve             NaN  Nashville    TN  36.13   \n",
       "4      20418      Andrea Reynolds  Huntington, WV  Nashville    TN  36.17   \n",
       "\n",
       "     lon  \n",
       "0 -86.79  \n",
       "1 -86.78  \n",
       "2 -86.79  \n",
       "3 -86.80  \n",
       "4 -86.72  "
      ]
     },
     "execution_count": 109,
     "metadata": {},
     "output_type": "execute_result"
    }
   ],
   "source": [
    "meta_members.head()"
   ]
  },
  {
   "cell_type": "code",
   "execution_count": 110,
   "id": "e2ced242",
   "metadata": {},
   "outputs": [
    {
     "data": {
      "text/html": [
       "<div>\n",
       "<style scoped>\n",
       "    .dataframe tbody tr th:only-of-type {\n",
       "        vertical-align: middle;\n",
       "    }\n",
       "\n",
       "    .dataframe tbody tr th {\n",
       "        vertical-align: top;\n",
       "    }\n",
       "\n",
       "    .dataframe thead th {\n",
       "        text-align: right;\n",
       "    }\n",
       "</style>\n",
       "<table border=\"1\" class=\"dataframe\">\n",
       "  <thead>\n",
       "    <tr style=\"text-align: right;\">\n",
       "      <th></th>\n",
       "      <th>event_id</th>\n",
       "      <th>member_id</th>\n",
       "      <th>group_id</th>\n",
       "    </tr>\n",
       "  </thead>\n",
       "  <tbody>\n",
       "    <tr>\n",
       "      <th>14137</th>\n",
       "      <td>239307600</td>\n",
       "      <td>2069</td>\n",
       "      <td>18855476</td>\n",
       "    </tr>\n",
       "    <tr>\n",
       "      <th>26704</th>\n",
       "      <td>kjzzdlyvcbrb</td>\n",
       "      <td>2069</td>\n",
       "      <td>17872862</td>\n",
       "    </tr>\n",
       "    <tr>\n",
       "      <th>29418</th>\n",
       "      <td>234956674</td>\n",
       "      <td>2069</td>\n",
       "      <td>19277993</td>\n",
       "    </tr>\n",
       "    <tr>\n",
       "      <th>29611</th>\n",
       "      <td>rwnwplyvkblb</td>\n",
       "      <td>2069</td>\n",
       "      <td>19277993</td>\n",
       "    </tr>\n",
       "    <tr>\n",
       "      <th>29699</th>\n",
       "      <td>rwnwplyvhbrb</td>\n",
       "      <td>2069</td>\n",
       "      <td>19277993</td>\n",
       "    </tr>\n",
       "    <tr>\n",
       "      <th>32844</th>\n",
       "      <td>qxncmlywlbzb</td>\n",
       "      <td>2069</td>\n",
       "      <td>405938</td>\n",
       "    </tr>\n",
       "    <tr>\n",
       "      <th>32847</th>\n",
       "      <td>241937707</td>\n",
       "      <td>2069</td>\n",
       "      <td>405938</td>\n",
       "    </tr>\n",
       "    <tr>\n",
       "      <th>32856</th>\n",
       "      <td>qxncmlywkbtb</td>\n",
       "      <td>2069</td>\n",
       "      <td>405938</td>\n",
       "    </tr>\n",
       "    <tr>\n",
       "      <th>36071</th>\n",
       "      <td>qgllhkyvcbqb</td>\n",
       "      <td>2069</td>\n",
       "      <td>11862932</td>\n",
       "    </tr>\n",
       "    <tr>\n",
       "      <th>36077</th>\n",
       "      <td>qgllhkytqblb</td>\n",
       "      <td>2069</td>\n",
       "      <td>11862932</td>\n",
       "    </tr>\n",
       "    <tr>\n",
       "      <th>41448</th>\n",
       "      <td>242195172</td>\n",
       "      <td>2069</td>\n",
       "      <td>17467312</td>\n",
       "    </tr>\n",
       "    <tr>\n",
       "      <th>74407</th>\n",
       "      <td>cldxflywnbgb</td>\n",
       "      <td>2069</td>\n",
       "      <td>11625832</td>\n",
       "    </tr>\n",
       "    <tr>\n",
       "      <th>74912</th>\n",
       "      <td>cldxflywfbcb</td>\n",
       "      <td>2069</td>\n",
       "      <td>11625832</td>\n",
       "    </tr>\n",
       "    <tr>\n",
       "      <th>75280</th>\n",
       "      <td>cldxflyvmbkb</td>\n",
       "      <td>2069</td>\n",
       "      <td>11625832</td>\n",
       "    </tr>\n",
       "    <tr>\n",
       "      <th>75482</th>\n",
       "      <td>cldxflyvhbgb</td>\n",
       "      <td>2069</td>\n",
       "      <td>11625832</td>\n",
       "    </tr>\n",
       "  </tbody>\n",
       "</table>\n",
       "</div>"
      ],
      "text/plain": [
       "           event_id  member_id  group_id\n",
       "14137     239307600       2069  18855476\n",
       "26704  kjzzdlyvcbrb       2069  17872862\n",
       "29418     234956674       2069  19277993\n",
       "29611  rwnwplyvkblb       2069  19277993\n",
       "29699  rwnwplyvhbrb       2069  19277993\n",
       "32844  qxncmlywlbzb       2069    405938\n",
       "32847     241937707       2069    405938\n",
       "32856  qxncmlywkbtb       2069    405938\n",
       "36071  qgllhkyvcbqb       2069  11862932\n",
       "36077  qgllhkytqblb       2069  11862932\n",
       "41448     242195172       2069  17467312\n",
       "74407  cldxflywnbgb       2069  11625832\n",
       "74912  cldxflywfbcb       2069  11625832\n",
       "75280  cldxflyvmbkb       2069  11625832\n",
       "75482  cldxflyvhbgb       2069  11625832"
      ]
     },
     "execution_count": 110,
     "metadata": {},
     "output_type": "execute_result"
    }
   ],
   "source": [
    "rsvps.loc[rsvps['member_id']==2069]"
   ]
  },
  {
   "cell_type": "code",
   "execution_count": null,
   "id": "f5daaa80",
   "metadata": {},
   "outputs": [],
   "source": []
  },
  {
   "cell_type": "code",
   "execution_count": 90,
   "id": "e87f3e52",
   "metadata": {},
   "outputs": [
    {
     "data": {
      "text/html": [
       "<div>\n",
       "<style scoped>\n",
       "    .dataframe tbody tr th:only-of-type {\n",
       "        vertical-align: middle;\n",
       "    }\n",
       "\n",
       "    .dataframe tbody tr th {\n",
       "        vertical-align: top;\n",
       "    }\n",
       "\n",
       "    .dataframe thead th {\n",
       "        text-align: right;\n",
       "    }\n",
       "</style>\n",
       "<table border=\"1\" class=\"dataframe\">\n",
       "  <thead>\n",
       "    <tr style=\"text-align: right;\">\n",
       "      <th></th>\n",
       "      <th>event_id</th>\n",
       "      <th>group_id</th>\n",
       "      <th>name</th>\n",
       "      <th>time</th>\n",
       "    </tr>\n",
       "  </thead>\n",
       "  <tbody>\n",
       "    <tr>\n",
       "      <th>0</th>\n",
       "      <td>243930425</td>\n",
       "      <td>26140018</td>\n",
       "      <td>2017 Nashville Walk to End Alzheimers - Octob...</td>\n",
       "      <td>2017-10-14 12:00:00</td>\n",
       "    </tr>\n",
       "    <tr>\n",
       "      <th>1</th>\n",
       "      <td>244208851</td>\n",
       "      <td>25604533</td>\n",
       "      <td>Steak Dinner on the Patio</td>\n",
       "      <td>2017-10-15 00:15:00</td>\n",
       "    </tr>\n",
       "    <tr>\n",
       "      <th>2</th>\n",
       "      <td>pxlktnywnbfb</td>\n",
       "      <td>25973656</td>\n",
       "      <td>Schedule Meetup</td>\n",
       "      <td>2017-10-03 23:30:00</td>\n",
       "    </tr>\n",
       "    <tr>\n",
       "      <th>3</th>\n",
       "      <td>244444551</td>\n",
       "      <td>18571126</td>\n",
       "      <td>Happy Hour Wednesday, Jonathan's Green Hills, ...</td>\n",
       "      <td>2017-10-25 22:30:00</td>\n",
       "    </tr>\n",
       "    <tr>\n",
       "      <th>4</th>\n",
       "      <td>244257722</td>\n",
       "      <td>18571126</td>\n",
       "      <td>Happy Hour Wednesday, Brentwood, Oct. 18</td>\n",
       "      <td>2017-10-18 22:30:00</td>\n",
       "    </tr>\n",
       "  </tbody>\n",
       "</table>\n",
       "</div>"
      ],
      "text/plain": [
       "       event_id  group_id                                               name  \\\n",
       "0     243930425  26140018  2017 Nashville Walk to End Alzheimers - Octob...   \n",
       "1     244208851  25604533                          Steak Dinner on the Patio   \n",
       "2  pxlktnywnbfb  25973656                                    Schedule Meetup   \n",
       "3     244444551  18571126  Happy Hour Wednesday, Jonathan's Green Hills, ...   \n",
       "4     244257722  18571126           Happy Hour Wednesday, Brentwood, Oct. 18   \n",
       "\n",
       "                  time  \n",
       "0  2017-10-14 12:00:00  \n",
       "1  2017-10-15 00:15:00  \n",
       "2  2017-10-03 23:30:00  \n",
       "3  2017-10-25 22:30:00  \n",
       "4  2017-10-18 22:30:00  "
      ]
     },
     "execution_count": 90,
     "metadata": {},
     "output_type": "execute_result"
    }
   ],
   "source": [
    "meta_events.head()"
   ]
  },
  {
   "cell_type": "code",
   "execution_count": 95,
   "id": "8951a4ce",
   "metadata": {},
   "outputs": [],
   "source": [
    "from datetime import datetime"
   ]
  },
  {
   "cell_type": "code",
   "execution_count": 93,
   "id": "1493fc86",
   "metadata": {},
   "outputs": [],
   "source": [
    "sample_date = meta_events['time'][0]"
   ]
  },
  {
   "cell_type": "code",
   "execution_count": 98,
   "id": "8a536d43",
   "metadata": {},
   "outputs": [
    {
     "data": {
      "text/plain": [
       "'2017-10-14 12:00:00'"
      ]
     },
     "execution_count": 98,
     "metadata": {},
     "output_type": "execute_result"
    }
   ],
   "source": [
    "sample_date"
   ]
  },
  {
   "cell_type": "code",
   "execution_count": 101,
   "id": "fbe6d191",
   "metadata": {},
   "outputs": [],
   "source": [
    "sample_date_dt = datetime.strptime(sample_date, '%Y-%m-%d %H:%M:%S')"
   ]
  },
  {
   "cell_type": "code",
   "execution_count": 108,
   "id": "c0ab01b1",
   "metadata": {},
   "outputs": [
    {
     "data": {
      "text/plain": [
       "5"
      ]
     },
     "execution_count": 108,
     "metadata": {},
     "output_type": "execute_result"
    }
   ],
   "source": [
    "sample_date_dt.weekday()"
   ]
  },
  {
   "cell_type": "code",
   "execution_count": 113,
   "id": "bce889d2",
   "metadata": {},
   "outputs": [
    {
     "ename": "TypeError",
     "evalue": "'getset_descriptor' object is not callable",
     "output_type": "error",
     "traceback": [
      "\u001b[0;31m---------------------------------------------------------------------------\u001b[0m",
      "\u001b[0;31mTypeError\u001b[0m                                 Traceback (most recent call last)",
      "\u001b[0;32m/var/folders/w6/m13k9fgs76s835wznks2wrwh0000gn/T/ipykernel_62077/414450514.py\u001b[0m in \u001b[0;36m<module>\u001b[0;34m\u001b[0m\n\u001b[0;32m----> 1\u001b[0;31m \u001b[0mdatetime\u001b[0m\u001b[0;34m.\u001b[0m\u001b[0mday\u001b[0m\u001b[0;34m(\u001b[0m\u001b[0msample_date_dt\u001b[0m\u001b[0;34m.\u001b[0m\u001b[0mweekday\u001b[0m\u001b[0;34m(\u001b[0m\u001b[0;34m)\u001b[0m\u001b[0;34m)\u001b[0m\u001b[0;34m\u001b[0m\u001b[0;34m\u001b[0m\u001b[0m\n\u001b[0m",
      "\u001b[0;31mTypeError\u001b[0m: 'getset_descriptor' object is not callable"
     ]
    }
   ],
   "source": [
    "datetime.day(sample_date_dt.weekday())"
   ]
  },
  {
   "cell_type": "code",
   "execution_count": null,
   "id": "a2c846ea",
   "metadata": {},
   "outputs": [],
   "source": [
    "#import pandas as pd\n",
    "\n",
    "#temp = pd.Timestamp('2020-11-25')\n",
    "#print(temp.dayofweek, temp.day_name())"
   ]
  },
  {
   "cell_type": "code",
   "execution_count": 120,
   "id": "b339db1a",
   "metadata": {},
   "outputs": [],
   "source": [
    "meta_events['time_ts']=meta_events['time'].apply(pd.Timestamp)\n",
    "#meta_events['day_of_week']=meta_events['time_ts'].day_name()"
   ]
  },
  {
   "cell_type": "code",
   "execution_count": 121,
   "id": "bcf63ab4",
   "metadata": {},
   "outputs": [
    {
     "data": {
      "text/html": [
       "<div>\n",
       "<style scoped>\n",
       "    .dataframe tbody tr th:only-of-type {\n",
       "        vertical-align: middle;\n",
       "    }\n",
       "\n",
       "    .dataframe tbody tr th {\n",
       "        vertical-align: top;\n",
       "    }\n",
       "\n",
       "    .dataframe thead th {\n",
       "        text-align: right;\n",
       "    }\n",
       "</style>\n",
       "<table border=\"1\" class=\"dataframe\">\n",
       "  <thead>\n",
       "    <tr style=\"text-align: right;\">\n",
       "      <th></th>\n",
       "      <th>event_id</th>\n",
       "      <th>group_id</th>\n",
       "      <th>name</th>\n",
       "      <th>time</th>\n",
       "      <th>time_ts</th>\n",
       "    </tr>\n",
       "  </thead>\n",
       "  <tbody>\n",
       "    <tr>\n",
       "      <th>0</th>\n",
       "      <td>243930425</td>\n",
       "      <td>26140018</td>\n",
       "      <td>2017 Nashville Walk to End Alzheimers - Octob...</td>\n",
       "      <td>2017-10-14 12:00:00</td>\n",
       "      <td>2017-10-14 12:00:00</td>\n",
       "    </tr>\n",
       "    <tr>\n",
       "      <th>1</th>\n",
       "      <td>244208851</td>\n",
       "      <td>25604533</td>\n",
       "      <td>Steak Dinner on the Patio</td>\n",
       "      <td>2017-10-15 00:15:00</td>\n",
       "      <td>2017-10-15 00:15:00</td>\n",
       "    </tr>\n",
       "    <tr>\n",
       "      <th>2</th>\n",
       "      <td>pxlktnywnbfb</td>\n",
       "      <td>25973656</td>\n",
       "      <td>Schedule Meetup</td>\n",
       "      <td>2017-10-03 23:30:00</td>\n",
       "      <td>2017-10-03 23:30:00</td>\n",
       "    </tr>\n",
       "    <tr>\n",
       "      <th>3</th>\n",
       "      <td>244444551</td>\n",
       "      <td>18571126</td>\n",
       "      <td>Happy Hour Wednesday, Jonathan's Green Hills, ...</td>\n",
       "      <td>2017-10-25 22:30:00</td>\n",
       "      <td>2017-10-25 22:30:00</td>\n",
       "    </tr>\n",
       "    <tr>\n",
       "      <th>4</th>\n",
       "      <td>244257722</td>\n",
       "      <td>18571126</td>\n",
       "      <td>Happy Hour Wednesday, Brentwood, Oct. 18</td>\n",
       "      <td>2017-10-18 22:30:00</td>\n",
       "      <td>2017-10-18 22:30:00</td>\n",
       "    </tr>\n",
       "  </tbody>\n",
       "</table>\n",
       "</div>"
      ],
      "text/plain": [
       "       event_id  group_id                                               name  \\\n",
       "0     243930425  26140018  2017 Nashville Walk to End Alzheimers - Octob...   \n",
       "1     244208851  25604533                          Steak Dinner on the Patio   \n",
       "2  pxlktnywnbfb  25973656                                    Schedule Meetup   \n",
       "3     244444551  18571126  Happy Hour Wednesday, Jonathan's Green Hills, ...   \n",
       "4     244257722  18571126           Happy Hour Wednesday, Brentwood, Oct. 18   \n",
       "\n",
       "                  time             time_ts  \n",
       "0  2017-10-14 12:00:00 2017-10-14 12:00:00  \n",
       "1  2017-10-15 00:15:00 2017-10-15 00:15:00  \n",
       "2  2017-10-03 23:30:00 2017-10-03 23:30:00  \n",
       "3  2017-10-25 22:30:00 2017-10-25 22:30:00  \n",
       "4  2017-10-18 22:30:00 2017-10-18 22:30:00  "
      ]
     },
     "execution_count": 121,
     "metadata": {},
     "output_type": "execute_result"
    }
   ],
   "source": [
    "meta_events.head()"
   ]
  },
  {
   "cell_type": "code",
   "execution_count": 127,
   "id": "f29abf1f",
   "metadata": {},
   "outputs": [],
   "source": [
    "meta_events['day_of_week']=meta_events['time_ts'].apply(pd.Timestamp.day_name)"
   ]
  },
  {
   "cell_type": "code",
   "execution_count": 128,
   "id": "5eb82904",
   "metadata": {},
   "outputs": [
    {
     "data": {
      "text/html": [
       "<div>\n",
       "<style scoped>\n",
       "    .dataframe tbody tr th:only-of-type {\n",
       "        vertical-align: middle;\n",
       "    }\n",
       "\n",
       "    .dataframe tbody tr th {\n",
       "        vertical-align: top;\n",
       "    }\n",
       "\n",
       "    .dataframe thead th {\n",
       "        text-align: right;\n",
       "    }\n",
       "</style>\n",
       "<table border=\"1\" class=\"dataframe\">\n",
       "  <thead>\n",
       "    <tr style=\"text-align: right;\">\n",
       "      <th></th>\n",
       "      <th>event_id</th>\n",
       "      <th>group_id</th>\n",
       "      <th>name</th>\n",
       "      <th>time</th>\n",
       "      <th>time_ts</th>\n",
       "      <th>day_of_week</th>\n",
       "    </tr>\n",
       "  </thead>\n",
       "  <tbody>\n",
       "    <tr>\n",
       "      <th>0</th>\n",
       "      <td>243930425</td>\n",
       "      <td>26140018</td>\n",
       "      <td>2017 Nashville Walk to End Alzheimers - Octob...</td>\n",
       "      <td>2017-10-14 12:00:00</td>\n",
       "      <td>2017-10-14 12:00:00</td>\n",
       "      <td>Saturday</td>\n",
       "    </tr>\n",
       "    <tr>\n",
       "      <th>1</th>\n",
       "      <td>244208851</td>\n",
       "      <td>25604533</td>\n",
       "      <td>Steak Dinner on the Patio</td>\n",
       "      <td>2017-10-15 00:15:00</td>\n",
       "      <td>2017-10-15 00:15:00</td>\n",
       "      <td>Sunday</td>\n",
       "    </tr>\n",
       "    <tr>\n",
       "      <th>2</th>\n",
       "      <td>pxlktnywnbfb</td>\n",
       "      <td>25973656</td>\n",
       "      <td>Schedule Meetup</td>\n",
       "      <td>2017-10-03 23:30:00</td>\n",
       "      <td>2017-10-03 23:30:00</td>\n",
       "      <td>Tuesday</td>\n",
       "    </tr>\n",
       "    <tr>\n",
       "      <th>3</th>\n",
       "      <td>244444551</td>\n",
       "      <td>18571126</td>\n",
       "      <td>Happy Hour Wednesday, Jonathan's Green Hills, ...</td>\n",
       "      <td>2017-10-25 22:30:00</td>\n",
       "      <td>2017-10-25 22:30:00</td>\n",
       "      <td>Wednesday</td>\n",
       "    </tr>\n",
       "    <tr>\n",
       "      <th>4</th>\n",
       "      <td>244257722</td>\n",
       "      <td>18571126</td>\n",
       "      <td>Happy Hour Wednesday, Brentwood, Oct. 18</td>\n",
       "      <td>2017-10-18 22:30:00</td>\n",
       "      <td>2017-10-18 22:30:00</td>\n",
       "      <td>Wednesday</td>\n",
       "    </tr>\n",
       "  </tbody>\n",
       "</table>\n",
       "</div>"
      ],
      "text/plain": [
       "       event_id  group_id                                               name  \\\n",
       "0     243930425  26140018  2017 Nashville Walk to End Alzheimers - Octob...   \n",
       "1     244208851  25604533                          Steak Dinner on the Patio   \n",
       "2  pxlktnywnbfb  25973656                                    Schedule Meetup   \n",
       "3     244444551  18571126  Happy Hour Wednesday, Jonathan's Green Hills, ...   \n",
       "4     244257722  18571126           Happy Hour Wednesday, Brentwood, Oct. 18   \n",
       "\n",
       "                  time             time_ts day_of_week  \n",
       "0  2017-10-14 12:00:00 2017-10-14 12:00:00    Saturday  \n",
       "1  2017-10-15 00:15:00 2017-10-15 00:15:00      Sunday  \n",
       "2  2017-10-03 23:30:00 2017-10-03 23:30:00     Tuesday  \n",
       "3  2017-10-25 22:30:00 2017-10-25 22:30:00   Wednesday  \n",
       "4  2017-10-18 22:30:00 2017-10-18 22:30:00   Wednesday  "
      ]
     },
     "execution_count": 128,
     "metadata": {},
     "output_type": "execute_result"
    }
   ],
   "source": [
    "meta_events.head()"
   ]
  },
  {
   "cell_type": "code",
   "execution_count": 129,
   "id": "2f33a1ad",
   "metadata": {},
   "outputs": [
    {
     "name": "stdout",
     "output_type": "stream",
     "text": [
      "2015-11-01 01:00:00\n",
      "2017-10-30 23:15:00\n",
      "729 days 22:15:00\n"
     ]
    }
   ],
   "source": [
    "print(min(meta_events['time_ts']))\n",
    "print(max(meta_events['time_ts']))\n",
    "print(max(meta_events['time_ts'])-min(meta_events['time_ts']))"
   ]
  },
  {
   "cell_type": "code",
   "execution_count": 130,
   "id": "74b88f22",
   "metadata": {},
   "outputs": [
    {
     "data": {
      "text/plain": [
       "1.9972602739726026"
      ]
     },
     "execution_count": 130,
     "metadata": {},
     "output_type": "execute_result"
    }
   ],
   "source": [
    "729/365"
   ]
  },
  {
   "cell_type": "code",
   "execution_count": 131,
   "id": "fd6d59d4",
   "metadata": {},
   "outputs": [
    {
     "data": {
      "text/html": [
       "<div>\n",
       "<style scoped>\n",
       "    .dataframe tbody tr th:only-of-type {\n",
       "        vertical-align: middle;\n",
       "    }\n",
       "\n",
       "    .dataframe tbody tr th {\n",
       "        vertical-align: top;\n",
       "    }\n",
       "\n",
       "    .dataframe thead th {\n",
       "        text-align: right;\n",
       "    }\n",
       "</style>\n",
       "<table border=\"1\" class=\"dataframe\">\n",
       "  <thead>\n",
       "    <tr style=\"text-align: right;\">\n",
       "      <th></th>\n",
       "      <th>group_id</th>\n",
       "      <th>group_name</th>\n",
       "      <th>num_members</th>\n",
       "      <th>category_id</th>\n",
       "      <th>category_name</th>\n",
       "      <th>organizer_id</th>\n",
       "      <th>group_urlname</th>\n",
       "    </tr>\n",
       "  </thead>\n",
       "  <tbody>\n",
       "    <tr>\n",
       "      <th>0</th>\n",
       "      <td>339011</td>\n",
       "      <td>Nashville Hiking Meetup</td>\n",
       "      <td>15838</td>\n",
       "      <td>23</td>\n",
       "      <td>Outdoors &amp; Adventure</td>\n",
       "      <td>4353803</td>\n",
       "      <td>nashville-hiking</td>\n",
       "    </tr>\n",
       "    <tr>\n",
       "      <th>1</th>\n",
       "      <td>19728145</td>\n",
       "      <td>Stepping Out Social Dance Meetup</td>\n",
       "      <td>1778</td>\n",
       "      <td>5</td>\n",
       "      <td>Dancing</td>\n",
       "      <td>118484462</td>\n",
       "      <td>steppingoutsocialdance</td>\n",
       "    </tr>\n",
       "    <tr>\n",
       "      <th>2</th>\n",
       "      <td>6335372</td>\n",
       "      <td>Nashville soccer</td>\n",
       "      <td>2869</td>\n",
       "      <td>32</td>\n",
       "      <td>Sports &amp; Recreation</td>\n",
       "      <td>108448302</td>\n",
       "      <td>Nashville-soccer</td>\n",
       "    </tr>\n",
       "    <tr>\n",
       "      <th>3</th>\n",
       "      <td>10016242</td>\n",
       "      <td>NashJS</td>\n",
       "      <td>1975</td>\n",
       "      <td>34</td>\n",
       "      <td>Tech</td>\n",
       "      <td>8111102</td>\n",
       "      <td>nashjs</td>\n",
       "    </tr>\n",
       "    <tr>\n",
       "      <th>4</th>\n",
       "      <td>21174496</td>\n",
       "      <td>20's &amp; 30's Women looking for girlfriends</td>\n",
       "      <td>2782</td>\n",
       "      <td>31</td>\n",
       "      <td>Socializing</td>\n",
       "      <td>184580248</td>\n",
       "      <td>new-friends-in-Nashville</td>\n",
       "    </tr>\n",
       "  </tbody>\n",
       "</table>\n",
       "</div>"
      ],
      "text/plain": [
       "   group_id                                 group_name  num_members  \\\n",
       "0    339011                    Nashville Hiking Meetup        15838   \n",
       "1  19728145           Stepping Out Social Dance Meetup         1778   \n",
       "2   6335372                           Nashville soccer         2869   \n",
       "3  10016242                                     NashJS         1975   \n",
       "4  21174496  20's & 30's Women looking for girlfriends         2782   \n",
       "\n",
       "   category_id         category_name  organizer_id             group_urlname  \n",
       "0           23  Outdoors & Adventure       4353803          nashville-hiking  \n",
       "1            5               Dancing     118484462    steppingoutsocialdance  \n",
       "2           32   Sports & Recreation     108448302          Nashville-soccer  \n",
       "3           34                  Tech       8111102                    nashjs  \n",
       "4           31           Socializing     184580248  new-friends-in-Nashville  "
      ]
     },
     "execution_count": 131,
     "metadata": {},
     "output_type": "execute_result"
    }
   ],
   "source": [
    "meta_groups.head()"
   ]
  },
  {
   "cell_type": "code",
   "execution_count": 132,
   "id": "0858a236",
   "metadata": {},
   "outputs": [
    {
     "data": {
      "text/plain": [
       "array(['Outdoors & Adventure', 'Dancing', 'Sports & Recreation', 'Tech',\n",
       "       'Socializing', 'Religion & Beliefs', 'Singles', 'Writing', 'Games',\n",
       "       'Career & Business', 'Pets & Animals', 'Music', 'Food & Drink',\n",
       "       'LGBT', 'New Age & Spirituality', 'Movements & Politics',\n",
       "       'Health & Wellbeing', 'Education & Learning',\n",
       "       'Language & Ethnic Identity', 'Arts & Culture',\n",
       "       'Cars & Motorcycles', 'Book Clubs', 'Photography',\n",
       "       'Community & Environment', 'Hobbies & Crafts', 'Movies & Film',\n",
       "       'Fitness', 'Support', 'Sci-Fi & Fantasy', 'Fashion & Beauty',\n",
       "       'Parents & Family'], dtype=object)"
      ]
     },
     "execution_count": 132,
     "metadata": {},
     "output_type": "execute_result"
    }
   ],
   "source": [
    "meta_groups['category_name'].unique()"
   ]
  },
  {
   "cell_type": "code",
   "execution_count": 134,
   "id": "0856f189",
   "metadata": {},
   "outputs": [
    {
     "data": {
      "text/plain": [
       "category_name\n",
       "Arts & Culture                  9\n",
       "Book Clubs                     11\n",
       "Career & Business              93\n",
       "Cars & Motorcycles              2\n",
       "Community & Environment        20\n",
       "Dancing                         5\n",
       "Education & Learning           13\n",
       "Fashion & Beauty                4\n",
       "Fitness                        14\n",
       "Food & Drink                   15\n",
       "Games                          20\n",
       "Health & Wellbeing             36\n",
       "Hobbies & Crafts                6\n",
       "LGBT                            6\n",
       "Language & Ethnic Identity     13\n",
       "Movements & Politics           12\n",
       "Movies & Film                   6\n",
       "Music                          19\n",
       "New Age & Spirituality         33\n",
       "Outdoors & Adventure           36\n",
       "Parents & Family                7\n",
       "Pets & Animals                  6\n",
       "Photography                     5\n",
       "Religion & Beliefs             18\n",
       "Sci-Fi & Fantasy                4\n",
       "Singles                         3\n",
       "Socializing                    48\n",
       "Sports & Recreation            26\n",
       "Support                         9\n",
       "Tech                          100\n",
       "Writing                         3\n",
       "Name: group_id, dtype: int64"
      ]
     },
     "execution_count": 134,
     "metadata": {},
     "output_type": "execute_result"
    }
   ],
   "source": [
    "meta_groups.groupby('category_name')['group_id'].size()"
   ]
  },
  {
   "cell_type": "code",
   "execution_count": 138,
   "id": "28c71f21",
   "metadata": {},
   "outputs": [
    {
     "data": {
      "text/plain": [
       "878"
      ]
     },
     "execution_count": 138,
     "metadata": {},
     "output_type": "execute_result"
    }
   ],
   "source": [
    "#shows that the number of members isn't based on this data set\n",
    "len(m_to_g_edges.loc[m_to_g_edges['group_id']==339011]['member_id'].unique())"
   ]
  },
  {
   "cell_type": "code",
   "execution_count": null,
   "id": "4e6afca6",
   "metadata": {},
   "outputs": [],
   "source": [
    "'''I was going to check if you had to be a member to attend an event, but I don't have specific membership data,\n",
    "only member id and group id'''\n",
    "#rsvps.loc[rsvps['group_id']==339011]['member_id'].unique().isin()"
   ]
  },
  {
   "cell_type": "code",
   "execution_count": 149,
   "id": "a47d6ffd",
   "metadata": {},
   "outputs": [],
   "source": [
    "#count number of rsvps per event per group and get average number of attendees\n",
    "test = rsvps.groupby(['group_id','event_id'])['member_id'].size().reset_index(name='counts')"
   ]
  },
  {
   "cell_type": "code",
   "execution_count": 161,
   "id": "55dcc805",
   "metadata": {},
   "outputs": [],
   "source": [
    "meta_groups = meta_groups.drop(labels=['avg_rsvps'], axis = 1)"
   ]
  },
  {
   "cell_type": "code",
   "execution_count": 168,
   "id": "a2f08e54",
   "metadata": {},
   "outputs": [],
   "source": [
    "temp_gp = rsvps.groupby(['group_id','event_id'])['member_id'].size().groupby('group_id').agg('mean').reset_index(name='avg_rsvps')"
   ]
  },
  {
   "cell_type": "code",
   "execution_count": 171,
   "id": "9177afe1",
   "metadata": {},
   "outputs": [
    {
     "data": {
      "text/html": [
       "<div>\n",
       "<style scoped>\n",
       "    .dataframe tbody tr th:only-of-type {\n",
       "        vertical-align: middle;\n",
       "    }\n",
       "\n",
       "    .dataframe tbody tr th {\n",
       "        vertical-align: top;\n",
       "    }\n",
       "\n",
       "    .dataframe thead th {\n",
       "        text-align: right;\n",
       "    }\n",
       "</style>\n",
       "<table border=\"1\" class=\"dataframe\">\n",
       "  <thead>\n",
       "    <tr style=\"text-align: right;\">\n",
       "      <th></th>\n",
       "      <th>group_id</th>\n",
       "      <th>avg_rsvps</th>\n",
       "    </tr>\n",
       "  </thead>\n",
       "  <tbody>\n",
       "    <tr>\n",
       "      <th>598</th>\n",
       "      <td>26282355</td>\n",
       "      <td>1.333333</td>\n",
       "    </tr>\n",
       "  </tbody>\n",
       "</table>\n",
       "</div>"
      ],
      "text/plain": [
       "     group_id  avg_rsvps\n",
       "598  26282355   1.333333"
      ]
     },
     "execution_count": 171,
     "metadata": {},
     "output_type": "execute_result"
    }
   ],
   "source": [
    "temp_gp.loc[temp_gp['group_id']==26282355]"
   ]
  },
  {
   "cell_type": "code",
   "execution_count": 172,
   "id": "c6a6e7db",
   "metadata": {},
   "outputs": [],
   "source": [
    "meta_groups=meta_groups.merge(temp_gp, how = 'left', on = 'group_id')"
   ]
  },
  {
   "cell_type": "code",
   "execution_count": 173,
   "id": "48980f29",
   "metadata": {},
   "outputs": [
    {
     "data": {
      "text/html": [
       "<div>\n",
       "<style scoped>\n",
       "    .dataframe tbody tr th:only-of-type {\n",
       "        vertical-align: middle;\n",
       "    }\n",
       "\n",
       "    .dataframe tbody tr th {\n",
       "        vertical-align: top;\n",
       "    }\n",
       "\n",
       "    .dataframe thead th {\n",
       "        text-align: right;\n",
       "    }\n",
       "</style>\n",
       "<table border=\"1\" class=\"dataframe\">\n",
       "  <thead>\n",
       "    <tr style=\"text-align: right;\">\n",
       "      <th></th>\n",
       "      <th>group_id</th>\n",
       "      <th>group_name</th>\n",
       "      <th>num_members</th>\n",
       "      <th>category_id</th>\n",
       "      <th>category_name</th>\n",
       "      <th>organizer_id</th>\n",
       "      <th>group_urlname</th>\n",
       "      <th>avg_rsvps</th>\n",
       "    </tr>\n",
       "  </thead>\n",
       "  <tbody>\n",
       "    <tr>\n",
       "      <th>0</th>\n",
       "      <td>339011</td>\n",
       "      <td>Nashville Hiking Meetup</td>\n",
       "      <td>15838</td>\n",
       "      <td>23</td>\n",
       "      <td>Outdoors &amp; Adventure</td>\n",
       "      <td>4353803</td>\n",
       "      <td>nashville-hiking</td>\n",
       "      <td>10.462312</td>\n",
       "    </tr>\n",
       "    <tr>\n",
       "      <th>1</th>\n",
       "      <td>19728145</td>\n",
       "      <td>Stepping Out Social Dance Meetup</td>\n",
       "      <td>1778</td>\n",
       "      <td>5</td>\n",
       "      <td>Dancing</td>\n",
       "      <td>118484462</td>\n",
       "      <td>steppingoutsocialdance</td>\n",
       "      <td>16.575000</td>\n",
       "    </tr>\n",
       "    <tr>\n",
       "      <th>2</th>\n",
       "      <td>6335372</td>\n",
       "      <td>Nashville soccer</td>\n",
       "      <td>2869</td>\n",
       "      <td>32</td>\n",
       "      <td>Sports &amp; Recreation</td>\n",
       "      <td>108448302</td>\n",
       "      <td>Nashville-soccer</td>\n",
       "      <td>17.945000</td>\n",
       "    </tr>\n",
       "    <tr>\n",
       "      <th>3</th>\n",
       "      <td>10016242</td>\n",
       "      <td>NashJS</td>\n",
       "      <td>1975</td>\n",
       "      <td>34</td>\n",
       "      <td>Tech</td>\n",
       "      <td>8111102</td>\n",
       "      <td>nashjs</td>\n",
       "      <td>81.782609</td>\n",
       "    </tr>\n",
       "    <tr>\n",
       "      <th>4</th>\n",
       "      <td>21174496</td>\n",
       "      <td>20's &amp; 30's Women looking for girlfriends</td>\n",
       "      <td>2782</td>\n",
       "      <td>31</td>\n",
       "      <td>Socializing</td>\n",
       "      <td>184580248</td>\n",
       "      <td>new-friends-in-Nashville</td>\n",
       "      <td>30.450000</td>\n",
       "    </tr>\n",
       "  </tbody>\n",
       "</table>\n",
       "</div>"
      ],
      "text/plain": [
       "   group_id                                 group_name  num_members  \\\n",
       "0    339011                    Nashville Hiking Meetup        15838   \n",
       "1  19728145           Stepping Out Social Dance Meetup         1778   \n",
       "2   6335372                           Nashville soccer         2869   \n",
       "3  10016242                                     NashJS         1975   \n",
       "4  21174496  20's & 30's Women looking for girlfriends         2782   \n",
       "\n",
       "   category_id         category_name  organizer_id             group_urlname  \\\n",
       "0           23  Outdoors & Adventure       4353803          nashville-hiking   \n",
       "1            5               Dancing     118484462    steppingoutsocialdance   \n",
       "2           32   Sports & Recreation     108448302          Nashville-soccer   \n",
       "3           34                  Tech       8111102                    nashjs   \n",
       "4           31           Socializing     184580248  new-friends-in-Nashville   \n",
       "\n",
       "   avg_rsvps  \n",
       "0  10.462312  \n",
       "1  16.575000  \n",
       "2  17.945000  \n",
       "3  81.782609  \n",
       "4  30.450000  "
      ]
     },
     "execution_count": 173,
     "metadata": {},
     "output_type": "execute_result"
    }
   ],
   "source": [
    "meta_groups.head()"
   ]
  },
  {
   "cell_type": "code",
   "execution_count": 176,
   "id": "bc284d9b",
   "metadata": {},
   "outputs": [],
   "source": [
    "#add earliest event as proxy for group creation\n",
    "meta_groups=meta_groups.merge(meta_events.groupby(['group_id'])['time_ts'].agg('min').reset_index(name='first_event'),how='left',on='group_id')"
   ]
  },
  {
   "cell_type": "code",
   "execution_count": 178,
   "id": "0d763395",
   "metadata": {},
   "outputs": [],
   "source": [
    "#add number of events\n",
    "meta_groups=meta_groups.merge(meta_events.groupby(['group_id'])['event_id'].size().reset_index(name='num_events'),how='left',on='group_id')"
   ]
  },
  {
   "cell_type": "code",
   "execution_count": 175,
   "id": "14c8f07f",
   "metadata": {},
   "outputs": [
    {
     "data": {
      "text/html": [
       "<div>\n",
       "<style scoped>\n",
       "    .dataframe tbody tr th:only-of-type {\n",
       "        vertical-align: middle;\n",
       "    }\n",
       "\n",
       "    .dataframe tbody tr th {\n",
       "        vertical-align: top;\n",
       "    }\n",
       "\n",
       "    .dataframe thead th {\n",
       "        text-align: right;\n",
       "    }\n",
       "</style>\n",
       "<table border=\"1\" class=\"dataframe\">\n",
       "  <thead>\n",
       "    <tr style=\"text-align: right;\">\n",
       "      <th></th>\n",
       "      <th>event_id</th>\n",
       "      <th>group_id</th>\n",
       "      <th>name</th>\n",
       "      <th>time</th>\n",
       "      <th>time_ts</th>\n",
       "      <th>day_of_week</th>\n",
       "    </tr>\n",
       "  </thead>\n",
       "  <tbody>\n",
       "    <tr>\n",
       "      <th>92</th>\n",
       "      <td>244479480</td>\n",
       "      <td>26282355</td>\n",
       "      <td>Moss Wright Park Meetup</td>\n",
       "      <td>2017-10-28 12:30:00</td>\n",
       "      <td>2017-10-28 12:30:00</td>\n",
       "      <td>Saturday</td>\n",
       "    </tr>\n",
       "    <tr>\n",
       "      <th>93</th>\n",
       "      <td>244293547</td>\n",
       "      <td>26282355</td>\n",
       "      <td>Moss Right Park</td>\n",
       "      <td>2017-10-21 13:00:00</td>\n",
       "      <td>2017-10-21 13:00:00</td>\n",
       "      <td>Saturday</td>\n",
       "    </tr>\n",
       "    <tr>\n",
       "      <th>94</th>\n",
       "      <td>244246979</td>\n",
       "      <td>26282355</td>\n",
       "      <td>Moss Right Park</td>\n",
       "      <td>2017-10-17 23:00:00</td>\n",
       "      <td>2017-10-17 23:00:00</td>\n",
       "      <td>Tuesday</td>\n",
       "    </tr>\n",
       "  </tbody>\n",
       "</table>\n",
       "</div>"
      ],
      "text/plain": [
       "     event_id  group_id                     name                 time  \\\n",
       "92  244479480  26282355  Moss Wright Park Meetup  2017-10-28 12:30:00   \n",
       "93  244293547  26282355          Moss Right Park  2017-10-21 13:00:00   \n",
       "94  244246979  26282355          Moss Right Park  2017-10-17 23:00:00   \n",
       "\n",
       "               time_ts day_of_week  \n",
       "92 2017-10-28 12:30:00    Saturday  \n",
       "93 2017-10-21 13:00:00    Saturday  \n",
       "94 2017-10-17 23:00:00     Tuesday  "
      ]
     },
     "execution_count": 175,
     "metadata": {},
     "output_type": "execute_result"
    }
   ],
   "source": [
    "meta_events.loc[meta_events['group_id']==26282355]"
   ]
  },
  {
   "cell_type": "code",
   "execution_count": 156,
   "id": "0636995e",
   "metadata": {},
   "outputs": [
    {
     "data": {
      "text/html": [
       "<div>\n",
       "<style scoped>\n",
       "    .dataframe tbody tr th:only-of-type {\n",
       "        vertical-align: middle;\n",
       "    }\n",
       "\n",
       "    .dataframe tbody tr th {\n",
       "        vertical-align: top;\n",
       "    }\n",
       "\n",
       "    .dataframe thead th {\n",
       "        text-align: right;\n",
       "    }\n",
       "</style>\n",
       "<table border=\"1\" class=\"dataframe\">\n",
       "  <thead>\n",
       "    <tr style=\"text-align: right;\">\n",
       "      <th></th>\n",
       "      <th>group_id</th>\n",
       "      <th>event_id</th>\n",
       "      <th>counts</th>\n",
       "    </tr>\n",
       "  </thead>\n",
       "  <tbody>\n",
       "    <tr>\n",
       "      <th>19024</th>\n",
       "      <td>26282355</td>\n",
       "      <td>244246979</td>\n",
       "      <td>2</td>\n",
       "    </tr>\n",
       "    <tr>\n",
       "      <th>19025</th>\n",
       "      <td>26282355</td>\n",
       "      <td>244293547</td>\n",
       "      <td>1</td>\n",
       "    </tr>\n",
       "    <tr>\n",
       "      <th>19026</th>\n",
       "      <td>26282355</td>\n",
       "      <td>244479480</td>\n",
       "      <td>1</td>\n",
       "    </tr>\n",
       "  </tbody>\n",
       "</table>\n",
       "</div>"
      ],
      "text/plain": [
       "       group_id   event_id  counts\n",
       "19024  26282355  244246979       2\n",
       "19025  26282355  244293547       1\n",
       "19026  26282355  244479480       1"
      ]
     },
     "execution_count": 156,
     "metadata": {},
     "output_type": "execute_result"
    }
   ],
   "source": [
    "test.loc[test['group_id']==26282355]"
   ]
  },
  {
   "cell_type": "code",
   "execution_count": 179,
   "id": "b8e04858",
   "metadata": {},
   "outputs": [
    {
     "data": {
      "text/html": [
       "<div>\n",
       "<style scoped>\n",
       "    .dataframe tbody tr th:only-of-type {\n",
       "        vertical-align: middle;\n",
       "    }\n",
       "\n",
       "    .dataframe tbody tr th {\n",
       "        vertical-align: top;\n",
       "    }\n",
       "\n",
       "    .dataframe thead th {\n",
       "        text-align: right;\n",
       "    }\n",
       "</style>\n",
       "<table border=\"1\" class=\"dataframe\">\n",
       "  <thead>\n",
       "    <tr style=\"text-align: right;\">\n",
       "      <th></th>\n",
       "      <th>group_id</th>\n",
       "      <th>group_name</th>\n",
       "      <th>num_members</th>\n",
       "      <th>category_id</th>\n",
       "      <th>category_name</th>\n",
       "      <th>organizer_id</th>\n",
       "      <th>group_urlname</th>\n",
       "      <th>avg_rsvps</th>\n",
       "      <th>first_event</th>\n",
       "      <th>num_events</th>\n",
       "    </tr>\n",
       "  </thead>\n",
       "  <tbody>\n",
       "    <tr>\n",
       "      <th>330</th>\n",
       "      <td>26282355</td>\n",
       "      <td>Goodlettsville Roadrunners</td>\n",
       "      <td>11</td>\n",
       "      <td>9</td>\n",
       "      <td>Fitness</td>\n",
       "      <td>184360544</td>\n",
       "      <td>Goodlettsville-Roadrunners</td>\n",
       "      <td>1.333333</td>\n",
       "      <td>2017-10-17 23:00:00</td>\n",
       "      <td>3</td>\n",
       "    </tr>\n",
       "  </tbody>\n",
       "</table>\n",
       "</div>"
      ],
      "text/plain": [
       "     group_id                  group_name  num_members  category_id  \\\n",
       "330  26282355  Goodlettsville Roadrunners           11            9   \n",
       "\n",
       "    category_name  organizer_id               group_urlname  avg_rsvps  \\\n",
       "330       Fitness     184360544  Goodlettsville-Roadrunners   1.333333   \n",
       "\n",
       "            first_event  num_events  \n",
       "330 2017-10-17 23:00:00           3  "
      ]
     },
     "execution_count": 179,
     "metadata": {},
     "output_type": "execute_result"
    }
   ],
   "source": [
    "meta_groups.loc[meta_groups['group_id']==26282355]"
   ]
  },
  {
   "cell_type": "code",
   "execution_count": 225,
   "id": "9f4603bc",
   "metadata": {},
   "outputs": [
    {
     "data": {
      "text/plain": [
       "349"
      ]
     },
     "execution_count": 225,
     "metadata": {},
     "output_type": "execute_result"
    }
   ],
   "source": [
    "len(meta_groups.loc[meta_groups['first_event']<(max(meta_events['time_ts']).round('d')-pd.DateOffset(months=12))])"
   ]
  },
  {
   "cell_type": "code",
   "execution_count": 223,
   "id": "a67fed34",
   "metadata": {},
   "outputs": [
    {
     "data": {
      "text/plain": [
       "Timestamp('2017-08-31 00:00:00')"
      ]
     },
     "execution_count": 223,
     "metadata": {},
     "output_type": "execute_result"
    }
   ],
   "source": [
    "max(meta_events['time_ts']).round('d')-pd.DateOffset(months=2)"
   ]
  },
  {
   "cell_type": "code",
   "execution_count": 145,
   "id": "ee5cd06c",
   "metadata": {},
   "outputs": [
    {
     "data": {
      "text/html": [
       "<div>\n",
       "<style scoped>\n",
       "    .dataframe tbody tr th:only-of-type {\n",
       "        vertical-align: middle;\n",
       "    }\n",
       "\n",
       "    .dataframe tbody tr th {\n",
       "        vertical-align: top;\n",
       "    }\n",
       "\n",
       "    .dataframe thead th {\n",
       "        text-align: right;\n",
       "    }\n",
       "</style>\n",
       "<table border=\"1\" class=\"dataframe\">\n",
       "  <thead>\n",
       "    <tr style=\"text-align: right;\">\n",
       "      <th></th>\n",
       "      <th>event_id</th>\n",
       "      <th>member_id</th>\n",
       "      <th>group_id</th>\n",
       "    </tr>\n",
       "  </thead>\n",
       "  <tbody>\n",
       "    <tr>\n",
       "      <th>102793</th>\n",
       "      <td>235958072</td>\n",
       "      <td>45253562</td>\n",
       "      <td>47094</td>\n",
       "    </tr>\n",
       "    <tr>\n",
       "      <th>102794</th>\n",
       "      <td>235958072</td>\n",
       "      <td>133931222</td>\n",
       "      <td>47094</td>\n",
       "    </tr>\n",
       "    <tr>\n",
       "      <th>102795</th>\n",
       "      <td>235958072</td>\n",
       "      <td>211623283</td>\n",
       "      <td>47094</td>\n",
       "    </tr>\n",
       "    <tr>\n",
       "      <th>102796</th>\n",
       "      <td>235958072</td>\n",
       "      <td>185299351</td>\n",
       "      <td>47094</td>\n",
       "    </tr>\n",
       "    <tr>\n",
       "      <th>102797</th>\n",
       "      <td>235958072</td>\n",
       "      <td>208234459</td>\n",
       "      <td>47094</td>\n",
       "    </tr>\n",
       "    <tr>\n",
       "      <th>102798</th>\n",
       "      <td>235958072</td>\n",
       "      <td>14040142</td>\n",
       "      <td>47094</td>\n",
       "    </tr>\n",
       "    <tr>\n",
       "      <th>102799</th>\n",
       "      <td>235958072</td>\n",
       "      <td>218342229</td>\n",
       "      <td>47094</td>\n",
       "    </tr>\n",
       "    <tr>\n",
       "      <th>102800</th>\n",
       "      <td>235958072</td>\n",
       "      <td>48664802</td>\n",
       "      <td>47094</td>\n",
       "    </tr>\n",
       "    <tr>\n",
       "      <th>102801</th>\n",
       "      <td>235958072</td>\n",
       "      <td>189365973</td>\n",
       "      <td>47094</td>\n",
       "    </tr>\n",
       "    <tr>\n",
       "      <th>102802</th>\n",
       "      <td>235958072</td>\n",
       "      <td>32832232</td>\n",
       "      <td>47094</td>\n",
       "    </tr>\n",
       "    <tr>\n",
       "      <th>102803</th>\n",
       "      <td>235958072</td>\n",
       "      <td>163960702</td>\n",
       "      <td>47094</td>\n",
       "    </tr>\n",
       "    <tr>\n",
       "      <th>102804</th>\n",
       "      <td>235958072</td>\n",
       "      <td>108371612</td>\n",
       "      <td>47094</td>\n",
       "    </tr>\n",
       "    <tr>\n",
       "      <th>102805</th>\n",
       "      <td>235958072</td>\n",
       "      <td>96613192</td>\n",
       "      <td>47094</td>\n",
       "    </tr>\n",
       "    <tr>\n",
       "      <th>102806</th>\n",
       "      <td>235958072</td>\n",
       "      <td>5220206</td>\n",
       "      <td>47094</td>\n",
       "    </tr>\n",
       "    <tr>\n",
       "      <th>102807</th>\n",
       "      <td>235958072</td>\n",
       "      <td>178778422</td>\n",
       "      <td>47094</td>\n",
       "    </tr>\n",
       "  </tbody>\n",
       "</table>\n",
       "</div>"
      ],
      "text/plain": [
       "         event_id  member_id  group_id\n",
       "102793  235958072   45253562     47094\n",
       "102794  235958072  133931222     47094\n",
       "102795  235958072  211623283     47094\n",
       "102796  235958072  185299351     47094\n",
       "102797  235958072  208234459     47094\n",
       "102798  235958072   14040142     47094\n",
       "102799  235958072  218342229     47094\n",
       "102800  235958072   48664802     47094\n",
       "102801  235958072  189365973     47094\n",
       "102802  235958072   32832232     47094\n",
       "102803  235958072  163960702     47094\n",
       "102804  235958072  108371612     47094\n",
       "102805  235958072   96613192     47094\n",
       "102806  235958072    5220206     47094\n",
       "102807  235958072  178778422     47094"
      ]
     },
     "execution_count": 145,
     "metadata": {},
     "output_type": "execute_result"
    }
   ],
   "source": [
    "rsvps.loc[(rsvps['group_id']==47094)&(rsvps['event_id']=='235958072')]"
   ]
  },
  {
   "cell_type": "code",
   "execution_count": 184,
   "id": "223b3d9b",
   "metadata": {},
   "outputs": [],
   "source": [
    "meta_events_t = meta_events.merge(meta_groups[['group_id','category_name']],how='left',on='group_id')"
   ]
  },
  {
   "cell_type": "code",
   "execution_count": 185,
   "id": "22242eb1",
   "metadata": {},
   "outputs": [
    {
     "data": {
      "text/html": [
       "<div>\n",
       "<style scoped>\n",
       "    .dataframe tbody tr th:only-of-type {\n",
       "        vertical-align: middle;\n",
       "    }\n",
       "\n",
       "    .dataframe tbody tr th {\n",
       "        vertical-align: top;\n",
       "    }\n",
       "\n",
       "    .dataframe thead th {\n",
       "        text-align: right;\n",
       "    }\n",
       "</style>\n",
       "<table border=\"1\" class=\"dataframe\">\n",
       "  <thead>\n",
       "    <tr style=\"text-align: right;\">\n",
       "      <th></th>\n",
       "      <th>event_id</th>\n",
       "      <th>group_id</th>\n",
       "      <th>name</th>\n",
       "      <th>time</th>\n",
       "      <th>time_ts</th>\n",
       "      <th>day_of_week</th>\n",
       "      <th>category_name</th>\n",
       "    </tr>\n",
       "  </thead>\n",
       "  <tbody>\n",
       "    <tr>\n",
       "      <th>0</th>\n",
       "      <td>243930425</td>\n",
       "      <td>26140018</td>\n",
       "      <td>2017 Nashville Walk to End Alzheimers - Octob...</td>\n",
       "      <td>2017-10-14 12:00:00</td>\n",
       "      <td>2017-10-14 12:00:00</td>\n",
       "      <td>Saturday</td>\n",
       "      <td>Community &amp; Environment</td>\n",
       "    </tr>\n",
       "    <tr>\n",
       "      <th>1</th>\n",
       "      <td>244208851</td>\n",
       "      <td>25604533</td>\n",
       "      <td>Steak Dinner on the Patio</td>\n",
       "      <td>2017-10-15 00:15:00</td>\n",
       "      <td>2017-10-15 00:15:00</td>\n",
       "      <td>Sunday</td>\n",
       "      <td>Pets &amp; Animals</td>\n",
       "    </tr>\n",
       "    <tr>\n",
       "      <th>2</th>\n",
       "      <td>pxlktnywnbfb</td>\n",
       "      <td>25973656</td>\n",
       "      <td>Schedule Meetup</td>\n",
       "      <td>2017-10-03 23:30:00</td>\n",
       "      <td>2017-10-03 23:30:00</td>\n",
       "      <td>Tuesday</td>\n",
       "      <td>Support</td>\n",
       "    </tr>\n",
       "    <tr>\n",
       "      <th>3</th>\n",
       "      <td>244444551</td>\n",
       "      <td>18571126</td>\n",
       "      <td>Happy Hour Wednesday, Jonathan's Green Hills, ...</td>\n",
       "      <td>2017-10-25 22:30:00</td>\n",
       "      <td>2017-10-25 22:30:00</td>\n",
       "      <td>Wednesday</td>\n",
       "      <td>Career &amp; Business</td>\n",
       "    </tr>\n",
       "    <tr>\n",
       "      <th>4</th>\n",
       "      <td>244257722</td>\n",
       "      <td>18571126</td>\n",
       "      <td>Happy Hour Wednesday, Brentwood, Oct. 18</td>\n",
       "      <td>2017-10-18 22:30:00</td>\n",
       "      <td>2017-10-18 22:30:00</td>\n",
       "      <td>Wednesday</td>\n",
       "      <td>Career &amp; Business</td>\n",
       "    </tr>\n",
       "  </tbody>\n",
       "</table>\n",
       "</div>"
      ],
      "text/plain": [
       "       event_id  group_id                                               name  \\\n",
       "0     243930425  26140018  2017 Nashville Walk to End Alzheimers - Octob...   \n",
       "1     244208851  25604533                          Steak Dinner on the Patio   \n",
       "2  pxlktnywnbfb  25973656                                    Schedule Meetup   \n",
       "3     244444551  18571126  Happy Hour Wednesday, Jonathan's Green Hills, ...   \n",
       "4     244257722  18571126           Happy Hour Wednesday, Brentwood, Oct. 18   \n",
       "\n",
       "                  time             time_ts day_of_week  \\\n",
       "0  2017-10-14 12:00:00 2017-10-14 12:00:00    Saturday   \n",
       "1  2017-10-15 00:15:00 2017-10-15 00:15:00      Sunday   \n",
       "2  2017-10-03 23:30:00 2017-10-03 23:30:00     Tuesday   \n",
       "3  2017-10-25 22:30:00 2017-10-25 22:30:00   Wednesday   \n",
       "4  2017-10-18 22:30:00 2017-10-18 22:30:00   Wednesday   \n",
       "\n",
       "             category_name  \n",
       "0  Community & Environment  \n",
       "1           Pets & Animals  \n",
       "2                  Support  \n",
       "3        Career & Business  \n",
       "4        Career & Business  "
      ]
     },
     "execution_count": 185,
     "metadata": {},
     "output_type": "execute_result"
    }
   ],
   "source": [
    "meta_events_t.head()"
   ]
  },
  {
   "cell_type": "code",
   "execution_count": 181,
   "id": "63052678",
   "metadata": {},
   "outputs": [],
   "source": [
    "%matplotlib inline\n",
    "import seaborn as sns"
   ]
  },
  {
   "cell_type": "code",
   "execution_count": 208,
   "id": "d11608be",
   "metadata": {},
   "outputs": [
    {
     "data": {
      "text/plain": [
       "<AxesSubplot:ylabel='Number of Events'>"
      ]
     },
     "execution_count": 208,
     "metadata": {},
     "output_type": "execute_result"
    },
    {
     "data": {
      "image/png": "[encoded data removed]",
      "text/plain": [
       "<Figure size 432x288 with 1 Axes>"
      ]
     },
     "metadata": {
      "needs_background": "light"
     },
     "output_type": "display_data"
    }
   ],
   "source": [
    "'''meta_events['day_of_week'].value_counts().plot(kind='bar',\\\n",
    "                                               order = ['Monday','Tuesday','Wednesday','Thursday','Friday',\\\n",
    "                                                       'Saturday','Sunday'])'''\n",
    "'''sns.boxplot(x=meta_events['day_of_week'],y=pd.value_counts(meta_events['day_of_week'])['values'],\\\n",
    "             order=['Monday','Tuesday','Wednesday','Thursday','Friday',\\\n",
    "                                                       'Saturday','Sunday'])'''\n",
    "\n",
    "#sns.barplot(x=meta_events['day_of_week'],y=meta_events['day_of_week'].value_counts())\n",
    "\n",
    "meta_events['day_of_week'].value_counts().plot.bar(ylabel='Number of Events')"
   ]
  },
  {
   "cell_type": "code",
   "execution_count": 207,
   "id": "03e86846",
   "metadata": {},
   "outputs": [
    {
     "data": {
      "text/plain": [
       "array(['Saturday', 'Sunday', 'Tuesday', 'Wednesday', 'Thursday', 'Monday',\n",
       "       'Friday'], dtype=object)"
      ]
     },
     "execution_count": 207,
     "metadata": {},
     "output_type": "execute_result"
    }
   ],
   "source": [
    "meta_events.plot.bar(ylab)"
   ]
  },
  {
   "cell_type": "code",
   "execution_count": 210,
   "id": "1b61753c",
   "metadata": {
    "scrolled": false
   },
   "outputs": [
    {
     "data": {
      "text/plain": [
       "<AxesSubplot:ylabel='Number of Events'>"
      ]
     },
     "execution_count": 210,
     "metadata": {},
     "output_type": "execute_result"
    },
    {
     "data": {
      "image/png": "[encoded data removed]",
      "text/plain": [
       "<Figure size 432x288 with 1 Axes>"
      ]
     },
     "metadata": {
      "needs_background": "light"
     },
     "output_type": "display_data"
    }
   ],
   "source": [
    "meta_events_t['category_name'].value_counts().plot(kind='bar', ylabel='Number of Events')"
   ]
  },
  {
   "cell_type": "code",
   "execution_count": 226,
   "id": "92278bf1",
   "metadata": {},
   "outputs": [
    {
     "data": {
      "text/plain": [
       "<AxesSubplot:ylabel='Number of Events'>"
      ]
     },
     "execution_count": 226,
     "metadata": {},
     "output_type": "execute_result"
    },
    {
     "data": {
      "image/png": "[encoded data removed]",
      "text/plain": [
       "<Figure size 432x288 with 1 Axes>"
      ]
     },
     "metadata": {
      "needs_background": "light"
     },
     "output_type": "display_data"
    }
   ],
   "source": [
    "meta_events_t.loc[meta_events_t['day_of_week']=='Thursday']['category_name']\\\n",
    ".value_counts().plot(kind='bar', ylabel='Number of Events')"
   ]
  },
  {
   "cell_type": "code",
   "execution_count": 227,
   "id": "c767f66f",
   "metadata": {},
   "outputs": [],
   "source": [
    "meta_groups_i=meta_groups.loc[meta_groups['first_event']<(max(meta_events['time_ts']).round('d')-pd.DateOffset(months=12))]"
   ]
  },
  {
   "cell_type": "code",
   "execution_count": 228,
   "id": "4e5b8ee5",
   "metadata": {},
   "outputs": [
    {
     "data": {
      "text/html": [
       "<div>\n",
       "<style scoped>\n",
       "    .dataframe tbody tr th:only-of-type {\n",
       "        vertical-align: middle;\n",
       "    }\n",
       "\n",
       "    .dataframe tbody tr th {\n",
       "        vertical-align: top;\n",
       "    }\n",
       "\n",
       "    .dataframe thead th {\n",
       "        text-align: right;\n",
       "    }\n",
       "</style>\n",
       "<table border=\"1\" class=\"dataframe\">\n",
       "  <thead>\n",
       "    <tr style=\"text-align: right;\">\n",
       "      <th></th>\n",
       "      <th>group_id</th>\n",
       "      <th>group_name</th>\n",
       "      <th>num_members</th>\n",
       "      <th>category_id</th>\n",
       "      <th>category_name</th>\n",
       "      <th>organizer_id</th>\n",
       "      <th>group_urlname</th>\n",
       "      <th>avg_rsvps</th>\n",
       "      <th>first_event</th>\n",
       "      <th>num_events</th>\n",
       "    </tr>\n",
       "  </thead>\n",
       "  <tbody>\n",
       "    <tr>\n",
       "      <th>1</th>\n",
       "      <td>19728145</td>\n",
       "      <td>Stepping Out Social Dance Meetup</td>\n",
       "      <td>1778</td>\n",
       "      <td>5</td>\n",
       "      <td>Dancing</td>\n",
       "      <td>118484462</td>\n",
       "      <td>steppingoutsocialdance</td>\n",
       "      <td>16.575000</td>\n",
       "      <td>2016-06-11 23:30:00</td>\n",
       "      <td>200</td>\n",
       "    </tr>\n",
       "    <tr>\n",
       "      <th>3</th>\n",
       "      <td>10016242</td>\n",
       "      <td>NashJS</td>\n",
       "      <td>1975</td>\n",
       "      <td>34</td>\n",
       "      <td>Tech</td>\n",
       "      <td>8111102</td>\n",
       "      <td>nashjs</td>\n",
       "      <td>81.782609</td>\n",
       "      <td>2015-11-12 00:00:00</td>\n",
       "      <td>23</td>\n",
       "    </tr>\n",
       "    <tr>\n",
       "      <th>5</th>\n",
       "      <td>11077852</td>\n",
       "      <td>Sunday Assembly Nashville</td>\n",
       "      <td>918</td>\n",
       "      <td>28</td>\n",
       "      <td>Religion &amp; Beliefs</td>\n",
       "      <td>4765912</td>\n",
       "      <td>Sunday-Assembly-Nashville</td>\n",
       "      <td>15.410000</td>\n",
       "      <td>2015-11-14 23:00:00</td>\n",
       "      <td>200</td>\n",
       "    </tr>\n",
       "    <tr>\n",
       "      <th>7</th>\n",
       "      <td>1585196</td>\n",
       "      <td>Tennessee Hiking Group</td>\n",
       "      <td>4828</td>\n",
       "      <td>23</td>\n",
       "      <td>Outdoors &amp; Adventure</td>\n",
       "      <td>13537265</td>\n",
       "      <td>TennesseeHikingGroup</td>\n",
       "      <td>7.180000</td>\n",
       "      <td>2016-06-22 23:30:00</td>\n",
       "      <td>200</td>\n",
       "    </tr>\n",
       "    <tr>\n",
       "      <th>10</th>\n",
       "      <td>18243826</td>\n",
       "      <td>Middle TN 40+ singles</td>\n",
       "      <td>2583</td>\n",
       "      <td>30</td>\n",
       "      <td>Singles</td>\n",
       "      <td>198309808</td>\n",
       "      <td>MTN-40</td>\n",
       "      <td>10.515152</td>\n",
       "      <td>2016-03-09 00:45:00</td>\n",
       "      <td>200</td>\n",
       "    </tr>\n",
       "  </tbody>\n",
       "</table>\n",
       "</div>"
      ],
      "text/plain": [
       "    group_id                        group_name  num_members  category_id  \\\n",
       "1   19728145  Stepping Out Social Dance Meetup         1778            5   \n",
       "3   10016242                            NashJS         1975           34   \n",
       "5   11077852         Sunday Assembly Nashville          918           28   \n",
       "7    1585196            Tennessee Hiking Group         4828           23   \n",
       "10  18243826             Middle TN 40+ singles         2583           30   \n",
       "\n",
       "           category_name  organizer_id              group_urlname  avg_rsvps  \\\n",
       "1                Dancing     118484462     steppingoutsocialdance  16.575000   \n",
       "3                   Tech       8111102                     nashjs  81.782609   \n",
       "5     Religion & Beliefs       4765912  Sunday-Assembly-Nashville  15.410000   \n",
       "7   Outdoors & Adventure      13537265       TennesseeHikingGroup   7.180000   \n",
       "10               Singles     198309808                     MTN-40  10.515152   \n",
       "\n",
       "           first_event  num_events  \n",
       "1  2016-06-11 23:30:00         200  \n",
       "3  2015-11-12 00:00:00          23  \n",
       "5  2015-11-14 23:00:00         200  \n",
       "7  2016-06-22 23:30:00         200  \n",
       "10 2016-03-09 00:45:00         200  "
      ]
     },
     "execution_count": 228,
     "metadata": {},
     "output_type": "execute_result"
    }
   ],
   "source": [
    "meta_groups_i.head()"
   ]
  },
  {
   "cell_type": "code",
   "execution_count": 230,
   "id": "d48e9714",
   "metadata": {},
   "outputs": [],
   "source": [
    "group_event_merged = meta_groups_i.merge(meta_events_t.loc\\\n",
    "                    [meta_events_t['time_ts']>=(max(meta_events['time_ts']).round('d')-pd.DateOffset(months=12))],\\\n",
    "                   how='left', on='group_id')"
   ]
  },
  {
   "cell_type": "code",
   "execution_count": 233,
   "id": "55e119ac",
   "metadata": {},
   "outputs": [
    {
     "data": {
      "text/plain": [
       "(7894, 16)"
      ]
     },
     "execution_count": 233,
     "metadata": {},
     "output_type": "execute_result"
    }
   ],
   "source": [
    "group_event_merged.shape"
   ]
  },
  {
   "cell_type": "code",
   "execution_count": 234,
   "id": "5741756d",
   "metadata": {},
   "outputs": [],
   "source": [
    "meta_groups_i = meta_groups_i.merge(group_event_merged.groupby('group_id')['event_id']\\\n",
    "                                    .size().reset_index(name='num_events_target_period'),how='left',on='group_id')"
   ]
  },
  {
   "cell_type": "code",
   "execution_count": 235,
   "id": "5bc7ddd0",
   "metadata": {},
   "outputs": [
    {
     "data": {
      "text/html": [
       "<div>\n",
       "<style scoped>\n",
       "    .dataframe tbody tr th:only-of-type {\n",
       "        vertical-align: middle;\n",
       "    }\n",
       "\n",
       "    .dataframe tbody tr th {\n",
       "        vertical-align: top;\n",
       "    }\n",
       "\n",
       "    .dataframe thead th {\n",
       "        text-align: right;\n",
       "    }\n",
       "</style>\n",
       "<table border=\"1\" class=\"dataframe\">\n",
       "  <thead>\n",
       "    <tr style=\"text-align: right;\">\n",
       "      <th></th>\n",
       "      <th>group_id</th>\n",
       "      <th>group_name</th>\n",
       "      <th>num_members</th>\n",
       "      <th>category_id</th>\n",
       "      <th>category_name</th>\n",
       "      <th>organizer_id</th>\n",
       "      <th>group_urlname</th>\n",
       "      <th>avg_rsvps</th>\n",
       "      <th>first_event</th>\n",
       "      <th>num_events</th>\n",
       "      <th>num_events_target_period</th>\n",
       "    </tr>\n",
       "  </thead>\n",
       "  <tbody>\n",
       "    <tr>\n",
       "      <th>0</th>\n",
       "      <td>19728145</td>\n",
       "      <td>Stepping Out Social Dance Meetup</td>\n",
       "      <td>1778</td>\n",
       "      <td>5</td>\n",
       "      <td>Dancing</td>\n",
       "      <td>118484462</td>\n",
       "      <td>steppingoutsocialdance</td>\n",
       "      <td>16.575000</td>\n",
       "      <td>2016-06-11 23:30:00</td>\n",
       "      <td>200</td>\n",
       "      <td>139</td>\n",
       "    </tr>\n",
       "    <tr>\n",
       "      <th>1</th>\n",
       "      <td>10016242</td>\n",
       "      <td>NashJS</td>\n",
       "      <td>1975</td>\n",
       "      <td>34</td>\n",
       "      <td>Tech</td>\n",
       "      <td>8111102</td>\n",
       "      <td>nashjs</td>\n",
       "      <td>81.782609</td>\n",
       "      <td>2015-11-12 00:00:00</td>\n",
       "      <td>23</td>\n",
       "      <td>11</td>\n",
       "    </tr>\n",
       "    <tr>\n",
       "      <th>2</th>\n",
       "      <td>11077852</td>\n",
       "      <td>Sunday Assembly Nashville</td>\n",
       "      <td>918</td>\n",
       "      <td>28</td>\n",
       "      <td>Religion &amp; Beliefs</td>\n",
       "      <td>4765912</td>\n",
       "      <td>Sunday-Assembly-Nashville</td>\n",
       "      <td>15.410000</td>\n",
       "      <td>2015-11-14 23:00:00</td>\n",
       "      <td>200</td>\n",
       "      <td>120</td>\n",
       "    </tr>\n",
       "    <tr>\n",
       "      <th>3</th>\n",
       "      <td>1585196</td>\n",
       "      <td>Tennessee Hiking Group</td>\n",
       "      <td>4828</td>\n",
       "      <td>23</td>\n",
       "      <td>Outdoors &amp; Adventure</td>\n",
       "      <td>13537265</td>\n",
       "      <td>TennesseeHikingGroup</td>\n",
       "      <td>7.180000</td>\n",
       "      <td>2016-06-22 23:30:00</td>\n",
       "      <td>200</td>\n",
       "      <td>121</td>\n",
       "    </tr>\n",
       "    <tr>\n",
       "      <th>4</th>\n",
       "      <td>18243826</td>\n",
       "      <td>Middle TN 40+ singles</td>\n",
       "      <td>2583</td>\n",
       "      <td>30</td>\n",
       "      <td>Singles</td>\n",
       "      <td>198309808</td>\n",
       "      <td>MTN-40</td>\n",
       "      <td>10.515152</td>\n",
       "      <td>2016-03-09 00:45:00</td>\n",
       "      <td>200</td>\n",
       "      <td>126</td>\n",
       "    </tr>\n",
       "  </tbody>\n",
       "</table>\n",
       "</div>"
      ],
      "text/plain": [
       "   group_id                        group_name  num_members  category_id  \\\n",
       "0  19728145  Stepping Out Social Dance Meetup         1778            5   \n",
       "1  10016242                            NashJS         1975           34   \n",
       "2  11077852         Sunday Assembly Nashville          918           28   \n",
       "3   1585196            Tennessee Hiking Group         4828           23   \n",
       "4  18243826             Middle TN 40+ singles         2583           30   \n",
       "\n",
       "          category_name  organizer_id              group_urlname  avg_rsvps  \\\n",
       "0               Dancing     118484462     steppingoutsocialdance  16.575000   \n",
       "1                  Tech       8111102                     nashjs  81.782609   \n",
       "2    Religion & Beliefs       4765912  Sunday-Assembly-Nashville  15.410000   \n",
       "3  Outdoors & Adventure      13537265       TennesseeHikingGroup   7.180000   \n",
       "4               Singles     198309808                     MTN-40  10.515152   \n",
       "\n",
       "          first_event  num_events  num_events_target_period  \n",
       "0 2016-06-11 23:30:00         200                       139  \n",
       "1 2015-11-12 00:00:00          23                        11  \n",
       "2 2015-11-14 23:00:00         200                       120  \n",
       "3 2016-06-22 23:30:00         200                       121  \n",
       "4 2016-03-09 00:45:00         200                       126  "
      ]
     },
     "execution_count": 235,
     "metadata": {},
     "output_type": "execute_result"
    }
   ],
   "source": [
    "meta_groups_i.head()"
   ]
  },
  {
   "cell_type": "code",
   "execution_count": 236,
   "id": "5e3bdf9c",
   "metadata": {},
   "outputs": [
    {
     "data": {
      "text/plain": [
       "<AxesSubplot:xlabel='num_events_target_period', ylabel='num_members'>"
      ]
     },
     "execution_count": 236,
     "metadata": {},
     "output_type": "execute_result"
    },
    {
     "data": {
      "image/png": "[encoded data removed]",
      "text/plain": [
       "<Figure size 432x288 with 1 Axes>"
      ]
     },
     "metadata": {
      "needs_background": "light"
     },
     "output_type": "display_data"
    }
   ],
   "source": [
    "meta_groups_i.plot.scatter(x='num_events_target_period',y='num_members')"
   ]
  },
  {
   "cell_type": "code",
   "execution_count": 265,
   "id": "6b6516fb",
   "metadata": {},
   "outputs": [
    {
     "data": {
      "text/html": [
       "        <script type=\"text/javascript\">\n",
       "        window.PlotlyConfig = {MathJaxConfig: 'local'};\n",
       "        if (window.MathJax) {MathJax.Hub.Config({SVG: {font: \"STIX-Web\"}});}\n",
       "        if (typeof require !== 'undefined') {\n",
       "        require.undef(\"plotly\");\n",
       "        requirejs.config({\n",
       "            paths: {\n",
       "                'plotly': ['https://cdn.plot.ly/plotly-2.11.1.min']\n",
       "            }\n",
       "        });\n",
       "        require(['plotly'], function(Plotly) {\n",
       "            window._Plotly = Plotly;\n",
       "        });\n",
       "        }\n",
       "        </script>\n",
       "        "
      ]
     },
     "metadata": {},
     "output_type": "display_data"
    },
    {
     "data": {
      "application/vnd.plotly.v1+json": {
       "config": {
        "linkText": "Export to plot.ly",
        "plotlyServerURL": "https://plot.ly",
        "showLink": false
       },
       "data": [
        {
         "mode": "markers",
         "text": [
          "Stepping Out Social Dance Meetup, Dancing",
          "NashJS, Tech",
          "Sunday Assembly Nashville, Religion & Beliefs",
          "Tennessee Hiking Group, Outdoors & Adventure",
          "Middle TN 40+ singles, Singles",
          "PyNash, Tech",
          "Greater Nashville Healthcare Analytics, Tech",
          "Nashville Backpacker Meetup, Outdoors & Adventure",
          "Eat Love Nash, Socializing",
          "Middle Tennessee Hiking Meetup, Outdoors & Adventure",
          "Nashville Young Professionals Meetup, Career & Business",
          "Agile Nashville User Group, Tech",
          "Nashville Christian Singles, Outdoors & Adventure",
          "Tails of the Trail, Pets & Animals",
          "Nashville DevOps Meetup, Tech",
          "Nashville UX, Tech",
          "Franklin Developer Lunch & Learn, Tech",
          "Nashville .NET User Group, Tech",
          "Nashville Machine Learning Meetup, Tech",
          "The Joy of Dining Out with Friends Meetup, Food & Drink",
          "Design Thinking Nashville, Tech",
          "Nashville Product Meetup, Tech",
          "Nashville Online Entrepreneurs, Career & Business",
          "Music City Young Professionals, Socializing",
          "Nashville Flag Football, Sports & Recreation",
          "Nashville Networking Business Luncheon, Career & Business",
          "What the Pho!, Food & Drink",
          "Developer Launchpad Nashville, Tech",
          "Nashville Java Users' Group, Tech",
          "Code for Nashville, Tech",
          "Data Science Nashville, Tech",
          "North Nashville Party Chicks, Socializing",
          "Fun Happenings Travel & Adventure Group, Outdoors & Adventure",
          "The Nashville Microsoft Azure Users Group, Tech",
          "Nashville Women Programmers, Tech",
          "Nashville PHP User Group, Tech",
          "Lesbians in the Workplace, Nashville, LGBT",
          "Paddle Adventures Unlimited, Outdoors & Adventure",
          "WOMEN \"Word of Mouth Entrepreneurial Networkers\", Career & Business",
          "Nashvegans!, Movements & Politics",
          "Inner Engineering Nashville (Isha Yoga & Meditation Classes), Health & Wellbeing",
          "Nashville Salesforce Admins & Developers Group, Tech",
          "Nashville SEO & Internet Marketing, Over 1,600 Members!, Career & Business",
          "WordPress Nashville, Tech",
          "Intellectual Society of Greater Nashville, Education & Learning",
          "NashBI, Tech",
          "Nashville Spanish Meetup, Language & Ethnic Identity",
          "Nash |> Elixir, Tech",
          "Nash.rb, Tech",
          "Nashville Online Business Strategy Meetup, Career & Business",
          "Drink-n-Draw, Arts & Culture",
          "One Dharma Nashville Meditation Group, New Age & Spirituality",
          "Women's  Business Network, Career & Business",
          "Women 'n' Wine of Nashville, Career & Business",
          "The Nashville Songwriters Meetup Group, Music",
          "Board Game Lovers Meetup, Games",
          "Network Middle Tennessee, Career & Business",
          "Nashville Outdoor Adventures Club, Outdoors & Adventure",
          "Beer and Bible Nashville, Religion & Beliefs",
          "T-VOE: Tennessee Voice Over Exchange, Arts & Culture",
          "Women 'n' Wine of Williamson County, Career & Business",
          "Couples New 2 Nashville & Know (almost) NoOne.  Ages 40 & Up, Socializing",
          "NashReact, Tech",
          "Franklin AM - Networking, Career & Business",
          "Nashville Entrepreneurs Network, Career & Business",
          "NashMicro - The Nashville Microcontroller Makers Group, Tech",
          "Nashville CocoaHeads, Tech",
          "Middle Tennessee Motorcycle Riders, Cars & Motorcycles",
          "Greater Nashville Networking Group, Career & Business",
          "The Nashville Girly Book Club, Book Clubs",
          "Nashville and Tennessee History, Education & Learning",
          "Christian Business Leaders Roundtable | CEO Fellowship, Career & Business",
          "Chicago Cubs, Blackhawks and Bears Fans near Nashville, Sports & Recreation",
          "Nashville Shambhala Meditation Group, Health & Wellbeing",
          "Thrills and Chills Book Club, Book Clubs",
          "Boost Nashville - The Business Networking Group!, Career & Business",
          "Women 'n' Wine of Green Hills, Career & Business",
          "Savvy Coders - Nashville, Tech",
          "Philadelphia Eagles Fans In Nashville, Sports & Recreation",
          "Nashville Ladies Volunteering and Having Fun, Socializing",
          "20s in Nashville, Socializing",
          "Spiritual Psychology and Consciousness Group, New Age & Spirituality",
          "Fun Happenings Social Group-Nashvilles Most Fun Social Group, Socializing",
          "Nashville Mobile Developers, Tech",
          "Nashville English Language Learning Meetup, Language & Ethnic Identity",
          "Euchre in Nashville, Games",
          "Real Estate Investors of Nashville Meetup Group, Career & Business",
          "NASHVILLE REIKI & OILS, New Age & Spirituality",
          "Bellevue Business Networking Meetup, Career & Business",
          "Nashville Real Estate Investor Network, Career & Business",
          "The Iron Yard - Nashville, Tech",
          "Nashville Modern Excel & Power BI User Group, Tech",
          "Tennessee Real Estate Investors Meetup, Career & Business",
          "Bellevue Area Meetup: Meet New Friends!, Socializing",
          "Volunteer Nashville, Community & Environment",
          "Mount Juliet/Wilson County Hiking & Outdoors, Outdoors & Adventure",
          "Mid-TN Scrapbooking Club, Hobbies & Crafts",
          "20s/30s Nashville Online Dating Rebellion!, Socializing",
          "TwitchNashville, Games",
          "Nashville Filmmakers, Movies & Film",
          "Metro Nashville German Meetup Group, Language & Ethnic Identity",
          "The Nashville Singer, Musician and Songwriter Meetup Group, Music",
          "Nashville Bitcoin Meetup, Career & Business",
          "Nashville Software Automation Professionals, Tech",
          "Mediumship and Intuitive Development Circle of Nashville, New Age & Spirituality",
          "NashDash Dating!, Singles",
          "Nashville 80s Music & More Meetup, Music",
          "SCORE Nashville Events, Networking and Workshops, Career & Business",
          "Nashville Mobile .NET Developers, Tech",
          "Nashville Software Beginners, Tech",
          "Nashville Vipassana Meditation Meetup, New Age & Spirituality",
          "Mastermind Business Networkers, Career & Business",
          "The Middle TN Alternative Health Meetup Group, Health & Wellbeing",
          "Nashville Music Programmers, Tech",
          "Thinking Christians Book Club, Religion & Beliefs",
          "MTRAS ~ MidTn Robotic Arts Society, Tech",
          "Nashville Socials and Events!, Socializing",
          "NashSec, Tech",
          "Brentwood - Grow Your Business In Tennessee, Career & Business",
          "Nashville Game Developers, Tech",
          "Free & Cheap Events, Socializing",
          "Science Club Nashville, Education & Learning",
          "The Nashville Football Giants, Sports & Recreation",
          "Nashville Dungeon Delvers, Games",
          "Outdoor Fit - HIIT, Fitness",
          "Nashville Wiener Romp, Pets & Animals",
          "Blues Dance Nashville, Music",
          "40 and over gay men for social gatherings, LGBT",
          "Nashville Science Fiction Book Club, Education & Learning",
          "Brentwood TN Conversational Spanish Language Meetup Group, Language & Ethnic Identity",
          "Oneness Nashville, New Age & Spirituality",
          "Franklin Books and Discussion Meetup, Education & Learning",
          "OCD Nashville Peer Support Group Meetup, Support",
          "Nashville Classic and Contemporary Fiction Group (for women), Book Clubs",
          "Nashville Spirituality Meetup, New Age & Spirituality",
          "Nashville Network After Work - Business Networking Events, Career & Business",
          "Music City Wine Enthusiasts, Food & Drink",
          "Nashville Kayak Lessons, Outdoors & Adventure",
          "Enneagram Nashville, New Age & Spirituality",
          "Art of Living, Health & Wellbeing",
          "All Things Gardening, Community & Environment",
          "Nashville Alternative Health & Wellness, Health & Wellbeing",
          "Franklin Reiki, New Age & Spirituality",
          "Piano Music Lovers of Nashville, Music",
          "Middle Tennessee Sierra Club Outings and Adventures, Community & Environment",
          "Nashville ADHD Adults, Support",
          "Nashville Amazon Web Services User Group, Tech",
          "EDIBLE WEED WALKS and PLANT CLASSES, Health & Wellbeing",
          "Nashville Scrabble Meetup, Games",
          "Nashville Faith & Skepticism Meetup, Religion & Beliefs",
          "Nashville Foam Fighting - Dur Demarion - Belegarth, Games",
          "Green Hills Stampin' and Scrapbooking Meetup, Hobbies & Crafts",
          "Reading Queer, LGBT",
          "Nashville BarkHappy Dog Meetup, Pets & Animals",
          "Nashville Animal Advocacy, Pets & Animals",
          "Nashville Spiritual Experiences Group, New Age & Spirituality",
          "Nashville Kizomba Meetup, Dancing",
          "Nashville Holistic Association, Health & Wellbeing",
          "Cumberland Green Bioregional Council, Community & Environment",
          "Nashville Axis & Allies Meetup, Games",
          "The Nashville Chinese Language and Culture Meetup Group, Language & Ethnic Identity",
          "Big East Fork Folk / Jazz Music Meetup, Music",
          "Nashville Chess and Chat Meetup, Games",
          "Let's Talk Franklin Toastmasters Club, Career & Business",
          "Middle Tennessee Entrepreneurs MasterMind Meetup, Career & Business",
          "Nashville Comedy Meetup, Socializing",
          "Nashville Christian Universalists, Religion & Beliefs",
          "Nashville Hydroponics / Aquaponics Meetup, Community & Environment",
          "Nashville Wakeboarding and surfing Meetup, Sports & Recreation",
          "Craft Beer Lovers of Nashville Meetup, Food & Drink",
          "Nashville Skiing Meetup, Outdoors & Adventure",
          "Nashville Professional Photography Meetup by ASMP Tennessee, Career & Business",
          "B'nei Mikra Nashville (Torah Study), Religion & Beliefs",
          "The Nashville Backgammon Association, Games",
          "East Nashville Book Club, Book Clubs",
          "Nashville Amnesty International, Community & Environment",
          "Nashville Beading and Jewelry Design Meetup, Hobbies & Crafts",
          "Tennessee Red Rock Adventurers, Cars & Motorcycles",
          "Climb Nashville Meetup, Outdoors & Adventure",
          "Nashville Cloudera User Group, Tech",
          "Nashville Linux Users Group, Tech",
          "ManKind Project, Nashville, Support",
          "Bellevue Free Mandarin/Korean Lessons Meetup, Language & Ethnic Identity",
          "Nashville Daoist (Taoist) & Chinese Philosophy Meetup Group, New Age & Spirituality",
          "Nashville's Society of Women Business Owners (SOWBO), Career & Business",
          "Wellness Nashville, Health & Wellbeing",
          "Women of Purpose and Power, Religion & Beliefs",
          "TuneTown Show Chorus, Music",
          "Nashville Rock Climbing MeetUP, Outdoors & Adventure",
          "Nashville Children in Nature, Parents & Family",
          "Social Entrepreneurs of Nashville, Career & Business",
          "Nashville Lisp Sync, Tech",
          "Nashville Sustainability Events Group, Community & Environment",
          "Citizens Climate Lobby Nashville, Community & Environment",
          "GREEN Investment Club, Nashville, Career & Business",
          "9.12 Project Nashville, Movements & Politics",
          "GEEK by AKEIN Engineering, Education & Learning",
          "Nashville Cooking Lessons Meetup, Food & Drink",
          "West Nashville/Bellevue Conversation Cafe, New Age & Spirituality",
          "Sumner County Libertarian Party, Movements & Politics",
          "Meet Mount Juliet Networking Mixer, Socializing",
          "New Investors & Real Estate Investors of Williamson County, Career & Business",
          "Franklin Small Business Digital Media Marketing Meetup, Career & Business",
          "Women'n'Wine of Murfreesboro, Career & Business",
          "Mimosas, Brunch and Network, Career & Business",
          "The Right Alternative, Movements & Politics",
          "Cincinnati Conversation about Moments of Grace, Socializing",
          "BIG FUN GAME nite, Tech",
          "Konexus - Young Professionals of Nashville, Socializing",
          "Sophos Southeast Partners, Tech",
          "Nashville Kubernetes Meetup, Tech",
          "Pranic Healing Nashville, New Age & Spirituality",
          "ONA Nashville, Tech",
          "Thrifting Nashville Meetup, Fashion & Beauty",
          "Nashville Cardinals Club, Sports & Recreation",
          "Nashville Purely Social and Super-Awesome Social Group, Socializing",
          "OCF Nashville, Tech",
          "Transplant Nashville, Socializing",
          "Traveling Widows and Widowers, Outdoors & Adventure",
          "Mindful Cyborgs Meditation, Tech",
          "Nashville Startup Founder 101, Career & Business",
          "Nashville League of Legends Meetup, Games",
          "TGIT =Thank Goodness It's THURSDAY Happy Hour & Business, Career & Business",
          "Nashville Tennis Lessons- PlayYourCourt, Sports & Recreation",
          "The Nashville Web Design Meetup Group, Tech",
          "Nashville Social Crew! Dine, Hike, Photography, & More!, Photography",
          "Full-Stack Marketing Mastermind, Tech",
          "Nashville Science & Religion Meetup, Education & Learning",
          "20&UP Tennis: Nashville, Sports & Recreation",
          "Nashville SaltStack Meetup, Tech",
          "20/30 something couples in Nashville!~, Socializing",
          "Nashville Electronic Music & Synthesizer Meetup, Music",
          "Music City Women of coursge &  strength, Health & Wellbeing",
          "Nashville API Developers, Tech",
          "10X Revolution Nashville, Health & Wellbeing",
          "Second Saturday Divorce Workshop for Women, Support",
          "The Nashville TENNISseans, Sports & Recreation",
          "Nashville Tennis Lessons, Sports & Recreation",
          "Middle Tennessee Kayak Lessons Meetup, Outdoors & Adventure",
          "Advanced Audio + Applications Exchange (A3E) - Nashville, Music",
          "Movies with Heide, Movies & Film",
          "Never Bored in Nashville, Music",
          "Nashville Women & Beauty, Fashion & Beauty",
          "Nashville Co-Ed Kickball, Sports & Recreation",
          "NASHVILLE WRITERS HOUSE, Writing",
          "Explorer Chicks of Nashville: Adventure Awaits!, Outdoors & Adventure",
          "James K. Polk Toastmasters, Education & Learning",
          "Music City Drinking Buddies, Socializing",
          "Nashville PowerShell User Group (NashPUG), Tech",
          "Movie Lovers:  New, Classic, and Foreign Films Meetup, Movies & Film",
          "Ambrosia - Friends, Food and Fun, Socializing",
          "Nashville's New Business Owners, Career & Business",
          "Viva Italia Tennessee www.VivaItaliaTN.com, Food & Drink",
          "Tarot Lights, New Age & Spirituality",
          "Nashville Hadoop Users Group, Tech",
          "Nashville Software Defined Networking (SD-WAN), Tech",
          "Nashville Farm to Fork, Food & Drink",
          "Nashville Startup: Idea to IPO, Career & Business",
          "NashvilleTech, Tech",
          "Comfort zone Escapees, New Age & Spirituality",
          "Nashville Women of a Certain Age Meetup, Socializing",
          "East Nashville Women Mean Business, Career & Business",
          "Wellness, Abundance, Purpose, Health & Wellbeing",
          "Nashville Digital Marketing Meetup, Tech",
          "SEO in Nashville - Join the Other Group!, Career & Business",
          "Nashville Music-Technology Group, Tech",
          "Eastside Rides, Outdoors & Adventure",
          "Dine and Unwind in East Nashville, Food & Drink",
          "Nashville Sailing, Outdoors & Adventure",
          "Nashville Psychotherapy Institute, Health & Wellbeing",
          "Music City Singles, Sci-Fi & Fantasy",
          "Single in the City Live, Career & Business",
          "Skeleton Cru, Tech",
          "Nashville Pilgrimage Hiking & Walking Meetup Group, Outdoors & Adventure",
          "Strictly Belcourt, Movies & Film",
          "Nashville Quantum Energy Play Group, New Age & Spirituality",
          "Nashville Pick-a-Flick, Movies & Film",
          "Nashville Christian Technologists and Entrepreneurs, Tech",
          "Nashville Search Engine Marketing Meetup, Career & Business",
          "Nashville Hearthstone Fireside Gathering, Games",
          "Nashville Virtual Reality Meetup, Tech",
          "Business Girls Rock! Nashville Entrepreneurship Meetup, Career & Business",
          "Conscious Nashville, Community & Environment",
          "Tennessee Americans United for Separation of Church & State, Movements & Politics",
          "\"New Moon Monthly Energy Workshop\", New Age & Spirituality",
          "The Middle TN Red Sox Nation Meetup Group, Sports & Recreation",
          "Build and Develop Your Online Presence Nashville, TN, Career & Business",
          "Nashville Longevity Communities, Socializing",
          "A Course in Miracles Study Group, Nashville, New Age & Spirituality",
          "The Nashville Taiji Club, Health & Wellbeing",
          "Nashville ColdFusion User Group, Tech",
          "Nashville Charismatic Liberals, Religion & Beliefs",
          "Urban League Young Professionals of Middle Tennessee, Language & Ethnic Identity",
          "Nashville Nonprofit Meetup, Community & Environment",
          "Transition Nashville, Community & Environment",
          "Nashville Cohousing Group, Community & Environment",
          "Nashville Area Real Estate Investors Meetup, Career & Business",
          "Nashville Parents of Children with Dyslexia Support Group, Support",
          "Nashville's Gluten Free Dinner Club & Celiac Support Assoc., Food & Drink",
          "Bucketlisted : Coveted Travel & Life Experiences, Socializing",
          "Serial Tanks Meetup, Career & Business",
          "Stand Up Paddle Boarding in Nashville TN., Sports & Recreation",
          "PROVIDENT LIVING & SELF-RELIANCE, Education & Learning",
          "Middle TN First Time Home Buyers Meetup, Career & Business",
          "Nashville Locals, Career & Business",
          "Music Industry Forum- Who kNew Nashville, Music",
          "Networking for Charity, Career & Business",
          "Nashville Meditation and Hypnosis, Health & Wellbeing",
          "Nashville Travel Meetup, Socializing",
          "Live Music Metropolis - Nashville Chapter, Socializing",
          "GrowNashville: Startup Entrepreneurs, Hackers, & Web Experts, Tech",
          "Music City Jazz Fans, Music",
          "The Data Warehouse Institute (TDWI) Nashville Meetup, Tech",
          "Vegan Food & Friends, Food & Drink",
          "Extraterrestrials, New Age & Spirituality",
          "The Whole Wealth Club, Career & Business",
          "JOBS Etc - Career Opportunities Network, Career & Business",
          "Single Adult Ministry @ Brentwood United Methodist Church, Religion & Beliefs",
          "Soul Evolution, Ascension & Beyond of Nashville, New Age & Spirituality",
          "The Nashville/Brentwood Cigar Aficionado's Meetup, Food & Drink",
          "Brentwood Bible Study, Religion & Beliefs",
          "Living Wholeheartedly: The Daring Way™ Nashville, Health & Wellbeing",
          "Nashville Insurance Professionals, Career & Business",
          "Brentwood Sales & Marketing Meetup Group, Career & Business",
          "Antioch/Nashville Homeschooling Meetup, Parents & Family",
          "Pure Storage Middle Tennessee, Tech",
          "Nashville Free Guitar Lesson Meetup, Music",
          "Aussies in Nashville, Language & Ethnic Identity",
          "Nashville Business Strategy Meetup, Career & Business",
          "Bellevue Business Buzz Networking  Group, Career & Business",
          "Nashville Conda, R, Julia Users Group, Tech",
          "Nashville World Travelers, Outdoors & Adventure",
          "Narrowcasting Your Passion, Tech",
          "Escape The Rat Race With Real Estate Investing!!, Career & Business",
          "Project Worship, Music",
          "Rikian Exerciser Fitness Fans - Franklin, TN, Fitness",
          "Tintri Nashville - VMaware storage, Tech",
          "Bible Reading, Religion & Beliefs",
          "MHO Nashville Active Adventures, Outdoors & Adventure",
          "Doing The Impossible, Career & Business",
          "Arts Council of Williamson County, Arts & Culture",
          "Center for Sustainable Stewardship, Outdoors & Adventure",
          "Big East Fork Yoga, Mind/Body, and Wellness, Health & Wellbeing",
          "Big East Fork Hiking & Breakfast Club, Outdoors & Adventure",
          "Southern Foragers Meetup, Community & Environment",
          "Seniors Social Dance Night, Socializing",
          "Williamson County Ruby Meetup, Tech",
          "ML/JP Dance Music Family, Music",
          "The Relationship Sounding Board, Support"
         ],
         "type": "scatter",
         "x": [
          139,
          11,
          120,
          121,
          126,
          23,
          12,
          67,
          59,
          101,
          15,
          12,
          83,
          66,
          12,
          14,
          10,
          13,
          2,
          27,
          18,
          14,
          9,
          8,
          40,
          57,
          37,
          25,
          10,
          15,
          7,
          49,
          11,
          12,
          16,
          35,
          43,
          64,
          12,
          24,
          21,
          12,
          20,
          20,
          19,
          9,
          32,
          11,
          12,
          19,
          158,
          120,
          25,
          14,
          44,
          27,
          165,
          189,
          41,
          11,
          23,
          44,
          8,
          50,
          25,
          11,
          12,
          22,
          47,
          12,
          3,
          51,
          22,
          104,
          7,
          5,
          12,
          9,
          14,
          45,
          43,
          108,
          20,
          10,
          22,
          12,
          78,
          159,
          24,
          46,
          52,
          13,
          88,
          33,
          21,
          142,
          11,
          9,
          4,
          11,
          9,
          14,
          13,
          10,
          16,
          8,
          15,
          70,
          14,
          14,
          26,
          52,
          162,
          11,
          5,
          21,
          11,
          11,
          13,
          40,
          53,
          12,
          18,
          119,
          14,
          12,
          58,
          12,
          12,
          24,
          53,
          11,
          29,
          11,
          57,
          12,
          9,
          52,
          5,
          97,
          10,
          144,
          75,
          8,
          31,
          3,
          13,
          1,
          17,
          20,
          71,
          13,
          2,
          4,
          32,
          35,
          36,
          13,
          10,
          5,
          12,
          105,
          52,
          49,
          13,
          19,
          6,
          12,
          28,
          4,
          10,
          10,
          42,
          52,
          11,
          13,
          12,
          4,
          24,
          1,
          20,
          22,
          13,
          9,
          15,
          50,
          103,
          45,
          5,
          13,
          6,
          11,
          9,
          12,
          131,
          1,
          1,
          8,
          51,
          12,
          10,
          10,
          6,
          9,
          10,
          2,
          1,
          8,
          1,
          14,
          6,
          17,
          6,
          25,
          1,
          2,
          1,
          8,
          1,
          7,
          4,
          1,
          1,
          1,
          10,
          1,
          7,
          4,
          4,
          1,
          1,
          4,
          2,
          1,
          1,
          24,
          2,
          10,
          48,
          3,
          5,
          13,
          12,
          1,
          4,
          23,
          52,
          7,
          5,
          19,
          1,
          3,
          4,
          1,
          1,
          1,
          1,
          1,
          11,
          1,
          24,
          1,
          6,
          10,
          10,
          1,
          2,
          2,
          43,
          9,
          6,
          2,
          2,
          7,
          7,
          1,
          3,
          5,
          9,
          1,
          4,
          1,
          3,
          21,
          1,
          3,
          11,
          2,
          37,
          1,
          2,
          1,
          13,
          1,
          7,
          2,
          1,
          7,
          8,
          1,
          18,
          70,
          23,
          14,
          22,
          5,
          5,
          1,
          1,
          1,
          11,
          21,
          2,
          20,
          1,
          1,
          1,
          10,
          1,
          4,
          2,
          1,
          1,
          1,
          4,
          1,
          4,
          4,
          3,
          15,
          1,
          1,
          8,
          60,
          1,
          1,
          7,
          1,
          60,
          3,
          14,
          11,
          1,
          4,
          1,
          3,
          1,
          24,
          1
         ],
         "y": [
          1778,
          1975,
          918,
          4828,
          2583,
          1442,
          764,
          3861,
          5008,
          1576,
          3210,
          862,
          1683,
          1241,
          502,
          1318,
          629,
          1371,
          451,
          2032,
          1026,
          560,
          1532,
          1388,
          645,
          1444,
          1889,
          576,
          1041,
          1763,
          1046,
          435,
          2058,
          651,
          1091,
          1118,
          567,
          6331,
          2307,
          965,
          1103,
          501,
          1649,
          1643,
          652,
          784,
          1417,
          391,
          881,
          1447,
          2514,
          1191,
          2163,
          690,
          2644,
          2261,
          1084,
          1328,
          445,
          72,
          959,
          398,
          438,
          360,
          1192,
          646,
          237,
          1055,
          510,
          1770,
          1422,
          887,
          341,
          874,
          105,
          799,
          401,
          243,
          90,
          1639,
          3811,
          1382,
          2050,
          1166,
          436,
          427,
          1035,
          610,
          298,
          441,
          1491,
          540,
          1292,
          493,
          2921,
          802,
          520,
          1124,
          187,
          1189,
          52,
          2060,
          322,
          166,
          234,
          1769,
          1763,
          727,
          372,
          1308,
          91,
          605,
          992,
          516,
          195,
          525,
          2634,
          107,
          491,
          516,
          2189,
          281,
          109,
          124,
          205,
          499,
          865,
          200,
          726,
          315,
          874,
          50,
          47,
          112,
          703,
          2622,
          1094,
          3260,
          54,
          1106,
          293,
          1328,
          200,
          88,
          3509,
          359,
          476,
          1649,
          460,
          50,
          589,
          57,
          197,
          243,
          344,
          160,
          482,
          549,
          240,
          115,
          243,
          532,
          257,
          608,
          366,
          326,
          97,
          429,
          124,
          906,
          477,
          206,
          86,
          41,
          249,
          577,
          58,
          479,
          933,
          101,
          564,
          48,
          243,
          192,
          511,
          540,
          105,
          131,
          724,
          654,
          44,
          152,
          618,
          106,
          71,
          582,
          62,
          557,
          48,
          77,
          678,
          160,
          296,
          114,
          103,
          79,
          12,
          509,
          52,
          59,
          120,
          128,
          99,
          530,
          51,
          1441,
          49,
          2152,
          132,
          256,
          1199,
          94,
          603,
          182,
          493,
          4017,
          256,
          299,
          590,
          26,
          398,
          405,
          304,
          552,
          51,
          143,
          508,
          138,
          1824,
          271,
          186,
          1872,
          5,
          620,
          503,
          921,
          84,
          2021,
          264,
          875,
          1629,
          326,
          460,
          177,
          296,
          54,
          683,
          210,
          886,
          146,
          225,
          60,
          295,
          389,
          41,
          159,
          349,
          2667,
          280,
          189,
          878,
          1570,
          678,
          984,
          1729,
          196,
          868,
          613,
          136,
          203,
          995,
          459,
          90,
          185,
          50,
          330,
          353,
          53,
          505,
          34,
          41,
          27,
          1198,
          32,
          674,
          282,
          111,
          21,
          217,
          95,
          146,
          977,
          777,
          43,
          1910,
          992,
          1615,
          563,
          370,
          3765,
          915,
          501,
          311,
          850,
          136,
          137,
          244,
          459,
          151,
          429,
          156,
          399,
          60,
          177,
          56,
          34,
          469,
          77,
          2,
          5,
          413,
          1226,
          73,
          444,
          111,
          32,
          67,
          171,
          1696,
          107,
          84,
          108,
          152,
          411,
          289,
          39,
          80,
          97,
          40
         ]
        }
       ],
       "layout": {
        "template": {
         "data": {
          "bar": [
           {
            "error_x": {
             "color": "#2a3f5f"
            },
            "error_y": {
             "color": "#2a3f5f"
            },
            "marker": {
             "line": {
              "color": "#E5ECF6",
              "width": 0.5
             },
             "pattern": {
              "fillmode": "overlay",
              "size": 10,
              "solidity": 0.2
             }
            },
            "type": "bar"
           }
          ],
          "barpolar": [
           {
            "marker": {
             "line": {
              "color": "#E5ECF6",
              "width": 0.5
             },
             "pattern": {
              "fillmode": "overlay",
              "size": 10,
              "solidity": 0.2
             }
            },
            "type": "barpolar"
           }
          ],
          "carpet": [
           {
            "aaxis": {
             "endlinecolor": "#2a3f5f",
             "gridcolor": "white",
             "linecolor": "white",
             "minorgridcolor": "white",
             "startlinecolor": "#2a3f5f"
            },
            "baxis": {
             "endlinecolor": "#2a3f5f",
             "gridcolor": "white",
             "linecolor": "white",
             "minorgridcolor": "white",
             "startlinecolor": "#2a3f5f"
            },
            "type": "carpet"
           }
          ],
          "choropleth": [
           {
            "colorbar": {
             "outlinewidth": 0,
             "ticks": ""
            },
            "type": "choropleth"
           }
          ],
          "contour": [
           {
            "colorbar": {
             "outlinewidth": 0,
             "ticks": ""
            },
            "colorscale": [
             [
              0,
              "#0d0887"
             ],
             [
              0.1111111111111111,
              "#46039f"
             ],
             [
              0.2222222222222222,
              "#7201a8"
             ],
             [
              0.3333333333333333,
              "#9c179e"
             ],
             [
              0.4444444444444444,
              "#bd3786"
             ],
             [
              0.5555555555555556,
              "#d8576b"
             ],
             [
              0.6666666666666666,
              "#ed7953"
             ],
             [
              0.7777777777777778,
              "#fb9f3a"
             ],
             [
              0.8888888888888888,
              "#fdca26"
             ],
             [
              1,
              "#f0f921"
             ]
            ],
            "type": "contour"
           }
          ],
          "contourcarpet": [
           {
            "colorbar": {
             "outlinewidth": 0,
             "ticks": ""
            },
            "type": "contourcarpet"
           }
          ],
          "heatmap": [
           {
            "colorbar": {
             "outlinewidth": 0,
             "ticks": ""
            },
            "colorscale": [
             [
              0,
              "#0d0887"
             ],
             [
              0.1111111111111111,
              "#46039f"
             ],
             [
              0.2222222222222222,
              "#7201a8"
             ],
             [
              0.3333333333333333,
              "#9c179e"
             ],
             [
              0.4444444444444444,
              "#bd3786"
             ],
             [
              0.5555555555555556,
              "#d8576b"
             ],
             [
              0.6666666666666666,
              "#ed7953"
             ],
             [
              0.7777777777777778,
              "#fb9f3a"
             ],
             [
              0.8888888888888888,
              "#fdca26"
             ],
             [
              1,
              "#f0f921"
             ]
            ],
            "type": "heatmap"
           }
          ],
          "heatmapgl": [
           {
            "colorbar": {
             "outlinewidth": 0,
             "ticks": ""
            },
            "colorscale": [
             [
              0,
              "#0d0887"
             ],
             [
              0.1111111111111111,
              "#46039f"
             ],
             [
              0.2222222222222222,
              "#7201a8"
             ],
             [
              0.3333333333333333,
              "#9c179e"
             ],
             [
              0.4444444444444444,
              "#bd3786"
             ],
             [
              0.5555555555555556,
              "#d8576b"
             ],
             [
              0.6666666666666666,
              "#ed7953"
             ],
             [
              0.7777777777777778,
              "#fb9f3a"
             ],
             [
              0.8888888888888888,
              "#fdca26"
             ],
             [
              1,
              "#f0f921"
             ]
            ],
            "type": "heatmapgl"
           }
          ],
          "histogram": [
           {
            "marker": {
             "pattern": {
              "fillmode": "overlay",
              "size": 10,
              "solidity": 0.2
             }
            },
            "type": "histogram"
           }
          ],
          "histogram2d": [
           {
            "colorbar": {
             "outlinewidth": 0,
             "ticks": ""
            },
            "colorscale": [
             [
              0,
              "#0d0887"
             ],
             [
              0.1111111111111111,
              "#46039f"
             ],
             [
              0.2222222222222222,
              "#7201a8"
             ],
             [
              0.3333333333333333,
              "#9c179e"
             ],
             [
              0.4444444444444444,
              "#bd3786"
             ],
             [
              0.5555555555555556,
              "#d8576b"
             ],
             [
              0.6666666666666666,
              "#ed7953"
             ],
             [
              0.7777777777777778,
              "#fb9f3a"
             ],
             [
              0.8888888888888888,
              "#fdca26"
             ],
             [
              1,
              "#f0f921"
             ]
            ],
            "type": "histogram2d"
           }
          ],
          "histogram2dcontour": [
           {
            "colorbar": {
             "outlinewidth": 0,
             "ticks": ""
            },
            "colorscale": [
             [
              0,
              "#0d0887"
             ],
             [
              0.1111111111111111,
              "#46039f"
             ],
             [
              0.2222222222222222,
              "#7201a8"
             ],
             [
              0.3333333333333333,
              "#9c179e"
             ],
             [
              0.4444444444444444,
              "#bd3786"
             ],
             [
              0.5555555555555556,
              "#d8576b"
             ],
             [
              0.6666666666666666,
              "#ed7953"
             ],
             [
              0.7777777777777778,
              "#fb9f3a"
             ],
             [
              0.8888888888888888,
              "#fdca26"
             ],
             [
              1,
              "#f0f921"
             ]
            ],
            "type": "histogram2dcontour"
           }
          ],
          "mesh3d": [
           {
            "colorbar": {
             "outlinewidth": 0,
             "ticks": ""
            },
            "type": "mesh3d"
           }
          ],
          "parcoords": [
           {
            "line": {
             "colorbar": {
              "outlinewidth": 0,
              "ticks": ""
             }
            },
            "type": "parcoords"
           }
          ],
          "pie": [
           {
            "automargin": true,
            "type": "pie"
           }
          ],
          "scatter": [
           {
            "fillpattern": {
             "fillmode": "overlay",
             "size": 10,
             "solidity": 0.2
            },
            "type": "scatter"
           }
          ],
          "scatter3d": [
           {
            "line": {
             "colorbar": {
              "outlinewidth": 0,
              "ticks": ""
             }
            },
            "marker": {
             "colorbar": {
              "outlinewidth": 0,
              "ticks": ""
             }
            },
            "type": "scatter3d"
           }
          ],
          "scattercarpet": [
           {
            "marker": {
             "colorbar": {
              "outlinewidth": 0,
              "ticks": ""
             }
            },
            "type": "scattercarpet"
           }
          ],
          "scattergeo": [
           {
            "marker": {
             "colorbar": {
              "outlinewidth": 0,
              "ticks": ""
             }
            },
            "type": "scattergeo"
           }
          ],
          "scattergl": [
           {
            "marker": {
             "colorbar": {
              "outlinewidth": 0,
              "ticks": ""
             }
            },
            "type": "scattergl"
           }
          ],
          "scattermapbox": [
           {
            "marker": {
             "colorbar": {
              "outlinewidth": 0,
              "ticks": ""
             }
            },
            "type": "scattermapbox"
           }
          ],
          "scatterpolar": [
           {
            "marker": {
             "colorbar": {
              "outlinewidth": 0,
              "ticks": ""
             }
            },
            "type": "scatterpolar"
           }
          ],
          "scatterpolargl": [
           {
            "marker": {
             "colorbar": {
              "outlinewidth": 0,
              "ticks": ""
             }
            },
            "type": "scatterpolargl"
           }
          ],
          "scatterternary": [
           {
            "marker": {
             "colorbar": {
              "outlinewidth": 0,
              "ticks": ""
             }
            },
            "type": "scatterternary"
           }
          ],
          "surface": [
           {
            "colorbar": {
             "outlinewidth": 0,
             "ticks": ""
            },
            "colorscale": [
             [
              0,
              "#0d0887"
             ],
             [
              0.1111111111111111,
              "#46039f"
             ],
             [
              0.2222222222222222,
              "#7201a8"
             ],
             [
              0.3333333333333333,
              "#9c179e"
             ],
             [
              0.4444444444444444,
              "#bd3786"
             ],
             [
              0.5555555555555556,
              "#d8576b"
             ],
             [
              0.6666666666666666,
              "#ed7953"
             ],
             [
              0.7777777777777778,
              "#fb9f3a"
             ],
             [
              0.8888888888888888,
              "#fdca26"
             ],
             [
              1,
              "#f0f921"
             ]
            ],
            "type": "surface"
           }
          ],
          "table": [
           {
            "cells": {
             "fill": {
              "color": "#EBF0F8"
             },
             "line": {
              "color": "white"
             }
            },
            "header": {
             "fill": {
              "color": "#C8D4E3"
             },
             "line": {
              "color": "white"
             }
            },
            "type": "table"
           }
          ]
         },
         "layout": {
          "annotationdefaults": {
           "arrowcolor": "#2a3f5f",
           "arrowhead": 0,
           "arrowwidth": 1
          },
          "autotypenumbers": "strict",
          "coloraxis": {
           "colorbar": {
            "outlinewidth": 0,
            "ticks": ""
           }
          },
          "colorscale": {
           "diverging": [
            [
             0,
             "#8e0152"
            ],
            [
             0.1,
             "#c51b7d"
            ],
            [
             0.2,
             "#de77ae"
            ],
            [
             0.3,
             "#f1b6da"
            ],
            [
             0.4,
             "#fde0ef"
            ],
            [
             0.5,
             "#f7f7f7"
            ],
            [
             0.6,
             "#e6f5d0"
            ],
            [
             0.7,
             "#b8e186"
            ],
            [
             0.8,
             "#7fbc41"
            ],
            [
             0.9,
             "#4d9221"
            ],
            [
             1,
             "#276419"
            ]
           ],
           "sequential": [
            [
             0,
             "#0d0887"
            ],
            [
             0.1111111111111111,
             "#46039f"
            ],
            [
             0.2222222222222222,
             "#7201a8"
            ],
            [
             0.3333333333333333,
             "#9c179e"
            ],
            [
             0.4444444444444444,
             "#bd3786"
            ],
            [
             0.5555555555555556,
             "#d8576b"
            ],
            [
             0.6666666666666666,
             "#ed7953"
            ],
            [
             0.7777777777777778,
             "#fb9f3a"
            ],
            [
             0.8888888888888888,
             "#fdca26"
            ],
            [
             1,
             "#f0f921"
            ]
           ],
           "sequentialminus": [
            [
             0,
             "#0d0887"
            ],
            [
             0.1111111111111111,
             "#46039f"
            ],
            [
             0.2222222222222222,
             "#7201a8"
            ],
            [
             0.3333333333333333,
             "#9c179e"
            ],
            [
             0.4444444444444444,
             "#bd3786"
            ],
            [
             0.5555555555555556,
             "#d8576b"
            ],
            [
             0.6666666666666666,
             "#ed7953"
            ],
            [
             0.7777777777777778,
             "#fb9f3a"
            ],
            [
             0.8888888888888888,
             "#fdca26"
            ],
            [
             1,
             "#f0f921"
            ]
           ]
          },
          "colorway": [
           "#636efa",
           "#EF553B",
           "#00cc96",
           "#ab63fa",
           "#FFA15A",
           "#19d3f3",
           "#FF6692",
           "#B6E880",
           "#FF97FF",
           "#FECB52"
          ],
          "font": {
           "color": "#2a3f5f"
          },
          "geo": {
           "bgcolor": "white",
           "lakecolor": "white",
           "landcolor": "#E5ECF6",
           "showlakes": true,
           "showland": true,
           "subunitcolor": "white"
          },
          "hoverlabel": {
           "align": "left"
          },
          "hovermode": "closest",
          "mapbox": {
           "style": "light"
          },
          "paper_bgcolor": "white",
          "plot_bgcolor": "#E5ECF6",
          "polar": {
           "angularaxis": {
            "gridcolor": "white",
            "linecolor": "white",
            "ticks": ""
           },
           "bgcolor": "#E5ECF6",
           "radialaxis": {
            "gridcolor": "white",
            "linecolor": "white",
            "ticks": ""
           }
          },
          "scene": {
           "xaxis": {
            "backgroundcolor": "#E5ECF6",
            "gridcolor": "white",
            "gridwidth": 2,
            "linecolor": "white",
            "showbackground": true,
            "ticks": "",
            "zerolinecolor": "white"
           },
           "yaxis": {
            "backgroundcolor": "#E5ECF6",
            "gridcolor": "white",
            "gridwidth": 2,
            "linecolor": "white",
            "showbackground": true,
            "ticks": "",
            "zerolinecolor": "white"
           },
           "zaxis": {
            "backgroundcolor": "#E5ECF6",
            "gridcolor": "white",
            "gridwidth": 2,
            "linecolor": "white",
            "showbackground": true,
            "ticks": "",
            "zerolinecolor": "white"
           }
          },
          "shapedefaults": {
           "line": {
            "color": "#2a3f5f"
           }
          },
          "ternary": {
           "aaxis": {
            "gridcolor": "white",
            "linecolor": "white",
            "ticks": ""
           },
           "baxis": {
            "gridcolor": "white",
            "linecolor": "white",
            "ticks": ""
           },
           "bgcolor": "#E5ECF6",
           "caxis": {
            "gridcolor": "white",
            "linecolor": "white",
            "ticks": ""
           }
          },
          "title": {
           "x": 0.05
          },
          "xaxis": {
           "automargin": true,
           "gridcolor": "white",
           "linecolor": "white",
           "ticks": "",
           "title": {
            "standoff": 15
           },
           "zerolinecolor": "white",
           "zerolinewidth": 2
          },
          "yaxis": {
           "automargin": true,
           "gridcolor": "white",
           "linecolor": "white",
           "ticks": "",
           "title": {
            "standoff": 15
           },
           "zerolinecolor": "white",
           "zerolinewidth": 2
          }
         }
        },
        "title": {
         "text": "Number of Events vs Membership"
        },
        "xaxis": {
         "showgrid": false,
         "title": {
          "text": "Number of Events"
         },
         "zeroline": false
        },
        "yaxis": {
         "showgrid": false,
         "title": {
          "text": "Number of Members"
         },
         "zeroline": false
        }
       }
      },
      "text/html": [
       "<div>                            <div id=\"a5b89afa-9d68-4b7e-9645-344d71e9ed85\" class=\"plotly-graph-div\" style=\"height:525px; width:100%;\"></div>            <script type=\"text/javascript\">                require([\"plotly\"], function(Plotly) {                    window.PLOTLYENV=window.PLOTLYENV || {};                                    if (document.getElementById(\"a5b89afa-9d68-4b7e-9645-344d71e9ed85\")) {                    Plotly.newPlot(                        \"a5b89afa-9d68-4b7e-9645-344d71e9ed85\",                        [{\"mode\":\"markers\",\"text\":[\"Stepping Out Social Dance Meetup, Dancing\",\"NashJS, Tech\",\"Sunday Assembly Nashville, Religion & Beliefs\",\"Tennessee Hiking Group, Outdoors & Adventure\",\"Middle TN 40+ singles, Singles\",\"PyNash, Tech\",\"Greater Nashville Healthcare Analytics, Tech\",\"Nashville Backpacker Meetup, Outdoors & Adventure\",\"Eat Love Nash, Socializing\",\"Middle Tennessee Hiking Meetup, Outdoors & Adventure\",\"Nashville Young Professionals Meetup, Career & Business\",\"Agile Nashville User Group, Tech\",\"Nashville Christian Singles, Outdoors & Adventure\",\"Tails of the Trail, Pets & Animals\",\"Nashville DevOps Meetup, Tech\",\"Nashville UX, Tech\",\"Franklin Developer Lunch & Learn, Tech\",\"Nashville .NET User Group, Tech\",\"Nashville Machine Learning Meetup, Tech\",\"The Joy of Dining Out with Friends Meetup, Food & Drink\",\"Design Thinking Nashville, Tech\",\"Nashville Product Meetup, Tech\",\"Nashville Online Entrepreneurs, Career & Business\",\"Music City Young Professionals, Socializing\",\"Nashville Flag Football, Sports & Recreation\",\"Nashville Networking Business Luncheon, Career & Business\",\"What the Pho!, Food & Drink\",\"Developer Launchpad Nashville, Tech\",\"Nashville Java Users' Group, Tech\",\"Code for Nashville, Tech\",\"Data Science Nashville, Tech\",\"North Nashville Party Chicks, Socializing\",\"Fun Happenings Travel & Adventure Group, Outdoors & Adventure\",\"The Nashville Microsoft Azure Users Group, Tech\",\"Nashville Women Programmers, Tech\",\"Nashville PHP User Group, Tech\",\"Lesbians in the Workplace, Nashville, LGBT\",\"Paddle Adventures Unlimited, Outdoors & Adventure\",\"WOMEN \\\"Word of Mouth Entrepreneurial Networkers\\\", Career & Business\",\"Nashvegans!, Movements & Politics\",\"Inner Engineering Nashville (Isha Yoga & Meditation Classes), Health & Wellbeing\",\"Nashville Salesforce Admins & Developers Group, Tech\",\"Nashville SEO & Internet Marketing, Over 1,600 Members!, Career & Business\",\"WordPress Nashville, Tech\",\"Intellectual Society of Greater Nashville, Education & Learning\",\"NashBI, Tech\",\"Nashville Spanish Meetup, Language & Ethnic Identity\",\"Nash |> Elixir, Tech\",\"Nash.rb, Tech\",\"Nashville Online Business Strategy Meetup, Career & Business\",\"Drink-n-Draw, Arts & Culture\",\"One Dharma Nashville Meditation Group, New Age & Spirituality\",\"Women's  Business Network, Career & Business\",\"Women 'n' Wine of Nashville, Career & Business\",\"The Nashville Songwriters Meetup Group, Music\",\"Board Game Lovers Meetup, Games\",\"Network Middle Tennessee, Career & Business\",\"Nashville Outdoor Adventures Club, Outdoors & Adventure\",\"Beer and Bible Nashville, Religion & Beliefs\",\"T-VOE: Tennessee Voice Over Exchange, Arts & Culture\",\"Women 'n' Wine of Williamson County, Career & Business\",\"Couples New 2 Nashville & Know (almost) NoOne.  Ages 40 & Up, Socializing\",\"NashReact, Tech\",\"Franklin AM - Networking, Career & Business\",\"Nashville Entrepreneurs Network, Career & Business\",\"NashMicro - The Nashville Microcontroller Makers Group, Tech\",\"Nashville CocoaHeads, Tech\",\"Middle Tennessee Motorcycle Riders, Cars & Motorcycles\",\"Greater Nashville Networking Group, Career & Business\",\"The Nashville Girly Book Club, Book Clubs\",\"Nashville and Tennessee History, Education & Learning\",\"Christian Business Leaders Roundtable | CEO Fellowship, Career & Business\",\"Chicago Cubs, Blackhawks and Bears Fans near Nashville, Sports & Recreation\",\"Nashville Shambhala Meditation Group, Health & Wellbeing\",\"Thrills and Chills Book Club, Book Clubs\",\"Boost Nashville - The Business Networking Group!, Career & Business\",\"Women 'n' Wine of Green Hills, Career & Business\",\"Savvy Coders - Nashville, Tech\",\"Philadelphia Eagles Fans In Nashville, Sports & Recreation\",\"Nashville Ladies Volunteering and Having Fun, Socializing\",\"20s in Nashville, Socializing\",\"Spiritual Psychology and Consciousness Group, New Age & Spirituality\",\"Fun Happenings Social Group-Nashvilles Most Fun Social Group, Socializing\",\"Nashville Mobile Developers, Tech\",\"Nashville English Language Learning Meetup, Language & Ethnic Identity\",\"Euchre in Nashville, Games\",\"Real Estate Investors of Nashville Meetup Group, Career & Business\",\"NASHVILLE REIKI & OILS, New Age & Spirituality\",\"Bellevue Business Networking Meetup, Career & Business\",\"Nashville Real Estate Investor Network, Career & Business\",\"The Iron Yard - Nashville, Tech\",\"Nashville Modern Excel & Power BI User Group, Tech\",\"Tennessee Real Estate Investors Meetup, Career & Business\",\"Bellevue Area Meetup: Meet New Friends!, Socializing\",\"Volunteer Nashville, Community & Environment\",\"Mount Juliet/Wilson County Hiking & Outdoors, Outdoors & Adventure\",\"Mid-TN Scrapbooking Club, Hobbies & Crafts\",\"20s/30s Nashville Online Dating Rebellion!, Socializing\",\"TwitchNashville, Games\",\"Nashville Filmmakers, Movies & Film\",\"Metro Nashville German Meetup Group, Language & Ethnic Identity\",\"The Nashville Singer, Musician and Songwriter Meetup Group, Music\",\"Nashville Bitcoin Meetup, Career & Business\",\"Nashville Software Automation Professionals, Tech\",\"Mediumship and Intuitive Development Circle of Nashville, New Age & Spirituality\",\"NashDash Dating!, Singles\",\"Nashville 80s Music & More Meetup, Music\",\"SCORE Nashville Events, Networking and Workshops, Career & Business\",\"Nashville Mobile .NET Developers, Tech\",\"Nashville Software Beginners, Tech\",\"Nashville Vipassana Meditation Meetup, New Age & Spirituality\",\"Mastermind Business Networkers, Career & Business\",\"The Middle TN Alternative Health Meetup Group, Health & Wellbeing\",\"Nashville Music Programmers, Tech\",\"Thinking Christians Book Club, Religion & Beliefs\",\"MTRAS ~ MidTn Robotic Arts Society, Tech\",\"Nashville Socials and Events!, Socializing\",\"NashSec, Tech\",\"Brentwood - Grow Your Business In Tennessee, Career & Business\",\"Nashville Game Developers, Tech\",\"Free & Cheap Events, Socializing\",\"Science Club Nashville, Education & Learning\",\"The Nashville Football Giants, Sports & Recreation\",\"Nashville Dungeon Delvers, Games\",\"Outdoor Fit - HIIT, Fitness\",\"Nashville Wiener Romp, Pets & Animals\",\"Blues Dance Nashville, Music\",\"40 and over gay men for social gatherings, LGBT\",\"Nashville Science Fiction Book Club, Education & Learning\",\"Brentwood TN Conversational Spanish Language Meetup Group, Language & Ethnic Identity\",\"Oneness Nashville, New Age & Spirituality\",\"Franklin Books and Discussion Meetup, Education & Learning\",\"OCD Nashville Peer Support Group Meetup, Support\",\"Nashville Classic and Contemporary Fiction Group (for women), Book Clubs\",\"Nashville Spirituality Meetup, New Age & Spirituality\",\"Nashville Network After Work - Business Networking Events, Career & Business\",\"Music City Wine Enthusiasts, Food & Drink\",\"Nashville Kayak Lessons, Outdoors & Adventure\",\"Enneagram Nashville, New Age & Spirituality\",\"Art of Living, Health & Wellbeing\",\"All Things Gardening, Community & Environment\",\"Nashville Alternative Health & Wellness, Health & Wellbeing\",\"Franklin Reiki, New Age & Spirituality\",\"Piano Music Lovers of Nashville, Music\",\"Middle Tennessee Sierra Club Outings and Adventures, Community & Environment\",\"Nashville ADHD Adults, Support\",\"Nashville Amazon Web Services User Group, Tech\",\"EDIBLE WEED WALKS and PLANT CLASSES, Health & Wellbeing\",\"Nashville Scrabble Meetup, Games\",\"Nashville Faith & Skepticism Meetup, Religion & Beliefs\",\"Nashville Foam Fighting - Dur Demarion - Belegarth, Games\",\"Green Hills Stampin' and Scrapbooking Meetup, Hobbies & Crafts\",\"Reading Queer, LGBT\",\"Nashville BarkHappy Dog Meetup, Pets & Animals\",\"Nashville Animal Advocacy, Pets & Animals\",\"Nashville Spiritual Experiences Group, New Age & Spirituality\",\"Nashville Kizomba Meetup, Dancing\",\"Nashville Holistic Association, Health & Wellbeing\",\"Cumberland Green Bioregional Council, Community & Environment\",\"Nashville Axis & Allies Meetup, Games\",\"The Nashville Chinese Language and Culture Meetup Group, Language & Ethnic Identity\",\"Big East Fork Folk / Jazz Music Meetup, Music\",\"Nashville Chess and Chat Meetup, Games\",\"Let's Talk Franklin Toastmasters Club, Career & Business\",\"Middle Tennessee Entrepreneurs MasterMind Meetup, Career & Business\",\"Nashville Comedy Meetup, Socializing\",\"Nashville Christian Universalists, Religion & Beliefs\",\"Nashville Hydroponics / Aquaponics Meetup, Community & Environment\",\"Nashville Wakeboarding and surfing Meetup, Sports & Recreation\",\"Craft Beer Lovers of Nashville Meetup, Food & Drink\",\"Nashville Skiing Meetup, Outdoors & Adventure\",\"Nashville Professional Photography Meetup by ASMP Tennessee, Career & Business\",\"B'nei Mikra Nashville (Torah Study), Religion & Beliefs\",\"The Nashville Backgammon Association, Games\",\"East Nashville Book Club, Book Clubs\",\"Nashville Amnesty International, Community & Environment\",\"Nashville Beading and Jewelry Design Meetup, Hobbies & Crafts\",\"Tennessee Red Rock Adventurers, Cars & Motorcycles\",\"Climb Nashville Meetup, Outdoors & Adventure\",\"Nashville Cloudera User Group, Tech\",\"Nashville Linux Users Group, Tech\",\"ManKind Project, Nashville, Support\",\"Bellevue Free Mandarin/Korean Lessons Meetup, Language & Ethnic Identity\",\"Nashville Daoist (Taoist) & Chinese Philosophy Meetup Group, New Age & Spirituality\",\"Nashville's Society of Women Business Owners (SOWBO), Career & Business\",\"Wellness Nashville, Health & Wellbeing\",\"Women of Purpose and Power, Religion & Beliefs\",\"TuneTown Show Chorus, Music\",\"Nashville Rock Climbing MeetUP, Outdoors & Adventure\",\"Nashville Children in Nature, Parents & Family\",\"Social Entrepreneurs of Nashville, Career & Business\",\"Nashville Lisp Sync, Tech\",\"Nashville Sustainability Events Group, Community & Environment\",\"Citizens Climate Lobby Nashville, Community & Environment\",\"GREEN Investment Club, Nashville, Career & Business\",\"9.12 Project Nashville, Movements & Politics\",\"GEEK by AKEIN Engineering, Education & Learning\",\"Nashville Cooking Lessons Meetup, Food & Drink\",\"West Nashville/Bellevue Conversation Cafe, New Age & Spirituality\",\"Sumner County Libertarian Party, Movements & Politics\",\"Meet Mount Juliet Networking Mixer, Socializing\",\"New Investors & Real Estate Investors of Williamson County, Career & Business\",\"Franklin Small Business Digital Media Marketing Meetup, Career & Business\",\"Women'n'Wine of Murfreesboro, Career & Business\",\"Mimosas, Brunch and Network, Career & Business\",\"The Right Alternative, Movements & Politics\",\"Cincinnati Conversation about Moments of Grace, Socializing\",\"BIG FUN GAME nite, Tech\",\"Konexus - Young Professionals of Nashville, Socializing\",\"Sophos Southeast Partners, Tech\",\"Nashville Kubernetes Meetup, Tech\",\"Pranic Healing Nashville, New Age & Spirituality\",\"ONA Nashville, Tech\",\"Thrifting Nashville Meetup, Fashion & Beauty\",\"Nashville Cardinals Club, Sports & Recreation\",\"Nashville Purely Social and Super-Awesome Social Group, Socializing\",\"OCF Nashville, Tech\",\"Transplant Nashville, Socializing\",\"Traveling Widows and Widowers, Outdoors & Adventure\",\"Mindful Cyborgs Meditation, Tech\",\"Nashville Startup Founder 101, Career & Business\",\"Nashville League of Legends Meetup, Games\",\"TGIT =Thank Goodness It's THURSDAY Happy Hour & Business, Career & Business\",\"Nashville Tennis Lessons- PlayYourCourt, Sports & Recreation\",\"The Nashville Web Design Meetup Group, Tech\",\"Nashville Social Crew! Dine, Hike, Photography, & More!, Photography\",\"Full-Stack Marketing Mastermind, Tech\",\"Nashville Science & Religion Meetup, Education & Learning\",\"20&UP Tennis: Nashville, Sports & Recreation\",\"Nashville SaltStack Meetup, Tech\",\"20/30 something couples in Nashville!~, Socializing\",\"Nashville Electronic Music & Synthesizer Meetup, Music\",\"Music City Women of coursge &  strength, Health & Wellbeing\",\"Nashville API Developers, Tech\",\"10X Revolution Nashville, Health & Wellbeing\",\"Second Saturday Divorce Workshop for Women, Support\",\"The Nashville TENNISseans, Sports & Recreation\",\"Nashville Tennis Lessons, Sports & Recreation\",\"Middle Tennessee Kayak Lessons Meetup, Outdoors & Adventure\",\"Advanced Audio + Applications Exchange (A3E) - Nashville, Music\",\"Movies with Heide, Movies & Film\",\"Never Bored in Nashville, Music\",\"Nashville Women & Beauty, Fashion & Beauty\",\"Nashville Co-Ed Kickball, Sports & Recreation\",\"NASHVILLE WRITERS HOUSE, Writing\",\"Explorer Chicks of Nashville: Adventure Awaits!, Outdoors & Adventure\",\"James K. Polk Toastmasters, Education & Learning\",\"Music City Drinking Buddies, Socializing\",\"Nashville PowerShell User Group (NashPUG), Tech\",\"Movie Lovers:  New, Classic, and Foreign Films Meetup, Movies & Film\",\"Ambrosia - Friends, Food and Fun, Socializing\",\"Nashville's New Business Owners, Career & Business\",\"Viva Italia Tennessee www.VivaItaliaTN.com, Food & Drink\",\"Tarot Lights, New Age & Spirituality\",\"Nashville Hadoop Users Group, Tech\",\"Nashville Software Defined Networking (SD-WAN), Tech\",\"Nashville Farm to Fork, Food & Drink\",\"Nashville Startup: Idea to IPO, Career & Business\",\"NashvilleTech, Tech\",\"Comfort zone Escapees, New Age & Spirituality\",\"Nashville Women of a Certain Age Meetup, Socializing\",\"East Nashville Women Mean Business, Career & Business\",\"Wellness, Abundance, Purpose, Health & Wellbeing\",\"Nashville Digital Marketing Meetup, Tech\",\"SEO in Nashville - Join the Other Group!, Career & Business\",\"Nashville Music-Technology Group, Tech\",\"Eastside Rides, Outdoors & Adventure\",\"Dine and Unwind in East Nashville, Food & Drink\",\"Nashville Sailing, Outdoors & Adventure\",\"Nashville Psychotherapy Institute, Health & Wellbeing\",\"Music City Singles, Sci-Fi & Fantasy\",\"Single in the City Live, Career & Business\",\"Skeleton Cru, Tech\",\"Nashville Pilgrimage Hiking & Walking Meetup Group, Outdoors & Adventure\",\"Strictly Belcourt, Movies & Film\",\"Nashville Quantum Energy Play Group, New Age & Spirituality\",\"Nashville Pick-a-Flick, Movies & Film\",\"Nashville Christian Technologists and Entrepreneurs, Tech\",\"Nashville Search Engine Marketing Meetup, Career & Business\",\"Nashville Hearthstone Fireside Gathering, Games\",\"Nashville Virtual Reality Meetup, Tech\",\"Business Girls Rock! Nashville Entrepreneurship Meetup, Career & Business\",\"Conscious Nashville, Community & Environment\",\"Tennessee Americans United for Separation of Church & State, Movements & Politics\",\"\\\"New Moon Monthly Energy Workshop\\\", New Age & Spirituality\",\"The Middle TN Red Sox Nation Meetup Group, Sports & Recreation\",\"Build and Develop Your Online Presence Nashville, TN, Career & Business\",\"Nashville Longevity Communities, Socializing\",\"A Course in Miracles Study Group, Nashville, New Age & Spirituality\",\"The Nashville Taiji Club, Health & Wellbeing\",\"Nashville ColdFusion User Group, Tech\",\"Nashville Charismatic Liberals, Religion & Beliefs\",\"Urban League Young Professionals of Middle Tennessee, Language & Ethnic Identity\",\"Nashville Nonprofit Meetup, Community & Environment\",\"Transition Nashville, Community & Environment\",\"Nashville Cohousing Group, Community & Environment\",\"Nashville Area Real Estate Investors Meetup, Career & Business\",\"Nashville Parents of Children with Dyslexia Support Group, Support\",\"Nashville's Gluten Free Dinner Club & Celiac Support Assoc., Food & Drink\",\"Bucketlisted : Coveted Travel & Life Experiences, Socializing\",\"Serial Tanks Meetup, Career & Business\",\"Stand Up Paddle Boarding in Nashville TN., Sports & Recreation\",\"PROVIDENT LIVING & SELF-RELIANCE, Education & Learning\",\"Middle TN First Time Home Buyers Meetup, Career & Business\",\"Nashville Locals, Career & Business\",\"Music Industry Forum- Who kNew Nashville, Music\",\"Networking for Charity, Career & Business\",\"Nashville Meditation and Hypnosis, Health & Wellbeing\",\"Nashville Travel Meetup, Socializing\",\"Live Music Metropolis - Nashville Chapter, Socializing\",\"GrowNashville: Startup Entrepreneurs, Hackers, & Web Experts, Tech\",\"Music City Jazz Fans, Music\",\"The Data Warehouse Institute (TDWI) Nashville Meetup, Tech\",\"Vegan Food & Friends, Food & Drink\",\"Extraterrestrials, New Age & Spirituality\",\"The Whole Wealth Club, Career & Business\",\"JOBS Etc - Career Opportunities Network, Career & Business\",\"Single Adult Ministry @ Brentwood United Methodist Church, Religion & Beliefs\",\"Soul Evolution, Ascension & Beyond of Nashville, New Age & Spirituality\",\"The Nashville/Brentwood Cigar Aficionado's Meetup, Food & Drink\",\"Brentwood Bible Study, Religion & Beliefs\",\"Living Wholeheartedly: The Daring Way\\u2122 Nashville, Health & Wellbeing\",\"Nashville Insurance Professionals, Career & Business\",\"Brentwood Sales & Marketing Meetup Group, Career & Business\",\"Antioch/Nashville Homeschooling Meetup, Parents & Family\",\"Pure Storage Middle Tennessee, Tech\",\"Nashville Free Guitar Lesson Meetup, Music\",\"Aussies in Nashville, Language & Ethnic Identity\",\"Nashville Business Strategy Meetup, Career & Business\",\"Bellevue Business Buzz Networking  Group, Career & Business\",\"Nashville Conda, R, Julia Users Group, Tech\",\"Nashville World Travelers, Outdoors & Adventure\",\"Narrowcasting Your Passion, Tech\",\"Escape The Rat Race With Real Estate Investing!!, Career & Business\",\"Project Worship, Music\",\"Rikian Exerciser Fitness Fans - Franklin, TN, Fitness\",\"Tintri Nashville - VMaware storage, Tech\",\"Bible Reading, Religion & Beliefs\",\"MHO Nashville Active Adventures, Outdoors & Adventure\",\"Doing The Impossible, Career & Business\",\"Arts Council of Williamson County, Arts & Culture\",\"Center for Sustainable Stewardship, Outdoors & Adventure\",\"Big East Fork Yoga, Mind/Body, and Wellness, Health & Wellbeing\",\"Big East Fork Hiking & Breakfast Club, Outdoors & Adventure\",\"Southern Foragers Meetup, Community & Environment\",\"Seniors Social Dance Night, Socializing\",\"Williamson County Ruby Meetup, Tech\",\"ML/JP Dance Music Family, Music\",\"The Relationship Sounding Board, Support\"],\"x\":[139,11,120,121,126,23,12,67,59,101,15,12,83,66,12,14,10,13,2,27,18,14,9,8,40,57,37,25,10,15,7,49,11,12,16,35,43,64,12,24,21,12,20,20,19,9,32,11,12,19,158,120,25,14,44,27,165,189,41,11,23,44,8,50,25,11,12,22,47,12,3,51,22,104,7,5,12,9,14,45,43,108,20,10,22,12,78,159,24,46,52,13,88,33,21,142,11,9,4,11,9,14,13,10,16,8,15,70,14,14,26,52,162,11,5,21,11,11,13,40,53,12,18,119,14,12,58,12,12,24,53,11,29,11,57,12,9,52,5,97,10,144,75,8,31,3,13,1,17,20,71,13,2,4,32,35,36,13,10,5,12,105,52,49,13,19,6,12,28,4,10,10,42,52,11,13,12,4,24,1,20,22,13,9,15,50,103,45,5,13,6,11,9,12,131,1,1,8,51,12,10,10,6,9,10,2,1,8,1,14,6,17,6,25,1,2,1,8,1,7,4,1,1,1,10,1,7,4,4,1,1,4,2,1,1,24,2,10,48,3,5,13,12,1,4,23,52,7,5,19,1,3,4,1,1,1,1,1,11,1,24,1,6,10,10,1,2,2,43,9,6,2,2,7,7,1,3,5,9,1,4,1,3,21,1,3,11,2,37,1,2,1,13,1,7,2,1,7,8,1,18,70,23,14,22,5,5,1,1,1,11,21,2,20,1,1,1,10,1,4,2,1,1,1,4,1,4,4,3,15,1,1,8,60,1,1,7,1,60,3,14,11,1,4,1,3,1,24,1],\"y\":[1778,1975,918,4828,2583,1442,764,3861,5008,1576,3210,862,1683,1241,502,1318,629,1371,451,2032,1026,560,1532,1388,645,1444,1889,576,1041,1763,1046,435,2058,651,1091,1118,567,6331,2307,965,1103,501,1649,1643,652,784,1417,391,881,1447,2514,1191,2163,690,2644,2261,1084,1328,445,72,959,398,438,360,1192,646,237,1055,510,1770,1422,887,341,874,105,799,401,243,90,1639,3811,1382,2050,1166,436,427,1035,610,298,441,1491,540,1292,493,2921,802,520,1124,187,1189,52,2060,322,166,234,1769,1763,727,372,1308,91,605,992,516,195,525,2634,107,491,516,2189,281,109,124,205,499,865,200,726,315,874,50,47,112,703,2622,1094,3260,54,1106,293,1328,200,88,3509,359,476,1649,460,50,589,57,197,243,344,160,482,549,240,115,243,532,257,608,366,326,97,429,124,906,477,206,86,41,249,577,58,479,933,101,564,48,243,192,511,540,105,131,724,654,44,152,618,106,71,582,62,557,48,77,678,160,296,114,103,79,12,509,52,59,120,128,99,530,51,1441,49,2152,132,256,1199,94,603,182,493,4017,256,299,590,26,398,405,304,552,51,143,508,138,1824,271,186,1872,5,620,503,921,84,2021,264,875,1629,326,460,177,296,54,683,210,886,146,225,60,295,389,41,159,349,2667,280,189,878,1570,678,984,1729,196,868,613,136,203,995,459,90,185,50,330,353,53,505,34,41,27,1198,32,674,282,111,21,217,95,146,977,777,43,1910,992,1615,563,370,3765,915,501,311,850,136,137,244,459,151,429,156,399,60,177,56,34,469,77,2,5,413,1226,73,444,111,32,67,171,1696,107,84,108,152,411,289,39,80,97,40],\"type\":\"scatter\"}],                        {\"template\":{\"data\":{\"barpolar\":[{\"marker\":{\"line\":{\"color\":\"#E5ECF6\",\"width\":0.5},\"pattern\":{\"fillmode\":\"overlay\",\"size\":10,\"solidity\":0.2}},\"type\":\"barpolar\"}],\"bar\":[{\"error_x\":{\"color\":\"#2a3f5f\"},\"error_y\":{\"color\":\"#2a3f5f\"},\"marker\":{\"line\":{\"color\":\"#E5ECF6\",\"width\":0.5},\"pattern\":{\"fillmode\":\"overlay\",\"size\":10,\"solidity\":0.2}},\"type\":\"bar\"}],\"carpet\":[{\"aaxis\":{\"endlinecolor\":\"#2a3f5f\",\"gridcolor\":\"white\",\"linecolor\":\"white\",\"minorgridcolor\":\"white\",\"startlinecolor\":\"#2a3f5f\"},\"baxis\":{\"endlinecolor\":\"#2a3f5f\",\"gridcolor\":\"white\",\"linecolor\":\"white\",\"minorgridcolor\":\"white\",\"startlinecolor\":\"#2a3f5f\"},\"type\":\"carpet\"}],\"choropleth\":[{\"colorbar\":{\"outlinewidth\":0,\"ticks\":\"\"},\"type\":\"choropleth\"}],\"contourcarpet\":[{\"colorbar\":{\"outlinewidth\":0,\"ticks\":\"\"},\"type\":\"contourcarpet\"}],\"contour\":[{\"colorbar\":{\"outlinewidth\":0,\"ticks\":\"\"},\"colorscale\":[[0.0,\"#0d0887\"],[0.1111111111111111,\"#46039f\"],[0.2222222222222222,\"#7201a8\"],[0.3333333333333333,\"#9c179e\"],[0.4444444444444444,\"#bd3786\"],[0.5555555555555556,\"#d8576b\"],[0.6666666666666666,\"#ed7953\"],[0.7777777777777778,\"#fb9f3a\"],[0.8888888888888888,\"#fdca26\"],[1.0,\"#f0f921\"]],\"type\":\"contour\"}],\"heatmapgl\":[{\"colorbar\":{\"outlinewidth\":0,\"ticks\":\"\"},\"colorscale\":[[0.0,\"#0d0887\"],[0.1111111111111111,\"#46039f\"],[0.2222222222222222,\"#7201a8\"],[0.3333333333333333,\"#9c179e\"],[0.4444444444444444,\"#bd3786\"],[0.5555555555555556,\"#d8576b\"],[0.6666666666666666,\"#ed7953\"],[0.7777777777777778,\"#fb9f3a\"],[0.8888888888888888,\"#fdca26\"],[1.0,\"#f0f921\"]],\"type\":\"heatmapgl\"}],\"heatmap\":[{\"colorbar\":{\"outlinewidth\":0,\"ticks\":\"\"},\"colorscale\":[[0.0,\"#0d0887\"],[0.1111111111111111,\"#46039f\"],[0.2222222222222222,\"#7201a8\"],[0.3333333333333333,\"#9c179e\"],[0.4444444444444444,\"#bd3786\"],[0.5555555555555556,\"#d8576b\"],[0.6666666666666666,\"#ed7953\"],[0.7777777777777778,\"#fb9f3a\"],[0.8888888888888888,\"#fdca26\"],[1.0,\"#f0f921\"]],\"type\":\"heatmap\"}],\"histogram2dcontour\":[{\"colorbar\":{\"outlinewidth\":0,\"ticks\":\"\"},\"colorscale\":[[0.0,\"#0d0887\"],[0.1111111111111111,\"#46039f\"],[0.2222222222222222,\"#7201a8\"],[0.3333333333333333,\"#9c179e\"],[0.4444444444444444,\"#bd3786\"],[0.5555555555555556,\"#d8576b\"],[0.6666666666666666,\"#ed7953\"],[0.7777777777777778,\"#fb9f3a\"],[0.8888888888888888,\"#fdca26\"],[1.0,\"#f0f921\"]],\"type\":\"histogram2dcontour\"}],\"histogram2d\":[{\"colorbar\":{\"outlinewidth\":0,\"ticks\":\"\"},\"colorscale\":[[0.0,\"#0d0887\"],[0.1111111111111111,\"#46039f\"],[0.2222222222222222,\"#7201a8\"],[0.3333333333333333,\"#9c179e\"],[0.4444444444444444,\"#bd3786\"],[0.5555555555555556,\"#d8576b\"],[0.6666666666666666,\"#ed7953\"],[0.7777777777777778,\"#fb9f3a\"],[0.8888888888888888,\"#fdca26\"],[1.0,\"#f0f921\"]],\"type\":\"histogram2d\"}],\"histogram\":[{\"marker\":{\"pattern\":{\"fillmode\":\"overlay\",\"size\":10,\"solidity\":0.2}},\"type\":\"histogram\"}],\"mesh3d\":[{\"colorbar\":{\"outlinewidth\":0,\"ticks\":\"\"},\"type\":\"mesh3d\"}],\"parcoords\":[{\"line\":{\"colorbar\":{\"outlinewidth\":0,\"ticks\":\"\"}},\"type\":\"parcoords\"}],\"pie\":[{\"automargin\":true,\"type\":\"pie\"}],\"scatter3d\":[{\"line\":{\"colorbar\":{\"outlinewidth\":0,\"ticks\":\"\"}},\"marker\":{\"colorbar\":{\"outlinewidth\":0,\"ticks\":\"\"}},\"type\":\"scatter3d\"}],\"scattercarpet\":[{\"marker\":{\"colorbar\":{\"outlinewidth\":0,\"ticks\":\"\"}},\"type\":\"scattercarpet\"}],\"scattergeo\":[{\"marker\":{\"colorbar\":{\"outlinewidth\":0,\"ticks\":\"\"}},\"type\":\"scattergeo\"}],\"scattergl\":[{\"marker\":{\"colorbar\":{\"outlinewidth\":0,\"ticks\":\"\"}},\"type\":\"scattergl\"}],\"scattermapbox\":[{\"marker\":{\"colorbar\":{\"outlinewidth\":0,\"ticks\":\"\"}},\"type\":\"scattermapbox\"}],\"scatterpolargl\":[{\"marker\":{\"colorbar\":{\"outlinewidth\":0,\"ticks\":\"\"}},\"type\":\"scatterpolargl\"}],\"scatterpolar\":[{\"marker\":{\"colorbar\":{\"outlinewidth\":0,\"ticks\":\"\"}},\"type\":\"scatterpolar\"}],\"scatter\":[{\"fillpattern\":{\"fillmode\":\"overlay\",\"size\":10,\"solidity\":0.2},\"type\":\"scatter\"}],\"scatterternary\":[{\"marker\":{\"colorbar\":{\"outlinewidth\":0,\"ticks\":\"\"}},\"type\":\"scatterternary\"}],\"surface\":[{\"colorbar\":{\"outlinewidth\":0,\"ticks\":\"\"},\"colorscale\":[[0.0,\"#0d0887\"],[0.1111111111111111,\"#46039f\"],[0.2222222222222222,\"#7201a8\"],[0.3333333333333333,\"#9c179e\"],[0.4444444444444444,\"#bd3786\"],[0.5555555555555556,\"#d8576b\"],[0.6666666666666666,\"#ed7953\"],[0.7777777777777778,\"#fb9f3a\"],[0.8888888888888888,\"#fdca26\"],[1.0,\"#f0f921\"]],\"type\":\"surface\"}],\"table\":[{\"cells\":{\"fill\":{\"color\":\"#EBF0F8\"},\"line\":{\"color\":\"white\"}},\"header\":{\"fill\":{\"color\":\"#C8D4E3\"},\"line\":{\"color\":\"white\"}},\"type\":\"table\"}]},\"layout\":{\"annotationdefaults\":{\"arrowcolor\":\"#2a3f5f\",\"arrowhead\":0,\"arrowwidth\":1},\"autotypenumbers\":\"strict\",\"coloraxis\":{\"colorbar\":{\"outlinewidth\":0,\"ticks\":\"\"}},\"colorscale\":{\"diverging\":[[0,\"#8e0152\"],[0.1,\"#c51b7d\"],[0.2,\"#de77ae\"],[0.3,\"#f1b6da\"],[0.4,\"#fde0ef\"],[0.5,\"#f7f7f7\"],[0.6,\"#e6f5d0\"],[0.7,\"#b8e186\"],[0.8,\"#7fbc41\"],[0.9,\"#4d9221\"],[1,\"#276419\"]],\"sequential\":[[0.0,\"#0d0887\"],[0.1111111111111111,\"#46039f\"],[0.2222222222222222,\"#7201a8\"],[0.3333333333333333,\"#9c179e\"],[0.4444444444444444,\"#bd3786\"],[0.5555555555555556,\"#d8576b\"],[0.6666666666666666,\"#ed7953\"],[0.7777777777777778,\"#fb9f3a\"],[0.8888888888888888,\"#fdca26\"],[1.0,\"#f0f921\"]],\"sequentialminus\":[[0.0,\"#0d0887\"],[0.1111111111111111,\"#46039f\"],[0.2222222222222222,\"#7201a8\"],[0.3333333333333333,\"#9c179e\"],[0.4444444444444444,\"#bd3786\"],[0.5555555555555556,\"#d8576b\"],[0.6666666666666666,\"#ed7953\"],[0.7777777777777778,\"#fb9f3a\"],[0.8888888888888888,\"#fdca26\"],[1.0,\"#f0f921\"]]},\"colorway\":[\"#636efa\",\"#EF553B\",\"#00cc96\",\"#ab63fa\",\"#FFA15A\",\"#19d3f3\",\"#FF6692\",\"#B6E880\",\"#FF97FF\",\"#FECB52\"],\"font\":{\"color\":\"#2a3f5f\"},\"geo\":{\"bgcolor\":\"white\",\"lakecolor\":\"white\",\"landcolor\":\"#E5ECF6\",\"showlakes\":true,\"showland\":true,\"subunitcolor\":\"white\"},\"hoverlabel\":{\"align\":\"left\"},\"hovermode\":\"closest\",\"mapbox\":{\"style\":\"light\"},\"paper_bgcolor\":\"white\",\"plot_bgcolor\":\"#E5ECF6\",\"polar\":{\"angularaxis\":{\"gridcolor\":\"white\",\"linecolor\":\"white\",\"ticks\":\"\"},\"bgcolor\":\"#E5ECF6\",\"radialaxis\":{\"gridcolor\":\"white\",\"linecolor\":\"white\",\"ticks\":\"\"}},\"scene\":{\"xaxis\":{\"backgroundcolor\":\"#E5ECF6\",\"gridcolor\":\"white\",\"gridwidth\":2,\"linecolor\":\"white\",\"showbackground\":true,\"ticks\":\"\",\"zerolinecolor\":\"white\"},\"yaxis\":{\"backgroundcolor\":\"#E5ECF6\",\"gridcolor\":\"white\",\"gridwidth\":2,\"linecolor\":\"white\",\"showbackground\":true,\"ticks\":\"\",\"zerolinecolor\":\"white\"},\"zaxis\":{\"backgroundcolor\":\"#E5ECF6\",\"gridcolor\":\"white\",\"gridwidth\":2,\"linecolor\":\"white\",\"showbackground\":true,\"ticks\":\"\",\"zerolinecolor\":\"white\"}},\"shapedefaults\":{\"line\":{\"color\":\"#2a3f5f\"}},\"ternary\":{\"aaxis\":{\"gridcolor\":\"white\",\"linecolor\":\"white\",\"ticks\":\"\"},\"baxis\":{\"gridcolor\":\"white\",\"linecolor\":\"white\",\"ticks\":\"\"},\"bgcolor\":\"#E5ECF6\",\"caxis\":{\"gridcolor\":\"white\",\"linecolor\":\"white\",\"ticks\":\"\"}},\"title\":{\"x\":0.05},\"xaxis\":{\"automargin\":true,\"gridcolor\":\"white\",\"linecolor\":\"white\",\"ticks\":\"\",\"title\":{\"standoff\":15},\"zerolinecolor\":\"white\",\"zerolinewidth\":2},\"yaxis\":{\"automargin\":true,\"gridcolor\":\"white\",\"linecolor\":\"white\",\"ticks\":\"\",\"title\":{\"standoff\":15},\"zerolinecolor\":\"white\",\"zerolinewidth\":2}}},\"title\":{\"text\":\"Number of Events vs Membership\"},\"xaxis\":{\"showgrid\":false,\"title\":{\"text\":\"Number of Events\"},\"zeroline\":false},\"yaxis\":{\"showgrid\":false,\"title\":{\"text\":\"Number of Members\"},\"zeroline\":false}},                        {\"responsive\": true}                    ).then(function(){\n",
       "                            \n",
       "var gd = document.getElementById('a5b89afa-9d68-4b7e-9645-344d71e9ed85');\n",
       "var x = new MutationObserver(function (mutations, observer) {{\n",
       "        var display = window.getComputedStyle(gd).display;\n",
       "        if (!display || display === 'none') {{\n",
       "            console.log([gd, 'removed!']);\n",
       "            Plotly.purge(gd);\n",
       "            observer.disconnect();\n",
       "        }}\n",
       "}});\n",
       "\n",
       "// Listen for the removal of the full notebook cells\n",
       "var notebookContainer = gd.closest('#notebook-container');\n",
       "if (notebookContainer) {{\n",
       "    x.observe(notebookContainer, {childList: true});\n",
       "}}\n",
       "\n",
       "// Listen for the clearing of the current output cell\n",
       "var outputEl = gd.closest('.output');\n",
       "if (outputEl) {{\n",
       "    x.observe(outputEl, {childList: true});\n",
       "}}\n",
       "\n",
       "                        })                };                });            </script>        </div>"
      ]
     },
     "metadata": {},
     "output_type": "display_data"
    }
   ],
   "source": [
    "import plotly\n",
    "\n",
    "from plotly.graph_objs import Scatter, Figure, Layout\n",
    "plotly.offline.init_notebook_mode(connected = True)\n",
    "\n",
    "\n",
    "data = [Scatter(x = meta_groups_i['num_events_target_period'], y = meta_groups_i['num_members'], \\\n",
    "                mode = 'markers',text=(meta_groups_i['group_name']+', '+meta_groups_i['category_name']))]#, text=df['movie_title'])]\n",
    "axistemplate = dict(showgrid=False,zeroline=False,title='Number of Events')\n",
    "axistemplatey = dict(showgrid=False,zeroline=False,title='Number of Members')\n",
    "layout = Layout(title = \"Number of Events vs Membership\",xaxis=axistemplate,yaxis=axistemplatey)\n",
    " \n",
    "fig = Figure(data = data, layout = layout)\n",
    "\n",
    "plotly.offline.iplot(fig, show_link = False)"
   ]
  },
  {
   "cell_type": "code",
   "execution_count": null,
   "id": "2cafd2e0",
   "metadata": {},
   "outputs": [],
   "source": []
  },
  {
   "cell_type": "code",
   "execution_count": 243,
   "id": "ba528758",
   "metadata": {},
   "outputs": [
    {
     "ename": "AttributeError",
     "evalue": "module 'numpy' has no attribute 'poly2d'",
     "output_type": "error",
     "traceback": [
      "\u001b[0;31m---------------------------------------------------------------------------\u001b[0m",
      "\u001b[0;31mAttributeError\u001b[0m                            Traceback (most recent call last)",
      "\u001b[0;32m/var/folders/w6/m13k9fgs76s835wznks2wrwh0000gn/T/ipykernel_62077/333477429.py\u001b[0m in \u001b[0;36m<module>\u001b[0;34m\u001b[0m\n\u001b[1;32m      1\u001b[0m \u001b[0mfiteventstomembers2\u001b[0m \u001b[0;34m=\u001b[0m \u001b[0mnp\u001b[0m\u001b[0;34m.\u001b[0m\u001b[0mpolyfit\u001b[0m\u001b[0;34m(\u001b[0m\u001b[0mx\u001b[0m\u001b[0;34m=\u001b[0m\u001b[0mmeta_groups_i\u001b[0m\u001b[0;34m[\u001b[0m\u001b[0;34m'num_events_target_period'\u001b[0m\u001b[0;34m]\u001b[0m\u001b[0;34m,\u001b[0m\u001b[0my\u001b[0m\u001b[0;34m=\u001b[0m\u001b[0mmeta_groups_i\u001b[0m\u001b[0;34m[\u001b[0m\u001b[0;34m'num_members'\u001b[0m\u001b[0;34m]\u001b[0m\u001b[0;34m,\u001b[0m\u001b[0mdeg\u001b[0m\u001b[0;34m=\u001b[0m\u001b[0;36m2\u001b[0m\u001b[0;34m)\u001b[0m\u001b[0;34m\u001b[0m\u001b[0;34m\u001b[0m\u001b[0m\n\u001b[0;32m----> 2\u001b[0;31m \u001b[0mfoffiteventstomembers2\u001b[0m \u001b[0;34m=\u001b[0m \u001b[0mnp\u001b[0m\u001b[0;34m.\u001b[0m\u001b[0mpoly2d\u001b[0m\u001b[0;34m(\u001b[0m\u001b[0mfiteventstomembers2\u001b[0m\u001b[0;34m)\u001b[0m\u001b[0;34m\u001b[0m\u001b[0;34m\u001b[0m\u001b[0m\n\u001b[0m",
      "\u001b[0;32m~/opt/anaconda3/lib/python3.9/site-packages/numpy/__init__.py\u001b[0m in \u001b[0;36m__getattr__\u001b[0;34m(attr)\u001b[0m\n\u001b[1;32m    301\u001b[0m                 \u001b[0;32mreturn\u001b[0m \u001b[0mTester\u001b[0m\u001b[0;34m\u001b[0m\u001b[0;34m\u001b[0m\u001b[0m\n\u001b[1;32m    302\u001b[0m \u001b[0;34m\u001b[0m\u001b[0m\n\u001b[0;32m--> 303\u001b[0;31m             raise AttributeError(\"module {!r} has no attribute \"\n\u001b[0m\u001b[1;32m    304\u001b[0m                                  \"{!r}\".format(__name__, attr))\n\u001b[1;32m    305\u001b[0m \u001b[0;34m\u001b[0m\u001b[0m\n",
      "\u001b[0;31mAttributeError\u001b[0m: module 'numpy' has no attribute 'poly2d'"
     ]
    }
   ],
   "source": [
    "#fiteventstomembers2 = np.polyfit(x=meta_groups_i['num_events_target_period'],y=meta_groups_i['num_members'],deg=2)\n",
    "#foffiteventstomembers2 = np.poly(fiteventstomembers2)"
   ]
  },
  {
   "cell_type": "code",
   "execution_count": 247,
   "id": "749e64d1",
   "metadata": {},
   "outputs": [
    {
     "data": {
      "text/plain": [
       "1176.0063157954469"
      ]
     },
     "execution_count": 247,
     "metadata": {},
     "output_type": "execute_result"
    }
   ],
   "source": [
    "np.polyval(fiteventstomembers2, 50)"
   ]
  },
  {
   "cell_type": "code",
   "execution_count": null,
   "id": "73140a09",
   "metadata": {},
   "outputs": [],
   "source": []
  }
 ],
 "metadata": {
  "kernelspec": {
   "display_name": "Python 3 (ipykernel)",
   "language": "python",
   "name": "python3"
  },
  "language_info": {
   "codemirror_mode": {
    "name": "ipython",
    "version": 3
   },
   "file_extension": ".py",
   "mimetype": "text/x-python",
   "name": "python",
   "nbconvert_exporter": "python",
   "pygments_lexer": "ipython3",
   "version": "3.9.7"
  }
 },
 "nbformat": 4,
 "nbformat_minor": 5
}
