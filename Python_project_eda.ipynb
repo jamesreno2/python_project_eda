{
 "cells": [
  {
   "cell_type": "code",
   "execution_count": 1,
   "id": "ff17fe21",
   "metadata": {},
   "outputs": [],
   "source": [
    "import numpy as np\n",
    "import pandas as pd"
   ]
  },
  {
   "cell_type": "code",
   "execution_count": 2,
   "id": "af126220",
   "metadata": {},
   "outputs": [
    {
     "name": "stdout",
     "output_type": "stream",
     "text": [
      "/Users/jamesreno/Documents/Documents - James’s MacBook Air/NYCDSA/Python/Python Project/Meetup_Data\r\n"
     ]
    }
   ],
   "source": [
    "!pwd"
   ]
  },
  {
   "cell_type": "code",
   "execution_count": 3,
   "id": "46b81550",
   "metadata": {},
   "outputs": [],
   "source": [
    "rsvps = pd.read_csv('rsvps.csv')\n",
    "meta_members = pd.read_csv('meta-members.csv')\n",
    "meta_groups = pd.read_csv('meta-groups.csv')\n",
    "meta_events = pd.read_csv('meta-events.csv')\n",
    "m_to_g_edges = pd.read_csv('member-to-group-edges.csv')\n",
    "member_edges = pd.read_csv('member-edges.csv')\n",
    "group_edges = pd.read_csv('group-edges.csv')"
   ]
  },
  {
   "cell_type": "markdown",
   "id": "5a29ede9",
   "metadata": {},
   "source": [
    "Data Organization\n",
    "Below are the data sets retrieved from: https://www.kaggle.com/datasets/stkbailey/nashville-meetup?select=meta-groups.csv\n",
    "on 04/19/2022\n",
    "\n",
    "Defined their assumed definitions and links between data sets.\n",
    "\n",
    "rsvps: (list of rsvps with member, event, and group)\n",
    "has two indices - probably useless\n",
    "event_id - unique id might be used to join to the meta_events\n",
    "member_id - unique id might be used to join to: meta_members, m_to_g_edges, member_edges\n",
    "group_id - unique id might be used to join to: meta_groups, m_to_g_edges, group_edges\n",
    "\n",
    "meta_members: (list of members)\n",
    "member_id - unique id might be used to join to m_to_g_edges, member_edges, rsvps\n",
    "name - name of member\n",
    "?hometown- either where they live or where they grew up\n",
    "?city - where they joined meetup?\n",
    "?state - where they are attending meetups?\n",
    "lat - lattitude\n",
    "lon - longitude\n",
    "\n",
    "meta_groups: (list of groups)\n",
    "group_id - unique id might be used to join to: rsvps, meta_events, m_to_g_edges, group_edges\n",
    "group_name - group name\n",
    "num_members - number of members\n",
    "category_id - unique category id\n",
    "category_name - broad category of the type of group\n",
    "?organizer_id - member id of the organizer(s) or admin(s) ??? Need to confirm\n",
    "group_urlname - url within the meetup.com space\n",
    "\n",
    "meta_events: (list of events)\n",
    "event_id - unique id might be used to join to: rsvps\n",
    "group_id - unique id might be used to join to: rsvps, meta_groups, m_to_g_edges, group_edges\n",
    "name - event name\n",
    "time - Nashville time of event start time\n",
    "\n",
    "m_to_g_edges: (member to group connections)\n",
    "member_id - unique id might be used to join to: rsvps, meta_members, meta_events, member_edges\n",
    "group_id - unique id might be used to join to: rsvps, meta_groups, meta_events, group_edges\n",
    "weight - ?\n",
    "\n",
    "member_edges: (data used to show connection between members)\n",
    "member1 - unique member id\n",
    "member2 - unique member id\n",
    "weight - ?\n",
    "\n",
    "group_edges: (data used to show connections between groups)\n",
    "group1 - unique group id\n",
    "group2 - unique group id\n",
    "weight - ?"
   ]
  },
  {
   "cell_type": "code",
   "execution_count": 20,
   "id": "a485f3b4",
   "metadata": {},
   "outputs": [
    {
     "data": {
      "text/html": [
       "<div>\n",
       "<style scoped>\n",
       "    .dataframe tbody tr th:only-of-type {\n",
       "        vertical-align: middle;\n",
       "    }\n",
       "\n",
       "    .dataframe tbody tr th {\n",
       "        vertical-align: top;\n",
       "    }\n",
       "\n",
       "    .dataframe thead th {\n",
       "        text-align: right;\n",
       "    }\n",
       "</style>\n",
       "<table border=\"1\" class=\"dataframe\">\n",
       "  <thead>\n",
       "    <tr style=\"text-align: right;\">\n",
       "      <th></th>\n",
       "      <th>Unnamed: 0</th>\n",
       "      <th>member1</th>\n",
       "      <th>member2</th>\n",
       "      <th>weight</th>\n",
       "    </tr>\n",
       "  </thead>\n",
       "  <tbody>\n",
       "    <tr>\n",
       "      <th>0</th>\n",
       "      <td>0</td>\n",
       "      <td>198737924</td>\n",
       "      <td>220654721</td>\n",
       "      <td>1</td>\n",
       "    </tr>\n",
       "    <tr>\n",
       "      <th>1</th>\n",
       "      <td>1</td>\n",
       "      <td>198737924</td>\n",
       "      <td>208201738</td>\n",
       "      <td>1</td>\n",
       "    </tr>\n",
       "    <tr>\n",
       "      <th>2</th>\n",
       "      <td>2</td>\n",
       "      <td>198737924</td>\n",
       "      <td>88664332</td>\n",
       "      <td>1</td>\n",
       "    </tr>\n",
       "    <tr>\n",
       "      <th>3</th>\n",
       "      <td>3</td>\n",
       "      <td>198737924</td>\n",
       "      <td>8640526</td>\n",
       "      <td>1</td>\n",
       "    </tr>\n",
       "    <tr>\n",
       "      <th>4</th>\n",
       "      <td>4</td>\n",
       "      <td>198737924</td>\n",
       "      <td>56356372</td>\n",
       "      <td>1</td>\n",
       "    </tr>\n",
       "  </tbody>\n",
       "</table>\n",
       "</div>"
      ],
      "text/plain": [
       "   Unnamed: 0    member1    member2  weight\n",
       "0           0  198737924  220654721       1\n",
       "1           1  198737924  208201738       1\n",
       "2           2  198737924   88664332       1\n",
       "3           3  198737924    8640526       1\n",
       "4           4  198737924   56356372       1"
      ]
     },
     "execution_count": 20,
     "metadata": {},
     "output_type": "execute_result"
    }
   ],
   "source": [
    "member_edges.head()"
   ]
  },
  {
   "cell_type": "code",
   "execution_count": 25,
   "id": "9607eb0a",
   "metadata": {},
   "outputs": [
    {
     "data": {
      "text/html": [
       "<div>\n",
       "<style scoped>\n",
       "    .dataframe tbody tr th:only-of-type {\n",
       "        vertical-align: middle;\n",
       "    }\n",
       "\n",
       "    .dataframe tbody tr th {\n",
       "        vertical-align: top;\n",
       "    }\n",
       "\n",
       "    .dataframe thead th {\n",
       "        text-align: right;\n",
       "    }\n",
       "</style>\n",
       "<table border=\"1\" class=\"dataframe\">\n",
       "  <thead>\n",
       "    <tr style=\"text-align: right;\">\n",
       "      <th></th>\n",
       "      <th>Unnamed: 0</th>\n",
       "      <th>event_id</th>\n",
       "      <th>member_id</th>\n",
       "      <th>group_id</th>\n",
       "    </tr>\n",
       "  </thead>\n",
       "  <tbody>\n",
       "    <tr>\n",
       "      <th>0</th>\n",
       "      <td>0</td>\n",
       "      <td>243930425</td>\n",
       "      <td>6770985</td>\n",
       "      <td>26140018</td>\n",
       "    </tr>\n",
       "    <tr>\n",
       "      <th>1</th>\n",
       "      <td>1</td>\n",
       "      <td>244208851</td>\n",
       "      <td>234724627</td>\n",
       "      <td>25604533</td>\n",
       "    </tr>\n",
       "    <tr>\n",
       "      <th>2</th>\n",
       "      <td>2</td>\n",
       "      <td>pxlktnywnbfb</td>\n",
       "      <td>199563568</td>\n",
       "      <td>25973656</td>\n",
       "    </tr>\n",
       "    <tr>\n",
       "      <th>3</th>\n",
       "      <td>3</td>\n",
       "      <td>pxlktnywnbfb</td>\n",
       "      <td>208888939</td>\n",
       "      <td>25973656</td>\n",
       "    </tr>\n",
       "    <tr>\n",
       "      <th>4</th>\n",
       "      <td>4</td>\n",
       "      <td>244444551</td>\n",
       "      <td>1720391</td>\n",
       "      <td>18571126</td>\n",
       "    </tr>\n",
       "  </tbody>\n",
       "</table>\n",
       "</div>"
      ],
      "text/plain": [
       "   Unnamed: 0      event_id  member_id  group_id\n",
       "0           0     243930425    6770985  26140018\n",
       "1           1     244208851  234724627  25604533\n",
       "2           2  pxlktnywnbfb  199563568  25973656\n",
       "3           3  pxlktnywnbfb  208888939  25973656\n",
       "4           4     244444551    1720391  18571126"
      ]
     },
     "execution_count": 25,
     "metadata": {},
     "output_type": "execute_result"
    }
   ],
   "source": [
    "rsvps.head()"
   ]
  },
  {
   "cell_type": "code",
   "execution_count": 26,
   "id": "f446e162",
   "metadata": {},
   "outputs": [
    {
     "data": {
      "text/html": [
       "<div>\n",
       "<style scoped>\n",
       "    .dataframe tbody tr th:only-of-type {\n",
       "        vertical-align: middle;\n",
       "    }\n",
       "\n",
       "    .dataframe tbody tr th {\n",
       "        vertical-align: top;\n",
       "    }\n",
       "\n",
       "    .dataframe thead th {\n",
       "        text-align: right;\n",
       "    }\n",
       "</style>\n",
       "<table border=\"1\" class=\"dataframe\">\n",
       "  <thead>\n",
       "    <tr style=\"text-align: right;\">\n",
       "      <th></th>\n",
       "      <th>Unnamed: 0</th>\n",
       "      <th>member_id</th>\n",
       "      <th>group_id</th>\n",
       "    </tr>\n",
       "  </thead>\n",
       "  <tbody>\n",
       "    <tr>\n",
       "      <th>count</th>\n",
       "      <td>126813.000000</td>\n",
       "      <td>1.268130e+05</td>\n",
       "      <td>1.268130e+05</td>\n",
       "    </tr>\n",
       "    <tr>\n",
       "      <th>mean</th>\n",
       "      <td>63406.000000</td>\n",
       "      <td>1.313540e+08</td>\n",
       "      <td>1.158637e+07</td>\n",
       "    </tr>\n",
       "    <tr>\n",
       "      <th>std</th>\n",
       "      <td>36607.904181</td>\n",
       "      <td>8.368705e+07</td>\n",
       "      <td>8.092142e+06</td>\n",
       "    </tr>\n",
       "    <tr>\n",
       "      <th>min</th>\n",
       "      <td>0.000000</td>\n",
       "      <td>2.069000e+03</td>\n",
       "      <td>4.709400e+04</td>\n",
       "    </tr>\n",
       "    <tr>\n",
       "      <th>25%</th>\n",
       "      <td>31703.000000</td>\n",
       "      <td>3.859148e+07</td>\n",
       "      <td>1.763190e+06</td>\n",
       "    </tr>\n",
       "    <tr>\n",
       "      <th>50%</th>\n",
       "      <td>63406.000000</td>\n",
       "      <td>1.753005e+08</td>\n",
       "      <td>1.177650e+07</td>\n",
       "    </tr>\n",
       "    <tr>\n",
       "      <th>75%</th>\n",
       "      <td>95109.000000</td>\n",
       "      <td>2.036641e+08</td>\n",
       "      <td>1.895583e+07</td>\n",
       "    </tr>\n",
       "    <tr>\n",
       "      <th>max</th>\n",
       "      <td>126812.000000</td>\n",
       "      <td>2.400034e+08</td>\n",
       "      <td>2.629659e+07</td>\n",
       "    </tr>\n",
       "  </tbody>\n",
       "</table>\n",
       "</div>"
      ],
      "text/plain": [
       "          Unnamed: 0     member_id      group_id\n",
       "count  126813.000000  1.268130e+05  1.268130e+05\n",
       "mean    63406.000000  1.313540e+08  1.158637e+07\n",
       "std     36607.904181  8.368705e+07  8.092142e+06\n",
       "min         0.000000  2.069000e+03  4.709400e+04\n",
       "25%     31703.000000  3.859148e+07  1.763190e+06\n",
       "50%     63406.000000  1.753005e+08  1.177650e+07\n",
       "75%     95109.000000  2.036641e+08  1.895583e+07\n",
       "max    126812.000000  2.400034e+08  2.629659e+07"
      ]
     },
     "execution_count": 26,
     "metadata": {},
     "output_type": "execute_result"
    }
   ],
   "source": [
    "rsvps.describe()"
   ]
  },
  {
   "cell_type": "code",
   "execution_count": 29,
   "id": "361dcefc",
   "metadata": {},
   "outputs": [
    {
     "data": {
      "text/plain": [
       "Unnamed: 0     int64\n",
       "event_id      object\n",
       "member_id      int64\n",
       "group_id       int64\n",
       "dtype: object"
      ]
     },
     "execution_count": 29,
     "metadata": {},
     "output_type": "execute_result"
    }
   ],
   "source": [
    "rsvps.dtypes"
   ]
  },
  {
   "cell_type": "code",
   "execution_count": 31,
   "id": "e219cd0f",
   "metadata": {},
   "outputs": [
    {
     "data": {
      "text/plain": [
       "19031"
      ]
     },
     "execution_count": 31,
     "metadata": {},
     "output_type": "execute_result"
    }
   ],
   "source": [
    "len(rsvps['event_id'].unique())"
   ]
  },
  {
   "cell_type": "code",
   "execution_count": null,
   "id": "d5ea4442",
   "metadata": {},
   "outputs": [],
   "source": []
  },
  {
   "cell_type": "code",
   "execution_count": 47,
   "id": "1854dd8a",
   "metadata": {},
   "outputs": [
    {
     "data": {
      "text/html": [
       "<div>\n",
       "<style scoped>\n",
       "    .dataframe tbody tr th:only-of-type {\n",
       "        vertical-align: middle;\n",
       "    }\n",
       "\n",
       "    .dataframe tbody tr th {\n",
       "        vertical-align: top;\n",
       "    }\n",
       "\n",
       "    .dataframe thead th {\n",
       "        text-align: right;\n",
       "    }\n",
       "</style>\n",
       "<table border=\"1\" class=\"dataframe\">\n",
       "  <thead>\n",
       "    <tr style=\"text-align: right;\">\n",
       "      <th></th>\n",
       "      <th>Unnamed: 0</th>\n",
       "      <th>event_id</th>\n",
       "      <th>member_id</th>\n",
       "      <th>group_id</th>\n",
       "    </tr>\n",
       "  </thead>\n",
       "  <tbody>\n",
       "  </tbody>\n",
       "</table>\n",
       "</div>"
      ],
      "text/plain": [
       "Empty DataFrame\n",
       "Columns: [Unnamed: 0, event_id, member_id, group_id]\n",
       "Index: []"
      ]
     },
     "execution_count": 47,
     "metadata": {},
     "output_type": "execute_result"
    }
   ],
   "source": [
    "rsvps[rsvps[['event_id','member_id','group_id']].isna().all(axis=1)]"
   ]
  },
  {
   "cell_type": "code",
   "execution_count": 54,
   "id": "7b6313c7",
   "metadata": {},
   "outputs": [
    {
     "data": {
      "text/html": [
       "<div>\n",
       "<style scoped>\n",
       "    .dataframe tbody tr th:only-of-type {\n",
       "        vertical-align: middle;\n",
       "    }\n",
       "\n",
       "    .dataframe tbody tr th {\n",
       "        vertical-align: top;\n",
       "    }\n",
       "\n",
       "    .dataframe thead th {\n",
       "        text-align: right;\n",
       "    }\n",
       "</style>\n",
       "<table border=\"1\" class=\"dataframe\">\n",
       "  <thead>\n",
       "    <tr style=\"text-align: right;\">\n",
       "      <th></th>\n",
       "      <th>Unnamed: 0</th>\n",
       "      <th>event_id</th>\n",
       "      <th>member_id</th>\n",
       "      <th>group_id</th>\n",
       "    </tr>\n",
       "  </thead>\n",
       "  <tbody>\n",
       "  </tbody>\n",
       "</table>\n",
       "</div>"
      ],
      "text/plain": [
       "Empty DataFrame\n",
       "Columns: [Unnamed: 0, event_id, member_id, group_id]\n",
       "Index: []"
      ]
     },
     "execution_count": 54,
     "metadata": {},
     "output_type": "execute_result"
    }
   ],
   "source": [
    "rsvps[rsvps['group_id'].isnull()]"
   ]
  },
  {
   "cell_type": "code",
   "execution_count": 75,
   "id": "1bfa7997",
   "metadata": {},
   "outputs": [],
   "source": [
    "def drop_unnamed(df):\n",
    "    #checking if 'Unnamed: 0' exists as a column name, if so drop and reassign\n",
    "    \n",
    "    if 'Unnamed: 0' in df.columns:\n",
    "        return df.drop(labels='Unnamed: 0',axis=1)\n",
    "    "
   ]
  },
  {
   "cell_type": "code",
   "execution_count": 76,
   "id": "7ac7a8b3",
   "metadata": {},
   "outputs": [],
   "source": [
    "rsvps=drop_unnamed(rsvps)\n",
    "#rsvps.drop(labels='Unnamed: 0',axis=1)"
   ]
  },
  {
   "cell_type": "code",
   "execution_count": 79,
   "id": "6425c178",
   "metadata": {},
   "outputs": [],
   "source": [
    "for df in [rsvps,meta_members,meta_groups,meta_events,m_to_g_edges,member_edges,group_edges]:\n",
    "    df = drop_unnamed(df)"
   ]
  },
  {
   "cell_type": "code",
   "execution_count": 80,
   "id": "bbd84ce4",
   "metadata": {},
   "outputs": [
    {
     "data": {
      "text/html": [
       "<div>\n",
       "<style scoped>\n",
       "    .dataframe tbody tr th:only-of-type {\n",
       "        vertical-align: middle;\n",
       "    }\n",
       "\n",
       "    .dataframe tbody tr th {\n",
       "        vertical-align: top;\n",
       "    }\n",
       "\n",
       "    .dataframe thead th {\n",
       "        text-align: right;\n",
       "    }\n",
       "</style>\n",
       "<table border=\"1\" class=\"dataframe\">\n",
       "  <thead>\n",
       "    <tr style=\"text-align: right;\">\n",
       "      <th></th>\n",
       "      <th>member_id</th>\n",
       "      <th>name</th>\n",
       "      <th>hometown</th>\n",
       "      <th>city</th>\n",
       "      <th>state</th>\n",
       "      <th>lat</th>\n",
       "      <th>lon</th>\n",
       "    </tr>\n",
       "  </thead>\n",
       "  <tbody>\n",
       "    <tr>\n",
       "      <th>0</th>\n",
       "      <td>2069</td>\n",
       "      <td>Wesley Duffee-Braun</td>\n",
       "      <td>Brentwood</td>\n",
       "      <td>Brentwood</td>\n",
       "      <td>TN</td>\n",
       "      <td>36.00</td>\n",
       "      <td>-86.79</td>\n",
       "    </tr>\n",
       "    <tr>\n",
       "      <th>1</th>\n",
       "      <td>8386</td>\n",
       "      <td>Tim</td>\n",
       "      <td>Nashville</td>\n",
       "      <td>Nashville</td>\n",
       "      <td>TN</td>\n",
       "      <td>36.07</td>\n",
       "      <td>-86.78</td>\n",
       "    </tr>\n",
       "    <tr>\n",
       "      <th>2</th>\n",
       "      <td>9205</td>\n",
       "      <td>Brenda</td>\n",
       "      <td>Brentwood</td>\n",
       "      <td>Brentwood</td>\n",
       "      <td>TN</td>\n",
       "      <td>36.00</td>\n",
       "      <td>-86.79</td>\n",
       "    </tr>\n",
       "    <tr>\n",
       "      <th>3</th>\n",
       "      <td>17903</td>\n",
       "      <td>Steve</td>\n",
       "      <td>NaN</td>\n",
       "      <td>Nashville</td>\n",
       "      <td>TN</td>\n",
       "      <td>36.13</td>\n",
       "      <td>-86.80</td>\n",
       "    </tr>\n",
       "    <tr>\n",
       "      <th>4</th>\n",
       "      <td>20418</td>\n",
       "      <td>Andrea Reynolds</td>\n",
       "      <td>Huntington, WV</td>\n",
       "      <td>Nashville</td>\n",
       "      <td>TN</td>\n",
       "      <td>36.17</td>\n",
       "      <td>-86.72</td>\n",
       "    </tr>\n",
       "  </tbody>\n",
       "</table>\n",
       "</div>"
      ],
      "text/plain": [
       "   member_id                 name        hometown       city state    lat  \\\n",
       "0       2069  Wesley Duffee-Braun       Brentwood  Brentwood    TN  36.00   \n",
       "1       8386                  Tim       Nashville  Nashville    TN  36.07   \n",
       "2       9205               Brenda       Brentwood  Brentwood    TN  36.00   \n",
       "3      17903                Steve             NaN  Nashville    TN  36.13   \n",
       "4      20418      Andrea Reynolds  Huntington, WV  Nashville    TN  36.17   \n",
       "\n",
       "     lon  \n",
       "0 -86.79  \n",
       "1 -86.78  \n",
       "2 -86.79  \n",
       "3 -86.80  \n",
       "4 -86.72  "
      ]
     },
     "execution_count": 80,
     "metadata": {},
     "output_type": "execute_result"
    }
   ],
   "source": [
    "meta_members.head()"
   ]
  },
  {
   "cell_type": "code",
   "execution_count": 83,
   "id": "e3dead5e",
   "metadata": {},
   "outputs": [
    {
     "data": {
      "text/plain": [
       "member_id        0\n",
       "name             0\n",
       "hometown     19664\n",
       "city             0\n",
       "state           94\n",
       "lat              0\n",
       "lon              0\n",
       "dtype: int64"
      ]
     },
     "execution_count": 83,
     "metadata": {},
     "output_type": "execute_result"
    }
   ],
   "source": [
    "meta_members.isna().sum()"
   ]
  },
  {
   "cell_type": "code",
   "execution_count": 87,
   "id": "1219e741",
   "metadata": {},
   "outputs": [
    {
     "data": {
      "text/plain": [
       "24591"
      ]
     },
     "execution_count": 87,
     "metadata": {},
     "output_type": "execute_result"
    }
   ],
   "source": [
    "len(meta_members['member_id'].unique())"
   ]
  },
  {
   "cell_type": "code",
   "execution_count": 86,
   "id": "aeea42d0",
   "metadata": {},
   "outputs": [
    {
     "data": {
      "text/plain": [
       "24591"
      ]
     },
     "execution_count": 86,
     "metadata": {},
     "output_type": "execute_result"
    }
   ],
   "source": [
    "len(meta_members)"
   ]
  },
  {
   "cell_type": "code",
   "execution_count": 89,
   "id": "a7b17f55",
   "metadata": {},
   "outputs": [],
   "source": [
    "merged_df = meta_members.merge(rsvps, how='inner', on='member_id')"
   ]
  },
  {
   "cell_type": "code",
   "execution_count": null,
   "id": "cbbfbbdc",
   "metadata": {},
   "outputs": [],
   "source": [
    "# am going to count the number of events attended and number organized etc\n",
    "merged_df.groupby(member_id)"
   ]
  },
  {
   "cell_type": "code",
   "execution_count": null,
   "id": "f5ed9c45",
   "metadata": {},
   "outputs": [],
   "source": []
  },
  {
   "cell_type": "code",
   "execution_count": null,
   "id": "4670ef82",
   "metadata": {},
   "outputs": [],
   "source": []
  },
  {
   "cell_type": "code",
   "execution_count": null,
   "id": "b93dd89b",
   "metadata": {},
   "outputs": [],
   "source": []
  },
  {
   "cell_type": "code",
   "execution_count": null,
   "id": "298f2e80",
   "metadata": {},
   "outputs": [],
   "source": []
  }
 ],
 "metadata": {
  "kernelspec": {
   "display_name": "Python 3 (ipykernel)",
   "language": "python",
   "name": "python3"
  },
  "language_info": {
   "codemirror_mode": {
    "name": "ipython",
    "version": 3
   },
   "file_extension": ".py",
   "mimetype": "text/x-python",
   "name": "python",
   "nbconvert_exporter": "python",
   "pygments_lexer": "ipython3",
   "version": "3.9.7"
  }
 },
 "nbformat": 4,
 "nbformat_minor": 5
}
