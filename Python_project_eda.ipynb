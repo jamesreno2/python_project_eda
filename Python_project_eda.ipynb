{
 "cells": [
  {
   "cell_type": "code",
   "execution_count": 1,
   "id": "ff17fe21",
   "metadata": {},
   "outputs": [],
   "source": [
    "import numpy as np\n",
    "import pandas as pd"
   ]
  },
  {
   "cell_type": "code",
   "execution_count": 2,
   "id": "af126220",
   "metadata": {},
   "outputs": [
    {
     "name": "stdout",
     "output_type": "stream",
     "text": [
      "/Users/jamesreno/Documents/Documents - James’s MacBook Air/NYCDSA/Python/Python Project/Meetup_Data\r\n"
     ]
    }
   ],
   "source": [
    "!pwd"
   ]
  },
  {
   "cell_type": "code",
   "execution_count": 3,
   "id": "46b81550",
   "metadata": {},
   "outputs": [],
   "source": [
    "rsvps = pd.read_csv('rsvps.csv')\n",
    "meta_members = pd.read_csv('meta-members.csv')\n",
    "meta_groups = pd.read_csv('meta-groups.csv')\n",
    "meta_events = pd.read_csv('meta-events.csv')\n",
    "m_to_g_edges = pd.read_csv('member-to-group-edges.csv')\n",
    "member_edges = pd.read_csv('member-edges.csv')\n",
    "group_edges = pd.read_csv('group-edges.csv')"
   ]
  },
  {
   "cell_type": "markdown",
   "id": "18764580",
   "metadata": {},
   "source": [
    "# Data Organization\n",
    "Below are the data sets retrieved from: https://www.kaggle.com/datasets/stkbailey/nashville-meetup?select=meta-groups.csv\n",
    "on 04/19/2022\n",
    "\n",
    "Defined their assumed definitions and links between data sets.\n",
    "\n",
    "rsvps: (list of rsvps with member, event, and group)\n",
    "has two indices - probably useless\n",
    "event_id - unique id might be used to join to the meta_events\n",
    "member_id - unique id might be used to join to: meta_members, m_to_g_edges, member_edges\n",
    "group_id - unique id might be used to join to: meta_groups, m_to_g_edges, group_edges\n",
    "\n",
    "meta_members: (list of members)\n",
    "member_id - unique id might be used to join to m_to_g_edges, member_edges, rsvps\n",
    "name - name of member\n",
    "?hometown- either where they live or where they grew up\n",
    "?city - where they joined meetup?\n",
    "?state - where they are attending meetups?\n",
    "lat - lattitude\n",
    "lon - longitude\n",
    "\n",
    "meta_groups: (list of groups)\n",
    "group_id - unique id might be used to join to: rsvps, meta_events, m_to_g_edges, group_edges\n",
    "group_name - group name\n",
    "num_members - number of members\n",
    "category_id - unique category id\n",
    "category_name - broad category of the type of group\n",
    "?organizer_id - member id of the organizer(s) or admin(s) ??? Need to confirm\n",
    "group_urlname - url within the meetup.com space\n",
    "\n",
    "meta_events: (list of events)\n",
    "event_id - unique id might be used to join to: rsvps\n",
    "group_id - unique id might be used to join to: rsvps, meta_groups, m_to_g_edges, group_edges\n",
    "name - event name\n",
    "time - Nashville time of event start time\n",
    "\n",
    "m_to_g_edges: (member to group connections)\n",
    "member_id - unique id might be used to join to: rsvps, meta_members, meta_events, member_edges\n",
    "group_id - unique id might be used to join to: rsvps, meta_groups, meta_events, group_edges\n",
    "weight - ?\n",
    "\n",
    "member_edges: (data used to show connection between members)\n",
    "member1 - unique member id\n",
    "member2 - unique member id\n",
    "weight - ?\n",
    "\n",
    "group_edges: (data used to show connections between groups)\n",
    "group1 - unique group id\n",
    "group2 - unique group id\n",
    "weight - ?"
   ]
  },
  {
   "cell_type": "code",
   "execution_count": null,
   "id": "2a52d6e4",
   "metadata": {},
   "outputs": [],
   "source": []
  },
  {
   "cell_type": "code",
   "execution_count": null,
   "id": "9607eb0a",
   "metadata": {},
   "outputs": [],
   "source": []
  },
  {
   "cell_type": "code",
   "execution_count": null,
   "id": "9b3ba021",
   "metadata": {},
   "outputs": [],
   "source": []
  },
  {
   "cell_type": "code",
   "execution_count": 29,
   "id": "9da86c55",
   "metadata": {},
   "outputs": [
    {
     "data": {
      "text/plain": [
       "Unnamed: 0     int64\n",
       "event_id      object\n",
       "member_id      int64\n",
       "group_id       int64\n",
       "dtype: object"
      ]
     },
     "execution_count": 29,
     "metadata": {},
     "output_type": "execute_result"
    }
   ],
   "source": [
    "rsvps.dtypes"
   ]
  },
  {
   "cell_type": "code",
   "execution_count": 31,
   "id": "e219cd0f",
   "metadata": {},
   "outputs": [
    {
     "data": {
      "text/plain": [
       "19031"
      ]
     },
     "execution_count": 31,
     "metadata": {},
     "output_type": "execute_result"
    }
   ],
   "source": [
    "len(rsvps['event_id'].unique())"
   ]
  },
  {
   "cell_type": "code",
   "execution_count": null,
   "id": "a615bcf1",
   "metadata": {},
   "outputs": [],
   "source": []
  },
  {
   "cell_type": "code",
   "execution_count": 47,
   "id": "1854dd8a",
   "metadata": {},
   "outputs": [
    {
     "data": {
      "text/html": [
       "<div>\n",
       "<style scoped>\n",
       "    .dataframe tbody tr th:only-of-type {\n",
       "        vertical-align: middle;\n",
       "    }\n",
       "\n",
       "    .dataframe tbody tr th {\n",
       "        vertical-align: top;\n",
       "    }\n",
       "\n",
       "    .dataframe thead th {\n",
       "        text-align: right;\n",
       "    }\n",
       "</style>\n",
       "<table border=\"1\" class=\"dataframe\">\n",
       "  <thead>\n",
       "    <tr style=\"text-align: right;\">\n",
       "      <th></th>\n",
       "      <th>Unnamed: 0</th>\n",
       "      <th>event_id</th>\n",
       "      <th>member_id</th>\n",
       "      <th>group_id</th>\n",
       "    </tr>\n",
       "  </thead>\n",
       "  <tbody>\n",
       "  </tbody>\n",
       "</table>\n",
       "</div>"
      ],
      "text/plain": [
       "Empty DataFrame\n",
       "Columns: [Unnamed: 0, event_id, member_id, group_id]\n",
       "Index: []"
      ]
     },
     "execution_count": 47,
     "metadata": {},
     "output_type": "execute_result"
    }
   ],
   "source": [
    "rsvps[rsvps[['event_id','member_id','group_id']].isna().all(axis=1)]"
   ]
  },
  {
   "cell_type": "code",
   "execution_count": 54,
   "id": "7b6313c7",
   "metadata": {},
   "outputs": [
    {
     "data": {
      "text/html": [
       "<div>\n",
       "<style scoped>\n",
       "    .dataframe tbody tr th:only-of-type {\n",
       "        vertical-align: middle;\n",
       "    }\n",
       "\n",
       "    .dataframe tbody tr th {\n",
       "        vertical-align: top;\n",
       "    }\n",
       "\n",
       "    .dataframe thead th {\n",
       "        text-align: right;\n",
       "    }\n",
       "</style>\n",
       "<table border=\"1\" class=\"dataframe\">\n",
       "  <thead>\n",
       "    <tr style=\"text-align: right;\">\n",
       "      <th></th>\n",
       "      <th>Unnamed: 0</th>\n",
       "      <th>event_id</th>\n",
       "      <th>member_id</th>\n",
       "      <th>group_id</th>\n",
       "    </tr>\n",
       "  </thead>\n",
       "  <tbody>\n",
       "  </tbody>\n",
       "</table>\n",
       "</div>"
      ],
      "text/plain": [
       "Empty DataFrame\n",
       "Columns: [Unnamed: 0, event_id, member_id, group_id]\n",
       "Index: []"
      ]
     },
     "execution_count": 54,
     "metadata": {},
     "output_type": "execute_result"
    }
   ],
   "source": [
    "rsvps[rsvps['group_id'].isnull()]"
   ]
  },
  {
   "cell_type": "markdown",
   "id": "c0cfa8c2",
   "metadata": {},
   "source": [
    "## Removing Unwanted Index\n",
    "The following function was used to remove the index imported from the csv files if it was present."
   ]
  },
  {
   "cell_type": "code",
   "execution_count": 75,
   "id": "1bfa7997",
   "metadata": {},
   "outputs": [],
   "source": [
    "def drop_unnamed(df):\n",
    "    #checking if 'Unnamed: 0' exists as a column name, if so drop and reassign\n",
    "    \n",
    "    if 'Unnamed: 0' in df.columns:\n",
    "        return df.drop(labels='Unnamed: 0',axis=1)\n",
    "    "
   ]
  },
  {
   "cell_type": "code",
   "execution_count": 76,
   "id": "7ac7a8b3",
   "metadata": {},
   "outputs": [],
   "source": [
    "rsvps=drop_unnamed(rsvps)\n",
    "#rsvps.drop(labels='Unnamed: 0',axis=1)"
   ]
  },
  {
   "cell_type": "code",
   "execution_count": 79,
   "id": "3152b606",
   "metadata": {},
   "outputs": [],
   "source": [
    "for df in [rsvps,meta_members,meta_groups,meta_events,m_to_g_edges,member_edges,group_edges]:\n",
    "    df = drop_unnamed(df)"
   ]
  },
  {
   "cell_type": "code",
   "execution_count": 80,
   "id": "5515fe91",
   "metadata": {},
   "outputs": [
    {
     "data": {
      "text/html": [
       "<div>\n",
       "<style scoped>\n",
       "    .dataframe tbody tr th:only-of-type {\n",
       "        vertical-align: middle;\n",
       "    }\n",
       "\n",
       "    .dataframe tbody tr th {\n",
       "        vertical-align: top;\n",
       "    }\n",
       "\n",
       "    .dataframe thead th {\n",
       "        text-align: right;\n",
       "    }\n",
       "</style>\n",
       "<table border=\"1\" class=\"dataframe\">\n",
       "  <thead>\n",
       "    <tr style=\"text-align: right;\">\n",
       "      <th></th>\n",
       "      <th>member_id</th>\n",
       "      <th>name</th>\n",
       "      <th>hometown</th>\n",
       "      <th>city</th>\n",
       "      <th>state</th>\n",
       "      <th>lat</th>\n",
       "      <th>lon</th>\n",
       "    </tr>\n",
       "  </thead>\n",
       "  <tbody>\n",
       "    <tr>\n",
       "      <th>0</th>\n",
       "      <td>2069</td>\n",
       "      <td>Wesley Duffee-Braun</td>\n",
       "      <td>Brentwood</td>\n",
       "      <td>Brentwood</td>\n",
       "      <td>TN</td>\n",
       "      <td>36.00</td>\n",
       "      <td>-86.79</td>\n",
       "    </tr>\n",
       "    <tr>\n",
       "      <th>1</th>\n",
       "      <td>8386</td>\n",
       "      <td>Tim</td>\n",
       "      <td>Nashville</td>\n",
       "      <td>Nashville</td>\n",
       "      <td>TN</td>\n",
       "      <td>36.07</td>\n",
       "      <td>-86.78</td>\n",
       "    </tr>\n",
       "    <tr>\n",
       "      <th>2</th>\n",
       "      <td>9205</td>\n",
       "      <td>Brenda</td>\n",
       "      <td>Brentwood</td>\n",
       "      <td>Brentwood</td>\n",
       "      <td>TN</td>\n",
       "      <td>36.00</td>\n",
       "      <td>-86.79</td>\n",
       "    </tr>\n",
       "    <tr>\n",
       "      <th>3</th>\n",
       "      <td>17903</td>\n",
       "      <td>Steve</td>\n",
       "      <td>NaN</td>\n",
       "      <td>Nashville</td>\n",
       "      <td>TN</td>\n",
       "      <td>36.13</td>\n",
       "      <td>-86.80</td>\n",
       "    </tr>\n",
       "    <tr>\n",
       "      <th>4</th>\n",
       "      <td>20418</td>\n",
       "      <td>Andrea Reynolds</td>\n",
       "      <td>Huntington, WV</td>\n",
       "      <td>Nashville</td>\n",
       "      <td>TN</td>\n",
       "      <td>36.17</td>\n",
       "      <td>-86.72</td>\n",
       "    </tr>\n",
       "  </tbody>\n",
       "</table>\n",
       "</div>"
      ],
      "text/plain": [
       "   member_id                 name        hometown       city state    lat  \\\n",
       "0       2069  Wesley Duffee-Braun       Brentwood  Brentwood    TN  36.00   \n",
       "1       8386                  Tim       Nashville  Nashville    TN  36.07   \n",
       "2       9205               Brenda       Brentwood  Brentwood    TN  36.00   \n",
       "3      17903                Steve             NaN  Nashville    TN  36.13   \n",
       "4      20418      Andrea Reynolds  Huntington, WV  Nashville    TN  36.17   \n",
       "\n",
       "     lon  \n",
       "0 -86.79  \n",
       "1 -86.78  \n",
       "2 -86.79  \n",
       "3 -86.80  \n",
       "4 -86.72  "
      ]
     },
     "execution_count": 80,
     "metadata": {},
     "output_type": "execute_result"
    }
   ],
   "source": [
    "meta_members.head()"
   ]
  },
  {
   "cell_type": "markdown",
   "id": "bf4dc785",
   "metadata": {},
   "source": [
    "Data were examined for null/NaN values"
   ]
  },
  {
   "cell_type": "code",
   "execution_count": 83,
   "id": "e1cb0df9",
   "metadata": {},
   "outputs": [
    {
     "data": {
      "text/plain": [
       "member_id        0\n",
       "name             0\n",
       "hometown     19664\n",
       "city             0\n",
       "state           94\n",
       "lat              0\n",
       "lon              0\n",
       "dtype: int64"
      ]
     },
     "execution_count": 83,
     "metadata": {},
     "output_type": "execute_result"
    }
   ],
   "source": [
    "meta_members.isna().sum()"
   ]
  },
  {
   "cell_type": "code",
   "execution_count": 87,
   "id": "b715fa16",
   "metadata": {},
   "outputs": [
    {
     "data": {
      "text/plain": [
       "24591"
      ]
     },
     "execution_count": 87,
     "metadata": {},
     "output_type": "execute_result"
    }
   ],
   "source": [
    "len(meta_members['member_id'].unique())"
   ]
  },
  {
   "cell_type": "code",
   "execution_count": 86,
   "id": "920aa2fc",
   "metadata": {},
   "outputs": [
    {
     "data": {
      "text/plain": [
       "24591"
      ]
     },
     "execution_count": 86,
     "metadata": {},
     "output_type": "execute_result"
    }
   ],
   "source": [
    "len(meta_members)"
   ]
  },
  {
   "cell_type": "code",
   "execution_count": 89,
   "id": "b000819a",
   "metadata": {},
   "outputs": [],
   "source": []
  },
  {
   "cell_type": "code",
   "execution_count": null,
   "id": "5d972c84",
   "metadata": {},
   "outputs": [],
   "source": []
  },
  {
   "cell_type": "code",
   "execution_count": 109,
   "id": "f2569036",
   "metadata": {},
   "outputs": [
    {
     "data": {
      "text/html": [
       "<div>\n",
       "<style scoped>\n",
       "    .dataframe tbody tr th:only-of-type {\n",
       "        vertical-align: middle;\n",
       "    }\n",
       "\n",
       "    .dataframe tbody tr th {\n",
       "        vertical-align: top;\n",
       "    }\n",
       "\n",
       "    .dataframe thead th {\n",
       "        text-align: right;\n",
       "    }\n",
       "</style>\n",
       "<table border=\"1\" class=\"dataframe\">\n",
       "  <thead>\n",
       "    <tr style=\"text-align: right;\">\n",
       "      <th></th>\n",
       "      <th>member_id</th>\n",
       "      <th>name</th>\n",
       "      <th>hometown</th>\n",
       "      <th>city</th>\n",
       "      <th>state</th>\n",
       "      <th>lat</th>\n",
       "      <th>lon</th>\n",
       "    </tr>\n",
       "  </thead>\n",
       "  <tbody>\n",
       "    <tr>\n",
       "      <th>0</th>\n",
       "      <td>2069</td>\n",
       "      <td>Wesley Duffee-Braun</td>\n",
       "      <td>Brentwood</td>\n",
       "      <td>Brentwood</td>\n",
       "      <td>TN</td>\n",
       "      <td>36.00</td>\n",
       "      <td>-86.79</td>\n",
       "    </tr>\n",
       "    <tr>\n",
       "      <th>1</th>\n",
       "      <td>8386</td>\n",
       "      <td>Tim</td>\n",
       "      <td>Nashville</td>\n",
       "      <td>Nashville</td>\n",
       "      <td>TN</td>\n",
       "      <td>36.07</td>\n",
       "      <td>-86.78</td>\n",
       "    </tr>\n",
       "    <tr>\n",
       "      <th>2</th>\n",
       "      <td>9205</td>\n",
       "      <td>Brenda</td>\n",
       "      <td>Brentwood</td>\n",
       "      <td>Brentwood</td>\n",
       "      <td>TN</td>\n",
       "      <td>36.00</td>\n",
       "      <td>-86.79</td>\n",
       "    </tr>\n",
       "    <tr>\n",
       "      <th>3</th>\n",
       "      <td>17903</td>\n",
       "      <td>Steve</td>\n",
       "      <td>NaN</td>\n",
       "      <td>Nashville</td>\n",
       "      <td>TN</td>\n",
       "      <td>36.13</td>\n",
       "      <td>-86.80</td>\n",
       "    </tr>\n",
       "    <tr>\n",
       "      <th>4</th>\n",
       "      <td>20418</td>\n",
       "      <td>Andrea Reynolds</td>\n",
       "      <td>Huntington, WV</td>\n",
       "      <td>Nashville</td>\n",
       "      <td>TN</td>\n",
       "      <td>36.17</td>\n",
       "      <td>-86.72</td>\n",
       "    </tr>\n",
       "  </tbody>\n",
       "</table>\n",
       "</div>"
      ],
      "text/plain": [
       "   member_id                 name        hometown       city state    lat  \\\n",
       "0       2069  Wesley Duffee-Braun       Brentwood  Brentwood    TN  36.00   \n",
       "1       8386                  Tim       Nashville  Nashville    TN  36.07   \n",
       "2       9205               Brenda       Brentwood  Brentwood    TN  36.00   \n",
       "3      17903                Steve             NaN  Nashville    TN  36.13   \n",
       "4      20418      Andrea Reynolds  Huntington, WV  Nashville    TN  36.17   \n",
       "\n",
       "     lon  \n",
       "0 -86.79  \n",
       "1 -86.78  \n",
       "2 -86.79  \n",
       "3 -86.80  \n",
       "4 -86.72  "
      ]
     },
     "execution_count": 109,
     "metadata": {},
     "output_type": "execute_result"
    }
   ],
   "source": [
    "meta_members.head()"
   ]
  },
  {
   "cell_type": "code",
   "execution_count": 110,
   "id": "6a10a337",
   "metadata": {},
   "outputs": [
    {
     "data": {
      "text/html": [
       "<div>\n",
       "<style scoped>\n",
       "    .dataframe tbody tr th:only-of-type {\n",
       "        vertical-align: middle;\n",
       "    }\n",
       "\n",
       "    .dataframe tbody tr th {\n",
       "        vertical-align: top;\n",
       "    }\n",
       "\n",
       "    .dataframe thead th {\n",
       "        text-align: right;\n",
       "    }\n",
       "</style>\n",
       "<table border=\"1\" class=\"dataframe\">\n",
       "  <thead>\n",
       "    <tr style=\"text-align: right;\">\n",
       "      <th></th>\n",
       "      <th>event_id</th>\n",
       "      <th>member_id</th>\n",
       "      <th>group_id</th>\n",
       "    </tr>\n",
       "  </thead>\n",
       "  <tbody>\n",
       "    <tr>\n",
       "      <th>14137</th>\n",
       "      <td>239307600</td>\n",
       "      <td>2069</td>\n",
       "      <td>18855476</td>\n",
       "    </tr>\n",
       "    <tr>\n",
       "      <th>26704</th>\n",
       "      <td>kjzzdlyvcbrb</td>\n",
       "      <td>2069</td>\n",
       "      <td>17872862</td>\n",
       "    </tr>\n",
       "    <tr>\n",
       "      <th>29418</th>\n",
       "      <td>234956674</td>\n",
       "      <td>2069</td>\n",
       "      <td>19277993</td>\n",
       "    </tr>\n",
       "    <tr>\n",
       "      <th>29611</th>\n",
       "      <td>rwnwplyvkblb</td>\n",
       "      <td>2069</td>\n",
       "      <td>19277993</td>\n",
       "    </tr>\n",
       "    <tr>\n",
       "      <th>29699</th>\n",
       "      <td>rwnwplyvhbrb</td>\n",
       "      <td>2069</td>\n",
       "      <td>19277993</td>\n",
       "    </tr>\n",
       "    <tr>\n",
       "      <th>32844</th>\n",
       "      <td>qxncmlywlbzb</td>\n",
       "      <td>2069</td>\n",
       "      <td>405938</td>\n",
       "    </tr>\n",
       "    <tr>\n",
       "      <th>32847</th>\n",
       "      <td>241937707</td>\n",
       "      <td>2069</td>\n",
       "      <td>405938</td>\n",
       "    </tr>\n",
       "    <tr>\n",
       "      <th>32856</th>\n",
       "      <td>qxncmlywkbtb</td>\n",
       "      <td>2069</td>\n",
       "      <td>405938</td>\n",
       "    </tr>\n",
       "    <tr>\n",
       "      <th>36071</th>\n",
       "      <td>qgllhkyvcbqb</td>\n",
       "      <td>2069</td>\n",
       "      <td>11862932</td>\n",
       "    </tr>\n",
       "    <tr>\n",
       "      <th>36077</th>\n",
       "      <td>qgllhkytqblb</td>\n",
       "      <td>2069</td>\n",
       "      <td>11862932</td>\n",
       "    </tr>\n",
       "    <tr>\n",
       "      <th>41448</th>\n",
       "      <td>242195172</td>\n",
       "      <td>2069</td>\n",
       "      <td>17467312</td>\n",
       "    </tr>\n",
       "    <tr>\n",
       "      <th>74407</th>\n",
       "      <td>cldxflywnbgb</td>\n",
       "      <td>2069</td>\n",
       "      <td>11625832</td>\n",
       "    </tr>\n",
       "    <tr>\n",
       "      <th>74912</th>\n",
       "      <td>cldxflywfbcb</td>\n",
       "      <td>2069</td>\n",
       "      <td>11625832</td>\n",
       "    </tr>\n",
       "    <tr>\n",
       "      <th>75280</th>\n",
       "      <td>cldxflyvmbkb</td>\n",
       "      <td>2069</td>\n",
       "      <td>11625832</td>\n",
       "    </tr>\n",
       "    <tr>\n",
       "      <th>75482</th>\n",
       "      <td>cldxflyvhbgb</td>\n",
       "      <td>2069</td>\n",
       "      <td>11625832</td>\n",
       "    </tr>\n",
       "  </tbody>\n",
       "</table>\n",
       "</div>"
      ],
      "text/plain": [
       "           event_id  member_id  group_id\n",
       "14137     239307600       2069  18855476\n",
       "26704  kjzzdlyvcbrb       2069  17872862\n",
       "29418     234956674       2069  19277993\n",
       "29611  rwnwplyvkblb       2069  19277993\n",
       "29699  rwnwplyvhbrb       2069  19277993\n",
       "32844  qxncmlywlbzb       2069    405938\n",
       "32847     241937707       2069    405938\n",
       "32856  qxncmlywkbtb       2069    405938\n",
       "36071  qgllhkyvcbqb       2069  11862932\n",
       "36077  qgllhkytqblb       2069  11862932\n",
       "41448     242195172       2069  17467312\n",
       "74407  cldxflywnbgb       2069  11625832\n",
       "74912  cldxflywfbcb       2069  11625832\n",
       "75280  cldxflyvmbkb       2069  11625832\n",
       "75482  cldxflyvhbgb       2069  11625832"
      ]
     },
     "execution_count": 110,
     "metadata": {},
     "output_type": "execute_result"
    }
   ],
   "source": [
    "rsvps.loc[rsvps['member_id']==2069]"
   ]
  },
  {
   "cell_type": "code",
   "execution_count": null,
   "id": "dc42c3af",
   "metadata": {},
   "outputs": [],
   "source": []
  },
  {
   "cell_type": "code",
   "execution_count": 90,
   "id": "f7b023bb",
   "metadata": {},
   "outputs": [
    {
     "data": {
      "text/html": [
       "<div>\n",
       "<style scoped>\n",
       "    .dataframe tbody tr th:only-of-type {\n",
       "        vertical-align: middle;\n",
       "    }\n",
       "\n",
       "    .dataframe tbody tr th {\n",
       "        vertical-align: top;\n",
       "    }\n",
       "\n",
       "    .dataframe thead th {\n",
       "        text-align: right;\n",
       "    }\n",
       "</style>\n",
       "<table border=\"1\" class=\"dataframe\">\n",
       "  <thead>\n",
       "    <tr style=\"text-align: right;\">\n",
       "      <th></th>\n",
       "      <th>event_id</th>\n",
       "      <th>group_id</th>\n",
       "      <th>name</th>\n",
       "      <th>time</th>\n",
       "    </tr>\n",
       "  </thead>\n",
       "  <tbody>\n",
       "    <tr>\n",
       "      <th>0</th>\n",
       "      <td>243930425</td>\n",
       "      <td>26140018</td>\n",
       "      <td>2017 Nashville Walk to End Alzheimers - Octob...</td>\n",
       "      <td>2017-10-14 12:00:00</td>\n",
       "    </tr>\n",
       "    <tr>\n",
       "      <th>1</th>\n",
       "      <td>244208851</td>\n",
       "      <td>25604533</td>\n",
       "      <td>Steak Dinner on the Patio</td>\n",
       "      <td>2017-10-15 00:15:00</td>\n",
       "    </tr>\n",
       "    <tr>\n",
       "      <th>2</th>\n",
       "      <td>pxlktnywnbfb</td>\n",
       "      <td>25973656</td>\n",
       "      <td>Schedule Meetup</td>\n",
       "      <td>2017-10-03 23:30:00</td>\n",
       "    </tr>\n",
       "    <tr>\n",
       "      <th>3</th>\n",
       "      <td>244444551</td>\n",
       "      <td>18571126</td>\n",
       "      <td>Happy Hour Wednesday, Jonathan's Green Hills, ...</td>\n",
       "      <td>2017-10-25 22:30:00</td>\n",
       "    </tr>\n",
       "    <tr>\n",
       "      <th>4</th>\n",
       "      <td>244257722</td>\n",
       "      <td>18571126</td>\n",
       "      <td>Happy Hour Wednesday, Brentwood, Oct. 18</td>\n",
       "      <td>2017-10-18 22:30:00</td>\n",
       "    </tr>\n",
       "  </tbody>\n",
       "</table>\n",
       "</div>"
      ],
      "text/plain": [
       "       event_id  group_id                                               name  \\\n",
       "0     243930425  26140018  2017 Nashville Walk to End Alzheimers - Octob...   \n",
       "1     244208851  25604533                          Steak Dinner on the Patio   \n",
       "2  pxlktnywnbfb  25973656                                    Schedule Meetup   \n",
       "3     244444551  18571126  Happy Hour Wednesday, Jonathan's Green Hills, ...   \n",
       "4     244257722  18571126           Happy Hour Wednesday, Brentwood, Oct. 18   \n",
       "\n",
       "                  time  \n",
       "0  2017-10-14 12:00:00  \n",
       "1  2017-10-15 00:15:00  \n",
       "2  2017-10-03 23:30:00  \n",
       "3  2017-10-25 22:30:00  \n",
       "4  2017-10-18 22:30:00  "
      ]
     },
     "execution_count": 90,
     "metadata": {},
     "output_type": "execute_result"
    }
   ],
   "source": [
    "meta_events.head()"
   ]
  },
  {
   "cell_type": "markdown",
   "id": "b4304303",
   "metadata": {},
   "source": [
    "## Event Date Data\n",
    "Used Pandas Timestamp functionality to convert string date data to Timestamp\n",
    "Extracted day of week data for analysis"
   ]
  },
  {
   "cell_type": "code",
   "execution_count": null,
   "id": "f4d91d04",
   "metadata": {},
   "outputs": [],
   "source": [
    "#import pandas as pd\n",
    "\n",
    "#temp = pd.Timestamp('2020-11-25')\n",
    "#print(temp.dayofweek, temp.day_name())"
   ]
  },
  {
   "cell_type": "code",
   "execution_count": 120,
   "id": "d53e6859",
   "metadata": {},
   "outputs": [],
   "source": [
    "meta_events['time_ts']=meta_events['time'].apply(pd.Timestamp)\n",
    "#meta_events['day_of_week']=meta_events['time_ts'].day_name()"
   ]
  },
  {
   "cell_type": "code",
   "execution_count": 121,
   "id": "1cc6872b",
   "metadata": {},
   "outputs": [
    {
     "data": {
      "text/html": [
       "<div>\n",
       "<style scoped>\n",
       "    .dataframe tbody tr th:only-of-type {\n",
       "        vertical-align: middle;\n",
       "    }\n",
       "\n",
       "    .dataframe tbody tr th {\n",
       "        vertical-align: top;\n",
       "    }\n",
       "\n",
       "    .dataframe thead th {\n",
       "        text-align: right;\n",
       "    }\n",
       "</style>\n",
       "<table border=\"1\" class=\"dataframe\">\n",
       "  <thead>\n",
       "    <tr style=\"text-align: right;\">\n",
       "      <th></th>\n",
       "      <th>event_id</th>\n",
       "      <th>group_id</th>\n",
       "      <th>name</th>\n",
       "      <th>time</th>\n",
       "      <th>time_ts</th>\n",
       "    </tr>\n",
       "  </thead>\n",
       "  <tbody>\n",
       "    <tr>\n",
       "      <th>0</th>\n",
       "      <td>243930425</td>\n",
       "      <td>26140018</td>\n",
       "      <td>2017 Nashville Walk to End Alzheimers - Octob...</td>\n",
       "      <td>2017-10-14 12:00:00</td>\n",
       "      <td>2017-10-14 12:00:00</td>\n",
       "    </tr>\n",
       "    <tr>\n",
       "      <th>1</th>\n",
       "      <td>244208851</td>\n",
       "      <td>25604533</td>\n",
       "      <td>Steak Dinner on the Patio</td>\n",
       "      <td>2017-10-15 00:15:00</td>\n",
       "      <td>2017-10-15 00:15:00</td>\n",
       "    </tr>\n",
       "    <tr>\n",
       "      <th>2</th>\n",
       "      <td>pxlktnywnbfb</td>\n",
       "      <td>25973656</td>\n",
       "      <td>Schedule Meetup</td>\n",
       "      <td>2017-10-03 23:30:00</td>\n",
       "      <td>2017-10-03 23:30:00</td>\n",
       "    </tr>\n",
       "    <tr>\n",
       "      <th>3</th>\n",
       "      <td>244444551</td>\n",
       "      <td>18571126</td>\n",
       "      <td>Happy Hour Wednesday, Jonathan's Green Hills, ...</td>\n",
       "      <td>2017-10-25 22:30:00</td>\n",
       "      <td>2017-10-25 22:30:00</td>\n",
       "    </tr>\n",
       "    <tr>\n",
       "      <th>4</th>\n",
       "      <td>244257722</td>\n",
       "      <td>18571126</td>\n",
       "      <td>Happy Hour Wednesday, Brentwood, Oct. 18</td>\n",
       "      <td>2017-10-18 22:30:00</td>\n",
       "      <td>2017-10-18 22:30:00</td>\n",
       "    </tr>\n",
       "  </tbody>\n",
       "</table>\n",
       "</div>"
      ],
      "text/plain": [
       "       event_id  group_id                                               name  \\\n",
       "0     243930425  26140018  2017 Nashville Walk to End Alzheimers - Octob...   \n",
       "1     244208851  25604533                          Steak Dinner on the Patio   \n",
       "2  pxlktnywnbfb  25973656                                    Schedule Meetup   \n",
       "3     244444551  18571126  Happy Hour Wednesday, Jonathan's Green Hills, ...   \n",
       "4     244257722  18571126           Happy Hour Wednesday, Brentwood, Oct. 18   \n",
       "\n",
       "                  time             time_ts  \n",
       "0  2017-10-14 12:00:00 2017-10-14 12:00:00  \n",
       "1  2017-10-15 00:15:00 2017-10-15 00:15:00  \n",
       "2  2017-10-03 23:30:00 2017-10-03 23:30:00  \n",
       "3  2017-10-25 22:30:00 2017-10-25 22:30:00  \n",
       "4  2017-10-18 22:30:00 2017-10-18 22:30:00  "
      ]
     },
     "execution_count": 121,
     "metadata": {},
     "output_type": "execute_result"
    }
   ],
   "source": [
    "meta_events.head()"
   ]
  },
  {
   "cell_type": "code",
   "execution_count": 127,
   "id": "c1e0f223",
   "metadata": {},
   "outputs": [],
   "source": [
    "meta_events['day_of_week']=meta_events['time_ts'].apply(pd.Timestamp.day_name)"
   ]
  },
  {
   "cell_type": "code",
   "execution_count": 128,
   "id": "23166878",
   "metadata": {},
   "outputs": [
    {
     "data": {
      "text/html": [
       "<div>\n",
       "<style scoped>\n",
       "    .dataframe tbody tr th:only-of-type {\n",
       "        vertical-align: middle;\n",
       "    }\n",
       "\n",
       "    .dataframe tbody tr th {\n",
       "        vertical-align: top;\n",
       "    }\n",
       "\n",
       "    .dataframe thead th {\n",
       "        text-align: right;\n",
       "    }\n",
       "</style>\n",
       "<table border=\"1\" class=\"dataframe\">\n",
       "  <thead>\n",
       "    <tr style=\"text-align: right;\">\n",
       "      <th></th>\n",
       "      <th>event_id</th>\n",
       "      <th>group_id</th>\n",
       "      <th>name</th>\n",
       "      <th>time</th>\n",
       "      <th>time_ts</th>\n",
       "      <th>day_of_week</th>\n",
       "    </tr>\n",
       "  </thead>\n",
       "  <tbody>\n",
       "    <tr>\n",
       "      <th>0</th>\n",
       "      <td>243930425</td>\n",
       "      <td>26140018</td>\n",
       "      <td>2017 Nashville Walk to End Alzheimers - Octob...</td>\n",
       "      <td>2017-10-14 12:00:00</td>\n",
       "      <td>2017-10-14 12:00:00</td>\n",
       "      <td>Saturday</td>\n",
       "    </tr>\n",
       "    <tr>\n",
       "      <th>1</th>\n",
       "      <td>244208851</td>\n",
       "      <td>25604533</td>\n",
       "      <td>Steak Dinner on the Patio</td>\n",
       "      <td>2017-10-15 00:15:00</td>\n",
       "      <td>2017-10-15 00:15:00</td>\n",
       "      <td>Sunday</td>\n",
       "    </tr>\n",
       "    <tr>\n",
       "      <th>2</th>\n",
       "      <td>pxlktnywnbfb</td>\n",
       "      <td>25973656</td>\n",
       "      <td>Schedule Meetup</td>\n",
       "      <td>2017-10-03 23:30:00</td>\n",
       "      <td>2017-10-03 23:30:00</td>\n",
       "      <td>Tuesday</td>\n",
       "    </tr>\n",
       "    <tr>\n",
       "      <th>3</th>\n",
       "      <td>244444551</td>\n",
       "      <td>18571126</td>\n",
       "      <td>Happy Hour Wednesday, Jonathan's Green Hills, ...</td>\n",
       "      <td>2017-10-25 22:30:00</td>\n",
       "      <td>2017-10-25 22:30:00</td>\n",
       "      <td>Wednesday</td>\n",
       "    </tr>\n",
       "    <tr>\n",
       "      <th>4</th>\n",
       "      <td>244257722</td>\n",
       "      <td>18571126</td>\n",
       "      <td>Happy Hour Wednesday, Brentwood, Oct. 18</td>\n",
       "      <td>2017-10-18 22:30:00</td>\n",
       "      <td>2017-10-18 22:30:00</td>\n",
       "      <td>Wednesday</td>\n",
       "    </tr>\n",
       "  </tbody>\n",
       "</table>\n",
       "</div>"
      ],
      "text/plain": [
       "       event_id  group_id                                               name  \\\n",
       "0     243930425  26140018  2017 Nashville Walk to End Alzheimers - Octob...   \n",
       "1     244208851  25604533                          Steak Dinner on the Patio   \n",
       "2  pxlktnywnbfb  25973656                                    Schedule Meetup   \n",
       "3     244444551  18571126  Happy Hour Wednesday, Jonathan's Green Hills, ...   \n",
       "4     244257722  18571126           Happy Hour Wednesday, Brentwood, Oct. 18   \n",
       "\n",
       "                  time             time_ts day_of_week  \n",
       "0  2017-10-14 12:00:00 2017-10-14 12:00:00    Saturday  \n",
       "1  2017-10-15 00:15:00 2017-10-15 00:15:00      Sunday  \n",
       "2  2017-10-03 23:30:00 2017-10-03 23:30:00     Tuesday  \n",
       "3  2017-10-25 22:30:00 2017-10-25 22:30:00   Wednesday  \n",
       "4  2017-10-18 22:30:00 2017-10-18 22:30:00   Wednesday  "
      ]
     },
     "execution_count": 128,
     "metadata": {},
     "output_type": "execute_result"
    }
   ],
   "source": [
    "meta_events.head()"
   ]
  },
  {
   "cell_type": "code",
   "execution_count": 129,
   "id": "5fa38d55",
   "metadata": {},
   "outputs": [
    {
     "name": "stdout",
     "output_type": "stream",
     "text": [
      "2015-11-01 01:00:00\n",
      "2017-10-30 23:15:00\n",
      "729 days 22:15:00\n"
     ]
    }
   ],
   "source": [
    "print(min(meta_events['time_ts']))\n",
    "print(max(meta_events['time_ts']))\n",
    "print(max(meta_events['time_ts'])-min(meta_events['time_ts']))"
   ]
  },
  {
   "cell_type": "code",
   "execution_count": 130,
   "id": "a45ca2e2",
   "metadata": {},
   "outputs": [
    {
     "data": {
      "text/plain": [
       "1.9972602739726026"
      ]
     },
     "execution_count": 130,
     "metadata": {},
     "output_type": "execute_result"
    }
   ],
   "source": [
    "729/365"
   ]
  },
  {
   "cell_type": "code",
   "execution_count": null,
   "id": "dd2cd2eb",
   "metadata": {},
   "outputs": [],
   "source": []
  },
  {
   "cell_type": "code",
   "execution_count": null,
   "id": "ed43568f",
   "metadata": {},
   "outputs": [],
   "source": []
  },
  {
   "cell_type": "code",
   "execution_count": null,
   "id": "fba67e0f",
   "metadata": {},
   "outputs": [],
   "source": []
  },
  {
   "cell_type": "markdown",
   "id": "9c09010f",
   "metadata": {},
   "source": [
    "Initial exploration of the different attributes of the data and what values existed"
   ]
  },
  {
   "cell_type": "code",
   "execution_count": 131,
   "id": "6351696a",
   "metadata": {},
   "outputs": [
    {
     "data": {
      "text/html": [
       "<div>\n",
       "<style scoped>\n",
       "    .dataframe tbody tr th:only-of-type {\n",
       "        vertical-align: middle;\n",
       "    }\n",
       "\n",
       "    .dataframe tbody tr th {\n",
       "        vertical-align: top;\n",
       "    }\n",
       "\n",
       "    .dataframe thead th {\n",
       "        text-align: right;\n",
       "    }\n",
       "</style>\n",
       "<table border=\"1\" class=\"dataframe\">\n",
       "  <thead>\n",
       "    <tr style=\"text-align: right;\">\n",
       "      <th></th>\n",
       "      <th>group_id</th>\n",
       "      <th>group_name</th>\n",
       "      <th>num_members</th>\n",
       "      <th>category_id</th>\n",
       "      <th>category_name</th>\n",
       "      <th>organizer_id</th>\n",
       "      <th>group_urlname</th>\n",
       "    </tr>\n",
       "  </thead>\n",
       "  <tbody>\n",
       "    <tr>\n",
       "      <th>0</th>\n",
       "      <td>339011</td>\n",
       "      <td>Nashville Hiking Meetup</td>\n",
       "      <td>15838</td>\n",
       "      <td>23</td>\n",
       "      <td>Outdoors &amp; Adventure</td>\n",
       "      <td>4353803</td>\n",
       "      <td>nashville-hiking</td>\n",
       "    </tr>\n",
       "    <tr>\n",
       "      <th>1</th>\n",
       "      <td>19728145</td>\n",
       "      <td>Stepping Out Social Dance Meetup</td>\n",
       "      <td>1778</td>\n",
       "      <td>5</td>\n",
       "      <td>Dancing</td>\n",
       "      <td>118484462</td>\n",
       "      <td>steppingoutsocialdance</td>\n",
       "    </tr>\n",
       "    <tr>\n",
       "      <th>2</th>\n",
       "      <td>6335372</td>\n",
       "      <td>Nashville soccer</td>\n",
       "      <td>2869</td>\n",
       "      <td>32</td>\n",
       "      <td>Sports &amp; Recreation</td>\n",
       "      <td>108448302</td>\n",
       "      <td>Nashville-soccer</td>\n",
       "    </tr>\n",
       "    <tr>\n",
       "      <th>3</th>\n",
       "      <td>10016242</td>\n",
       "      <td>NashJS</td>\n",
       "      <td>1975</td>\n",
       "      <td>34</td>\n",
       "      <td>Tech</td>\n",
       "      <td>8111102</td>\n",
       "      <td>nashjs</td>\n",
       "    </tr>\n",
       "    <tr>\n",
       "      <th>4</th>\n",
       "      <td>21174496</td>\n",
       "      <td>20's &amp; 30's Women looking for girlfriends</td>\n",
       "      <td>2782</td>\n",
       "      <td>31</td>\n",
       "      <td>Socializing</td>\n",
       "      <td>184580248</td>\n",
       "      <td>new-friends-in-Nashville</td>\n",
       "    </tr>\n",
       "  </tbody>\n",
       "</table>\n",
       "</div>"
      ],
      "text/plain": [
       "   group_id                                 group_name  num_members  \\\n",
       "0    339011                    Nashville Hiking Meetup        15838   \n",
       "1  19728145           Stepping Out Social Dance Meetup         1778   \n",
       "2   6335372                           Nashville soccer         2869   \n",
       "3  10016242                                     NashJS         1975   \n",
       "4  21174496  20's & 30's Women looking for girlfriends         2782   \n",
       "\n",
       "   category_id         category_name  organizer_id             group_urlname  \n",
       "0           23  Outdoors & Adventure       4353803          nashville-hiking  \n",
       "1            5               Dancing     118484462    steppingoutsocialdance  \n",
       "2           32   Sports & Recreation     108448302          Nashville-soccer  \n",
       "3           34                  Tech       8111102                    nashjs  \n",
       "4           31           Socializing     184580248  new-friends-in-Nashville  "
      ]
     },
     "execution_count": 131,
     "metadata": {},
     "output_type": "execute_result"
    }
   ],
   "source": [
    "meta_groups.head()"
   ]
  },
  {
   "cell_type": "code",
   "execution_count": 132,
   "id": "f697e171",
   "metadata": {},
   "outputs": [
    {
     "data": {
      "text/plain": [
       "array(['Outdoors & Adventure', 'Dancing', 'Sports & Recreation', 'Tech',\n",
       "       'Socializing', 'Religion & Beliefs', 'Singles', 'Writing', 'Games',\n",
       "       'Career & Business', 'Pets & Animals', 'Music', 'Food & Drink',\n",
       "       'LGBT', 'New Age & Spirituality', 'Movements & Politics',\n",
       "       'Health & Wellbeing', 'Education & Learning',\n",
       "       'Language & Ethnic Identity', 'Arts & Culture',\n",
       "       'Cars & Motorcycles', 'Book Clubs', 'Photography',\n",
       "       'Community & Environment', 'Hobbies & Crafts', 'Movies & Film',\n",
       "       'Fitness', 'Support', 'Sci-Fi & Fantasy', 'Fashion & Beauty',\n",
       "       'Parents & Family'], dtype=object)"
      ]
     },
     "execution_count": 132,
     "metadata": {},
     "output_type": "execute_result"
    }
   ],
   "source": [
    "meta_groups['category_name'].unique()"
   ]
  },
  {
   "cell_type": "code",
   "execution_count": 134,
   "id": "37136d70",
   "metadata": {},
   "outputs": [
    {
     "data": {
      "text/plain": [
       "category_name\n",
       "Arts & Culture                  9\n",
       "Book Clubs                     11\n",
       "Career & Business              93\n",
       "Cars & Motorcycles              2\n",
       "Community & Environment        20\n",
       "Dancing                         5\n",
       "Education & Learning           13\n",
       "Fashion & Beauty                4\n",
       "Fitness                        14\n",
       "Food & Drink                   15\n",
       "Games                          20\n",
       "Health & Wellbeing             36\n",
       "Hobbies & Crafts                6\n",
       "LGBT                            6\n",
       "Language & Ethnic Identity     13\n",
       "Movements & Politics           12\n",
       "Movies & Film                   6\n",
       "Music                          19\n",
       "New Age & Spirituality         33\n",
       "Outdoors & Adventure           36\n",
       "Parents & Family                7\n",
       "Pets & Animals                  6\n",
       "Photography                     5\n",
       "Religion & Beliefs             18\n",
       "Sci-Fi & Fantasy                4\n",
       "Singles                         3\n",
       "Socializing                    48\n",
       "Sports & Recreation            26\n",
       "Support                         9\n",
       "Tech                          100\n",
       "Writing                         3\n",
       "Name: group_id, dtype: int64"
      ]
     },
     "execution_count": 134,
     "metadata": {},
     "output_type": "execute_result"
    }
   ],
   "source": [
    "meta_groups.groupby('category_name')['group_id'].size()"
   ]
  },
  {
   "cell_type": "code",
   "execution_count": 283,
   "id": "d992195c",
   "metadata": {},
   "outputs": [
    {
     "name": "stdout",
     "output_type": "stream",
     "text": [
      "878\n"
     ]
    },
    {
     "data": {
      "text/html": [
       "<div>\n",
       "<style scoped>\n",
       "    .dataframe tbody tr th:only-of-type {\n",
       "        vertical-align: middle;\n",
       "    }\n",
       "\n",
       "    .dataframe tbody tr th {\n",
       "        vertical-align: top;\n",
       "    }\n",
       "\n",
       "    .dataframe thead th {\n",
       "        text-align: right;\n",
       "    }\n",
       "</style>\n",
       "<table border=\"1\" class=\"dataframe\">\n",
       "  <thead>\n",
       "    <tr style=\"text-align: right;\">\n",
       "      <th></th>\n",
       "      <th>group_id</th>\n",
       "      <th>group_name</th>\n",
       "      <th>num_members</th>\n",
       "      <th>category_id</th>\n",
       "      <th>category_name</th>\n",
       "      <th>organizer_id</th>\n",
       "      <th>group_urlname</th>\n",
       "      <th>avg_rsvps</th>\n",
       "      <th>first_event</th>\n",
       "      <th>num_events</th>\n",
       "    </tr>\n",
       "  </thead>\n",
       "  <tbody>\n",
       "    <tr>\n",
       "      <th>0</th>\n",
       "      <td>339011</td>\n",
       "      <td>Nashville Hiking Meetup</td>\n",
       "      <td>15838</td>\n",
       "      <td>23</td>\n",
       "      <td>Outdoors &amp; Adventure</td>\n",
       "      <td>4353803</td>\n",
       "      <td>nashville-hiking</td>\n",
       "      <td>10.462312</td>\n",
       "      <td>2017-06-14 14:00:00</td>\n",
       "      <td>200</td>\n",
       "    </tr>\n",
       "  </tbody>\n",
       "</table>\n",
       "</div>"
      ],
      "text/plain": [
       "   group_id               group_name  num_members  category_id  \\\n",
       "0    339011  Nashville Hiking Meetup        15838           23   \n",
       "\n",
       "          category_name  organizer_id     group_urlname  avg_rsvps  \\\n",
       "0  Outdoors & Adventure       4353803  nashville-hiking  10.462312   \n",
       "\n",
       "          first_event  num_events  \n",
       "0 2017-06-14 14:00:00         200  "
      ]
     },
     "execution_count": 283,
     "metadata": {},
     "output_type": "execute_result"
    }
   ],
   "source": [
    "#shows that the number of members isn't based on this data set\n",
    "\n",
    "print(len(m_to_g_edges.loc[m_to_g_edges['group_id']==339011]['member_id'].unique()))\n",
    "meta_groups.loc[meta_groups['group_id']==339011]"
   ]
  },
  {
   "cell_type": "code",
   "execution_count": null,
   "id": "d3cd4eaf",
   "metadata": {},
   "outputs": [],
   "source": [
    "'''I was going to check if you had to be a member to attend an event, but I don't have specific membership data,\n",
    "only member id and group id'''\n",
    "#rsvps.loc[rsvps['group_id']==339011]['member_id'].unique().isin()"
   ]
  },
  {
   "cell_type": "code",
   "execution_count": 149,
   "id": "edc90e90",
   "metadata": {},
   "outputs": [],
   "source": [
    "#count number of rsvps per event per group and get average number of attendees\n",
    "test = rsvps.groupby(['group_id','event_id'])['member_id'].size().reset_index(name='counts')"
   ]
  },
  {
   "cell_type": "code",
   "execution_count": 161,
   "id": "7c852563",
   "metadata": {},
   "outputs": [],
   "source": [
    "meta_groups = meta_groups.drop(labels=['avg_rsvps'], axis = 1)"
   ]
  },
  {
   "cell_type": "code",
   "execution_count": 168,
   "id": "85bc3f87",
   "metadata": {},
   "outputs": [],
   "source": [
    "temp_gp = rsvps.groupby(['group_id','event_id'])['member_id'].size().groupby('group_id').agg('mean').reset_index(name='avg_rsvps')"
   ]
  },
  {
   "cell_type": "code",
   "execution_count": 171,
   "id": "5e095958",
   "metadata": {},
   "outputs": [
    {
     "data": {
      "text/html": [
       "<div>\n",
       "<style scoped>\n",
       "    .dataframe tbody tr th:only-of-type {\n",
       "        vertical-align: middle;\n",
       "    }\n",
       "\n",
       "    .dataframe tbody tr th {\n",
       "        vertical-align: top;\n",
       "    }\n",
       "\n",
       "    .dataframe thead th {\n",
       "        text-align: right;\n",
       "    }\n",
       "</style>\n",
       "<table border=\"1\" class=\"dataframe\">\n",
       "  <thead>\n",
       "    <tr style=\"text-align: right;\">\n",
       "      <th></th>\n",
       "      <th>group_id</th>\n",
       "      <th>avg_rsvps</th>\n",
       "    </tr>\n",
       "  </thead>\n",
       "  <tbody>\n",
       "    <tr>\n",
       "      <th>598</th>\n",
       "      <td>26282355</td>\n",
       "      <td>1.333333</td>\n",
       "    </tr>\n",
       "  </tbody>\n",
       "</table>\n",
       "</div>"
      ],
      "text/plain": [
       "     group_id  avg_rsvps\n",
       "598  26282355   1.333333"
      ]
     },
     "execution_count": 171,
     "metadata": {},
     "output_type": "execute_result"
    }
   ],
   "source": [
    "temp_gp.loc[temp_gp['group_id']==26282355]"
   ]
  },
  {
   "cell_type": "code",
   "execution_count": 172,
   "id": "3fda2bbc",
   "metadata": {},
   "outputs": [],
   "source": [
    "#complete meta_groups data set adding avg_rsvps\n",
    "meta_groups=meta_groups.merge(temp_gp, how = 'left', on = 'group_id')"
   ]
  },
  {
   "cell_type": "code",
   "execution_count": 173,
   "id": "d90b3aac",
   "metadata": {},
   "outputs": [
    {
     "data": {
      "text/html": [
       "<div>\n",
       "<style scoped>\n",
       "    .dataframe tbody tr th:only-of-type {\n",
       "        vertical-align: middle;\n",
       "    }\n",
       "\n",
       "    .dataframe tbody tr th {\n",
       "        vertical-align: top;\n",
       "    }\n",
       "\n",
       "    .dataframe thead th {\n",
       "        text-align: right;\n",
       "    }\n",
       "</style>\n",
       "<table border=\"1\" class=\"dataframe\">\n",
       "  <thead>\n",
       "    <tr style=\"text-align: right;\">\n",
       "      <th></th>\n",
       "      <th>group_id</th>\n",
       "      <th>group_name</th>\n",
       "      <th>num_members</th>\n",
       "      <th>category_id</th>\n",
       "      <th>category_name</th>\n",
       "      <th>organizer_id</th>\n",
       "      <th>group_urlname</th>\n",
       "      <th>avg_rsvps</th>\n",
       "    </tr>\n",
       "  </thead>\n",
       "  <tbody>\n",
       "    <tr>\n",
       "      <th>0</th>\n",
       "      <td>339011</td>\n",
       "      <td>Nashville Hiking Meetup</td>\n",
       "      <td>15838</td>\n",
       "      <td>23</td>\n",
       "      <td>Outdoors &amp; Adventure</td>\n",
       "      <td>4353803</td>\n",
       "      <td>nashville-hiking</td>\n",
       "      <td>10.462312</td>\n",
       "    </tr>\n",
       "    <tr>\n",
       "      <th>1</th>\n",
       "      <td>19728145</td>\n",
       "      <td>Stepping Out Social Dance Meetup</td>\n",
       "      <td>1778</td>\n",
       "      <td>5</td>\n",
       "      <td>Dancing</td>\n",
       "      <td>118484462</td>\n",
       "      <td>steppingoutsocialdance</td>\n",
       "      <td>16.575000</td>\n",
       "    </tr>\n",
       "    <tr>\n",
       "      <th>2</th>\n",
       "      <td>6335372</td>\n",
       "      <td>Nashville soccer</td>\n",
       "      <td>2869</td>\n",
       "      <td>32</td>\n",
       "      <td>Sports &amp; Recreation</td>\n",
       "      <td>108448302</td>\n",
       "      <td>Nashville-soccer</td>\n",
       "      <td>17.945000</td>\n",
       "    </tr>\n",
       "    <tr>\n",
       "      <th>3</th>\n",
       "      <td>10016242</td>\n",
       "      <td>NashJS</td>\n",
       "      <td>1975</td>\n",
       "      <td>34</td>\n",
       "      <td>Tech</td>\n",
       "      <td>8111102</td>\n",
       "      <td>nashjs</td>\n",
       "      <td>81.782609</td>\n",
       "    </tr>\n",
       "    <tr>\n",
       "      <th>4</th>\n",
       "      <td>21174496</td>\n",
       "      <td>20's &amp; 30's Women looking for girlfriends</td>\n",
       "      <td>2782</td>\n",
       "      <td>31</td>\n",
       "      <td>Socializing</td>\n",
       "      <td>184580248</td>\n",
       "      <td>new-friends-in-Nashville</td>\n",
       "      <td>30.450000</td>\n",
       "    </tr>\n",
       "  </tbody>\n",
       "</table>\n",
       "</div>"
      ],
      "text/plain": [
       "   group_id                                 group_name  num_members  \\\n",
       "0    339011                    Nashville Hiking Meetup        15838   \n",
       "1  19728145           Stepping Out Social Dance Meetup         1778   \n",
       "2   6335372                           Nashville soccer         2869   \n",
       "3  10016242                                     NashJS         1975   \n",
       "4  21174496  20's & 30's Women looking for girlfriends         2782   \n",
       "\n",
       "   category_id         category_name  organizer_id             group_urlname  \\\n",
       "0           23  Outdoors & Adventure       4353803          nashville-hiking   \n",
       "1            5               Dancing     118484462    steppingoutsocialdance   \n",
       "2           32   Sports & Recreation     108448302          Nashville-soccer   \n",
       "3           34                  Tech       8111102                    nashjs   \n",
       "4           31           Socializing     184580248  new-friends-in-Nashville   \n",
       "\n",
       "   avg_rsvps  \n",
       "0  10.462312  \n",
       "1  16.575000  \n",
       "2  17.945000  \n",
       "3  81.782609  \n",
       "4  30.450000  "
      ]
     },
     "execution_count": 173,
     "metadata": {},
     "output_type": "execute_result"
    }
   ],
   "source": [
    "meta_groups.head()"
   ]
  },
  {
   "cell_type": "code",
   "execution_count": 176,
   "id": "5fe12c0e",
   "metadata": {},
   "outputs": [],
   "source": [
    "#complete meta_groups data_set adding earliest event as proxy for group creation\n",
    "meta_groups=meta_groups.merge(meta_events.groupby(['group_id'])['time_ts'].agg('min').reset_index(name='first_event'),how='left',on='group_id')"
   ]
  },
  {
   "cell_type": "code",
   "execution_count": 178,
   "id": "38620b19",
   "metadata": {},
   "outputs": [],
   "source": [
    "#complete meta_groups data set adding number of events total\n",
    "meta_groups=meta_groups.merge(meta_events.groupby(['group_id'])['event_id'].size().reset_index(name='num_events'),how='left',on='group_id')"
   ]
  },
  {
   "cell_type": "code",
   "execution_count": 175,
   "id": "4f8c4b49",
   "metadata": {},
   "outputs": [
    {
     "data": {
      "text/html": [
       "<div>\n",
       "<style scoped>\n",
       "    .dataframe tbody tr th:only-of-type {\n",
       "        vertical-align: middle;\n",
       "    }\n",
       "\n",
       "    .dataframe tbody tr th {\n",
       "        vertical-align: top;\n",
       "    }\n",
       "\n",
       "    .dataframe thead th {\n",
       "        text-align: right;\n",
       "    }\n",
       "</style>\n",
       "<table border=\"1\" class=\"dataframe\">\n",
       "  <thead>\n",
       "    <tr style=\"text-align: right;\">\n",
       "      <th></th>\n",
       "      <th>event_id</th>\n",
       "      <th>group_id</th>\n",
       "      <th>name</th>\n",
       "      <th>time</th>\n",
       "      <th>time_ts</th>\n",
       "      <th>day_of_week</th>\n",
       "    </tr>\n",
       "  </thead>\n",
       "  <tbody>\n",
       "    <tr>\n",
       "      <th>92</th>\n",
       "      <td>244479480</td>\n",
       "      <td>26282355</td>\n",
       "      <td>Moss Wright Park Meetup</td>\n",
       "      <td>2017-10-28 12:30:00</td>\n",
       "      <td>2017-10-28 12:30:00</td>\n",
       "      <td>Saturday</td>\n",
       "    </tr>\n",
       "    <tr>\n",
       "      <th>93</th>\n",
       "      <td>244293547</td>\n",
       "      <td>26282355</td>\n",
       "      <td>Moss Right Park</td>\n",
       "      <td>2017-10-21 13:00:00</td>\n",
       "      <td>2017-10-21 13:00:00</td>\n",
       "      <td>Saturday</td>\n",
       "    </tr>\n",
       "    <tr>\n",
       "      <th>94</th>\n",
       "      <td>244246979</td>\n",
       "      <td>26282355</td>\n",
       "      <td>Moss Right Park</td>\n",
       "      <td>2017-10-17 23:00:00</td>\n",
       "      <td>2017-10-17 23:00:00</td>\n",
       "      <td>Tuesday</td>\n",
       "    </tr>\n",
       "  </tbody>\n",
       "</table>\n",
       "</div>"
      ],
      "text/plain": [
       "     event_id  group_id                     name                 time  \\\n",
       "92  244479480  26282355  Moss Wright Park Meetup  2017-10-28 12:30:00   \n",
       "93  244293547  26282355          Moss Right Park  2017-10-21 13:00:00   \n",
       "94  244246979  26282355          Moss Right Park  2017-10-17 23:00:00   \n",
       "\n",
       "               time_ts day_of_week  \n",
       "92 2017-10-28 12:30:00    Saturday  \n",
       "93 2017-10-21 13:00:00    Saturday  \n",
       "94 2017-10-17 23:00:00     Tuesday  "
      ]
     },
     "execution_count": 175,
     "metadata": {},
     "output_type": "execute_result"
    }
   ],
   "source": [
    "#sanity check to confirm number of events were counted correctly\n",
    "meta_events.loc[meta_events['group_id']==26282355]"
   ]
  },
  {
   "cell_type": "code",
   "execution_count": 156,
   "id": "437792e9",
   "metadata": {},
   "outputs": [
    {
     "data": {
      "text/html": [
       "<div>\n",
       "<style scoped>\n",
       "    .dataframe tbody tr th:only-of-type {\n",
       "        vertical-align: middle;\n",
       "    }\n",
       "\n",
       "    .dataframe tbody tr th {\n",
       "        vertical-align: top;\n",
       "    }\n",
       "\n",
       "    .dataframe thead th {\n",
       "        text-align: right;\n",
       "    }\n",
       "</style>\n",
       "<table border=\"1\" class=\"dataframe\">\n",
       "  <thead>\n",
       "    <tr style=\"text-align: right;\">\n",
       "      <th></th>\n",
       "      <th>group_id</th>\n",
       "      <th>event_id</th>\n",
       "      <th>counts</th>\n",
       "    </tr>\n",
       "  </thead>\n",
       "  <tbody>\n",
       "    <tr>\n",
       "      <th>19024</th>\n",
       "      <td>26282355</td>\n",
       "      <td>244246979</td>\n",
       "      <td>2</td>\n",
       "    </tr>\n",
       "    <tr>\n",
       "      <th>19025</th>\n",
       "      <td>26282355</td>\n",
       "      <td>244293547</td>\n",
       "      <td>1</td>\n",
       "    </tr>\n",
       "    <tr>\n",
       "      <th>19026</th>\n",
       "      <td>26282355</td>\n",
       "      <td>244479480</td>\n",
       "      <td>1</td>\n",
       "    </tr>\n",
       "  </tbody>\n",
       "</table>\n",
       "</div>"
      ],
      "text/plain": [
       "       group_id   event_id  counts\n",
       "19024  26282355  244246979       2\n",
       "19025  26282355  244293547       1\n",
       "19026  26282355  244479480       1"
      ]
     },
     "execution_count": 156,
     "metadata": {},
     "output_type": "execute_result"
    }
   ],
   "source": [
    "test.loc[test['group_id']==26282355]"
   ]
  },
  {
   "cell_type": "code",
   "execution_count": 179,
   "id": "5f84a96e",
   "metadata": {},
   "outputs": [
    {
     "data": {
      "text/html": [
       "<div>\n",
       "<style scoped>\n",
       "    .dataframe tbody tr th:only-of-type {\n",
       "        vertical-align: middle;\n",
       "    }\n",
       "\n",
       "    .dataframe tbody tr th {\n",
       "        vertical-align: top;\n",
       "    }\n",
       "\n",
       "    .dataframe thead th {\n",
       "        text-align: right;\n",
       "    }\n",
       "</style>\n",
       "<table border=\"1\" class=\"dataframe\">\n",
       "  <thead>\n",
       "    <tr style=\"text-align: right;\">\n",
       "      <th></th>\n",
       "      <th>group_id</th>\n",
       "      <th>group_name</th>\n",
       "      <th>num_members</th>\n",
       "      <th>category_id</th>\n",
       "      <th>category_name</th>\n",
       "      <th>organizer_id</th>\n",
       "      <th>group_urlname</th>\n",
       "      <th>avg_rsvps</th>\n",
       "      <th>first_event</th>\n",
       "      <th>num_events</th>\n",
       "    </tr>\n",
       "  </thead>\n",
       "  <tbody>\n",
       "    <tr>\n",
       "      <th>330</th>\n",
       "      <td>26282355</td>\n",
       "      <td>Goodlettsville Roadrunners</td>\n",
       "      <td>11</td>\n",
       "      <td>9</td>\n",
       "      <td>Fitness</td>\n",
       "      <td>184360544</td>\n",
       "      <td>Goodlettsville-Roadrunners</td>\n",
       "      <td>1.333333</td>\n",
       "      <td>2017-10-17 23:00:00</td>\n",
       "      <td>3</td>\n",
       "    </tr>\n",
       "  </tbody>\n",
       "</table>\n",
       "</div>"
      ],
      "text/plain": [
       "     group_id                  group_name  num_members  category_id  \\\n",
       "330  26282355  Goodlettsville Roadrunners           11            9   \n",
       "\n",
       "    category_name  organizer_id               group_urlname  avg_rsvps  \\\n",
       "330       Fitness     184360544  Goodlettsville-Roadrunners   1.333333   \n",
       "\n",
       "            first_event  num_events  \n",
       "330 2017-10-17 23:00:00           3  "
      ]
     },
     "execution_count": 179,
     "metadata": {},
     "output_type": "execute_result"
    }
   ],
   "source": [
    "#sanity check paired with above to confirm data were output correctly\n",
    "meta_groups.loc[meta_groups['group_id']==26282355]"
   ]
  },
  {
   "cell_type": "code",
   "execution_count": 225,
   "id": "0e191d08",
   "metadata": {},
   "outputs": [
    {
     "data": {
      "text/plain": [
       "349"
      ]
     },
     "execution_count": 225,
     "metadata": {},
     "output_type": "execute_result"
    }
   ],
   "source": [
    "#examining how many groups would remain if I subset the data to only include the last year\n",
    "len(meta_groups.loc[meta_groups['first_event']<(max(meta_events['time_ts']).round('d')-pd.DateOffset(months=12))])"
   ]
  },
  {
   "cell_type": "code",
   "execution_count": 223,
   "id": "4a284811",
   "metadata": {},
   "outputs": [
    {
     "data": {
      "text/plain": [
       "Timestamp('2017-08-31 00:00:00')"
      ]
     },
     "execution_count": 223,
     "metadata": {},
     "output_type": "execute_result"
    }
   ],
   "source": [
    "max(meta_events['time_ts']).round('d')-pd.DateOffset(months=2)"
   ]
  },
  {
   "cell_type": "code",
   "execution_count": 145,
   "id": "27f93e6b",
   "metadata": {},
   "outputs": [
    {
     "data": {
      "text/html": [
       "<div>\n",
       "<style scoped>\n",
       "    .dataframe tbody tr th:only-of-type {\n",
       "        vertical-align: middle;\n",
       "    }\n",
       "\n",
       "    .dataframe tbody tr th {\n",
       "        vertical-align: top;\n",
       "    }\n",
       "\n",
       "    .dataframe thead th {\n",
       "        text-align: right;\n",
       "    }\n",
       "</style>\n",
       "<table border=\"1\" class=\"dataframe\">\n",
       "  <thead>\n",
       "    <tr style=\"text-align: right;\">\n",
       "      <th></th>\n",
       "      <th>event_id</th>\n",
       "      <th>member_id</th>\n",
       "      <th>group_id</th>\n",
       "    </tr>\n",
       "  </thead>\n",
       "  <tbody>\n",
       "    <tr>\n",
       "      <th>102793</th>\n",
       "      <td>235958072</td>\n",
       "      <td>45253562</td>\n",
       "      <td>47094</td>\n",
       "    </tr>\n",
       "    <tr>\n",
       "      <th>102794</th>\n",
       "      <td>235958072</td>\n",
       "      <td>133931222</td>\n",
       "      <td>47094</td>\n",
       "    </tr>\n",
       "    <tr>\n",
       "      <th>102795</th>\n",
       "      <td>235958072</td>\n",
       "      <td>211623283</td>\n",
       "      <td>47094</td>\n",
       "    </tr>\n",
       "    <tr>\n",
       "      <th>102796</th>\n",
       "      <td>235958072</td>\n",
       "      <td>185299351</td>\n",
       "      <td>47094</td>\n",
       "    </tr>\n",
       "    <tr>\n",
       "      <th>102797</th>\n",
       "      <td>235958072</td>\n",
       "      <td>208234459</td>\n",
       "      <td>47094</td>\n",
       "    </tr>\n",
       "    <tr>\n",
       "      <th>102798</th>\n",
       "      <td>235958072</td>\n",
       "      <td>14040142</td>\n",
       "      <td>47094</td>\n",
       "    </tr>\n",
       "    <tr>\n",
       "      <th>102799</th>\n",
       "      <td>235958072</td>\n",
       "      <td>218342229</td>\n",
       "      <td>47094</td>\n",
       "    </tr>\n",
       "    <tr>\n",
       "      <th>102800</th>\n",
       "      <td>235958072</td>\n",
       "      <td>48664802</td>\n",
       "      <td>47094</td>\n",
       "    </tr>\n",
       "    <tr>\n",
       "      <th>102801</th>\n",
       "      <td>235958072</td>\n",
       "      <td>189365973</td>\n",
       "      <td>47094</td>\n",
       "    </tr>\n",
       "    <tr>\n",
       "      <th>102802</th>\n",
       "      <td>235958072</td>\n",
       "      <td>32832232</td>\n",
       "      <td>47094</td>\n",
       "    </tr>\n",
       "    <tr>\n",
       "      <th>102803</th>\n",
       "      <td>235958072</td>\n",
       "      <td>163960702</td>\n",
       "      <td>47094</td>\n",
       "    </tr>\n",
       "    <tr>\n",
       "      <th>102804</th>\n",
       "      <td>235958072</td>\n",
       "      <td>108371612</td>\n",
       "      <td>47094</td>\n",
       "    </tr>\n",
       "    <tr>\n",
       "      <th>102805</th>\n",
       "      <td>235958072</td>\n",
       "      <td>96613192</td>\n",
       "      <td>47094</td>\n",
       "    </tr>\n",
       "    <tr>\n",
       "      <th>102806</th>\n",
       "      <td>235958072</td>\n",
       "      <td>5220206</td>\n",
       "      <td>47094</td>\n",
       "    </tr>\n",
       "    <tr>\n",
       "      <th>102807</th>\n",
       "      <td>235958072</td>\n",
       "      <td>178778422</td>\n",
       "      <td>47094</td>\n",
       "    </tr>\n",
       "  </tbody>\n",
       "</table>\n",
       "</div>"
      ],
      "text/plain": [
       "         event_id  member_id  group_id\n",
       "102793  235958072   45253562     47094\n",
       "102794  235958072  133931222     47094\n",
       "102795  235958072  211623283     47094\n",
       "102796  235958072  185299351     47094\n",
       "102797  235958072  208234459     47094\n",
       "102798  235958072   14040142     47094\n",
       "102799  235958072  218342229     47094\n",
       "102800  235958072   48664802     47094\n",
       "102801  235958072  189365973     47094\n",
       "102802  235958072   32832232     47094\n",
       "102803  235958072  163960702     47094\n",
       "102804  235958072  108371612     47094\n",
       "102805  235958072   96613192     47094\n",
       "102806  235958072    5220206     47094\n",
       "102807  235958072  178778422     47094"
      ]
     },
     "execution_count": 145,
     "metadata": {},
     "output_type": "execute_result"
    }
   ],
   "source": [
    "#sanity checking that rsvps were counted correctly\n",
    "rsvps.loc[(rsvps['group_id']==47094)&(rsvps['event_id']=='235958072')]"
   ]
  },
  {
   "cell_type": "code",
   "execution_count": 184,
   "id": "2510f781",
   "metadata": {},
   "outputs": [],
   "source": [
    "#adding category name to events data\n",
    "meta_events_t = meta_events.merge(meta_groups[['group_id','category_name']],how='left',on='group_id')"
   ]
  },
  {
   "cell_type": "code",
   "execution_count": 185,
   "id": "722b9d8c",
   "metadata": {},
   "outputs": [
    {
     "data": {
      "text/html": [
       "<div>\n",
       "<style scoped>\n",
       "    .dataframe tbody tr th:only-of-type {\n",
       "        vertical-align: middle;\n",
       "    }\n",
       "\n",
       "    .dataframe tbody tr th {\n",
       "        vertical-align: top;\n",
       "    }\n",
       "\n",
       "    .dataframe thead th {\n",
       "        text-align: right;\n",
       "    }\n",
       "</style>\n",
       "<table border=\"1\" class=\"dataframe\">\n",
       "  <thead>\n",
       "    <tr style=\"text-align: right;\">\n",
       "      <th></th>\n",
       "      <th>event_id</th>\n",
       "      <th>group_id</th>\n",
       "      <th>name</th>\n",
       "      <th>time</th>\n",
       "      <th>time_ts</th>\n",
       "      <th>day_of_week</th>\n",
       "      <th>category_name</th>\n",
       "    </tr>\n",
       "  </thead>\n",
       "  <tbody>\n",
       "    <tr>\n",
       "      <th>0</th>\n",
       "      <td>243930425</td>\n",
       "      <td>26140018</td>\n",
       "      <td>2017 Nashville Walk to End Alzheimers - Octob...</td>\n",
       "      <td>2017-10-14 12:00:00</td>\n",
       "      <td>2017-10-14 12:00:00</td>\n",
       "      <td>Saturday</td>\n",
       "      <td>Community &amp; Environment</td>\n",
       "    </tr>\n",
       "    <tr>\n",
       "      <th>1</th>\n",
       "      <td>244208851</td>\n",
       "      <td>25604533</td>\n",
       "      <td>Steak Dinner on the Patio</td>\n",
       "      <td>2017-10-15 00:15:00</td>\n",
       "      <td>2017-10-15 00:15:00</td>\n",
       "      <td>Sunday</td>\n",
       "      <td>Pets &amp; Animals</td>\n",
       "    </tr>\n",
       "    <tr>\n",
       "      <th>2</th>\n",
       "      <td>pxlktnywnbfb</td>\n",
       "      <td>25973656</td>\n",
       "      <td>Schedule Meetup</td>\n",
       "      <td>2017-10-03 23:30:00</td>\n",
       "      <td>2017-10-03 23:30:00</td>\n",
       "      <td>Tuesday</td>\n",
       "      <td>Support</td>\n",
       "    </tr>\n",
       "    <tr>\n",
       "      <th>3</th>\n",
       "      <td>244444551</td>\n",
       "      <td>18571126</td>\n",
       "      <td>Happy Hour Wednesday, Jonathan's Green Hills, ...</td>\n",
       "      <td>2017-10-25 22:30:00</td>\n",
       "      <td>2017-10-25 22:30:00</td>\n",
       "      <td>Wednesday</td>\n",
       "      <td>Career &amp; Business</td>\n",
       "    </tr>\n",
       "    <tr>\n",
       "      <th>4</th>\n",
       "      <td>244257722</td>\n",
       "      <td>18571126</td>\n",
       "      <td>Happy Hour Wednesday, Brentwood, Oct. 18</td>\n",
       "      <td>2017-10-18 22:30:00</td>\n",
       "      <td>2017-10-18 22:30:00</td>\n",
       "      <td>Wednesday</td>\n",
       "      <td>Career &amp; Business</td>\n",
       "    </tr>\n",
       "  </tbody>\n",
       "</table>\n",
       "</div>"
      ],
      "text/plain": [
       "       event_id  group_id                                               name  \\\n",
       "0     243930425  26140018  2017 Nashville Walk to End Alzheimers - Octob...   \n",
       "1     244208851  25604533                          Steak Dinner on the Patio   \n",
       "2  pxlktnywnbfb  25973656                                    Schedule Meetup   \n",
       "3     244444551  18571126  Happy Hour Wednesday, Jonathan's Green Hills, ...   \n",
       "4     244257722  18571126           Happy Hour Wednesday, Brentwood, Oct. 18   \n",
       "\n",
       "                  time             time_ts day_of_week  \\\n",
       "0  2017-10-14 12:00:00 2017-10-14 12:00:00    Saturday   \n",
       "1  2017-10-15 00:15:00 2017-10-15 00:15:00      Sunday   \n",
       "2  2017-10-03 23:30:00 2017-10-03 23:30:00     Tuesday   \n",
       "3  2017-10-25 22:30:00 2017-10-25 22:30:00   Wednesday   \n",
       "4  2017-10-18 22:30:00 2017-10-18 22:30:00   Wednesday   \n",
       "\n",
       "             category_name  \n",
       "0  Community & Environment  \n",
       "1           Pets & Animals  \n",
       "2                  Support  \n",
       "3        Career & Business  \n",
       "4        Career & Business  "
      ]
     },
     "execution_count": 185,
     "metadata": {},
     "output_type": "execute_result"
    }
   ],
   "source": [
    "meta_events_t.head()"
   ]
  },
  {
   "cell_type": "code",
   "execution_count": 181,
   "id": "d4a86472",
   "metadata": {},
   "outputs": [],
   "source": [
    "%matplotlib inline\n",
    "import seaborn as sns"
   ]
  },
  {
   "cell_type": "code",
   "execution_count": 271,
   "id": "08b30ad2",
   "metadata": {},
   "outputs": [
    {
     "data": {
      "text/plain": [
       "<AxesSubplot:ylabel='Number of Events'>"
      ]
     },
     "execution_count": 271,
     "metadata": {},
     "output_type": "execute_result"
    },
    {
     "data": {
      "image/png": "[encoded data removed]",
      "text/plain": [
       "<Figure size 432x288 with 1 Axes>"
      ]
     },
     "metadata": {
      "needs_background": "light"
     },
     "output_type": "display_data"
    }
   ],
   "source": [
    "#displaying bar chart of the frequency of events on each day of the week\n",
    "\n",
    "meta_events_t.loc[meta_events_t['time_ts']>=(max(meta_events_t['time_ts'])\\\n",
    "                                             .round('d')-pd.DateOffset(months=12))]['day_of_week']\\\n",
    ".value_counts().plot.bar(ylabel='Number of Events')"
   ]
  },
  {
   "cell_type": "code",
   "execution_count": 207,
   "id": "bd73a02f",
   "metadata": {},
   "outputs": [
    {
     "data": {
      "text/plain": [
       "array(['Saturday', 'Sunday', 'Tuesday', 'Wednesday', 'Thursday', 'Monday',\n",
       "       'Friday'], dtype=object)"
      ]
     },
     "execution_count": 207,
     "metadata": {},
     "output_type": "execute_result"
    }
   ],
   "source": [
    "meta_events.plot.bar(ylab)"
   ]
  },
  {
   "cell_type": "code",
   "execution_count": 267,
   "id": "18471d06",
   "metadata": {
    "scrolled": false
   },
   "outputs": [
    {
     "data": {
      "text/plain": [
       "<AxesSubplot:xlabel='Category', ylabel='Number of Events'>"
      ]
     },
     "execution_count": 267,
     "metadata": {},
     "output_type": "execute_result"
    },
    {
     "data": {
      "image/png": "[encoded data removed]",
      "text/plain": [
       "<Figure size 432x288 with 1 Axes>"
      ]
     },
     "metadata": {
      "needs_background": "light"
     },
     "output_type": "display_data"
    }
   ],
   "source": []
  },
  {
   "cell_type": "code",
   "execution_count": 226,
   "id": "9bdde2ad",
   "metadata": {},
   "outputs": [
    {
     "data": {
      "text/plain": [
       "<AxesSubplot:ylabel='Number of Events'>"
      ]
     },
     "execution_count": 226,
     "metadata": {},
     "output_type": "execute_result"
    },
    {
     "data": {
      "image/png": "[encoded data removed]",
      "text/plain": [
       "<Figure size 432x288 with 1 Axes>"
      ]
     },
     "metadata": {
      "needs_background": "light"
     },
     "output_type": "display_data"
    }
   ],
   "source": [
    "meta_events_t.loc[meta_events_t['day_of_week']=='Thursday']['category_name']\\\n",
    ".value_counts().plot(kind='bar', ylabel='Number of Events')"
   ]
  },
  {
   "cell_type": "code",
   "execution_count": 227,
   "id": "f0b622c8",
   "metadata": {},
   "outputs": [],
   "source": [
    "#subsetting the meta_groups data to be only those which had a first event of 1 year ago or earlier\n",
    "meta_groups_i=meta_groups.loc[meta_groups['first_event']<(max(meta_events['time_ts']).round('d')-pd.DateOffset(months=12))]"
   ]
  },
  {
   "cell_type": "code",
   "execution_count": 228,
   "id": "b3cbcb26",
   "metadata": {},
   "outputs": [
    {
     "data": {
      "text/html": [
       "<div>\n",
       "<style scoped>\n",
       "    .dataframe tbody tr th:only-of-type {\n",
       "        vertical-align: middle;\n",
       "    }\n",
       "\n",
       "    .dataframe tbody tr th {\n",
       "        vertical-align: top;\n",
       "    }\n",
       "\n",
       "    .dataframe thead th {\n",
       "        text-align: right;\n",
       "    }\n",
       "</style>\n",
       "<table border=\"1\" class=\"dataframe\">\n",
       "  <thead>\n",
       "    <tr style=\"text-align: right;\">\n",
       "      <th></th>\n",
       "      <th>group_id</th>\n",
       "      <th>group_name</th>\n",
       "      <th>num_members</th>\n",
       "      <th>category_id</th>\n",
       "      <th>category_name</th>\n",
       "      <th>organizer_id</th>\n",
       "      <th>group_urlname</th>\n",
       "      <th>avg_rsvps</th>\n",
       "      <th>first_event</th>\n",
       "      <th>num_events</th>\n",
       "    </tr>\n",
       "  </thead>\n",
       "  <tbody>\n",
       "    <tr>\n",
       "      <th>1</th>\n",
       "      <td>19728145</td>\n",
       "      <td>Stepping Out Social Dance Meetup</td>\n",
       "      <td>1778</td>\n",
       "      <td>5</td>\n",
       "      <td>Dancing</td>\n",
       "      <td>118484462</td>\n",
       "      <td>steppingoutsocialdance</td>\n",
       "      <td>16.575000</td>\n",
       "      <td>2016-06-11 23:30:00</td>\n",
       "      <td>200</td>\n",
       "    </tr>\n",
       "    <tr>\n",
       "      <th>3</th>\n",
       "      <td>10016242</td>\n",
       "      <td>NashJS</td>\n",
       "      <td>1975</td>\n",
       "      <td>34</td>\n",
       "      <td>Tech</td>\n",
       "      <td>8111102</td>\n",
       "      <td>nashjs</td>\n",
       "      <td>81.782609</td>\n",
       "      <td>2015-11-12 00:00:00</td>\n",
       "      <td>23</td>\n",
       "    </tr>\n",
       "    <tr>\n",
       "      <th>5</th>\n",
       "      <td>11077852</td>\n",
       "      <td>Sunday Assembly Nashville</td>\n",
       "      <td>918</td>\n",
       "      <td>28</td>\n",
       "      <td>Religion &amp; Beliefs</td>\n",
       "      <td>4765912</td>\n",
       "      <td>Sunday-Assembly-Nashville</td>\n",
       "      <td>15.410000</td>\n",
       "      <td>2015-11-14 23:00:00</td>\n",
       "      <td>200</td>\n",
       "    </tr>\n",
       "    <tr>\n",
       "      <th>7</th>\n",
       "      <td>1585196</td>\n",
       "      <td>Tennessee Hiking Group</td>\n",
       "      <td>4828</td>\n",
       "      <td>23</td>\n",
       "      <td>Outdoors &amp; Adventure</td>\n",
       "      <td>13537265</td>\n",
       "      <td>TennesseeHikingGroup</td>\n",
       "      <td>7.180000</td>\n",
       "      <td>2016-06-22 23:30:00</td>\n",
       "      <td>200</td>\n",
       "    </tr>\n",
       "    <tr>\n",
       "      <th>10</th>\n",
       "      <td>18243826</td>\n",
       "      <td>Middle TN 40+ singles</td>\n",
       "      <td>2583</td>\n",
       "      <td>30</td>\n",
       "      <td>Singles</td>\n",
       "      <td>198309808</td>\n",
       "      <td>MTN-40</td>\n",
       "      <td>10.515152</td>\n",
       "      <td>2016-03-09 00:45:00</td>\n",
       "      <td>200</td>\n",
       "    </tr>\n",
       "  </tbody>\n",
       "</table>\n",
       "</div>"
      ],
      "text/plain": [
       "    group_id                        group_name  num_members  category_id  \\\n",
       "1   19728145  Stepping Out Social Dance Meetup         1778            5   \n",
       "3   10016242                            NashJS         1975           34   \n",
       "5   11077852         Sunday Assembly Nashville          918           28   \n",
       "7    1585196            Tennessee Hiking Group         4828           23   \n",
       "10  18243826             Middle TN 40+ singles         2583           30   \n",
       "\n",
       "           category_name  organizer_id              group_urlname  avg_rsvps  \\\n",
       "1                Dancing     118484462     steppingoutsocialdance  16.575000   \n",
       "3                   Tech       8111102                     nashjs  81.782609   \n",
       "5     Religion & Beliefs       4765912  Sunday-Assembly-Nashville  15.410000   \n",
       "7   Outdoors & Adventure      13537265       TennesseeHikingGroup   7.180000   \n",
       "10               Singles     198309808                     MTN-40  10.515152   \n",
       "\n",
       "           first_event  num_events  \n",
       "1  2016-06-11 23:30:00         200  \n",
       "3  2015-11-12 00:00:00          23  \n",
       "5  2015-11-14 23:00:00         200  \n",
       "7  2016-06-22 23:30:00         200  \n",
       "10 2016-03-09 00:45:00         200  "
      ]
     },
     "execution_count": 228,
     "metadata": {},
     "output_type": "execute_result"
    }
   ],
   "source": [
    "meta_groups_i.head()"
   ]
  },
  {
   "cell_type": "code",
   "execution_count": null,
   "id": "84e7057d",
   "metadata": {},
   "outputs": [],
   "source": [
    "meta_groups_i.groupby('category_name')['num_events_target_period'].agg('sum')\\\n",
    ".plot(kind='bar', ylabel='Number of Events', xlabel='Category')"
   ]
  },
  {
   "cell_type": "code",
   "execution_count": 230,
   "id": "703be506",
   "metadata": {},
   "outputs": [],
   "source": [
    "#meta_groups_i (subset that included only groups which had a first event of 1 year before end of data set or \n",
    "#earlier) merged with meta_events_t (meta_events data with category name added) filtered here to only \n",
    "# include events during the last year of the data set\n",
    "group_event_merged = meta_groups_i.merge(meta_events_t.loc\\\n",
    "                    [meta_events_t['time_ts']>=(max(meta_events['time_ts']).round('d')-pd.DateOffset(months=12))],\\\n",
    "                   how='left', on='group_id')"
   ]
  },
  {
   "cell_type": "code",
   "execution_count": 233,
   "id": "103d23d5",
   "metadata": {},
   "outputs": [
    {
     "data": {
      "text/plain": [
       "(7894, 16)"
      ]
     },
     "execution_count": 233,
     "metadata": {},
     "output_type": "execute_result"
    }
   ],
   "source": [
    "group_event_merged.shape"
   ]
  },
  {
   "cell_type": "code",
   "execution_count": 234,
   "id": "b3bb204d",
   "metadata": {},
   "outputs": [],
   "source": [
    "#adding number of events during target period (last 12 months of data set)\n",
    "meta_groups_i = meta_groups_i.merge(group_event_merged.groupby('group_id')['event_id']\\\n",
    "                                    .size().reset_index(name='num_events_target_period'),how='left',on='group_id')"
   ]
  },
  {
   "cell_type": "code",
   "execution_count": 235,
   "id": "dd39d7db",
   "metadata": {},
   "outputs": [
    {
     "data": {
      "text/html": [
       "<div>\n",
       "<style scoped>\n",
       "    .dataframe tbody tr th:only-of-type {\n",
       "        vertical-align: middle;\n",
       "    }\n",
       "\n",
       "    .dataframe tbody tr th {\n",
       "        vertical-align: top;\n",
       "    }\n",
       "\n",
       "    .dataframe thead th {\n",
       "        text-align: right;\n",
       "    }\n",
       "</style>\n",
       "<table border=\"1\" class=\"dataframe\">\n",
       "  <thead>\n",
       "    <tr style=\"text-align: right;\">\n",
       "      <th></th>\n",
       "      <th>group_id</th>\n",
       "      <th>group_name</th>\n",
       "      <th>num_members</th>\n",
       "      <th>category_id</th>\n",
       "      <th>category_name</th>\n",
       "      <th>organizer_id</th>\n",
       "      <th>group_urlname</th>\n",
       "      <th>avg_rsvps</th>\n",
       "      <th>first_event</th>\n",
       "      <th>num_events</th>\n",
       "      <th>num_events_target_period</th>\n",
       "    </tr>\n",
       "  </thead>\n",
       "  <tbody>\n",
       "    <tr>\n",
       "      <th>0</th>\n",
       "      <td>19728145</td>\n",
       "      <td>Stepping Out Social Dance Meetup</td>\n",
       "      <td>1778</td>\n",
       "      <td>5</td>\n",
       "      <td>Dancing</td>\n",
       "      <td>118484462</td>\n",
       "      <td>steppingoutsocialdance</td>\n",
       "      <td>16.575000</td>\n",
       "      <td>2016-06-11 23:30:00</td>\n",
       "      <td>200</td>\n",
       "      <td>139</td>\n",
       "    </tr>\n",
       "    <tr>\n",
       "      <th>1</th>\n",
       "      <td>10016242</td>\n",
       "      <td>NashJS</td>\n",
       "      <td>1975</td>\n",
       "      <td>34</td>\n",
       "      <td>Tech</td>\n",
       "      <td>8111102</td>\n",
       "      <td>nashjs</td>\n",
       "      <td>81.782609</td>\n",
       "      <td>2015-11-12 00:00:00</td>\n",
       "      <td>23</td>\n",
       "      <td>11</td>\n",
       "    </tr>\n",
       "    <tr>\n",
       "      <th>2</th>\n",
       "      <td>11077852</td>\n",
       "      <td>Sunday Assembly Nashville</td>\n",
       "      <td>918</td>\n",
       "      <td>28</td>\n",
       "      <td>Religion &amp; Beliefs</td>\n",
       "      <td>4765912</td>\n",
       "      <td>Sunday-Assembly-Nashville</td>\n",
       "      <td>15.410000</td>\n",
       "      <td>2015-11-14 23:00:00</td>\n",
       "      <td>200</td>\n",
       "      <td>120</td>\n",
       "    </tr>\n",
       "    <tr>\n",
       "      <th>3</th>\n",
       "      <td>1585196</td>\n",
       "      <td>Tennessee Hiking Group</td>\n",
       "      <td>4828</td>\n",
       "      <td>23</td>\n",
       "      <td>Outdoors &amp; Adventure</td>\n",
       "      <td>13537265</td>\n",
       "      <td>TennesseeHikingGroup</td>\n",
       "      <td>7.180000</td>\n",
       "      <td>2016-06-22 23:30:00</td>\n",
       "      <td>200</td>\n",
       "      <td>121</td>\n",
       "    </tr>\n",
       "    <tr>\n",
       "      <th>4</th>\n",
       "      <td>18243826</td>\n",
       "      <td>Middle TN 40+ singles</td>\n",
       "      <td>2583</td>\n",
       "      <td>30</td>\n",
       "      <td>Singles</td>\n",
       "      <td>198309808</td>\n",
       "      <td>MTN-40</td>\n",
       "      <td>10.515152</td>\n",
       "      <td>2016-03-09 00:45:00</td>\n",
       "      <td>200</td>\n",
       "      <td>126</td>\n",
       "    </tr>\n",
       "  </tbody>\n",
       "</table>\n",
       "</div>"
      ],
      "text/plain": [
       "   group_id                        group_name  num_members  category_id  \\\n",
       "0  19728145  Stepping Out Social Dance Meetup         1778            5   \n",
       "1  10016242                            NashJS         1975           34   \n",
       "2  11077852         Sunday Assembly Nashville          918           28   \n",
       "3   1585196            Tennessee Hiking Group         4828           23   \n",
       "4  18243826             Middle TN 40+ singles         2583           30   \n",
       "\n",
       "          category_name  organizer_id              group_urlname  avg_rsvps  \\\n",
       "0               Dancing     118484462     steppingoutsocialdance  16.575000   \n",
       "1                  Tech       8111102                     nashjs  81.782609   \n",
       "2    Religion & Beliefs       4765912  Sunday-Assembly-Nashville  15.410000   \n",
       "3  Outdoors & Adventure      13537265       TennesseeHikingGroup   7.180000   \n",
       "4               Singles     198309808                     MTN-40  10.515152   \n",
       "\n",
       "          first_event  num_events  num_events_target_period  \n",
       "0 2016-06-11 23:30:00         200                       139  \n",
       "1 2015-11-12 00:00:00          23                        11  \n",
       "2 2015-11-14 23:00:00         200                       120  \n",
       "3 2016-06-22 23:30:00         200                       121  \n",
       "4 2016-03-09 00:45:00         200                       126  "
      ]
     },
     "execution_count": 235,
     "metadata": {},
     "output_type": "execute_result"
    }
   ],
   "source": [
    "meta_groups_i.head()"
   ]
  },
  {
   "cell_type": "code",
   "execution_count": 304,
   "id": "9d738bff",
   "metadata": {},
   "outputs": [],
   "source": [
    "#rerunning after num_events_target_period was added\n",
    "#meta_groups_i (subset that included only groups which had a first event of 1 year before end of data set or \n",
    "#earlier) merged with meta_events_t (meta_events data with category name added) filtered here to only \n",
    "# include events during the last year of the data set\n",
    "group_event_merged = meta_groups_i.merge(meta_events_t.loc\\\n",
    "                    [meta_events_t['time_ts']>=(max(meta_events['time_ts']).round('d')-pd.DateOffset(months=12))],\\\n",
    "                   how='left', on='group_id')"
   ]
  },
  {
   "cell_type": "code",
   "execution_count": 236,
   "id": "6a2b60ef",
   "metadata": {},
   "outputs": [
    {
     "data": {
      "text/plain": [
       "<AxesSubplot:xlabel='num_events_target_period', ylabel='num_members'>"
      ]
     },
     "execution_count": 236,
     "metadata": {},
     "output_type": "execute_result"
    },
    {
     "data": {
      "image/png": "[encoded data removed]",
      "text/plain": [
       "<Figure size 432x288 with 1 Axes>"
      ]
     },
     "metadata": {
      "needs_background": "light"
     },
     "output_type": "display_data"
    }
   ],
   "source": [
    "meta_groups_i.plot.scatter(x='num_events_target_period',y='num_members')"
   ]
  },
  {
   "cell_type": "markdown",
   "id": "de226224",
   "metadata": {},
   "source": [
    "## Visualization of the relationship between Number of Events and Number of Members\n",
    "\n",
    "This visualization allowed me to see which groups were successful (success = large number of members) and which were not and how that related to the number of events hosted during the target time period (last calendar year in the data)."
   ]
  },
  {
   "cell_type": "code",
   "execution_count": 302,
   "id": "e56731c2",
   "metadata": {},
   "outputs": [
    {
     "data": {
      "text/html": [
       "        <script type=\"text/javascript\">\n",
       "        window.PlotlyConfig = {MathJaxConfig: 'local'};\n",
       "        if (window.MathJax) {MathJax.Hub.Config({SVG: {font: \"STIX-Web\"}});}\n",
       "        if (typeof require !== 'undefined') {\n",
       "        require.undef(\"plotly\");\n",
       "        requirejs.config({\n",
       "            paths: {\n",
       "                'plotly': ['https://cdn.plot.ly/plotly-2.11.1.min']\n",
       "            }\n",
       "        });\n",
       "        require(['plotly'], function(Plotly) {\n",
       "            window._Plotly = Plotly;\n",
       "        });\n",
       "        }\n",
       "        </script>\n",
       "        "
      ]
     },
     "metadata": {},
     "output_type": "display_data"
    },
    {
     "data": {
      "application/vnd.plotly.v1+json": {
       "config": {
        "linkText": "Export to plot.ly",
        "plotlyServerURL": "https://plot.ly",
        "showLink": false
       },
       "data": [
        {
         "mode": "markers",
         "text": [
          "Stepping Out Social Dance Meetup, Dancing",
          "NashJS, Tech",
          "Sunday Assembly Nashville, Religion & Beliefs",
          "Tennessee Hiking Group, Outdoors & Adventure",
          "Middle TN 40+ singles, Singles",
          "PyNash, Tech",
          "Greater Nashville Healthcare Analytics, Tech",
          "Nashville Backpacker Meetup, Outdoors & Adventure",
          "Eat Love Nash, Socializing",
          "Middle Tennessee Hiking Meetup, Outdoors & Adventure",
          "Nashville Young Professionals Meetup, Career & Business",
          "Agile Nashville User Group, Tech",
          "Nashville Christian Singles, Outdoors & Adventure",
          "Tails of the Trail, Pets & Animals",
          "Nashville DevOps Meetup, Tech",
          "Nashville UX, Tech",
          "Franklin Developer Lunch & Learn, Tech",
          "Nashville .NET User Group, Tech",
          "Nashville Machine Learning Meetup, Tech",
          "The Joy of Dining Out with Friends Meetup, Food & Drink",
          "Design Thinking Nashville, Tech",
          "Nashville Product Meetup, Tech",
          "Nashville Online Entrepreneurs, Career & Business",
          "Music City Young Professionals, Socializing",
          "Nashville Flag Football, Sports & Recreation",
          "Nashville Networking Business Luncheon, Career & Business",
          "What the Pho!, Food & Drink",
          "Developer Launchpad Nashville, Tech",
          "Nashville Java Users' Group, Tech",
          "Code for Nashville, Tech",
          "Data Science Nashville, Tech",
          "North Nashville Party Chicks, Socializing",
          "Fun Happenings Travel & Adventure Group, Outdoors & Adventure",
          "The Nashville Microsoft Azure Users Group, Tech",
          "Nashville Women Programmers, Tech",
          "Nashville PHP User Group, Tech",
          "Lesbians in the Workplace, Nashville, LGBT",
          "Paddle Adventures Unlimited, Outdoors & Adventure",
          "WOMEN \"Word of Mouth Entrepreneurial Networkers\", Career & Business",
          "Nashvegans!, Movements & Politics",
          "Inner Engineering Nashville (Isha Yoga & Meditation Classes), Health & Wellbeing",
          "Nashville Salesforce Admins & Developers Group, Tech",
          "Nashville SEO & Internet Marketing, Over 1,600 Members!, Career & Business",
          "WordPress Nashville, Tech",
          "Intellectual Society of Greater Nashville, Education & Learning",
          "NashBI, Tech",
          "Nashville Spanish Meetup, Language & Ethnic Identity",
          "Nash |> Elixir, Tech",
          "Nash.rb, Tech",
          "Nashville Online Business Strategy Meetup, Career & Business",
          "Drink-n-Draw, Arts & Culture",
          "One Dharma Nashville Meditation Group, New Age & Spirituality",
          "Women's  Business Network, Career & Business",
          "Women 'n' Wine of Nashville, Career & Business",
          "The Nashville Songwriters Meetup Group, Music",
          "Board Game Lovers Meetup, Games",
          "Network Middle Tennessee, Career & Business",
          "Nashville Outdoor Adventures Club, Outdoors & Adventure",
          "Beer and Bible Nashville, Religion & Beliefs",
          "T-VOE: Tennessee Voice Over Exchange, Arts & Culture",
          "Women 'n' Wine of Williamson County, Career & Business",
          "Couples New 2 Nashville & Know (almost) NoOne.  Ages 40 & Up, Socializing",
          "NashReact, Tech",
          "Franklin AM - Networking, Career & Business",
          "Nashville Entrepreneurs Network, Career & Business",
          "NashMicro - The Nashville Microcontroller Makers Group, Tech",
          "Nashville CocoaHeads, Tech",
          "Middle Tennessee Motorcycle Riders, Cars & Motorcycles",
          "Greater Nashville Networking Group, Career & Business",
          "The Nashville Girly Book Club, Book Clubs",
          "Nashville and Tennessee History, Education & Learning",
          "Christian Business Leaders Roundtable | CEO Fellowship, Career & Business",
          "Chicago Cubs, Blackhawks and Bears Fans near Nashville, Sports & Recreation",
          "Nashville Shambhala Meditation Group, Health & Wellbeing",
          "Thrills and Chills Book Club, Book Clubs",
          "Boost Nashville - The Business Networking Group!, Career & Business",
          "Women 'n' Wine of Green Hills, Career & Business",
          "Savvy Coders - Nashville, Tech",
          "Philadelphia Eagles Fans In Nashville, Sports & Recreation",
          "Nashville Ladies Volunteering and Having Fun, Socializing",
          "20s in Nashville, Socializing",
          "Spiritual Psychology and Consciousness Group, New Age & Spirituality",
          "Fun Happenings Social Group-Nashvilles Most Fun Social Group, Socializing",
          "Nashville Mobile Developers, Tech",
          "Nashville English Language Learning Meetup, Language & Ethnic Identity",
          "Euchre in Nashville, Games",
          "Real Estate Investors of Nashville Meetup Group, Career & Business",
          "NASHVILLE REIKI & OILS, New Age & Spirituality",
          "Bellevue Business Networking Meetup, Career & Business",
          "Nashville Real Estate Investor Network, Career & Business",
          "The Iron Yard - Nashville, Tech",
          "Nashville Modern Excel & Power BI User Group, Tech",
          "Tennessee Real Estate Investors Meetup, Career & Business",
          "Bellevue Area Meetup: Meet New Friends!, Socializing",
          "Volunteer Nashville, Community & Environment",
          "Mount Juliet/Wilson County Hiking & Outdoors, Outdoors & Adventure",
          "Mid-TN Scrapbooking Club, Hobbies & Crafts",
          "20s/30s Nashville Online Dating Rebellion!, Socializing",
          "TwitchNashville, Games",
          "Nashville Filmmakers, Movies & Film",
          "Metro Nashville German Meetup Group, Language & Ethnic Identity",
          "The Nashville Singer, Musician and Songwriter Meetup Group, Music",
          "Nashville Bitcoin Meetup, Career & Business",
          "Nashville Software Automation Professionals, Tech",
          "Mediumship and Intuitive Development Circle of Nashville, New Age & Spirituality",
          "NashDash Dating!, Singles",
          "Nashville 80s Music & More Meetup, Music",
          "SCORE Nashville Events, Networking and Workshops, Career & Business",
          "Nashville Mobile .NET Developers, Tech",
          "Nashville Software Beginners, Tech",
          "Nashville Vipassana Meditation Meetup, New Age & Spirituality",
          "Mastermind Business Networkers, Career & Business",
          "The Middle TN Alternative Health Meetup Group, Health & Wellbeing",
          "Nashville Music Programmers, Tech",
          "Thinking Christians Book Club, Religion & Beliefs",
          "MTRAS ~ MidTn Robotic Arts Society, Tech",
          "Nashville Socials and Events!, Socializing",
          "NashSec, Tech",
          "Brentwood - Grow Your Business In Tennessee, Career & Business",
          "Nashville Game Developers, Tech",
          "Free & Cheap Events, Socializing",
          "Science Club Nashville, Education & Learning",
          "The Nashville Football Giants, Sports & Recreation",
          "Nashville Dungeon Delvers, Games",
          "Outdoor Fit - HIIT, Fitness",
          "Nashville Wiener Romp, Pets & Animals",
          "Blues Dance Nashville, Music",
          "40 and over gay men for social gatherings, LGBT",
          "Nashville Science Fiction Book Club, Education & Learning",
          "Brentwood TN Conversational Spanish Language Meetup Group, Language & Ethnic Identity",
          "Oneness Nashville, New Age & Spirituality",
          "Franklin Books and Discussion Meetup, Education & Learning",
          "OCD Nashville Peer Support Group Meetup, Support",
          "Nashville Classic and Contemporary Fiction Group (for women), Book Clubs",
          "Nashville Spirituality Meetup, New Age & Spirituality",
          "Nashville Network After Work - Business Networking Events, Career & Business",
          "Music City Wine Enthusiasts, Food & Drink",
          "Nashville Kayak Lessons, Outdoors & Adventure",
          "Enneagram Nashville, New Age & Spirituality",
          "Art of Living, Health & Wellbeing",
          "All Things Gardening, Community & Environment",
          "Nashville Alternative Health & Wellness, Health & Wellbeing",
          "Franklin Reiki, New Age & Spirituality",
          "Piano Music Lovers of Nashville, Music",
          "Middle Tennessee Sierra Club Outings and Adventures, Community & Environment",
          "Nashville ADHD Adults, Support",
          "Nashville Amazon Web Services User Group, Tech",
          "EDIBLE WEED WALKS and PLANT CLASSES, Health & Wellbeing",
          "Nashville Scrabble Meetup, Games",
          "Nashville Faith & Skepticism Meetup, Religion & Beliefs",
          "Nashville Foam Fighting - Dur Demarion - Belegarth, Games",
          "Green Hills Stampin' and Scrapbooking Meetup, Hobbies & Crafts",
          "Reading Queer, LGBT",
          "Nashville BarkHappy Dog Meetup, Pets & Animals",
          "Nashville Animal Advocacy, Pets & Animals",
          "Nashville Spiritual Experiences Group, New Age & Spirituality",
          "Nashville Kizomba Meetup, Dancing",
          "Nashville Holistic Association, Health & Wellbeing",
          "Cumberland Green Bioregional Council, Community & Environment",
          "Nashville Axis & Allies Meetup, Games",
          "The Nashville Chinese Language and Culture Meetup Group, Language & Ethnic Identity",
          "Big East Fork Folk / Jazz Music Meetup, Music",
          "Nashville Chess and Chat Meetup, Games",
          "Let's Talk Franklin Toastmasters Club, Career & Business",
          "Middle Tennessee Entrepreneurs MasterMind Meetup, Career & Business",
          "Nashville Comedy Meetup, Socializing",
          "Nashville Christian Universalists, Religion & Beliefs",
          "Nashville Hydroponics / Aquaponics Meetup, Community & Environment",
          "Nashville Wakeboarding and surfing Meetup, Sports & Recreation",
          "Craft Beer Lovers of Nashville Meetup, Food & Drink",
          "Nashville Skiing Meetup, Outdoors & Adventure",
          "Nashville Professional Photography Meetup by ASMP Tennessee, Career & Business",
          "B'nei Mikra Nashville (Torah Study), Religion & Beliefs",
          "The Nashville Backgammon Association, Games",
          "East Nashville Book Club, Book Clubs",
          "Nashville Amnesty International, Community & Environment",
          "Nashville Beading and Jewelry Design Meetup, Hobbies & Crafts",
          "Tennessee Red Rock Adventurers, Cars & Motorcycles",
          "Climb Nashville Meetup, Outdoors & Adventure",
          "Nashville Cloudera User Group, Tech",
          "Nashville Linux Users Group, Tech",
          "ManKind Project, Nashville, Support",
          "Bellevue Free Mandarin/Korean Lessons Meetup, Language & Ethnic Identity",
          "Nashville Daoist (Taoist) & Chinese Philosophy Meetup Group, New Age & Spirituality",
          "Nashville's Society of Women Business Owners (SOWBO), Career & Business",
          "Wellness Nashville, Health & Wellbeing",
          "Women of Purpose and Power, Religion & Beliefs",
          "TuneTown Show Chorus, Music",
          "Nashville Rock Climbing MeetUP, Outdoors & Adventure",
          "Nashville Children in Nature, Parents & Family",
          "Social Entrepreneurs of Nashville, Career & Business",
          "Nashville Lisp Sync, Tech",
          "Nashville Sustainability Events Group, Community & Environment",
          "Citizens Climate Lobby Nashville, Community & Environment",
          "GREEN Investment Club, Nashville, Career & Business",
          "9.12 Project Nashville, Movements & Politics",
          "GEEK by AKEIN Engineering, Education & Learning",
          "Nashville Cooking Lessons Meetup, Food & Drink",
          "West Nashville/Bellevue Conversation Cafe, New Age & Spirituality",
          "Sumner County Libertarian Party, Movements & Politics",
          "Meet Mount Juliet Networking Mixer, Socializing",
          "New Investors & Real Estate Investors of Williamson County, Career & Business",
          "Franklin Small Business Digital Media Marketing Meetup, Career & Business",
          "Women'n'Wine of Murfreesboro, Career & Business",
          "Mimosas, Brunch and Network, Career & Business",
          "The Right Alternative, Movements & Politics",
          "Cincinnati Conversation about Moments of Grace, Socializing",
          "BIG FUN GAME nite, Tech",
          "Konexus - Young Professionals of Nashville, Socializing",
          "Sophos Southeast Partners, Tech",
          "Nashville Kubernetes Meetup, Tech",
          "Pranic Healing Nashville, New Age & Spirituality",
          "ONA Nashville, Tech",
          "Thrifting Nashville Meetup, Fashion & Beauty",
          "Nashville Cardinals Club, Sports & Recreation",
          "Nashville Purely Social and Super-Awesome Social Group, Socializing",
          "OCF Nashville, Tech",
          "Transplant Nashville, Socializing",
          "Traveling Widows and Widowers, Outdoors & Adventure",
          "Mindful Cyborgs Meditation, Tech",
          "Nashville Startup Founder 101, Career & Business",
          "Nashville League of Legends Meetup, Games",
          "TGIT =Thank Goodness It's THURSDAY Happy Hour & Business, Career & Business",
          "Nashville Tennis Lessons- PlayYourCourt, Sports & Recreation",
          "The Nashville Web Design Meetup Group, Tech",
          "Nashville Social Crew! Dine, Hike, Photography, & More!, Photography",
          "Full-Stack Marketing Mastermind, Tech",
          "Nashville Science & Religion Meetup, Education & Learning",
          "20&UP Tennis: Nashville, Sports & Recreation",
          "Nashville SaltStack Meetup, Tech",
          "20/30 something couples in Nashville!~, Socializing",
          "Nashville Electronic Music & Synthesizer Meetup, Music",
          "Music City Women of coursge &  strength, Health & Wellbeing",
          "Nashville API Developers, Tech",
          "10X Revolution Nashville, Health & Wellbeing",
          "Second Saturday Divorce Workshop for Women, Support",
          "The Nashville TENNISseans, Sports & Recreation",
          "Nashville Tennis Lessons, Sports & Recreation",
          "Middle Tennessee Kayak Lessons Meetup, Outdoors & Adventure",
          "Advanced Audio + Applications Exchange (A3E) - Nashville, Music",
          "Movies with Heide, Movies & Film",
          "Never Bored in Nashville, Music",
          "Nashville Women & Beauty, Fashion & Beauty",
          "Nashville Co-Ed Kickball, Sports & Recreation",
          "NASHVILLE WRITERS HOUSE, Writing",
          "Explorer Chicks of Nashville: Adventure Awaits!, Outdoors & Adventure",
          "James K. Polk Toastmasters, Education & Learning",
          "Music City Drinking Buddies, Socializing",
          "Nashville PowerShell User Group (NashPUG), Tech",
          "Movie Lovers:  New, Classic, and Foreign Films Meetup, Movies & Film",
          "Ambrosia - Friends, Food and Fun, Socializing",
          "Nashville's New Business Owners, Career & Business",
          "Viva Italia Tennessee www.VivaItaliaTN.com, Food & Drink",
          "Tarot Lights, New Age & Spirituality",
          "Nashville Hadoop Users Group, Tech",
          "Nashville Software Defined Networking (SD-WAN), Tech",
          "Nashville Farm to Fork, Food & Drink",
          "Nashville Startup: Idea to IPO, Career & Business",
          "NashvilleTech, Tech",
          "Comfort zone Escapees, New Age & Spirituality",
          "Nashville Women of a Certain Age Meetup, Socializing",
          "East Nashville Women Mean Business, Career & Business",
          "Wellness, Abundance, Purpose, Health & Wellbeing",
          "Nashville Digital Marketing Meetup, Tech",
          "SEO in Nashville - Join the Other Group!, Career & Business",
          "Nashville Music-Technology Group, Tech",
          "Eastside Rides, Outdoors & Adventure",
          "Dine and Unwind in East Nashville, Food & Drink",
          "Nashville Sailing, Outdoors & Adventure",
          "Nashville Psychotherapy Institute, Health & Wellbeing",
          "Music City Singles, Sci-Fi & Fantasy",
          "Single in the City Live, Career & Business",
          "Skeleton Cru, Tech",
          "Nashville Pilgrimage Hiking & Walking Meetup Group, Outdoors & Adventure",
          "Strictly Belcourt, Movies & Film",
          "Nashville Quantum Energy Play Group, New Age & Spirituality",
          "Nashville Pick-a-Flick, Movies & Film",
          "Nashville Christian Technologists and Entrepreneurs, Tech",
          "Nashville Search Engine Marketing Meetup, Career & Business",
          "Nashville Hearthstone Fireside Gathering, Games",
          "Nashville Virtual Reality Meetup, Tech",
          "Business Girls Rock! Nashville Entrepreneurship Meetup, Career & Business",
          "Conscious Nashville, Community & Environment",
          "Tennessee Americans United for Separation of Church & State, Movements & Politics",
          "\"New Moon Monthly Energy Workshop\", New Age & Spirituality",
          "The Middle TN Red Sox Nation Meetup Group, Sports & Recreation",
          "Build and Develop Your Online Presence Nashville, TN, Career & Business",
          "Nashville Longevity Communities, Socializing",
          "A Course in Miracles Study Group, Nashville, New Age & Spirituality",
          "The Nashville Taiji Club, Health & Wellbeing",
          "Nashville ColdFusion User Group, Tech",
          "Nashville Charismatic Liberals, Religion & Beliefs",
          "Urban League Young Professionals of Middle Tennessee, Language & Ethnic Identity",
          "Nashville Nonprofit Meetup, Community & Environment",
          "Transition Nashville, Community & Environment",
          "Nashville Cohousing Group, Community & Environment",
          "Nashville Area Real Estate Investors Meetup, Career & Business",
          "Nashville Parents of Children with Dyslexia Support Group, Support",
          "Nashville's Gluten Free Dinner Club & Celiac Support Assoc., Food & Drink",
          "Bucketlisted : Coveted Travel & Life Experiences, Socializing",
          "Serial Tanks Meetup, Career & Business",
          "Stand Up Paddle Boarding in Nashville TN., Sports & Recreation",
          "PROVIDENT LIVING & SELF-RELIANCE, Education & Learning",
          "Middle TN First Time Home Buyers Meetup, Career & Business",
          "Nashville Locals, Career & Business",
          "Music Industry Forum- Who kNew Nashville, Music",
          "Networking for Charity, Career & Business",
          "Nashville Meditation and Hypnosis, Health & Wellbeing",
          "Nashville Travel Meetup, Socializing",
          "Live Music Metropolis - Nashville Chapter, Socializing",
          "GrowNashville: Startup Entrepreneurs, Hackers, & Web Experts, Tech",
          "Music City Jazz Fans, Music",
          "The Data Warehouse Institute (TDWI) Nashville Meetup, Tech",
          "Vegan Food & Friends, Food & Drink",
          "Extraterrestrials, New Age & Spirituality",
          "The Whole Wealth Club, Career & Business",
          "JOBS Etc - Career Opportunities Network, Career & Business",
          "Single Adult Ministry @ Brentwood United Methodist Church, Religion & Beliefs",
          "Soul Evolution, Ascension & Beyond of Nashville, New Age & Spirituality",
          "The Nashville/Brentwood Cigar Aficionado's Meetup, Food & Drink",
          "Brentwood Bible Study, Religion & Beliefs",
          "Living Wholeheartedly: The Daring Way™ Nashville, Health & Wellbeing",
          "Nashville Insurance Professionals, Career & Business",
          "Brentwood Sales & Marketing Meetup Group, Career & Business",
          "Antioch/Nashville Homeschooling Meetup, Parents & Family",
          "Pure Storage Middle Tennessee, Tech",
          "Nashville Free Guitar Lesson Meetup, Music",
          "Aussies in Nashville, Language & Ethnic Identity",
          "Nashville Business Strategy Meetup, Career & Business",
          "Bellevue Business Buzz Networking  Group, Career & Business",
          "Nashville Conda, R, Julia Users Group, Tech",
          "Nashville World Travelers, Outdoors & Adventure",
          "Narrowcasting Your Passion, Tech",
          "Escape The Rat Race With Real Estate Investing!!, Career & Business",
          "Project Worship, Music",
          "Rikian Exerciser Fitness Fans - Franklin, TN, Fitness",
          "Tintri Nashville - VMaware storage, Tech",
          "Bible Reading, Religion & Beliefs",
          "MHO Nashville Active Adventures, Outdoors & Adventure",
          "Doing The Impossible, Career & Business",
          "Arts Council of Williamson County, Arts & Culture",
          "Center for Sustainable Stewardship, Outdoors & Adventure",
          "Big East Fork Yoga, Mind/Body, and Wellness, Health & Wellbeing",
          "Big East Fork Hiking & Breakfast Club, Outdoors & Adventure",
          "Southern Foragers Meetup, Community & Environment",
          "Seniors Social Dance Night, Socializing",
          "Williamson County Ruby Meetup, Tech",
          "ML/JP Dance Music Family, Music",
          "The Relationship Sounding Board, Support"
         ],
         "type": "scatter",
         "x": [
          139,
          11,
          120,
          121,
          126,
          23,
          12,
          67,
          59,
          101,
          15,
          12,
          83,
          66,
          12,
          14,
          10,
          13,
          2,
          27,
          18,
          14,
          9,
          8,
          40,
          57,
          37,
          25,
          10,
          15,
          7,
          49,
          11,
          12,
          16,
          35,
          43,
          64,
          12,
          24,
          21,
          12,
          20,
          20,
          19,
          9,
          32,
          11,
          12,
          19,
          158,
          120,
          25,
          14,
          44,
          27,
          165,
          189,
          41,
          11,
          23,
          44,
          8,
          50,
          25,
          11,
          12,
          22,
          47,
          12,
          3,
          51,
          22,
          104,
          7,
          5,
          12,
          9,
          14,
          45,
          43,
          108,
          20,
          10,
          22,
          12,
          78,
          159,
          24,
          46,
          52,
          13,
          88,
          33,
          21,
          142,
          11,
          9,
          4,
          11,
          9,
          14,
          13,
          10,
          16,
          8,
          15,
          70,
          14,
          14,
          26,
          52,
          162,
          11,
          5,
          21,
          11,
          11,
          13,
          40,
          53,
          12,
          18,
          119,
          14,
          12,
          58,
          12,
          12,
          24,
          53,
          11,
          29,
          11,
          57,
          12,
          9,
          52,
          5,
          97,
          10,
          144,
          75,
          8,
          31,
          3,
          13,
          1,
          17,
          20,
          71,
          13,
          2,
          4,
          32,
          35,
          36,
          13,
          10,
          5,
          12,
          105,
          52,
          49,
          13,
          19,
          6,
          12,
          28,
          4,
          10,
          10,
          42,
          52,
          11,
          13,
          12,
          4,
          24,
          1,
          20,
          22,
          13,
          9,
          15,
          50,
          103,
          45,
          5,
          13,
          6,
          11,
          9,
          12,
          131,
          1,
          1,
          8,
          51,
          12,
          10,
          10,
          6,
          9,
          10,
          2,
          1,
          8,
          1,
          14,
          6,
          17,
          6,
          25,
          1,
          2,
          1,
          8,
          1,
          7,
          4,
          1,
          1,
          1,
          10,
          1,
          7,
          4,
          4,
          1,
          1,
          4,
          2,
          1,
          1,
          24,
          2,
          10,
          48,
          3,
          5,
          13,
          12,
          1,
          4,
          23,
          52,
          7,
          5,
          19,
          1,
          3,
          4,
          1,
          1,
          1,
          1,
          1,
          11,
          1,
          24,
          1,
          6,
          10,
          10,
          1,
          2,
          2,
          43,
          9,
          6,
          2,
          2,
          7,
          7,
          1,
          3,
          5,
          9,
          1,
          4,
          1,
          3,
          21,
          1,
          3,
          11,
          2,
          37,
          1,
          2,
          1,
          13,
          1,
          7,
          2,
          1,
          7,
          8,
          1,
          18,
          70,
          23,
          14,
          22,
          5,
          5,
          1,
          1,
          1,
          11,
          21,
          2,
          20,
          1,
          1,
          1,
          10,
          1,
          4,
          2,
          1,
          1,
          1,
          4,
          1,
          4,
          4,
          3,
          15,
          1,
          1,
          8,
          60,
          1,
          1,
          7,
          1,
          60,
          3,
          14,
          11,
          1,
          4,
          1,
          3,
          1,
          24,
          1
         ],
         "y": [
          1778,
          1975,
          918,
          4828,
          2583,
          1442,
          764,
          3861,
          5008,
          1576,
          3210,
          862,
          1683,
          1241,
          502,
          1318,
          629,
          1371,
          451,
          2032,
          1026,
          560,
          1532,
          1388,
          645,
          1444,
          1889,
          576,
          1041,
          1763,
          1046,
          435,
          2058,
          651,
          1091,
          1118,
          567,
          6331,
          2307,
          965,
          1103,
          501,
          1649,
          1643,
          652,
          784,
          1417,
          391,
          881,
          1447,
          2514,
          1191,
          2163,
          690,
          2644,
          2261,
          1084,
          1328,
          445,
          72,
          959,
          398,
          438,
          360,
          1192,
          646,
          237,
          1055,
          510,
          1770,
          1422,
          887,
          341,
          874,
          105,
          799,
          401,
          243,
          90,
          1639,
          3811,
          1382,
          2050,
          1166,
          436,
          427,
          1035,
          610,
          298,
          441,
          1491,
          540,
          1292,
          493,
          2921,
          802,
          520,
          1124,
          187,
          1189,
          52,
          2060,
          322,
          166,
          234,
          1769,
          1763,
          727,
          372,
          1308,
          91,
          605,
          992,
          516,
          195,
          525,
          2634,
          107,
          491,
          516,
          2189,
          281,
          109,
          124,
          205,
          499,
          865,
          200,
          726,
          315,
          874,
          50,
          47,
          112,
          703,
          2622,
          1094,
          3260,
          54,
          1106,
          293,
          1328,
          200,
          88,
          3509,
          359,
          476,
          1649,
          460,
          50,
          589,
          57,
          197,
          243,
          344,
          160,
          482,
          549,
          240,
          115,
          243,
          532,
          257,
          608,
          366,
          326,
          97,
          429,
          124,
          906,
          477,
          206,
          86,
          41,
          249,
          577,
          58,
          479,
          933,
          101,
          564,
          48,
          243,
          192,
          511,
          540,
          105,
          131,
          724,
          654,
          44,
          152,
          618,
          106,
          71,
          582,
          62,
          557,
          48,
          77,
          678,
          160,
          296,
          114,
          103,
          79,
          12,
          509,
          52,
          59,
          120,
          128,
          99,
          530,
          51,
          1441,
          49,
          2152,
          132,
          256,
          1199,
          94,
          603,
          182,
          493,
          4017,
          256,
          299,
          590,
          26,
          398,
          405,
          304,
          552,
          51,
          143,
          508,
          138,
          1824,
          271,
          186,
          1872,
          5,
          620,
          503,
          921,
          84,
          2021,
          264,
          875,
          1629,
          326,
          460,
          177,
          296,
          54,
          683,
          210,
          886,
          146,
          225,
          60,
          295,
          389,
          41,
          159,
          349,
          2667,
          280,
          189,
          878,
          1570,
          678,
          984,
          1729,
          196,
          868,
          613,
          136,
          203,
          995,
          459,
          90,
          185,
          50,
          330,
          353,
          53,
          505,
          34,
          41,
          27,
          1198,
          32,
          674,
          282,
          111,
          21,
          217,
          95,
          146,
          977,
          777,
          43,
          1910,
          992,
          1615,
          563,
          370,
          3765,
          915,
          501,
          311,
          850,
          136,
          137,
          244,
          459,
          151,
          429,
          156,
          399,
          60,
          177,
          56,
          34,
          469,
          77,
          2,
          5,
          413,
          1226,
          73,
          444,
          111,
          32,
          67,
          171,
          1696,
          107,
          84,
          108,
          152,
          411,
          289,
          39,
          80,
          97,
          40
         ]
        }
       ],
       "layout": {
        "template": {
         "data": {
          "bar": [
           {
            "error_x": {
             "color": "#2a3f5f"
            },
            "error_y": {
             "color": "#2a3f5f"
            },
            "marker": {
             "line": {
              "color": "#E5ECF6",
              "width": 0.5
             },
             "pattern": {
              "fillmode": "overlay",
              "size": 10,
              "solidity": 0.2
             }
            },
            "type": "bar"
           }
          ],
          "barpolar": [
           {
            "marker": {
             "line": {
              "color": "#E5ECF6",
              "width": 0.5
             },
             "pattern": {
              "fillmode": "overlay",
              "size": 10,
              "solidity": 0.2
             }
            },
            "type": "barpolar"
           }
          ],
          "carpet": [
           {
            "aaxis": {
             "endlinecolor": "#2a3f5f",
             "gridcolor": "white",
             "linecolor": "white",
             "minorgridcolor": "white",
             "startlinecolor": "#2a3f5f"
            },
            "baxis": {
             "endlinecolor": "#2a3f5f",
             "gridcolor": "white",
             "linecolor": "white",
             "minorgridcolor": "white",
             "startlinecolor": "#2a3f5f"
            },
            "type": "carpet"
           }
          ],
          "choropleth": [
           {
            "colorbar": {
             "outlinewidth": 0,
             "ticks": ""
            },
            "type": "choropleth"
           }
          ],
          "contour": [
           {
            "colorbar": {
             "outlinewidth": 0,
             "ticks": ""
            },
            "colorscale": [
             [
              0,
              "#0d0887"
             ],
             [
              0.1111111111111111,
              "#46039f"
             ],
             [
              0.2222222222222222,
              "#7201a8"
             ],
             [
              0.3333333333333333,
              "#9c179e"
             ],
             [
              0.4444444444444444,
              "#bd3786"
             ],
             [
              0.5555555555555556,
              "#d8576b"
             ],
             [
              0.6666666666666666,
              "#ed7953"
             ],
             [
              0.7777777777777778,
              "#fb9f3a"
             ],
             [
              0.8888888888888888,
              "#fdca26"
             ],
             [
              1,
              "#f0f921"
             ]
            ],
            "type": "contour"
           }
          ],
          "contourcarpet": [
           {
            "colorbar": {
             "outlinewidth": 0,
             "ticks": ""
            },
            "type": "contourcarpet"
           }
          ],
          "heatmap": [
           {
            "colorbar": {
             "outlinewidth": 0,
             "ticks": ""
            },
            "colorscale": [
             [
              0,
              "#0d0887"
             ],
             [
              0.1111111111111111,
              "#46039f"
             ],
             [
              0.2222222222222222,
              "#7201a8"
             ],
             [
              0.3333333333333333,
              "#9c179e"
             ],
             [
              0.4444444444444444,
              "#bd3786"
             ],
             [
              0.5555555555555556,
              "#d8576b"
             ],
             [
              0.6666666666666666,
              "#ed7953"
             ],
             [
              0.7777777777777778,
              "#fb9f3a"
             ],
             [
              0.8888888888888888,
              "#fdca26"
             ],
             [
              1,
              "#f0f921"
             ]
            ],
            "type": "heatmap"
           }
          ],
          "heatmapgl": [
           {
            "colorbar": {
             "outlinewidth": 0,
             "ticks": ""
            },
            "colorscale": [
             [
              0,
              "#0d0887"
             ],
             [
              0.1111111111111111,
              "#46039f"
             ],
             [
              0.2222222222222222,
              "#7201a8"
             ],
             [
              0.3333333333333333,
              "#9c179e"
             ],
             [
              0.4444444444444444,
              "#bd3786"
             ],
             [
              0.5555555555555556,
              "#d8576b"
             ],
             [
              0.6666666666666666,
              "#ed7953"
             ],
             [
              0.7777777777777778,
              "#fb9f3a"
             ],
             [
              0.8888888888888888,
              "#fdca26"
             ],
             [
              1,
              "#f0f921"
             ]
            ],
            "type": "heatmapgl"
           }
          ],
          "histogram": [
           {
            "marker": {
             "pattern": {
              "fillmode": "overlay",
              "size": 10,
              "solidity": 0.2
             }
            },
            "type": "histogram"
           }
          ],
          "histogram2d": [
           {
            "colorbar": {
             "outlinewidth": 0,
             "ticks": ""
            },
            "colorscale": [
             [
              0,
              "#0d0887"
             ],
             [
              0.1111111111111111,
              "#46039f"
             ],
             [
              0.2222222222222222,
              "#7201a8"
             ],
             [
              0.3333333333333333,
              "#9c179e"
             ],
             [
              0.4444444444444444,
              "#bd3786"
             ],
             [
              0.5555555555555556,
              "#d8576b"
             ],
             [
              0.6666666666666666,
              "#ed7953"
             ],
             [
              0.7777777777777778,
              "#fb9f3a"
             ],
             [
              0.8888888888888888,
              "#fdca26"
             ],
             [
              1,
              "#f0f921"
             ]
            ],
            "type": "histogram2d"
           }
          ],
          "histogram2dcontour": [
           {
            "colorbar": {
             "outlinewidth": 0,
             "ticks": ""
            },
            "colorscale": [
             [
              0,
              "#0d0887"
             ],
             [
              0.1111111111111111,
              "#46039f"
             ],
             [
              0.2222222222222222,
              "#7201a8"
             ],
             [
              0.3333333333333333,
              "#9c179e"
             ],
             [
              0.4444444444444444,
              "#bd3786"
             ],
             [
              0.5555555555555556,
              "#d8576b"
             ],
             [
              0.6666666666666666,
              "#ed7953"
             ],
             [
              0.7777777777777778,
              "#fb9f3a"
             ],
             [
              0.8888888888888888,
              "#fdca26"
             ],
             [
              1,
              "#f0f921"
             ]
            ],
            "type": "histogram2dcontour"
           }
          ],
          "mesh3d": [
           {
            "colorbar": {
             "outlinewidth": 0,
             "ticks": ""
            },
            "type": "mesh3d"
           }
          ],
          "parcoords": [
           {
            "line": {
             "colorbar": {
              "outlinewidth": 0,
              "ticks": ""
             }
            },
            "type": "parcoords"
           }
          ],
          "pie": [
           {
            "automargin": true,
            "type": "pie"
           }
          ],
          "scatter": [
           {
            "fillpattern": {
             "fillmode": "overlay",
             "size": 10,
             "solidity": 0.2
            },
            "type": "scatter"
           }
          ],
          "scatter3d": [
           {
            "line": {
             "colorbar": {
              "outlinewidth": 0,
              "ticks": ""
             }
            },
            "marker": {
             "colorbar": {
              "outlinewidth": 0,
              "ticks": ""
             }
            },
            "type": "scatter3d"
           }
          ],
          "scattercarpet": [
           {
            "marker": {
             "colorbar": {
              "outlinewidth": 0,
              "ticks": ""
             }
            },
            "type": "scattercarpet"
           }
          ],
          "scattergeo": [
           {
            "marker": {
             "colorbar": {
              "outlinewidth": 0,
              "ticks": ""
             }
            },
            "type": "scattergeo"
           }
          ],
          "scattergl": [
           {
            "marker": {
             "colorbar": {
              "outlinewidth": 0,
              "ticks": ""
             }
            },
            "type": "scattergl"
           }
          ],
          "scattermapbox": [
           {
            "marker": {
             "colorbar": {
              "outlinewidth": 0,
              "ticks": ""
             }
            },
            "type": "scattermapbox"
           }
          ],
          "scatterpolar": [
           {
            "marker": {
             "colorbar": {
              "outlinewidth": 0,
              "ticks": ""
             }
            },
            "type": "scatterpolar"
           }
          ],
          "scatterpolargl": [
           {
            "marker": {
             "colorbar": {
              "outlinewidth": 0,
              "ticks": ""
             }
            },
            "type": "scatterpolargl"
           }
          ],
          "scatterternary": [
           {
            "marker": {
             "colorbar": {
              "outlinewidth": 0,
              "ticks": ""
             }
            },
            "type": "scatterternary"
           }
          ],
          "surface": [
           {
            "colorbar": {
             "outlinewidth": 0,
             "ticks": ""
            },
            "colorscale": [
             [
              0,
              "#0d0887"
             ],
             [
              0.1111111111111111,
              "#46039f"
             ],
             [
              0.2222222222222222,
              "#7201a8"
             ],
             [
              0.3333333333333333,
              "#9c179e"
             ],
             [
              0.4444444444444444,
              "#bd3786"
             ],
             [
              0.5555555555555556,
              "#d8576b"
             ],
             [
              0.6666666666666666,
              "#ed7953"
             ],
             [
              0.7777777777777778,
              "#fb9f3a"
             ],
             [
              0.8888888888888888,
              "#fdca26"
             ],
             [
              1,
              "#f0f921"
             ]
            ],
            "type": "surface"
           }
          ],
          "table": [
           {
            "cells": {
             "fill": {
              "color": "#EBF0F8"
             },
             "line": {
              "color": "white"
             }
            },
            "header": {
             "fill": {
              "color": "#C8D4E3"
             },
             "line": {
              "color": "white"
             }
            },
            "type": "table"
           }
          ]
         },
         "layout": {
          "annotationdefaults": {
           "arrowcolor": "#2a3f5f",
           "arrowhead": 0,
           "arrowwidth": 1
          },
          "autotypenumbers": "strict",
          "coloraxis": {
           "colorbar": {
            "outlinewidth": 0,
            "ticks": ""
           }
          },
          "colorscale": {
           "diverging": [
            [
             0,
             "#8e0152"
            ],
            [
             0.1,
             "#c51b7d"
            ],
            [
             0.2,
             "#de77ae"
            ],
            [
             0.3,
             "#f1b6da"
            ],
            [
             0.4,
             "#fde0ef"
            ],
            [
             0.5,
             "#f7f7f7"
            ],
            [
             0.6,
             "#e6f5d0"
            ],
            [
             0.7,
             "#b8e186"
            ],
            [
             0.8,
             "#7fbc41"
            ],
            [
             0.9,
             "#4d9221"
            ],
            [
             1,
             "#276419"
            ]
           ],
           "sequential": [
            [
             0,
             "#0d0887"
            ],
            [
             0.1111111111111111,
             "#46039f"
            ],
            [
             0.2222222222222222,
             "#7201a8"
            ],
            [
             0.3333333333333333,
             "#9c179e"
            ],
            [
             0.4444444444444444,
             "#bd3786"
            ],
            [
             0.5555555555555556,
             "#d8576b"
            ],
            [
             0.6666666666666666,
             "#ed7953"
            ],
            [
             0.7777777777777778,
             "#fb9f3a"
            ],
            [
             0.8888888888888888,
             "#fdca26"
            ],
            [
             1,
             "#f0f921"
            ]
           ],
           "sequentialminus": [
            [
             0,
             "#0d0887"
            ],
            [
             0.1111111111111111,
             "#46039f"
            ],
            [
             0.2222222222222222,
             "#7201a8"
            ],
            [
             0.3333333333333333,
             "#9c179e"
            ],
            [
             0.4444444444444444,
             "#bd3786"
            ],
            [
             0.5555555555555556,
             "#d8576b"
            ],
            [
             0.6666666666666666,
             "#ed7953"
            ],
            [
             0.7777777777777778,
             "#fb9f3a"
            ],
            [
             0.8888888888888888,
             "#fdca26"
            ],
            [
             1,
             "#f0f921"
            ]
           ]
          },
          "colorway": [
           "#636efa",
           "#EF553B",
           "#00cc96",
           "#ab63fa",
           "#FFA15A",
           "#19d3f3",
           "#FF6692",
           "#B6E880",
           "#FF97FF",
           "#FECB52"
          ],
          "font": {
           "color": "#2a3f5f"
          },
          "geo": {
           "bgcolor": "white",
           "lakecolor": "white",
           "landcolor": "#E5ECF6",
           "showlakes": true,
           "showland": true,
           "subunitcolor": "white"
          },
          "hoverlabel": {
           "align": "left"
          },
          "hovermode": "closest",
          "mapbox": {
           "style": "light"
          },
          "paper_bgcolor": "white",
          "plot_bgcolor": "#E5ECF6",
          "polar": {
           "angularaxis": {
            "gridcolor": "white",
            "linecolor": "white",
            "ticks": ""
           },
           "bgcolor": "#E5ECF6",
           "radialaxis": {
            "gridcolor": "white",
            "linecolor": "white",
            "ticks": ""
           }
          },
          "scene": {
           "xaxis": {
            "backgroundcolor": "#E5ECF6",
            "gridcolor": "white",
            "gridwidth": 2,
            "linecolor": "white",
            "showbackground": true,
            "ticks": "",
            "zerolinecolor": "white"
           },
           "yaxis": {
            "backgroundcolor": "#E5ECF6",
            "gridcolor": "white",
            "gridwidth": 2,
            "linecolor": "white",
            "showbackground": true,
            "ticks": "",
            "zerolinecolor": "white"
           },
           "zaxis": {
            "backgroundcolor": "#E5ECF6",
            "gridcolor": "white",
            "gridwidth": 2,
            "linecolor": "white",
            "showbackground": true,
            "ticks": "",
            "zerolinecolor": "white"
           }
          },
          "shapedefaults": {
           "line": {
            "color": "#2a3f5f"
           }
          },
          "ternary": {
           "aaxis": {
            "gridcolor": "white",
            "linecolor": "white",
            "ticks": ""
           },
           "baxis": {
            "gridcolor": "white",
            "linecolor": "white",
            "ticks": ""
           },
           "bgcolor": "#E5ECF6",
           "caxis": {
            "gridcolor": "white",
            "linecolor": "white",
            "ticks": ""
           }
          },
          "title": {
           "x": 0.05
          },
          "xaxis": {
           "automargin": true,
           "gridcolor": "white",
           "linecolor": "white",
           "ticks": "",
           "title": {
            "standoff": 15
           },
           "zerolinecolor": "white",
           "zerolinewidth": 2
          },
          "yaxis": {
           "automargin": true,
           "gridcolor": "white",
           "linecolor": "white",
           "ticks": "",
           "title": {
            "standoff": 15
           },
           "zerolinecolor": "white",
           "zerolinewidth": 2
          }
         }
        },
        "title": {
         "text": "Number of Events vs Membership"
        },
        "xaxis": {
         "showgrid": false,
         "title": {
          "text": "Number of Events"
         },
         "zeroline": false
        },
        "yaxis": {
         "showgrid": false,
         "title": {
          "text": "Number of Members"
         },
         "zeroline": false
        }
       }
      },
      "text/html": [
       "<div>                            <div id=\"85b52950-fb7f-46f5-96df-dedf55282699\" class=\"plotly-graph-div\" style=\"height:525px; width:100%;\"></div>            <script type=\"text/javascript\">                require([\"plotly\"], function(Plotly) {                    window.PLOTLYENV=window.PLOTLYENV || {};                                    if (document.getElementById(\"85b52950-fb7f-46f5-96df-dedf55282699\")) {                    Plotly.newPlot(                        \"85b52950-fb7f-46f5-96df-dedf55282699\",                        [{\"mode\":\"markers\",\"text\":[\"Stepping Out Social Dance Meetup, Dancing\",\"NashJS, Tech\",\"Sunday Assembly Nashville, Religion & Beliefs\",\"Tennessee Hiking Group, Outdoors & Adventure\",\"Middle TN 40+ singles, Singles\",\"PyNash, Tech\",\"Greater Nashville Healthcare Analytics, Tech\",\"Nashville Backpacker Meetup, Outdoors & Adventure\",\"Eat Love Nash, Socializing\",\"Middle Tennessee Hiking Meetup, Outdoors & Adventure\",\"Nashville Young Professionals Meetup, Career & Business\",\"Agile Nashville User Group, Tech\",\"Nashville Christian Singles, Outdoors & Adventure\",\"Tails of the Trail, Pets & Animals\",\"Nashville DevOps Meetup, Tech\",\"Nashville UX, Tech\",\"Franklin Developer Lunch & Learn, Tech\",\"Nashville .NET User Group, Tech\",\"Nashville Machine Learning Meetup, Tech\",\"The Joy of Dining Out with Friends Meetup, Food & Drink\",\"Design Thinking Nashville, Tech\",\"Nashville Product Meetup, Tech\",\"Nashville Online Entrepreneurs, Career & Business\",\"Music City Young Professionals, Socializing\",\"Nashville Flag Football, Sports & Recreation\",\"Nashville Networking Business Luncheon, Career & Business\",\"What the Pho!, Food & Drink\",\"Developer Launchpad Nashville, Tech\",\"Nashville Java Users' Group, Tech\",\"Code for Nashville, Tech\",\"Data Science Nashville, Tech\",\"North Nashville Party Chicks, Socializing\",\"Fun Happenings Travel & Adventure Group, Outdoors & Adventure\",\"The Nashville Microsoft Azure Users Group, Tech\",\"Nashville Women Programmers, Tech\",\"Nashville PHP User Group, Tech\",\"Lesbians in the Workplace, Nashville, LGBT\",\"Paddle Adventures Unlimited, Outdoors & Adventure\",\"WOMEN \\\"Word of Mouth Entrepreneurial Networkers\\\", Career & Business\",\"Nashvegans!, Movements & Politics\",\"Inner Engineering Nashville (Isha Yoga & Meditation Classes), Health & Wellbeing\",\"Nashville Salesforce Admins & Developers Group, Tech\",\"Nashville SEO & Internet Marketing, Over 1,600 Members!, Career & Business\",\"WordPress Nashville, Tech\",\"Intellectual Society of Greater Nashville, Education & Learning\",\"NashBI, Tech\",\"Nashville Spanish Meetup, Language & Ethnic Identity\",\"Nash |> Elixir, Tech\",\"Nash.rb, Tech\",\"Nashville Online Business Strategy Meetup, Career & Business\",\"Drink-n-Draw, Arts & Culture\",\"One Dharma Nashville Meditation Group, New Age & Spirituality\",\"Women's  Business Network, Career & Business\",\"Women 'n' Wine of Nashville, Career & Business\",\"The Nashville Songwriters Meetup Group, Music\",\"Board Game Lovers Meetup, Games\",\"Network Middle Tennessee, Career & Business\",\"Nashville Outdoor Adventures Club, Outdoors & Adventure\",\"Beer and Bible Nashville, Religion & Beliefs\",\"T-VOE: Tennessee Voice Over Exchange, Arts & Culture\",\"Women 'n' Wine of Williamson County, Career & Business\",\"Couples New 2 Nashville & Know (almost) NoOne.  Ages 40 & Up, Socializing\",\"NashReact, Tech\",\"Franklin AM - Networking, Career & Business\",\"Nashville Entrepreneurs Network, Career & Business\",\"NashMicro - The Nashville Microcontroller Makers Group, Tech\",\"Nashville CocoaHeads, Tech\",\"Middle Tennessee Motorcycle Riders, Cars & Motorcycles\",\"Greater Nashville Networking Group, Career & Business\",\"The Nashville Girly Book Club, Book Clubs\",\"Nashville and Tennessee History, Education & Learning\",\"Christian Business Leaders Roundtable | CEO Fellowship, Career & Business\",\"Chicago Cubs, Blackhawks and Bears Fans near Nashville, Sports & Recreation\",\"Nashville Shambhala Meditation Group, Health & Wellbeing\",\"Thrills and Chills Book Club, Book Clubs\",\"Boost Nashville - The Business Networking Group!, Career & Business\",\"Women 'n' Wine of Green Hills, Career & Business\",\"Savvy Coders - Nashville, Tech\",\"Philadelphia Eagles Fans In Nashville, Sports & Recreation\",\"Nashville Ladies Volunteering and Having Fun, Socializing\",\"20s in Nashville, Socializing\",\"Spiritual Psychology and Consciousness Group, New Age & Spirituality\",\"Fun Happenings Social Group-Nashvilles Most Fun Social Group, Socializing\",\"Nashville Mobile Developers, Tech\",\"Nashville English Language Learning Meetup, Language & Ethnic Identity\",\"Euchre in Nashville, Games\",\"Real Estate Investors of Nashville Meetup Group, Career & Business\",\"NASHVILLE REIKI & OILS, New Age & Spirituality\",\"Bellevue Business Networking Meetup, Career & Business\",\"Nashville Real Estate Investor Network, Career & Business\",\"The Iron Yard - Nashville, Tech\",\"Nashville Modern Excel & Power BI User Group, Tech\",\"Tennessee Real Estate Investors Meetup, Career & Business\",\"Bellevue Area Meetup: Meet New Friends!, Socializing\",\"Volunteer Nashville, Community & Environment\",\"Mount Juliet/Wilson County Hiking & Outdoors, Outdoors & Adventure\",\"Mid-TN Scrapbooking Club, Hobbies & Crafts\",\"20s/30s Nashville Online Dating Rebellion!, Socializing\",\"TwitchNashville, Games\",\"Nashville Filmmakers, Movies & Film\",\"Metro Nashville German Meetup Group, Language & Ethnic Identity\",\"The Nashville Singer, Musician and Songwriter Meetup Group, Music\",\"Nashville Bitcoin Meetup, Career & Business\",\"Nashville Software Automation Professionals, Tech\",\"Mediumship and Intuitive Development Circle of Nashville, New Age & Spirituality\",\"NashDash Dating!, Singles\",\"Nashville 80s Music & More Meetup, Music\",\"SCORE Nashville Events, Networking and Workshops, Career & Business\",\"Nashville Mobile .NET Developers, Tech\",\"Nashville Software Beginners, Tech\",\"Nashville Vipassana Meditation Meetup, New Age & Spirituality\",\"Mastermind Business Networkers, Career & Business\",\"The Middle TN Alternative Health Meetup Group, Health & Wellbeing\",\"Nashville Music Programmers, Tech\",\"Thinking Christians Book Club, Religion & Beliefs\",\"MTRAS ~ MidTn Robotic Arts Society, Tech\",\"Nashville Socials and Events!, Socializing\",\"NashSec, Tech\",\"Brentwood - Grow Your Business In Tennessee, Career & Business\",\"Nashville Game Developers, Tech\",\"Free & Cheap Events, Socializing\",\"Science Club Nashville, Education & Learning\",\"The Nashville Football Giants, Sports & Recreation\",\"Nashville Dungeon Delvers, Games\",\"Outdoor Fit - HIIT, Fitness\",\"Nashville Wiener Romp, Pets & Animals\",\"Blues Dance Nashville, Music\",\"40 and over gay men for social gatherings, LGBT\",\"Nashville Science Fiction Book Club, Education & Learning\",\"Brentwood TN Conversational Spanish Language Meetup Group, Language & Ethnic Identity\",\"Oneness Nashville, New Age & Spirituality\",\"Franklin Books and Discussion Meetup, Education & Learning\",\"OCD Nashville Peer Support Group Meetup, Support\",\"Nashville Classic and Contemporary Fiction Group (for women), Book Clubs\",\"Nashville Spirituality Meetup, New Age & Spirituality\",\"Nashville Network After Work - Business Networking Events, Career & Business\",\"Music City Wine Enthusiasts, Food & Drink\",\"Nashville Kayak Lessons, Outdoors & Adventure\",\"Enneagram Nashville, New Age & Spirituality\",\"Art of Living, Health & Wellbeing\",\"All Things Gardening, Community & Environment\",\"Nashville Alternative Health & Wellness, Health & Wellbeing\",\"Franklin Reiki, New Age & Spirituality\",\"Piano Music Lovers of Nashville, Music\",\"Middle Tennessee Sierra Club Outings and Adventures, Community & Environment\",\"Nashville ADHD Adults, Support\",\"Nashville Amazon Web Services User Group, Tech\",\"EDIBLE WEED WALKS and PLANT CLASSES, Health & Wellbeing\",\"Nashville Scrabble Meetup, Games\",\"Nashville Faith & Skepticism Meetup, Religion & Beliefs\",\"Nashville Foam Fighting - Dur Demarion - Belegarth, Games\",\"Green Hills Stampin' and Scrapbooking Meetup, Hobbies & Crafts\",\"Reading Queer, LGBT\",\"Nashville BarkHappy Dog Meetup, Pets & Animals\",\"Nashville Animal Advocacy, Pets & Animals\",\"Nashville Spiritual Experiences Group, New Age & Spirituality\",\"Nashville Kizomba Meetup, Dancing\",\"Nashville Holistic Association, Health & Wellbeing\",\"Cumberland Green Bioregional Council, Community & Environment\",\"Nashville Axis & Allies Meetup, Games\",\"The Nashville Chinese Language and Culture Meetup Group, Language & Ethnic Identity\",\"Big East Fork Folk / Jazz Music Meetup, Music\",\"Nashville Chess and Chat Meetup, Games\",\"Let's Talk Franklin Toastmasters Club, Career & Business\",\"Middle Tennessee Entrepreneurs MasterMind Meetup, Career & Business\",\"Nashville Comedy Meetup, Socializing\",\"Nashville Christian Universalists, Religion & Beliefs\",\"Nashville Hydroponics / Aquaponics Meetup, Community & Environment\",\"Nashville Wakeboarding and surfing Meetup, Sports & Recreation\",\"Craft Beer Lovers of Nashville Meetup, Food & Drink\",\"Nashville Skiing Meetup, Outdoors & Adventure\",\"Nashville Professional Photography Meetup by ASMP Tennessee, Career & Business\",\"B'nei Mikra Nashville (Torah Study), Religion & Beliefs\",\"The Nashville Backgammon Association, Games\",\"East Nashville Book Club, Book Clubs\",\"Nashville Amnesty International, Community & Environment\",\"Nashville Beading and Jewelry Design Meetup, Hobbies & Crafts\",\"Tennessee Red Rock Adventurers, Cars & Motorcycles\",\"Climb Nashville Meetup, Outdoors & Adventure\",\"Nashville Cloudera User Group, Tech\",\"Nashville Linux Users Group, Tech\",\"ManKind Project, Nashville, Support\",\"Bellevue Free Mandarin/Korean Lessons Meetup, Language & Ethnic Identity\",\"Nashville Daoist (Taoist) & Chinese Philosophy Meetup Group, New Age & Spirituality\",\"Nashville's Society of Women Business Owners (SOWBO), Career & Business\",\"Wellness Nashville, Health & Wellbeing\",\"Women of Purpose and Power, Religion & Beliefs\",\"TuneTown Show Chorus, Music\",\"Nashville Rock Climbing MeetUP, Outdoors & Adventure\",\"Nashville Children in Nature, Parents & Family\",\"Social Entrepreneurs of Nashville, Career & Business\",\"Nashville Lisp Sync, Tech\",\"Nashville Sustainability Events Group, Community & Environment\",\"Citizens Climate Lobby Nashville, Community & Environment\",\"GREEN Investment Club, Nashville, Career & Business\",\"9.12 Project Nashville, Movements & Politics\",\"GEEK by AKEIN Engineering, Education & Learning\",\"Nashville Cooking Lessons Meetup, Food & Drink\",\"West Nashville/Bellevue Conversation Cafe, New Age & Spirituality\",\"Sumner County Libertarian Party, Movements & Politics\",\"Meet Mount Juliet Networking Mixer, Socializing\",\"New Investors & Real Estate Investors of Williamson County, Career & Business\",\"Franklin Small Business Digital Media Marketing Meetup, Career & Business\",\"Women'n'Wine of Murfreesboro, Career & Business\",\"Mimosas, Brunch and Network, Career & Business\",\"The Right Alternative, Movements & Politics\",\"Cincinnati Conversation about Moments of Grace, Socializing\",\"BIG FUN GAME nite, Tech\",\"Konexus - Young Professionals of Nashville, Socializing\",\"Sophos Southeast Partners, Tech\",\"Nashville Kubernetes Meetup, Tech\",\"Pranic Healing Nashville, New Age & Spirituality\",\"ONA Nashville, Tech\",\"Thrifting Nashville Meetup, Fashion & Beauty\",\"Nashville Cardinals Club, Sports & Recreation\",\"Nashville Purely Social and Super-Awesome Social Group, Socializing\",\"OCF Nashville, Tech\",\"Transplant Nashville, Socializing\",\"Traveling Widows and Widowers, Outdoors & Adventure\",\"Mindful Cyborgs Meditation, Tech\",\"Nashville Startup Founder 101, Career & Business\",\"Nashville League of Legends Meetup, Games\",\"TGIT =Thank Goodness It's THURSDAY Happy Hour & Business, Career & Business\",\"Nashville Tennis Lessons- PlayYourCourt, Sports & Recreation\",\"The Nashville Web Design Meetup Group, Tech\",\"Nashville Social Crew! Dine, Hike, Photography, & More!, Photography\",\"Full-Stack Marketing Mastermind, Tech\",\"Nashville Science & Religion Meetup, Education & Learning\",\"20&UP Tennis: Nashville, Sports & Recreation\",\"Nashville SaltStack Meetup, Tech\",\"20/30 something couples in Nashville!~, Socializing\",\"Nashville Electronic Music & Synthesizer Meetup, Music\",\"Music City Women of coursge &  strength, Health & Wellbeing\",\"Nashville API Developers, Tech\",\"10X Revolution Nashville, Health & Wellbeing\",\"Second Saturday Divorce Workshop for Women, Support\",\"The Nashville TENNISseans, Sports & Recreation\",\"Nashville Tennis Lessons, Sports & Recreation\",\"Middle Tennessee Kayak Lessons Meetup, Outdoors & Adventure\",\"Advanced Audio + Applications Exchange (A3E) - Nashville, Music\",\"Movies with Heide, Movies & Film\",\"Never Bored in Nashville, Music\",\"Nashville Women & Beauty, Fashion & Beauty\",\"Nashville Co-Ed Kickball, Sports & Recreation\",\"NASHVILLE WRITERS HOUSE, Writing\",\"Explorer Chicks of Nashville: Adventure Awaits!, Outdoors & Adventure\",\"James K. Polk Toastmasters, Education & Learning\",\"Music City Drinking Buddies, Socializing\",\"Nashville PowerShell User Group (NashPUG), Tech\",\"Movie Lovers:  New, Classic, and Foreign Films Meetup, Movies & Film\",\"Ambrosia - Friends, Food and Fun, Socializing\",\"Nashville's New Business Owners, Career & Business\",\"Viva Italia Tennessee www.VivaItaliaTN.com, Food & Drink\",\"Tarot Lights, New Age & Spirituality\",\"Nashville Hadoop Users Group, Tech\",\"Nashville Software Defined Networking (SD-WAN), Tech\",\"Nashville Farm to Fork, Food & Drink\",\"Nashville Startup: Idea to IPO, Career & Business\",\"NashvilleTech, Tech\",\"Comfort zone Escapees, New Age & Spirituality\",\"Nashville Women of a Certain Age Meetup, Socializing\",\"East Nashville Women Mean Business, Career & Business\",\"Wellness, Abundance, Purpose, Health & Wellbeing\",\"Nashville Digital Marketing Meetup, Tech\",\"SEO in Nashville - Join the Other Group!, Career & Business\",\"Nashville Music-Technology Group, Tech\",\"Eastside Rides, Outdoors & Adventure\",\"Dine and Unwind in East Nashville, Food & Drink\",\"Nashville Sailing, Outdoors & Adventure\",\"Nashville Psychotherapy Institute, Health & Wellbeing\",\"Music City Singles, Sci-Fi & Fantasy\",\"Single in the City Live, Career & Business\",\"Skeleton Cru, Tech\",\"Nashville Pilgrimage Hiking & Walking Meetup Group, Outdoors & Adventure\",\"Strictly Belcourt, Movies & Film\",\"Nashville Quantum Energy Play Group, New Age & Spirituality\",\"Nashville Pick-a-Flick, Movies & Film\",\"Nashville Christian Technologists and Entrepreneurs, Tech\",\"Nashville Search Engine Marketing Meetup, Career & Business\",\"Nashville Hearthstone Fireside Gathering, Games\",\"Nashville Virtual Reality Meetup, Tech\",\"Business Girls Rock! Nashville Entrepreneurship Meetup, Career & Business\",\"Conscious Nashville, Community & Environment\",\"Tennessee Americans United for Separation of Church & State, Movements & Politics\",\"\\\"New Moon Monthly Energy Workshop\\\", New Age & Spirituality\",\"The Middle TN Red Sox Nation Meetup Group, Sports & Recreation\",\"Build and Develop Your Online Presence Nashville, TN, Career & Business\",\"Nashville Longevity Communities, Socializing\",\"A Course in Miracles Study Group, Nashville, New Age & Spirituality\",\"The Nashville Taiji Club, Health & Wellbeing\",\"Nashville ColdFusion User Group, Tech\",\"Nashville Charismatic Liberals, Religion & Beliefs\",\"Urban League Young Professionals of Middle Tennessee, Language & Ethnic Identity\",\"Nashville Nonprofit Meetup, Community & Environment\",\"Transition Nashville, Community & Environment\",\"Nashville Cohousing Group, Community & Environment\",\"Nashville Area Real Estate Investors Meetup, Career & Business\",\"Nashville Parents of Children with Dyslexia Support Group, Support\",\"Nashville's Gluten Free Dinner Club & Celiac Support Assoc., Food & Drink\",\"Bucketlisted : Coveted Travel & Life Experiences, Socializing\",\"Serial Tanks Meetup, Career & Business\",\"Stand Up Paddle Boarding in Nashville TN., Sports & Recreation\",\"PROVIDENT LIVING & SELF-RELIANCE, Education & Learning\",\"Middle TN First Time Home Buyers Meetup, Career & Business\",\"Nashville Locals, Career & Business\",\"Music Industry Forum- Who kNew Nashville, Music\",\"Networking for Charity, Career & Business\",\"Nashville Meditation and Hypnosis, Health & Wellbeing\",\"Nashville Travel Meetup, Socializing\",\"Live Music Metropolis - Nashville Chapter, Socializing\",\"GrowNashville: Startup Entrepreneurs, Hackers, & Web Experts, Tech\",\"Music City Jazz Fans, Music\",\"The Data Warehouse Institute (TDWI) Nashville Meetup, Tech\",\"Vegan Food & Friends, Food & Drink\",\"Extraterrestrials, New Age & Spirituality\",\"The Whole Wealth Club, Career & Business\",\"JOBS Etc - Career Opportunities Network, Career & Business\",\"Single Adult Ministry @ Brentwood United Methodist Church, Religion & Beliefs\",\"Soul Evolution, Ascension & Beyond of Nashville, New Age & Spirituality\",\"The Nashville/Brentwood Cigar Aficionado's Meetup, Food & Drink\",\"Brentwood Bible Study, Religion & Beliefs\",\"Living Wholeheartedly: The Daring Way\\u2122 Nashville, Health & Wellbeing\",\"Nashville Insurance Professionals, Career & Business\",\"Brentwood Sales & Marketing Meetup Group, Career & Business\",\"Antioch/Nashville Homeschooling Meetup, Parents & Family\",\"Pure Storage Middle Tennessee, Tech\",\"Nashville Free Guitar Lesson Meetup, Music\",\"Aussies in Nashville, Language & Ethnic Identity\",\"Nashville Business Strategy Meetup, Career & Business\",\"Bellevue Business Buzz Networking  Group, Career & Business\",\"Nashville Conda, R, Julia Users Group, Tech\",\"Nashville World Travelers, Outdoors & Adventure\",\"Narrowcasting Your Passion, Tech\",\"Escape The Rat Race With Real Estate Investing!!, Career & Business\",\"Project Worship, Music\",\"Rikian Exerciser Fitness Fans - Franklin, TN, Fitness\",\"Tintri Nashville - VMaware storage, Tech\",\"Bible Reading, Religion & Beliefs\",\"MHO Nashville Active Adventures, Outdoors & Adventure\",\"Doing The Impossible, Career & Business\",\"Arts Council of Williamson County, Arts & Culture\",\"Center for Sustainable Stewardship, Outdoors & Adventure\",\"Big East Fork Yoga, Mind/Body, and Wellness, Health & Wellbeing\",\"Big East Fork Hiking & Breakfast Club, Outdoors & Adventure\",\"Southern Foragers Meetup, Community & Environment\",\"Seniors Social Dance Night, Socializing\",\"Williamson County Ruby Meetup, Tech\",\"ML/JP Dance Music Family, Music\",\"The Relationship Sounding Board, Support\"],\"x\":[139,11,120,121,126,23,12,67,59,101,15,12,83,66,12,14,10,13,2,27,18,14,9,8,40,57,37,25,10,15,7,49,11,12,16,35,43,64,12,24,21,12,20,20,19,9,32,11,12,19,158,120,25,14,44,27,165,189,41,11,23,44,8,50,25,11,12,22,47,12,3,51,22,104,7,5,12,9,14,45,43,108,20,10,22,12,78,159,24,46,52,13,88,33,21,142,11,9,4,11,9,14,13,10,16,8,15,70,14,14,26,52,162,11,5,21,11,11,13,40,53,12,18,119,14,12,58,12,12,24,53,11,29,11,57,12,9,52,5,97,10,144,75,8,31,3,13,1,17,20,71,13,2,4,32,35,36,13,10,5,12,105,52,49,13,19,6,12,28,4,10,10,42,52,11,13,12,4,24,1,20,22,13,9,15,50,103,45,5,13,6,11,9,12,131,1,1,8,51,12,10,10,6,9,10,2,1,8,1,14,6,17,6,25,1,2,1,8,1,7,4,1,1,1,10,1,7,4,4,1,1,4,2,1,1,24,2,10,48,3,5,13,12,1,4,23,52,7,5,19,1,3,4,1,1,1,1,1,11,1,24,1,6,10,10,1,2,2,43,9,6,2,2,7,7,1,3,5,9,1,4,1,3,21,1,3,11,2,37,1,2,1,13,1,7,2,1,7,8,1,18,70,23,14,22,5,5,1,1,1,11,21,2,20,1,1,1,10,1,4,2,1,1,1,4,1,4,4,3,15,1,1,8,60,1,1,7,1,60,3,14,11,1,4,1,3,1,24,1],\"y\":[1778,1975,918,4828,2583,1442,764,3861,5008,1576,3210,862,1683,1241,502,1318,629,1371,451,2032,1026,560,1532,1388,645,1444,1889,576,1041,1763,1046,435,2058,651,1091,1118,567,6331,2307,965,1103,501,1649,1643,652,784,1417,391,881,1447,2514,1191,2163,690,2644,2261,1084,1328,445,72,959,398,438,360,1192,646,237,1055,510,1770,1422,887,341,874,105,799,401,243,90,1639,3811,1382,2050,1166,436,427,1035,610,298,441,1491,540,1292,493,2921,802,520,1124,187,1189,52,2060,322,166,234,1769,1763,727,372,1308,91,605,992,516,195,525,2634,107,491,516,2189,281,109,124,205,499,865,200,726,315,874,50,47,112,703,2622,1094,3260,54,1106,293,1328,200,88,3509,359,476,1649,460,50,589,57,197,243,344,160,482,549,240,115,243,532,257,608,366,326,97,429,124,906,477,206,86,41,249,577,58,479,933,101,564,48,243,192,511,540,105,131,724,654,44,152,618,106,71,582,62,557,48,77,678,160,296,114,103,79,12,509,52,59,120,128,99,530,51,1441,49,2152,132,256,1199,94,603,182,493,4017,256,299,590,26,398,405,304,552,51,143,508,138,1824,271,186,1872,5,620,503,921,84,2021,264,875,1629,326,460,177,296,54,683,210,886,146,225,60,295,389,41,159,349,2667,280,189,878,1570,678,984,1729,196,868,613,136,203,995,459,90,185,50,330,353,53,505,34,41,27,1198,32,674,282,111,21,217,95,146,977,777,43,1910,992,1615,563,370,3765,915,501,311,850,136,137,244,459,151,429,156,399,60,177,56,34,469,77,2,5,413,1226,73,444,111,32,67,171,1696,107,84,108,152,411,289,39,80,97,40],\"type\":\"scatter\"}],                        {\"template\":{\"data\":{\"barpolar\":[{\"marker\":{\"line\":{\"color\":\"#E5ECF6\",\"width\":0.5},\"pattern\":{\"fillmode\":\"overlay\",\"size\":10,\"solidity\":0.2}},\"type\":\"barpolar\"}],\"bar\":[{\"error_x\":{\"color\":\"#2a3f5f\"},\"error_y\":{\"color\":\"#2a3f5f\"},\"marker\":{\"line\":{\"color\":\"#E5ECF6\",\"width\":0.5},\"pattern\":{\"fillmode\":\"overlay\",\"size\":10,\"solidity\":0.2}},\"type\":\"bar\"}],\"carpet\":[{\"aaxis\":{\"endlinecolor\":\"#2a3f5f\",\"gridcolor\":\"white\",\"linecolor\":\"white\",\"minorgridcolor\":\"white\",\"startlinecolor\":\"#2a3f5f\"},\"baxis\":{\"endlinecolor\":\"#2a3f5f\",\"gridcolor\":\"white\",\"linecolor\":\"white\",\"minorgridcolor\":\"white\",\"startlinecolor\":\"#2a3f5f\"},\"type\":\"carpet\"}],\"choropleth\":[{\"colorbar\":{\"outlinewidth\":0,\"ticks\":\"\"},\"type\":\"choropleth\"}],\"contourcarpet\":[{\"colorbar\":{\"outlinewidth\":0,\"ticks\":\"\"},\"type\":\"contourcarpet\"}],\"contour\":[{\"colorbar\":{\"outlinewidth\":0,\"ticks\":\"\"},\"colorscale\":[[0.0,\"#0d0887\"],[0.1111111111111111,\"#46039f\"],[0.2222222222222222,\"#7201a8\"],[0.3333333333333333,\"#9c179e\"],[0.4444444444444444,\"#bd3786\"],[0.5555555555555556,\"#d8576b\"],[0.6666666666666666,\"#ed7953\"],[0.7777777777777778,\"#fb9f3a\"],[0.8888888888888888,\"#fdca26\"],[1.0,\"#f0f921\"]],\"type\":\"contour\"}],\"heatmapgl\":[{\"colorbar\":{\"outlinewidth\":0,\"ticks\":\"\"},\"colorscale\":[[0.0,\"#0d0887\"],[0.1111111111111111,\"#46039f\"],[0.2222222222222222,\"#7201a8\"],[0.3333333333333333,\"#9c179e\"],[0.4444444444444444,\"#bd3786\"],[0.5555555555555556,\"#d8576b\"],[0.6666666666666666,\"#ed7953\"],[0.7777777777777778,\"#fb9f3a\"],[0.8888888888888888,\"#fdca26\"],[1.0,\"#f0f921\"]],\"type\":\"heatmapgl\"}],\"heatmap\":[{\"colorbar\":{\"outlinewidth\":0,\"ticks\":\"\"},\"colorscale\":[[0.0,\"#0d0887\"],[0.1111111111111111,\"#46039f\"],[0.2222222222222222,\"#7201a8\"],[0.3333333333333333,\"#9c179e\"],[0.4444444444444444,\"#bd3786\"],[0.5555555555555556,\"#d8576b\"],[0.6666666666666666,\"#ed7953\"],[0.7777777777777778,\"#fb9f3a\"],[0.8888888888888888,\"#fdca26\"],[1.0,\"#f0f921\"]],\"type\":\"heatmap\"}],\"histogram2dcontour\":[{\"colorbar\":{\"outlinewidth\":0,\"ticks\":\"\"},\"colorscale\":[[0.0,\"#0d0887\"],[0.1111111111111111,\"#46039f\"],[0.2222222222222222,\"#7201a8\"],[0.3333333333333333,\"#9c179e\"],[0.4444444444444444,\"#bd3786\"],[0.5555555555555556,\"#d8576b\"],[0.6666666666666666,\"#ed7953\"],[0.7777777777777778,\"#fb9f3a\"],[0.8888888888888888,\"#fdca26\"],[1.0,\"#f0f921\"]],\"type\":\"histogram2dcontour\"}],\"histogram2d\":[{\"colorbar\":{\"outlinewidth\":0,\"ticks\":\"\"},\"colorscale\":[[0.0,\"#0d0887\"],[0.1111111111111111,\"#46039f\"],[0.2222222222222222,\"#7201a8\"],[0.3333333333333333,\"#9c179e\"],[0.4444444444444444,\"#bd3786\"],[0.5555555555555556,\"#d8576b\"],[0.6666666666666666,\"#ed7953\"],[0.7777777777777778,\"#fb9f3a\"],[0.8888888888888888,\"#fdca26\"],[1.0,\"#f0f921\"]],\"type\":\"histogram2d\"}],\"histogram\":[{\"marker\":{\"pattern\":{\"fillmode\":\"overlay\",\"size\":10,\"solidity\":0.2}},\"type\":\"histogram\"}],\"mesh3d\":[{\"colorbar\":{\"outlinewidth\":0,\"ticks\":\"\"},\"type\":\"mesh3d\"}],\"parcoords\":[{\"line\":{\"colorbar\":{\"outlinewidth\":0,\"ticks\":\"\"}},\"type\":\"parcoords\"}],\"pie\":[{\"automargin\":true,\"type\":\"pie\"}],\"scatter3d\":[{\"line\":{\"colorbar\":{\"outlinewidth\":0,\"ticks\":\"\"}},\"marker\":{\"colorbar\":{\"outlinewidth\":0,\"ticks\":\"\"}},\"type\":\"scatter3d\"}],\"scattercarpet\":[{\"marker\":{\"colorbar\":{\"outlinewidth\":0,\"ticks\":\"\"}},\"type\":\"scattercarpet\"}],\"scattergeo\":[{\"marker\":{\"colorbar\":{\"outlinewidth\":0,\"ticks\":\"\"}},\"type\":\"scattergeo\"}],\"scattergl\":[{\"marker\":{\"colorbar\":{\"outlinewidth\":0,\"ticks\":\"\"}},\"type\":\"scattergl\"}],\"scattermapbox\":[{\"marker\":{\"colorbar\":{\"outlinewidth\":0,\"ticks\":\"\"}},\"type\":\"scattermapbox\"}],\"scatterpolargl\":[{\"marker\":{\"colorbar\":{\"outlinewidth\":0,\"ticks\":\"\"}},\"type\":\"scatterpolargl\"}],\"scatterpolar\":[{\"marker\":{\"colorbar\":{\"outlinewidth\":0,\"ticks\":\"\"}},\"type\":\"scatterpolar\"}],\"scatter\":[{\"fillpattern\":{\"fillmode\":\"overlay\",\"size\":10,\"solidity\":0.2},\"type\":\"scatter\"}],\"scatterternary\":[{\"marker\":{\"colorbar\":{\"outlinewidth\":0,\"ticks\":\"\"}},\"type\":\"scatterternary\"}],\"surface\":[{\"colorbar\":{\"outlinewidth\":0,\"ticks\":\"\"},\"colorscale\":[[0.0,\"#0d0887\"],[0.1111111111111111,\"#46039f\"],[0.2222222222222222,\"#7201a8\"],[0.3333333333333333,\"#9c179e\"],[0.4444444444444444,\"#bd3786\"],[0.5555555555555556,\"#d8576b\"],[0.6666666666666666,\"#ed7953\"],[0.7777777777777778,\"#fb9f3a\"],[0.8888888888888888,\"#fdca26\"],[1.0,\"#f0f921\"]],\"type\":\"surface\"}],\"table\":[{\"cells\":{\"fill\":{\"color\":\"#EBF0F8\"},\"line\":{\"color\":\"white\"}},\"header\":{\"fill\":{\"color\":\"#C8D4E3\"},\"line\":{\"color\":\"white\"}},\"type\":\"table\"}]},\"layout\":{\"annotationdefaults\":{\"arrowcolor\":\"#2a3f5f\",\"arrowhead\":0,\"arrowwidth\":1},\"autotypenumbers\":\"strict\",\"coloraxis\":{\"colorbar\":{\"outlinewidth\":0,\"ticks\":\"\"}},\"colorscale\":{\"diverging\":[[0,\"#8e0152\"],[0.1,\"#c51b7d\"],[0.2,\"#de77ae\"],[0.3,\"#f1b6da\"],[0.4,\"#fde0ef\"],[0.5,\"#f7f7f7\"],[0.6,\"#e6f5d0\"],[0.7,\"#b8e186\"],[0.8,\"#7fbc41\"],[0.9,\"#4d9221\"],[1,\"#276419\"]],\"sequential\":[[0.0,\"#0d0887\"],[0.1111111111111111,\"#46039f\"],[0.2222222222222222,\"#7201a8\"],[0.3333333333333333,\"#9c179e\"],[0.4444444444444444,\"#bd3786\"],[0.5555555555555556,\"#d8576b\"],[0.6666666666666666,\"#ed7953\"],[0.7777777777777778,\"#fb9f3a\"],[0.8888888888888888,\"#fdca26\"],[1.0,\"#f0f921\"]],\"sequentialminus\":[[0.0,\"#0d0887\"],[0.1111111111111111,\"#46039f\"],[0.2222222222222222,\"#7201a8\"],[0.3333333333333333,\"#9c179e\"],[0.4444444444444444,\"#bd3786\"],[0.5555555555555556,\"#d8576b\"],[0.6666666666666666,\"#ed7953\"],[0.7777777777777778,\"#fb9f3a\"],[0.8888888888888888,\"#fdca26\"],[1.0,\"#f0f921\"]]},\"colorway\":[\"#636efa\",\"#EF553B\",\"#00cc96\",\"#ab63fa\",\"#FFA15A\",\"#19d3f3\",\"#FF6692\",\"#B6E880\",\"#FF97FF\",\"#FECB52\"],\"font\":{\"color\":\"#2a3f5f\"},\"geo\":{\"bgcolor\":\"white\",\"lakecolor\":\"white\",\"landcolor\":\"#E5ECF6\",\"showlakes\":true,\"showland\":true,\"subunitcolor\":\"white\"},\"hoverlabel\":{\"align\":\"left\"},\"hovermode\":\"closest\",\"mapbox\":{\"style\":\"light\"},\"paper_bgcolor\":\"white\",\"plot_bgcolor\":\"#E5ECF6\",\"polar\":{\"angularaxis\":{\"gridcolor\":\"white\",\"linecolor\":\"white\",\"ticks\":\"\"},\"bgcolor\":\"#E5ECF6\",\"radialaxis\":{\"gridcolor\":\"white\",\"linecolor\":\"white\",\"ticks\":\"\"}},\"scene\":{\"xaxis\":{\"backgroundcolor\":\"#E5ECF6\",\"gridcolor\":\"white\",\"gridwidth\":2,\"linecolor\":\"white\",\"showbackground\":true,\"ticks\":\"\",\"zerolinecolor\":\"white\"},\"yaxis\":{\"backgroundcolor\":\"#E5ECF6\",\"gridcolor\":\"white\",\"gridwidth\":2,\"linecolor\":\"white\",\"showbackground\":true,\"ticks\":\"\",\"zerolinecolor\":\"white\"},\"zaxis\":{\"backgroundcolor\":\"#E5ECF6\",\"gridcolor\":\"white\",\"gridwidth\":2,\"linecolor\":\"white\",\"showbackground\":true,\"ticks\":\"\",\"zerolinecolor\":\"white\"}},\"shapedefaults\":{\"line\":{\"color\":\"#2a3f5f\"}},\"ternary\":{\"aaxis\":{\"gridcolor\":\"white\",\"linecolor\":\"white\",\"ticks\":\"\"},\"baxis\":{\"gridcolor\":\"white\",\"linecolor\":\"white\",\"ticks\":\"\"},\"bgcolor\":\"#E5ECF6\",\"caxis\":{\"gridcolor\":\"white\",\"linecolor\":\"white\",\"ticks\":\"\"}},\"title\":{\"x\":0.05},\"xaxis\":{\"automargin\":true,\"gridcolor\":\"white\",\"linecolor\":\"white\",\"ticks\":\"\",\"title\":{\"standoff\":15},\"zerolinecolor\":\"white\",\"zerolinewidth\":2},\"yaxis\":{\"automargin\":true,\"gridcolor\":\"white\",\"linecolor\":\"white\",\"ticks\":\"\",\"title\":{\"standoff\":15},\"zerolinecolor\":\"white\",\"zerolinewidth\":2}}},\"title\":{\"text\":\"Number of Events vs Membership\"},\"xaxis\":{\"showgrid\":false,\"title\":{\"text\":\"Number of Events\"},\"zeroline\":false},\"yaxis\":{\"showgrid\":false,\"title\":{\"text\":\"Number of Members\"},\"zeroline\":false}},                        {\"responsive\": true}                    ).then(function(){\n",
       "                            \n",
       "var gd = document.getElementById('85b52950-fb7f-46f5-96df-dedf55282699');\n",
       "var x = new MutationObserver(function (mutations, observer) {{\n",
       "        var display = window.getComputedStyle(gd).display;\n",
       "        if (!display || display === 'none') {{\n",
       "            console.log([gd, 'removed!']);\n",
       "            Plotly.purge(gd);\n",
       "            observer.disconnect();\n",
       "        }}\n",
       "}});\n",
       "\n",
       "// Listen for the removal of the full notebook cells\n",
       "var notebookContainer = gd.closest('#notebook-container');\n",
       "if (notebookContainer) {{\n",
       "    x.observe(notebookContainer, {childList: true});\n",
       "}}\n",
       "\n",
       "// Listen for the clearing of the current output cell\n",
       "var outputEl = gd.closest('.output');\n",
       "if (outputEl) {{\n",
       "    x.observe(outputEl, {childList: true});\n",
       "}}\n",
       "\n",
       "                        })                };                });            </script>        </div>"
      ]
     },
     "metadata": {},
     "output_type": "display_data"
    }
   ],
   "source": [
    "import plotly\n",
    "\n",
    "from plotly.graph_objs import Scatter, Figure, Layout\n",
    "plotly.offline.init_notebook_mode(connected = True)\n",
    "\n",
    "\n",
    "data = [Scatter(x = meta_groups_i['num_events_target_period'], y = meta_groups_i['num_members'], \\\n",
    "                mode = 'markers',text=(meta_groups_i['group_name']+', '+meta_groups_i['category_name'])\\\n",
    "                )]#, text=df['movie_title'])]\n",
    "axistemplate = dict(showgrid=False,zeroline=False,title='Number of Events')\n",
    "axistemplatey = dict(showgrid=False,zeroline=False,title='Number of Members')\n",
    "layout = Layout(title = \"Number of Events vs Membership\",xaxis=axistemplate,yaxis=axistemplatey)\n",
    " \n",
    "fig = Figure(data = data, layout = layout)\n",
    "\n",
    "plotly.offline.iplot(fig, show_link = False)"
   ]
  },
  {
   "cell_type": "code",
   "execution_count": null,
   "id": "2f73dff3",
   "metadata": {},
   "outputs": [],
   "source": [
    "Scatter(stackgroup=)"
   ]
  },
  {
   "cell_type": "code",
   "execution_count": 300,
   "id": "861cc2ce",
   "metadata": {},
   "outputs": [
    {
     "data": {
      "application/vnd.plotly.v1+json": {
       "config": {
        "plotlyServerURL": "https://plot.ly"
       },
       "data": [
        {
         "hovertemplate": "category_name=Dancing<br>num_events_target_period=%{x}<br>num_members=%{y}<extra></extra>",
         "legendgroup": "Dancing",
         "marker": {
          "color": "#636efa",
          "symbol": "circle"
         },
         "mode": "markers",
         "name": "Dancing",
         "orientation": "v",
         "showlegend": true,
         "type": "scatter",
         "x": [
          139,
          36
         ],
         "xaxis": "x",
         "y": [
          1778,
          482
         ],
         "yaxis": "y"
        },
        {
         "hovertemplate": "category_name=Tech<br>num_events_target_period=%{x}<br>num_members=%{y}<extra></extra>",
         "legendgroup": "Tech",
         "marker": {
          "color": "#EF553B",
          "symbol": "circle"
         },
         "mode": "markers",
         "name": "Tech",
         "orientation": "v",
         "showlegend": true,
         "type": "scatter",
         "x": [
          11,
          23,
          12,
          12,
          12,
          14,
          10,
          13,
          2,
          18,
          14,
          25,
          10,
          15,
          7,
          12,
          16,
          35,
          12,
          20,
          9,
          11,
          12,
          8,
          11,
          12,
          9,
          10,
          52,
          13,
          10,
          14,
          14,
          11,
          21,
          11,
          40,
          13,
          1,
          20,
          11,
          8,
          14,
          6,
          6,
          1,
          7,
          10,
          7,
          1,
          1,
          5,
          1,
          1,
          11,
          10,
          1,
          2,
          5,
          4,
          2,
          11,
          2,
          1,
          1,
          8,
          7,
          1
         ],
         "xaxis": "x",
         "y": [
          1975,
          1442,
          764,
          862,
          502,
          1318,
          629,
          1371,
          451,
          1026,
          560,
          576,
          1041,
          1763,
          1046,
          651,
          1091,
          1118,
          501,
          1643,
          784,
          391,
          881,
          438,
          646,
          237,
          243,
          1166,
          1491,
          540,
          166,
          372,
          1308,
          516,
          525,
          107,
          516,
          476,
          101,
          564,
          152,
          509,
          59,
          120,
          99,
          49,
          256,
          493,
          256,
          26,
          552,
          264,
          296,
          54,
          886,
          389,
          159,
          678,
          613,
          995,
          41,
          915,
          311,
          34,
          413,
          73,
          67,
          80
         ],
         "yaxis": "y"
        },
        {
         "hovertemplate": "category_name=Religion & Beliefs<br>num_events_target_period=%{x}<br>num_members=%{y}<extra></extra>",
         "legendgroup": "Religion & Beliefs",
         "marker": {
          "color": "#00cc96",
          "symbol": "circle"
         },
         "mode": "markers",
         "name": "Religion & Beliefs",
         "orientation": "v",
         "showlegend": true,
         "type": "scatter",
         "x": [
          120,
          41,
          5,
          20,
          6,
          42,
          103,
          1,
          10,
          2,
          1
         ],
         "xaxis": "x",
         "y": [
          918,
          445,
          195,
          50,
          97,
          86,
          105,
          27,
          459,
          156,
          171
         ],
         "yaxis": "y"
        },
        {
         "hovertemplate": "category_name=Outdoors & Adventure<br>num_events_target_period=%{x}<br>num_members=%{y}<extra></extra>",
         "legendgroup": "Outdoors & Adventure",
         "marker": {
          "color": "#ab63fa",
          "symbol": "circle"
         },
         "mode": "markers",
         "name": "Outdoors & Adventure",
         "orientation": "v",
         "showlegend": true,
         "type": "scatter",
         "x": [
          121,
          67,
          101,
          83,
          11,
          64,
          189,
          142,
          52,
          10,
          24,
          5,
          1,
          48,
          23,
          2,
          43,
          7,
          1,
          60,
          11,
          4
         ],
         "xaxis": "x",
         "y": [
          4828,
          3861,
          1576,
          1683,
          2058,
          6331,
          1328,
          802,
          3260,
          477,
          933,
          724,
          132,
          1824,
          921,
          349,
          280,
          984,
          1226,
          1696,
          108,
          411
         ],
         "yaxis": "y"
        },
        {
         "hovertemplate": "category_name=Singles<br>num_events_target_period=%{x}<br>num_members=%{y}<extra></extra>",
         "legendgroup": "Singles",
         "marker": {
          "color": "#FFA15A",
          "symbol": "circle"
         },
         "mode": "markers",
         "name": "Singles",
         "orientation": "v",
         "showlegend": true,
         "type": "scatter",
         "x": [
          126,
          8
         ],
         "xaxis": "x",
         "y": [
          2583,
          1769
         ],
         "yaxis": "y"
        },
        {
         "hovertemplate": "category_name=Socializing<br>num_events_target_period=%{x}<br>num_members=%{y}<extra></extra>",
         "legendgroup": "Socializing",
         "marker": {
          "color": "#19d3f3",
          "symbol": "circle"
         },
         "mode": "markers",
         "name": "Socializing",
         "orientation": "v",
         "showlegend": true,
         "type": "scatter",
         "x": [
          59,
          8,
          49,
          44,
          45,
          43,
          20,
          33,
          9,
          11,
          53,
          19,
          10,
          1,
          1,
          2,
          8,
          1,
          7,
          1,
          24,
          2,
          1,
          1,
          1,
          3
         ],
         "xaxis": "x",
         "y": [
          5008,
          1388,
          435,
          398,
          1639,
          3811,
          2050,
          493,
          1124,
          2634,
          2189,
          326,
          678,
          12,
          52,
          1441,
          2152,
          398,
          2021,
          1629,
          225,
          53,
          95,
          370,
          3765,
          39
         ],
         "yaxis": "y"
        },
        {
         "hovertemplate": "category_name=Career & Business<br>num_events_target_period=%{x}<br>num_members=%{y}<extra></extra>",
         "legendgroup": "Career & Business",
         "marker": {
          "color": "#FF6692",
          "symbol": "circle"
         },
         "mode": "markers",
         "name": "Career & Business",
         "orientation": "v",
         "showlegend": true,
         "type": "scatter",
         "x": [
          15,
          9,
          57,
          12,
          20,
          19,
          25,
          14,
          165,
          23,
          50,
          25,
          47,
          51,
          5,
          12,
          78,
          24,
          46,
          88,
          13,
          70,
          52,
          13,
          12,
          49,
          13,
          10,
          15,
          6,
          131,
          10,
          6,
          9,
          10,
          4,
          1,
          3,
          1,
          1,
          10,
          2,
          9,
          1,
          11,
          1,
          18,
          14,
          22,
          5,
          1,
          1,
          1,
          1,
          3,
          15,
          60,
          3
         ],
         "xaxis": "x",
         "y": [
          3210,
          1532,
          1444,
          2307,
          1649,
          1447,
          2163,
          690,
          1084,
          959,
          360,
          1192,
          510,
          887,
          799,
          401,
          1035,
          298,
          441,
          1292,
          322,
          727,
          605,
          491,
          2622,
          608,
          366,
          206,
          511,
          44,
          71,
          160,
          296,
          114,
          103,
          1199,
          603,
          326,
          210,
          60,
          41,
          1570,
          136,
          459,
          353,
          111,
          146,
          43,
          1910,
          1615,
          137,
          244,
          60,
          177,
          2,
          5,
          444,
          107
         ],
         "yaxis": "y"
        },
        {
         "hovertemplate": "category_name=Pets & Animals<br>num_events_target_period=%{x}<br>num_members=%{y}<extra></extra>",
         "legendgroup": "Pets & Animals",
         "marker": {
          "color": "#B6E880",
          "symbol": "circle"
         },
         "mode": "markers",
         "name": "Pets & Animals",
         "orientation": "v",
         "showlegend": true,
         "type": "scatter",
         "x": [
          66,
          12,
          4,
          32
         ],
         "xaxis": "x",
         "y": [
          1241,
          499,
          243,
          344
         ],
         "yaxis": "y"
        },
        {
         "hovertemplate": "category_name=Food & Drink<br>num_events_target_period=%{x}<br>num_members=%{y}<extra></extra>",
         "legendgroup": "Food & Drink",
         "marker": {
          "color": "#FF97FF",
          "symbol": "circle"
         },
         "mode": "markers",
         "name": "Food & Drink",
         "orientation": "v",
         "showlegend": true,
         "type": "scatter",
         "x": [
          27,
          37,
          9,
          4,
          8,
          4,
          1,
          2,
          8,
          20,
          4
         ],
         "xaxis": "x",
         "y": [
          2032,
          1889,
          1094,
          906,
          557,
          460,
          683,
          2667,
          217,
          850,
          429
         ],
         "yaxis": "y"
        },
        {
         "hovertemplate": "category_name=Sports & Recreation<br>num_events_target_period=%{x}<br>num_members=%{y}<extra></extra>",
         "legendgroup": "Sports & Recreation",
         "marker": {
          "color": "#FECB52",
          "symbol": "circle"
         },
         "mode": "markers",
         "name": "Sports & Recreation",
         "orientation": "v",
         "showlegend": true,
         "type": "scatter",
         "x": [
          40,
          22,
          14,
          18,
          28,
          1,
          1,
          4,
          2,
          10,
          1,
          3,
          70
         ],
         "xaxis": "x",
         "y": [
          645,
          341,
          90,
          109,
          124,
          51,
          182,
          590,
          508,
          138,
          620,
          330,
          977
         ],
         "yaxis": "y"
        },
        {
         "hovertemplate": "category_name=LGBT<br>num_events_target_period=%{x}<br>num_members=%{y}<extra></extra>",
         "legendgroup": "LGBT",
         "marker": {
          "color": "#636efa",
          "symbol": "circle"
         },
         "mode": "markers",
         "name": "LGBT",
         "orientation": "v",
         "showlegend": true,
         "type": "scatter",
         "x": [
          43,
          12,
          2
         ],
         "xaxis": "x",
         "y": [
          567,
          200,
          197
         ],
         "yaxis": "y"
        },
        {
         "hovertemplate": "category_name=Movements & Politics<br>num_events_target_period=%{x}<br>num_members=%{y}<extra></extra>",
         "legendgroup": "Movements & Politics",
         "marker": {
          "color": "#EF553B",
          "symbol": "circle"
         },
         "mode": "markers",
         "name": "Movements & Politics",
         "orientation": "v",
         "showlegend": true,
         "type": "scatter",
         "x": [
          24,
          1,
          12,
          2,
          21
         ],
         "xaxis": "x",
         "y": [
          965,
          582,
          77,
          79,
          185
         ],
         "yaxis": "y"
        },
        {
         "hovertemplate": "category_name=Health & Wellbeing<br>num_events_target_period=%{x}<br>num_members=%{y}<extra></extra>",
         "legendgroup": "Health & Wellbeing",
         "marker": {
          "color": "#00cc96",
          "symbol": "circle"
         },
         "mode": "markers",
         "name": "Health & Wellbeing",
         "orientation": "v",
         "showlegend": true,
         "type": "scatter",
         "x": [
          21,
          104,
          162,
          97,
          144,
          1,
          13,
          50,
          2,
          1,
          6,
          9,
          1,
          1,
          1,
          1
         ],
         "xaxis": "x",
         "y": [
          1103,
          874,
          992,
          1106,
          1328,
          1649,
          549,
          540,
          304,
          51,
          295,
          189,
          34,
          563,
          399,
          152
         ],
         "yaxis": "y"
        },
        {
         "hovertemplate": "category_name=Education & Learning<br>num_events_target_period=%{x}<br>num_members=%{y}<extra></extra>",
         "legendgroup": "Education & Learning",
         "marker": {
          "color": "#ab63fa",
          "symbol": "circle"
         },
         "mode": "markers",
         "name": "Education & Learning",
         "orientation": "v",
         "showlegend": true,
         "type": "scatter",
         "x": [
          19,
          3,
          12,
          12,
          11,
          1,
          4,
          52,
          23
         ],
         "xaxis": "x",
         "y": [
          652,
          1422,
          281,
          726,
          50,
          62,
          299,
          84,
          777
         ],
         "yaxis": "y"
        },
        {
         "hovertemplate": "category_name=Language & Ethnic Identity<br>num_events_target_period=%{x}<br>num_members=%{y}<extra></extra>",
         "legendgroup": "Language & Ethnic Identity",
         "marker": {
          "color": "#FFA15A",
          "symbol": "circle"
         },
         "mode": "markers",
         "name": "Language & Ethnic Identity",
         "orientation": "v",
         "showlegend": true,
         "type": "scatter",
         "x": [
          32,
          22,
          9,
          24,
          12,
          13,
          13,
          4
         ],
         "xaxis": "x",
         "y": [
          1417,
          436,
          52,
          315,
          243,
          243,
          1198,
          77
         ],
         "yaxis": "y"
        },
        {
         "hovertemplate": "category_name=Arts & Culture<br>num_events_target_period=%{x}<br>num_members=%{y}<extra></extra>",
         "legendgroup": "Arts & Culture",
         "marker": {
          "color": "#19d3f3",
          "symbol": "circle"
         },
         "mode": "markers",
         "name": "Arts & Culture",
         "orientation": "v",
         "showlegend": true,
         "type": "scatter",
         "x": [
          158,
          11,
          14
         ],
         "xaxis": "x",
         "y": [
          2514,
          72,
          84
         ],
         "yaxis": "y"
        },
        {
         "hovertemplate": "category_name=New Age & Spirituality<br>num_events_target_period=%{x}<br>num_members=%{y}<extra></extra>",
         "legendgroup": "New Age & Spirituality",
         "marker": {
          "color": "#FF6692",
          "symbol": "circle"
         },
         "mode": "markers",
         "name": "New Age & Spirituality",
         "orientation": "v",
         "showlegend": true,
         "type": "scatter",
         "x": [
          120,
          108,
          159,
          16,
          26,
          53,
          57,
          5,
          75,
          35,
          9,
          51,
          17,
          1,
          1,
          1,
          1,
          37,
          1,
          1
         ],
         "xaxis": "x",
         "y": [
          1191,
          1382,
          610,
          234,
          91,
          874,
          703,
          54,
          200,
          160,
          192,
          48,
          128,
          177,
          146,
          196,
          50,
          505,
          136,
          151
         ],
         "yaxis": "y"
        },
        {
         "hovertemplate": "category_name=Music<br>num_events_target_period=%{x}<br>num_members=%{y}<extra></extra>",
         "legendgroup": "Music",
         "marker": {
          "color": "#B6E880",
          "symbol": "circle"
         },
         "mode": "markers",
         "name": "Music",
         "orientation": "v",
         "showlegend": true,
         "type": "scatter",
         "x": [
          44,
          14,
          15,
          58,
          8,
          105,
          45,
          4,
          3,
          13,
          5,
          21,
          4,
          1,
          24
         ],
         "xaxis": "x",
         "y": [
          2644,
          2060,
          1763,
          865,
          88,
          532,
          131,
          405,
          271,
          1872,
          992,
          501,
          469,
          111,
          97
         ],
         "yaxis": "y"
        },
        {
         "hovertemplate": "category_name=Games<br>num_events_target_period=%{x}<br>num_members=%{y}<extra></extra>",
         "legendgroup": "Games",
         "marker": {
          "color": "#FF97FF",
          "symbol": "circle"
         },
         "mode": "markers",
         "name": "Games",
         "orientation": "v",
         "showlegend": true,
         "type": "scatter",
         "x": [
          27,
          12,
          4,
          119,
          17,
          71,
          5,
          52,
          52,
          1,
          1
         ],
         "xaxis": "x",
         "y": [
          2261,
          427,
          187,
          124,
          460,
          589,
          115,
          257,
          41,
          94,
          203
         ],
         "yaxis": "y"
        },
        {
         "hovertemplate": "category_name=Cars & Motorcycles<br>num_events_target_period=%{x}<br>num_members=%{y}<extra></extra>",
         "legendgroup": "Cars & Motorcycles",
         "marker": {
          "color": "#FECB52",
          "symbol": "circle"
         },
         "mode": "markers",
         "name": "Cars & Motorcycles",
         "orientation": "v",
         "showlegend": true,
         "type": "scatter",
         "x": [
          22,
          4
         ],
         "xaxis": "x",
         "y": [
          1055,
          479
         ],
         "yaxis": "y"
        },
        {
         "hovertemplate": "category_name=Book Clubs<br>num_events_target_period=%{x}<br>num_members=%{y}<extra></extra>",
         "legendgroup": "Book Clubs",
         "marker": {
          "color": "#636efa",
          "symbol": "circle"
         },
         "mode": "markers",
         "name": "Book Clubs",
         "orientation": "v",
         "showlegend": true,
         "type": "scatter",
         "x": [
          12,
          7,
          11,
          11
         ],
         "xaxis": "x",
         "y": [
          1770,
          105,
          112,
          249
         ],
         "yaxis": "y"
        },
        {
         "hovertemplate": "category_name=Community & Environment<br>num_events_target_period=%{x}<br>num_members=%{y}<extra></extra>",
         "legendgroup": "Community & Environment",
         "marker": {
          "color": "#EF553B",
          "symbol": "circle"
         },
         "mode": "markers",
         "name": "Community & Environment",
         "orientation": "v",
         "showlegend": true,
         "type": "scatter",
         "x": [
          21,
          10,
          31,
          10,
          12,
          13,
          9,
          12,
          3,
          1,
          7,
          2,
          1
         ],
         "xaxis": "x",
         "y": [
          2921,
          293,
          3509,
          240,
          429,
          577,
          618,
          106,
          90,
          32,
          674,
          282,
          289
         ],
         "yaxis": "y"
        },
        {
         "hovertemplate": "category_name=Hobbies & Crafts<br>num_events_target_period=%{x}<br>num_members=%{y}<extra></extra>",
         "legendgroup": "Hobbies & Crafts",
         "marker": {
          "color": "#00cc96",
          "symbol": "circle"
         },
         "mode": "markers",
         "name": "Hobbies & Crafts",
         "orientation": "v",
         "showlegend": true,
         "type": "scatter",
         "x": [
          11,
          13,
          12
         ],
         "xaxis": "x",
         "y": [
          520,
          57,
          58
         ],
         "yaxis": "y"
        },
        {
         "hovertemplate": "category_name=Movies & Film<br>num_events_target_period=%{x}<br>num_members=%{y}<extra></extra>",
         "legendgroup": "Movies & Film",
         "marker": {
          "color": "#ab63fa",
          "symbol": "circle"
         },
         "mode": "markers",
         "name": "Movies & Film",
         "orientation": "v",
         "showlegend": true,
         "type": "scatter",
         "x": [
          11,
          5,
          19,
          7,
          3
         ],
         "xaxis": "x",
         "y": [
          1189,
          186,
          875,
          1729,
          868
         ],
         "yaxis": "y"
        },
        {
         "hovertemplate": "category_name=Fitness<br>num_events_target_period=%{x}<br>num_members=%{y}<extra></extra>",
         "legendgroup": "Fitness",
         "marker": {
          "color": "#FFA15A",
          "symbol": "circle"
         },
         "mode": "markers",
         "name": "Fitness",
         "orientation": "v",
         "showlegend": true,
         "type": "scatter",
         "x": [
          14,
          1
         ],
         "xaxis": "x",
         "y": [
          205,
          32
         ],
         "yaxis": "y"
        },
        {
         "hovertemplate": "category_name=Support<br>num_events_target_period=%{x}<br>num_members=%{y}<extra></extra>",
         "legendgroup": "Support",
         "marker": {
          "color": "#19d3f3",
          "symbol": "circle"
         },
         "mode": "markers",
         "name": "Support",
         "orientation": "v",
         "showlegend": true,
         "type": "scatter",
         "x": [
          29,
          3,
          22,
          24,
          7,
          1
         ],
         "xaxis": "x",
         "y": [
          47,
          359,
          48,
          143,
          21,
          40
         ],
         "yaxis": "y"
        },
        {
         "hovertemplate": "category_name=Parents & Family<br>num_events_target_period=%{x}<br>num_members=%{y}<extra></extra>",
         "legendgroup": "Parents & Family",
         "marker": {
          "color": "#FF6692",
          "symbol": "circle"
         },
         "mode": "markers",
         "name": "Parents & Family",
         "orientation": "v",
         "showlegend": true,
         "type": "scatter",
         "x": [
          13,
          4
         ],
         "xaxis": "x",
         "y": [
          654,
          56
         ],
         "yaxis": "y"
        },
        {
         "hovertemplate": "category_name=Fashion & Beauty<br>num_events_target_period=%{x}<br>num_members=%{y}<extra></extra>",
         "legendgroup": "Fashion & Beauty",
         "marker": {
          "color": "#B6E880",
          "symbol": "circle"
         },
         "mode": "markers",
         "name": "Fashion & Beauty",
         "orientation": "v",
         "showlegend": true,
         "type": "scatter",
         "x": [
          25,
          12
         ],
         "xaxis": "x",
         "y": [
          530,
          5
         ],
         "yaxis": "y"
        },
        {
         "hovertemplate": "category_name=Photography<br>num_events_target_period=%{x}<br>num_members=%{y}<extra></extra>",
         "legendgroup": "Photography",
         "marker": {
          "color": "#FF97FF",
          "symbol": "circle"
         },
         "mode": "markers",
         "name": "Photography",
         "orientation": "v",
         "showlegend": true,
         "type": "scatter",
         "x": [
          1
         ],
         "xaxis": "x",
         "y": [
          4017
         ],
         "yaxis": "y"
        },
        {
         "hovertemplate": "category_name=Writing<br>num_events_target_period=%{x}<br>num_members=%{y}<extra></extra>",
         "legendgroup": "Writing",
         "marker": {
          "color": "#FECB52",
          "symbol": "circle"
         },
         "mode": "markers",
         "name": "Writing",
         "orientation": "v",
         "showlegend": true,
         "type": "scatter",
         "x": [
          4
         ],
         "xaxis": "x",
         "y": [
          503
         ],
         "yaxis": "y"
        },
        {
         "hovertemplate": "category_name=Sci-Fi & Fantasy<br>num_events_target_period=%{x}<br>num_members=%{y}<extra></extra>",
         "legendgroup": "Sci-Fi & Fantasy",
         "marker": {
          "color": "#636efa",
          "symbol": "circle"
         },
         "mode": "markers",
         "name": "Sci-Fi & Fantasy",
         "orientation": "v",
         "showlegend": true,
         "type": "scatter",
         "x": [
          6
         ],
         "xaxis": "x",
         "y": [
          878
         ],
         "yaxis": "y"
        }
       ],
       "layout": {
        "legend": {
         "title": {
          "text": "category_name"
         },
         "tracegroupgap": 0
        },
        "template": {
         "data": {
          "bar": [
           {
            "error_x": {
             "color": "#2a3f5f"
            },
            "error_y": {
             "color": "#2a3f5f"
            },
            "marker": {
             "line": {
              "color": "#E5ECF6",
              "width": 0.5
             },
             "pattern": {
              "fillmode": "overlay",
              "size": 10,
              "solidity": 0.2
             }
            },
            "type": "bar"
           }
          ],
          "barpolar": [
           {
            "marker": {
             "line": {
              "color": "#E5ECF6",
              "width": 0.5
             },
             "pattern": {
              "fillmode": "overlay",
              "size": 10,
              "solidity": 0.2
             }
            },
            "type": "barpolar"
           }
          ],
          "carpet": [
           {
            "aaxis": {
             "endlinecolor": "#2a3f5f",
             "gridcolor": "white",
             "linecolor": "white",
             "minorgridcolor": "white",
             "startlinecolor": "#2a3f5f"
            },
            "baxis": {
             "endlinecolor": "#2a3f5f",
             "gridcolor": "white",
             "linecolor": "white",
             "minorgridcolor": "white",
             "startlinecolor": "#2a3f5f"
            },
            "type": "carpet"
           }
          ],
          "choropleth": [
           {
            "colorbar": {
             "outlinewidth": 0,
             "ticks": ""
            },
            "type": "choropleth"
           }
          ],
          "contour": [
           {
            "colorbar": {
             "outlinewidth": 0,
             "ticks": ""
            },
            "colorscale": [
             [
              0,
              "#0d0887"
             ],
             [
              0.1111111111111111,
              "#46039f"
             ],
             [
              0.2222222222222222,
              "#7201a8"
             ],
             [
              0.3333333333333333,
              "#9c179e"
             ],
             [
              0.4444444444444444,
              "#bd3786"
             ],
             [
              0.5555555555555556,
              "#d8576b"
             ],
             [
              0.6666666666666666,
              "#ed7953"
             ],
             [
              0.7777777777777778,
              "#fb9f3a"
             ],
             [
              0.8888888888888888,
              "#fdca26"
             ],
             [
              1,
              "#f0f921"
             ]
            ],
            "type": "contour"
           }
          ],
          "contourcarpet": [
           {
            "colorbar": {
             "outlinewidth": 0,
             "ticks": ""
            },
            "type": "contourcarpet"
           }
          ],
          "heatmap": [
           {
            "colorbar": {
             "outlinewidth": 0,
             "ticks": ""
            },
            "colorscale": [
             [
              0,
              "#0d0887"
             ],
             [
              0.1111111111111111,
              "#46039f"
             ],
             [
              0.2222222222222222,
              "#7201a8"
             ],
             [
              0.3333333333333333,
              "#9c179e"
             ],
             [
              0.4444444444444444,
              "#bd3786"
             ],
             [
              0.5555555555555556,
              "#d8576b"
             ],
             [
              0.6666666666666666,
              "#ed7953"
             ],
             [
              0.7777777777777778,
              "#fb9f3a"
             ],
             [
              0.8888888888888888,
              "#fdca26"
             ],
             [
              1,
              "#f0f921"
             ]
            ],
            "type": "heatmap"
           }
          ],
          "heatmapgl": [
           {
            "colorbar": {
             "outlinewidth": 0,
             "ticks": ""
            },
            "colorscale": [
             [
              0,
              "#0d0887"
             ],
             [
              0.1111111111111111,
              "#46039f"
             ],
             [
              0.2222222222222222,
              "#7201a8"
             ],
             [
              0.3333333333333333,
              "#9c179e"
             ],
             [
              0.4444444444444444,
              "#bd3786"
             ],
             [
              0.5555555555555556,
              "#d8576b"
             ],
             [
              0.6666666666666666,
              "#ed7953"
             ],
             [
              0.7777777777777778,
              "#fb9f3a"
             ],
             [
              0.8888888888888888,
              "#fdca26"
             ],
             [
              1,
              "#f0f921"
             ]
            ],
            "type": "heatmapgl"
           }
          ],
          "histogram": [
           {
            "marker": {
             "pattern": {
              "fillmode": "overlay",
              "size": 10,
              "solidity": 0.2
             }
            },
            "type": "histogram"
           }
          ],
          "histogram2d": [
           {
            "colorbar": {
             "outlinewidth": 0,
             "ticks": ""
            },
            "colorscale": [
             [
              0,
              "#0d0887"
             ],
             [
              0.1111111111111111,
              "#46039f"
             ],
             [
              0.2222222222222222,
              "#7201a8"
             ],
             [
              0.3333333333333333,
              "#9c179e"
             ],
             [
              0.4444444444444444,
              "#bd3786"
             ],
             [
              0.5555555555555556,
              "#d8576b"
             ],
             [
              0.6666666666666666,
              "#ed7953"
             ],
             [
              0.7777777777777778,
              "#fb9f3a"
             ],
             [
              0.8888888888888888,
              "#fdca26"
             ],
             [
              1,
              "#f0f921"
             ]
            ],
            "type": "histogram2d"
           }
          ],
          "histogram2dcontour": [
           {
            "colorbar": {
             "outlinewidth": 0,
             "ticks": ""
            },
            "colorscale": [
             [
              0,
              "#0d0887"
             ],
             [
              0.1111111111111111,
              "#46039f"
             ],
             [
              0.2222222222222222,
              "#7201a8"
             ],
             [
              0.3333333333333333,
              "#9c179e"
             ],
             [
              0.4444444444444444,
              "#bd3786"
             ],
             [
              0.5555555555555556,
              "#d8576b"
             ],
             [
              0.6666666666666666,
              "#ed7953"
             ],
             [
              0.7777777777777778,
              "#fb9f3a"
             ],
             [
              0.8888888888888888,
              "#fdca26"
             ],
             [
              1,
              "#f0f921"
             ]
            ],
            "type": "histogram2dcontour"
           }
          ],
          "mesh3d": [
           {
            "colorbar": {
             "outlinewidth": 0,
             "ticks": ""
            },
            "type": "mesh3d"
           }
          ],
          "parcoords": [
           {
            "line": {
             "colorbar": {
              "outlinewidth": 0,
              "ticks": ""
             }
            },
            "type": "parcoords"
           }
          ],
          "pie": [
           {
            "automargin": true,
            "type": "pie"
           }
          ],
          "scatter": [
           {
            "fillpattern": {
             "fillmode": "overlay",
             "size": 10,
             "solidity": 0.2
            },
            "type": "scatter"
           }
          ],
          "scatter3d": [
           {
            "line": {
             "colorbar": {
              "outlinewidth": 0,
              "ticks": ""
             }
            },
            "marker": {
             "colorbar": {
              "outlinewidth": 0,
              "ticks": ""
             }
            },
            "type": "scatter3d"
           }
          ],
          "scattercarpet": [
           {
            "marker": {
             "colorbar": {
              "outlinewidth": 0,
              "ticks": ""
             }
            },
            "type": "scattercarpet"
           }
          ],
          "scattergeo": [
           {
            "marker": {
             "colorbar": {
              "outlinewidth": 0,
              "ticks": ""
             }
            },
            "type": "scattergeo"
           }
          ],
          "scattergl": [
           {
            "marker": {
             "colorbar": {
              "outlinewidth": 0,
              "ticks": ""
             }
            },
            "type": "scattergl"
           }
          ],
          "scattermapbox": [
           {
            "marker": {
             "colorbar": {
              "outlinewidth": 0,
              "ticks": ""
             }
            },
            "type": "scattermapbox"
           }
          ],
          "scatterpolar": [
           {
            "marker": {
             "colorbar": {
              "outlinewidth": 0,
              "ticks": ""
             }
            },
            "type": "scatterpolar"
           }
          ],
          "scatterpolargl": [
           {
            "marker": {
             "colorbar": {
              "outlinewidth": 0,
              "ticks": ""
             }
            },
            "type": "scatterpolargl"
           }
          ],
          "scatterternary": [
           {
            "marker": {
             "colorbar": {
              "outlinewidth": 0,
              "ticks": ""
             }
            },
            "type": "scatterternary"
           }
          ],
          "surface": [
           {
            "colorbar": {
             "outlinewidth": 0,
             "ticks": ""
            },
            "colorscale": [
             [
              0,
              "#0d0887"
             ],
             [
              0.1111111111111111,
              "#46039f"
             ],
             [
              0.2222222222222222,
              "#7201a8"
             ],
             [
              0.3333333333333333,
              "#9c179e"
             ],
             [
              0.4444444444444444,
              "#bd3786"
             ],
             [
              0.5555555555555556,
              "#d8576b"
             ],
             [
              0.6666666666666666,
              "#ed7953"
             ],
             [
              0.7777777777777778,
              "#fb9f3a"
             ],
             [
              0.8888888888888888,
              "#fdca26"
             ],
             [
              1,
              "#f0f921"
             ]
            ],
            "type": "surface"
           }
          ],
          "table": [
           {
            "cells": {
             "fill": {
              "color": "#EBF0F8"
             },
             "line": {
              "color": "white"
             }
            },
            "header": {
             "fill": {
              "color": "#C8D4E3"
             },
             "line": {
              "color": "white"
             }
            },
            "type": "table"
           }
          ]
         },
         "layout": {
          "annotationdefaults": {
           "arrowcolor": "#2a3f5f",
           "arrowhead": 0,
           "arrowwidth": 1
          },
          "autotypenumbers": "strict",
          "coloraxis": {
           "colorbar": {
            "outlinewidth": 0,
            "ticks": ""
           }
          },
          "colorscale": {
           "diverging": [
            [
             0,
             "#8e0152"
            ],
            [
             0.1,
             "#c51b7d"
            ],
            [
             0.2,
             "#de77ae"
            ],
            [
             0.3,
             "#f1b6da"
            ],
            [
             0.4,
             "#fde0ef"
            ],
            [
             0.5,
             "#f7f7f7"
            ],
            [
             0.6,
             "#e6f5d0"
            ],
            [
             0.7,
             "#b8e186"
            ],
            [
             0.8,
             "#7fbc41"
            ],
            [
             0.9,
             "#4d9221"
            ],
            [
             1,
             "#276419"
            ]
           ],
           "sequential": [
            [
             0,
             "#0d0887"
            ],
            [
             0.1111111111111111,
             "#46039f"
            ],
            [
             0.2222222222222222,
             "#7201a8"
            ],
            [
             0.3333333333333333,
             "#9c179e"
            ],
            [
             0.4444444444444444,
             "#bd3786"
            ],
            [
             0.5555555555555556,
             "#d8576b"
            ],
            [
             0.6666666666666666,
             "#ed7953"
            ],
            [
             0.7777777777777778,
             "#fb9f3a"
            ],
            [
             0.8888888888888888,
             "#fdca26"
            ],
            [
             1,
             "#f0f921"
            ]
           ],
           "sequentialminus": [
            [
             0,
             "#0d0887"
            ],
            [
             0.1111111111111111,
             "#46039f"
            ],
            [
             0.2222222222222222,
             "#7201a8"
            ],
            [
             0.3333333333333333,
             "#9c179e"
            ],
            [
             0.4444444444444444,
             "#bd3786"
            ],
            [
             0.5555555555555556,
             "#d8576b"
            ],
            [
             0.6666666666666666,
             "#ed7953"
            ],
            [
             0.7777777777777778,
             "#fb9f3a"
            ],
            [
             0.8888888888888888,
             "#fdca26"
            ],
            [
             1,
             "#f0f921"
            ]
           ]
          },
          "colorway": [
           "#636efa",
           "#EF553B",
           "#00cc96",
           "#ab63fa",
           "#FFA15A",
           "#19d3f3",
           "#FF6692",
           "#B6E880",
           "#FF97FF",
           "#FECB52"
          ],
          "font": {
           "color": "#2a3f5f"
          },
          "geo": {
           "bgcolor": "white",
           "lakecolor": "white",
           "landcolor": "#E5ECF6",
           "showlakes": true,
           "showland": true,
           "subunitcolor": "white"
          },
          "hoverlabel": {
           "align": "left"
          },
          "hovermode": "closest",
          "mapbox": {
           "style": "light"
          },
          "paper_bgcolor": "white",
          "plot_bgcolor": "#E5ECF6",
          "polar": {
           "angularaxis": {
            "gridcolor": "white",
            "linecolor": "white",
            "ticks": ""
           },
           "bgcolor": "#E5ECF6",
           "radialaxis": {
            "gridcolor": "white",
            "linecolor": "white",
            "ticks": ""
           }
          },
          "scene": {
           "xaxis": {
            "backgroundcolor": "#E5ECF6",
            "gridcolor": "white",
            "gridwidth": 2,
            "linecolor": "white",
            "showbackground": true,
            "ticks": "",
            "zerolinecolor": "white"
           },
           "yaxis": {
            "backgroundcolor": "#E5ECF6",
            "gridcolor": "white",
            "gridwidth": 2,
            "linecolor": "white",
            "showbackground": true,
            "ticks": "",
            "zerolinecolor": "white"
           },
           "zaxis": {
            "backgroundcolor": "#E5ECF6",
            "gridcolor": "white",
            "gridwidth": 2,
            "linecolor": "white",
            "showbackground": true,
            "ticks": "",
            "zerolinecolor": "white"
           }
          },
          "shapedefaults": {
           "line": {
            "color": "#2a3f5f"
           }
          },
          "ternary": {
           "aaxis": {
            "gridcolor": "white",
            "linecolor": "white",
            "ticks": ""
           },
           "baxis": {
            "gridcolor": "white",
            "linecolor": "white",
            "ticks": ""
           },
           "bgcolor": "#E5ECF6",
           "caxis": {
            "gridcolor": "white",
            "linecolor": "white",
            "ticks": ""
           }
          },
          "title": {
           "x": 0.05
          },
          "xaxis": {
           "automargin": true,
           "gridcolor": "white",
           "linecolor": "white",
           "ticks": "",
           "title": {
            "standoff": 15
           },
           "zerolinecolor": "white",
           "zerolinewidth": 2
          },
          "yaxis": {
           "automargin": true,
           "gridcolor": "white",
           "linecolor": "white",
           "ticks": "",
           "title": {
            "standoff": 15
           },
           "zerolinecolor": "white",
           "zerolinewidth": 2
          }
         }
        },
        "title": {
         "text": "Number of Events vs Number of Members"
        },
        "xaxis": {
         "anchor": "y",
         "domain": [
          0,
          1
         ],
         "title": {
          "text": "num_events_target_period"
         }
        },
        "yaxis": {
         "anchor": "x",
         "domain": [
          0,
          1
         ],
         "title": {
          "text": "num_members"
         }
        }
       }
      },
      "text/html": [
       "<div>                            <div id=\"011f2983-196f-4809-be04-4ce570c2567f\" class=\"plotly-graph-div\" style=\"height:525px; width:100%;\"></div>            <script type=\"text/javascript\">                require([\"plotly\"], function(Plotly) {                    window.PLOTLYENV=window.PLOTLYENV || {};                                    if (document.getElementById(\"011f2983-196f-4809-be04-4ce570c2567f\")) {                    Plotly.newPlot(                        \"011f2983-196f-4809-be04-4ce570c2567f\",                        [{\"hovertemplate\":\"category_name=Dancing<br>num_events_target_period=%{x}<br>num_members=%{y}<extra></extra>\",\"legendgroup\":\"Dancing\",\"marker\":{\"color\":\"#636efa\",\"symbol\":\"circle\"},\"mode\":\"markers\",\"name\":\"Dancing\",\"orientation\":\"v\",\"showlegend\":true,\"x\":[139,36],\"xaxis\":\"x\",\"y\":[1778,482],\"yaxis\":\"y\",\"type\":\"scatter\"},{\"hovertemplate\":\"category_name=Tech<br>num_events_target_period=%{x}<br>num_members=%{y}<extra></extra>\",\"legendgroup\":\"Tech\",\"marker\":{\"color\":\"#EF553B\",\"symbol\":\"circle\"},\"mode\":\"markers\",\"name\":\"Tech\",\"orientation\":\"v\",\"showlegend\":true,\"x\":[11,23,12,12,12,14,10,13,2,18,14,25,10,15,7,12,16,35,12,20,9,11,12,8,11,12,9,10,52,13,10,14,14,11,21,11,40,13,1,20,11,8,14,6,6,1,7,10,7,1,1,5,1,1,11,10,1,2,5,4,2,11,2,1,1,8,7,1],\"xaxis\":\"x\",\"y\":[1975,1442,764,862,502,1318,629,1371,451,1026,560,576,1041,1763,1046,651,1091,1118,501,1643,784,391,881,438,646,237,243,1166,1491,540,166,372,1308,516,525,107,516,476,101,564,152,509,59,120,99,49,256,493,256,26,552,264,296,54,886,389,159,678,613,995,41,915,311,34,413,73,67,80],\"yaxis\":\"y\",\"type\":\"scatter\"},{\"hovertemplate\":\"category_name=Religion & Beliefs<br>num_events_target_period=%{x}<br>num_members=%{y}<extra></extra>\",\"legendgroup\":\"Religion & Beliefs\",\"marker\":{\"color\":\"#00cc96\",\"symbol\":\"circle\"},\"mode\":\"markers\",\"name\":\"Religion & Beliefs\",\"orientation\":\"v\",\"showlegend\":true,\"x\":[120,41,5,20,6,42,103,1,10,2,1],\"xaxis\":\"x\",\"y\":[918,445,195,50,97,86,105,27,459,156,171],\"yaxis\":\"y\",\"type\":\"scatter\"},{\"hovertemplate\":\"category_name=Outdoors & Adventure<br>num_events_target_period=%{x}<br>num_members=%{y}<extra></extra>\",\"legendgroup\":\"Outdoors & Adventure\",\"marker\":{\"color\":\"#ab63fa\",\"symbol\":\"circle\"},\"mode\":\"markers\",\"name\":\"Outdoors & Adventure\",\"orientation\":\"v\",\"showlegend\":true,\"x\":[121,67,101,83,11,64,189,142,52,10,24,5,1,48,23,2,43,7,1,60,11,4],\"xaxis\":\"x\",\"y\":[4828,3861,1576,1683,2058,6331,1328,802,3260,477,933,724,132,1824,921,349,280,984,1226,1696,108,411],\"yaxis\":\"y\",\"type\":\"scatter\"},{\"hovertemplate\":\"category_name=Singles<br>num_events_target_period=%{x}<br>num_members=%{y}<extra></extra>\",\"legendgroup\":\"Singles\",\"marker\":{\"color\":\"#FFA15A\",\"symbol\":\"circle\"},\"mode\":\"markers\",\"name\":\"Singles\",\"orientation\":\"v\",\"showlegend\":true,\"x\":[126,8],\"xaxis\":\"x\",\"y\":[2583,1769],\"yaxis\":\"y\",\"type\":\"scatter\"},{\"hovertemplate\":\"category_name=Socializing<br>num_events_target_period=%{x}<br>num_members=%{y}<extra></extra>\",\"legendgroup\":\"Socializing\",\"marker\":{\"color\":\"#19d3f3\",\"symbol\":\"circle\"},\"mode\":\"markers\",\"name\":\"Socializing\",\"orientation\":\"v\",\"showlegend\":true,\"x\":[59,8,49,44,45,43,20,33,9,11,53,19,10,1,1,2,8,1,7,1,24,2,1,1,1,3],\"xaxis\":\"x\",\"y\":[5008,1388,435,398,1639,3811,2050,493,1124,2634,2189,326,678,12,52,1441,2152,398,2021,1629,225,53,95,370,3765,39],\"yaxis\":\"y\",\"type\":\"scatter\"},{\"hovertemplate\":\"category_name=Career & Business<br>num_events_target_period=%{x}<br>num_members=%{y}<extra></extra>\",\"legendgroup\":\"Career & Business\",\"marker\":{\"color\":\"#FF6692\",\"symbol\":\"circle\"},\"mode\":\"markers\",\"name\":\"Career & Business\",\"orientation\":\"v\",\"showlegend\":true,\"x\":[15,9,57,12,20,19,25,14,165,23,50,25,47,51,5,12,78,24,46,88,13,70,52,13,12,49,13,10,15,6,131,10,6,9,10,4,1,3,1,1,10,2,9,1,11,1,18,14,22,5,1,1,1,1,3,15,60,3],\"xaxis\":\"x\",\"y\":[3210,1532,1444,2307,1649,1447,2163,690,1084,959,360,1192,510,887,799,401,1035,298,441,1292,322,727,605,491,2622,608,366,206,511,44,71,160,296,114,103,1199,603,326,210,60,41,1570,136,459,353,111,146,43,1910,1615,137,244,60,177,2,5,444,107],\"yaxis\":\"y\",\"type\":\"scatter\"},{\"hovertemplate\":\"category_name=Pets & Animals<br>num_events_target_period=%{x}<br>num_members=%{y}<extra></extra>\",\"legendgroup\":\"Pets & Animals\",\"marker\":{\"color\":\"#B6E880\",\"symbol\":\"circle\"},\"mode\":\"markers\",\"name\":\"Pets & Animals\",\"orientation\":\"v\",\"showlegend\":true,\"x\":[66,12,4,32],\"xaxis\":\"x\",\"y\":[1241,499,243,344],\"yaxis\":\"y\",\"type\":\"scatter\"},{\"hovertemplate\":\"category_name=Food & Drink<br>num_events_target_period=%{x}<br>num_members=%{y}<extra></extra>\",\"legendgroup\":\"Food & Drink\",\"marker\":{\"color\":\"#FF97FF\",\"symbol\":\"circle\"},\"mode\":\"markers\",\"name\":\"Food & Drink\",\"orientation\":\"v\",\"showlegend\":true,\"x\":[27,37,9,4,8,4,1,2,8,20,4],\"xaxis\":\"x\",\"y\":[2032,1889,1094,906,557,460,683,2667,217,850,429],\"yaxis\":\"y\",\"type\":\"scatter\"},{\"hovertemplate\":\"category_name=Sports & Recreation<br>num_events_target_period=%{x}<br>num_members=%{y}<extra></extra>\",\"legendgroup\":\"Sports & Recreation\",\"marker\":{\"color\":\"#FECB52\",\"symbol\":\"circle\"},\"mode\":\"markers\",\"name\":\"Sports & Recreation\",\"orientation\":\"v\",\"showlegend\":true,\"x\":[40,22,14,18,28,1,1,4,2,10,1,3,70],\"xaxis\":\"x\",\"y\":[645,341,90,109,124,51,182,590,508,138,620,330,977],\"yaxis\":\"y\",\"type\":\"scatter\"},{\"hovertemplate\":\"category_name=LGBT<br>num_events_target_period=%{x}<br>num_members=%{y}<extra></extra>\",\"legendgroup\":\"LGBT\",\"marker\":{\"color\":\"#636efa\",\"symbol\":\"circle\"},\"mode\":\"markers\",\"name\":\"LGBT\",\"orientation\":\"v\",\"showlegend\":true,\"x\":[43,12,2],\"xaxis\":\"x\",\"y\":[567,200,197],\"yaxis\":\"y\",\"type\":\"scatter\"},{\"hovertemplate\":\"category_name=Movements & Politics<br>num_events_target_period=%{x}<br>num_members=%{y}<extra></extra>\",\"legendgroup\":\"Movements & Politics\",\"marker\":{\"color\":\"#EF553B\",\"symbol\":\"circle\"},\"mode\":\"markers\",\"name\":\"Movements & Politics\",\"orientation\":\"v\",\"showlegend\":true,\"x\":[24,1,12,2,21],\"xaxis\":\"x\",\"y\":[965,582,77,79,185],\"yaxis\":\"y\",\"type\":\"scatter\"},{\"hovertemplate\":\"category_name=Health & Wellbeing<br>num_events_target_period=%{x}<br>num_members=%{y}<extra></extra>\",\"legendgroup\":\"Health & Wellbeing\",\"marker\":{\"color\":\"#00cc96\",\"symbol\":\"circle\"},\"mode\":\"markers\",\"name\":\"Health & Wellbeing\",\"orientation\":\"v\",\"showlegend\":true,\"x\":[21,104,162,97,144,1,13,50,2,1,6,9,1,1,1,1],\"xaxis\":\"x\",\"y\":[1103,874,992,1106,1328,1649,549,540,304,51,295,189,34,563,399,152],\"yaxis\":\"y\",\"type\":\"scatter\"},{\"hovertemplate\":\"category_name=Education & Learning<br>num_events_target_period=%{x}<br>num_members=%{y}<extra></extra>\",\"legendgroup\":\"Education & Learning\",\"marker\":{\"color\":\"#ab63fa\",\"symbol\":\"circle\"},\"mode\":\"markers\",\"name\":\"Education & Learning\",\"orientation\":\"v\",\"showlegend\":true,\"x\":[19,3,12,12,11,1,4,52,23],\"xaxis\":\"x\",\"y\":[652,1422,281,726,50,62,299,84,777],\"yaxis\":\"y\",\"type\":\"scatter\"},{\"hovertemplate\":\"category_name=Language & Ethnic Identity<br>num_events_target_period=%{x}<br>num_members=%{y}<extra></extra>\",\"legendgroup\":\"Language & Ethnic Identity\",\"marker\":{\"color\":\"#FFA15A\",\"symbol\":\"circle\"},\"mode\":\"markers\",\"name\":\"Language & Ethnic Identity\",\"orientation\":\"v\",\"showlegend\":true,\"x\":[32,22,9,24,12,13,13,4],\"xaxis\":\"x\",\"y\":[1417,436,52,315,243,243,1198,77],\"yaxis\":\"y\",\"type\":\"scatter\"},{\"hovertemplate\":\"category_name=Arts & Culture<br>num_events_target_period=%{x}<br>num_members=%{y}<extra></extra>\",\"legendgroup\":\"Arts & Culture\",\"marker\":{\"color\":\"#19d3f3\",\"symbol\":\"circle\"},\"mode\":\"markers\",\"name\":\"Arts & Culture\",\"orientation\":\"v\",\"showlegend\":true,\"x\":[158,11,14],\"xaxis\":\"x\",\"y\":[2514,72,84],\"yaxis\":\"y\",\"type\":\"scatter\"},{\"hovertemplate\":\"category_name=New Age & Spirituality<br>num_events_target_period=%{x}<br>num_members=%{y}<extra></extra>\",\"legendgroup\":\"New Age & Spirituality\",\"marker\":{\"color\":\"#FF6692\",\"symbol\":\"circle\"},\"mode\":\"markers\",\"name\":\"New Age & Spirituality\",\"orientation\":\"v\",\"showlegend\":true,\"x\":[120,108,159,16,26,53,57,5,75,35,9,51,17,1,1,1,1,37,1,1],\"xaxis\":\"x\",\"y\":[1191,1382,610,234,91,874,703,54,200,160,192,48,128,177,146,196,50,505,136,151],\"yaxis\":\"y\",\"type\":\"scatter\"},{\"hovertemplate\":\"category_name=Music<br>num_events_target_period=%{x}<br>num_members=%{y}<extra></extra>\",\"legendgroup\":\"Music\",\"marker\":{\"color\":\"#B6E880\",\"symbol\":\"circle\"},\"mode\":\"markers\",\"name\":\"Music\",\"orientation\":\"v\",\"showlegend\":true,\"x\":[44,14,15,58,8,105,45,4,3,13,5,21,4,1,24],\"xaxis\":\"x\",\"y\":[2644,2060,1763,865,88,532,131,405,271,1872,992,501,469,111,97],\"yaxis\":\"y\",\"type\":\"scatter\"},{\"hovertemplate\":\"category_name=Games<br>num_events_target_period=%{x}<br>num_members=%{y}<extra></extra>\",\"legendgroup\":\"Games\",\"marker\":{\"color\":\"#FF97FF\",\"symbol\":\"circle\"},\"mode\":\"markers\",\"name\":\"Games\",\"orientation\":\"v\",\"showlegend\":true,\"x\":[27,12,4,119,17,71,5,52,52,1,1],\"xaxis\":\"x\",\"y\":[2261,427,187,124,460,589,115,257,41,94,203],\"yaxis\":\"y\",\"type\":\"scatter\"},{\"hovertemplate\":\"category_name=Cars & Motorcycles<br>num_events_target_period=%{x}<br>num_members=%{y}<extra></extra>\",\"legendgroup\":\"Cars & Motorcycles\",\"marker\":{\"color\":\"#FECB52\",\"symbol\":\"circle\"},\"mode\":\"markers\",\"name\":\"Cars & Motorcycles\",\"orientation\":\"v\",\"showlegend\":true,\"x\":[22,4],\"xaxis\":\"x\",\"y\":[1055,479],\"yaxis\":\"y\",\"type\":\"scatter\"},{\"hovertemplate\":\"category_name=Book Clubs<br>num_events_target_period=%{x}<br>num_members=%{y}<extra></extra>\",\"legendgroup\":\"Book Clubs\",\"marker\":{\"color\":\"#636efa\",\"symbol\":\"circle\"},\"mode\":\"markers\",\"name\":\"Book Clubs\",\"orientation\":\"v\",\"showlegend\":true,\"x\":[12,7,11,11],\"xaxis\":\"x\",\"y\":[1770,105,112,249],\"yaxis\":\"y\",\"type\":\"scatter\"},{\"hovertemplate\":\"category_name=Community & Environment<br>num_events_target_period=%{x}<br>num_members=%{y}<extra></extra>\",\"legendgroup\":\"Community & Environment\",\"marker\":{\"color\":\"#EF553B\",\"symbol\":\"circle\"},\"mode\":\"markers\",\"name\":\"Community & Environment\",\"orientation\":\"v\",\"showlegend\":true,\"x\":[21,10,31,10,12,13,9,12,3,1,7,2,1],\"xaxis\":\"x\",\"y\":[2921,293,3509,240,429,577,618,106,90,32,674,282,289],\"yaxis\":\"y\",\"type\":\"scatter\"},{\"hovertemplate\":\"category_name=Hobbies & Crafts<br>num_events_target_period=%{x}<br>num_members=%{y}<extra></extra>\",\"legendgroup\":\"Hobbies & Crafts\",\"marker\":{\"color\":\"#00cc96\",\"symbol\":\"circle\"},\"mode\":\"markers\",\"name\":\"Hobbies & Crafts\",\"orientation\":\"v\",\"showlegend\":true,\"x\":[11,13,12],\"xaxis\":\"x\",\"y\":[520,57,58],\"yaxis\":\"y\",\"type\":\"scatter\"},{\"hovertemplate\":\"category_name=Movies & Film<br>num_events_target_period=%{x}<br>num_members=%{y}<extra></extra>\",\"legendgroup\":\"Movies & Film\",\"marker\":{\"color\":\"#ab63fa\",\"symbol\":\"circle\"},\"mode\":\"markers\",\"name\":\"Movies & Film\",\"orientation\":\"v\",\"showlegend\":true,\"x\":[11,5,19,7,3],\"xaxis\":\"x\",\"y\":[1189,186,875,1729,868],\"yaxis\":\"y\",\"type\":\"scatter\"},{\"hovertemplate\":\"category_name=Fitness<br>num_events_target_period=%{x}<br>num_members=%{y}<extra></extra>\",\"legendgroup\":\"Fitness\",\"marker\":{\"color\":\"#FFA15A\",\"symbol\":\"circle\"},\"mode\":\"markers\",\"name\":\"Fitness\",\"orientation\":\"v\",\"showlegend\":true,\"x\":[14,1],\"xaxis\":\"x\",\"y\":[205,32],\"yaxis\":\"y\",\"type\":\"scatter\"},{\"hovertemplate\":\"category_name=Support<br>num_events_target_period=%{x}<br>num_members=%{y}<extra></extra>\",\"legendgroup\":\"Support\",\"marker\":{\"color\":\"#19d3f3\",\"symbol\":\"circle\"},\"mode\":\"markers\",\"name\":\"Support\",\"orientation\":\"v\",\"showlegend\":true,\"x\":[29,3,22,24,7,1],\"xaxis\":\"x\",\"y\":[47,359,48,143,21,40],\"yaxis\":\"y\",\"type\":\"scatter\"},{\"hovertemplate\":\"category_name=Parents & Family<br>num_events_target_period=%{x}<br>num_members=%{y}<extra></extra>\",\"legendgroup\":\"Parents & Family\",\"marker\":{\"color\":\"#FF6692\",\"symbol\":\"circle\"},\"mode\":\"markers\",\"name\":\"Parents & Family\",\"orientation\":\"v\",\"showlegend\":true,\"x\":[13,4],\"xaxis\":\"x\",\"y\":[654,56],\"yaxis\":\"y\",\"type\":\"scatter\"},{\"hovertemplate\":\"category_name=Fashion & Beauty<br>num_events_target_period=%{x}<br>num_members=%{y}<extra></extra>\",\"legendgroup\":\"Fashion & Beauty\",\"marker\":{\"color\":\"#B6E880\",\"symbol\":\"circle\"},\"mode\":\"markers\",\"name\":\"Fashion & Beauty\",\"orientation\":\"v\",\"showlegend\":true,\"x\":[25,12],\"xaxis\":\"x\",\"y\":[530,5],\"yaxis\":\"y\",\"type\":\"scatter\"},{\"hovertemplate\":\"category_name=Photography<br>num_events_target_period=%{x}<br>num_members=%{y}<extra></extra>\",\"legendgroup\":\"Photography\",\"marker\":{\"color\":\"#FF97FF\",\"symbol\":\"circle\"},\"mode\":\"markers\",\"name\":\"Photography\",\"orientation\":\"v\",\"showlegend\":true,\"x\":[1],\"xaxis\":\"x\",\"y\":[4017],\"yaxis\":\"y\",\"type\":\"scatter\"},{\"hovertemplate\":\"category_name=Writing<br>num_events_target_period=%{x}<br>num_members=%{y}<extra></extra>\",\"legendgroup\":\"Writing\",\"marker\":{\"color\":\"#FECB52\",\"symbol\":\"circle\"},\"mode\":\"markers\",\"name\":\"Writing\",\"orientation\":\"v\",\"showlegend\":true,\"x\":[4],\"xaxis\":\"x\",\"y\":[503],\"yaxis\":\"y\",\"type\":\"scatter\"},{\"hovertemplate\":\"category_name=Sci-Fi & Fantasy<br>num_events_target_period=%{x}<br>num_members=%{y}<extra></extra>\",\"legendgroup\":\"Sci-Fi & Fantasy\",\"marker\":{\"color\":\"#636efa\",\"symbol\":\"circle\"},\"mode\":\"markers\",\"name\":\"Sci-Fi & Fantasy\",\"orientation\":\"v\",\"showlegend\":true,\"x\":[6],\"xaxis\":\"x\",\"y\":[878],\"yaxis\":\"y\",\"type\":\"scatter\"}],                        {\"template\":{\"data\":{\"histogram2dcontour\":[{\"type\":\"histogram2dcontour\",\"colorbar\":{\"outlinewidth\":0,\"ticks\":\"\"},\"colorscale\":[[0.0,\"#0d0887\"],[0.1111111111111111,\"#46039f\"],[0.2222222222222222,\"#7201a8\"],[0.3333333333333333,\"#9c179e\"],[0.4444444444444444,\"#bd3786\"],[0.5555555555555556,\"#d8576b\"],[0.6666666666666666,\"#ed7953\"],[0.7777777777777778,\"#fb9f3a\"],[0.8888888888888888,\"#fdca26\"],[1.0,\"#f0f921\"]]}],\"choropleth\":[{\"type\":\"choropleth\",\"colorbar\":{\"outlinewidth\":0,\"ticks\":\"\"}}],\"histogram2d\":[{\"type\":\"histogram2d\",\"colorbar\":{\"outlinewidth\":0,\"ticks\":\"\"},\"colorscale\":[[0.0,\"#0d0887\"],[0.1111111111111111,\"#46039f\"],[0.2222222222222222,\"#7201a8\"],[0.3333333333333333,\"#9c179e\"],[0.4444444444444444,\"#bd3786\"],[0.5555555555555556,\"#d8576b\"],[0.6666666666666666,\"#ed7953\"],[0.7777777777777778,\"#fb9f3a\"],[0.8888888888888888,\"#fdca26\"],[1.0,\"#f0f921\"]]}],\"heatmap\":[{\"type\":\"heatmap\",\"colorbar\":{\"outlinewidth\":0,\"ticks\":\"\"},\"colorscale\":[[0.0,\"#0d0887\"],[0.1111111111111111,\"#46039f\"],[0.2222222222222222,\"#7201a8\"],[0.3333333333333333,\"#9c179e\"],[0.4444444444444444,\"#bd3786\"],[0.5555555555555556,\"#d8576b\"],[0.6666666666666666,\"#ed7953\"],[0.7777777777777778,\"#fb9f3a\"],[0.8888888888888888,\"#fdca26\"],[1.0,\"#f0f921\"]]}],\"heatmapgl\":[{\"type\":\"heatmapgl\",\"colorbar\":{\"outlinewidth\":0,\"ticks\":\"\"},\"colorscale\":[[0.0,\"#0d0887\"],[0.1111111111111111,\"#46039f\"],[0.2222222222222222,\"#7201a8\"],[0.3333333333333333,\"#9c179e\"],[0.4444444444444444,\"#bd3786\"],[0.5555555555555556,\"#d8576b\"],[0.6666666666666666,\"#ed7953\"],[0.7777777777777778,\"#fb9f3a\"],[0.8888888888888888,\"#fdca26\"],[1.0,\"#f0f921\"]]}],\"contourcarpet\":[{\"type\":\"contourcarpet\",\"colorbar\":{\"outlinewidth\":0,\"ticks\":\"\"}}],\"contour\":[{\"type\":\"contour\",\"colorbar\":{\"outlinewidth\":0,\"ticks\":\"\"},\"colorscale\":[[0.0,\"#0d0887\"],[0.1111111111111111,\"#46039f\"],[0.2222222222222222,\"#7201a8\"],[0.3333333333333333,\"#9c179e\"],[0.4444444444444444,\"#bd3786\"],[0.5555555555555556,\"#d8576b\"],[0.6666666666666666,\"#ed7953\"],[0.7777777777777778,\"#fb9f3a\"],[0.8888888888888888,\"#fdca26\"],[1.0,\"#f0f921\"]]}],\"surface\":[{\"type\":\"surface\",\"colorbar\":{\"outlinewidth\":0,\"ticks\":\"\"},\"colorscale\":[[0.0,\"#0d0887\"],[0.1111111111111111,\"#46039f\"],[0.2222222222222222,\"#7201a8\"],[0.3333333333333333,\"#9c179e\"],[0.4444444444444444,\"#bd3786\"],[0.5555555555555556,\"#d8576b\"],[0.6666666666666666,\"#ed7953\"],[0.7777777777777778,\"#fb9f3a\"],[0.8888888888888888,\"#fdca26\"],[1.0,\"#f0f921\"]]}],\"mesh3d\":[{\"type\":\"mesh3d\",\"colorbar\":{\"outlinewidth\":0,\"ticks\":\"\"}}],\"scatter\":[{\"fillpattern\":{\"fillmode\":\"overlay\",\"size\":10,\"solidity\":0.2},\"type\":\"scatter\"}],\"parcoords\":[{\"type\":\"parcoords\",\"line\":{\"colorbar\":{\"outlinewidth\":0,\"ticks\":\"\"}}}],\"scatterpolargl\":[{\"type\":\"scatterpolargl\",\"marker\":{\"colorbar\":{\"outlinewidth\":0,\"ticks\":\"\"}}}],\"bar\":[{\"error_x\":{\"color\":\"#2a3f5f\"},\"error_y\":{\"color\":\"#2a3f5f\"},\"marker\":{\"line\":{\"color\":\"#E5ECF6\",\"width\":0.5},\"pattern\":{\"fillmode\":\"overlay\",\"size\":10,\"solidity\":0.2}},\"type\":\"bar\"}],\"scattergeo\":[{\"type\":\"scattergeo\",\"marker\":{\"colorbar\":{\"outlinewidth\":0,\"ticks\":\"\"}}}],\"scatterpolar\":[{\"type\":\"scatterpolar\",\"marker\":{\"colorbar\":{\"outlinewidth\":0,\"ticks\":\"\"}}}],\"histogram\":[{\"marker\":{\"pattern\":{\"fillmode\":\"overlay\",\"size\":10,\"solidity\":0.2}},\"type\":\"histogram\"}],\"scattergl\":[{\"type\":\"scattergl\",\"marker\":{\"colorbar\":{\"outlinewidth\":0,\"ticks\":\"\"}}}],\"scatter3d\":[{\"type\":\"scatter3d\",\"line\":{\"colorbar\":{\"outlinewidth\":0,\"ticks\":\"\"}},\"marker\":{\"colorbar\":{\"outlinewidth\":0,\"ticks\":\"\"}}}],\"scattermapbox\":[{\"type\":\"scattermapbox\",\"marker\":{\"colorbar\":{\"outlinewidth\":0,\"ticks\":\"\"}}}],\"scatterternary\":[{\"type\":\"scatterternary\",\"marker\":{\"colorbar\":{\"outlinewidth\":0,\"ticks\":\"\"}}}],\"scattercarpet\":[{\"type\":\"scattercarpet\",\"marker\":{\"colorbar\":{\"outlinewidth\":0,\"ticks\":\"\"}}}],\"carpet\":[{\"aaxis\":{\"endlinecolor\":\"#2a3f5f\",\"gridcolor\":\"white\",\"linecolor\":\"white\",\"minorgridcolor\":\"white\",\"startlinecolor\":\"#2a3f5f\"},\"baxis\":{\"endlinecolor\":\"#2a3f5f\",\"gridcolor\":\"white\",\"linecolor\":\"white\",\"minorgridcolor\":\"white\",\"startlinecolor\":\"#2a3f5f\"},\"type\":\"carpet\"}],\"table\":[{\"cells\":{\"fill\":{\"color\":\"#EBF0F8\"},\"line\":{\"color\":\"white\"}},\"header\":{\"fill\":{\"color\":\"#C8D4E3\"},\"line\":{\"color\":\"white\"}},\"type\":\"table\"}],\"barpolar\":[{\"marker\":{\"line\":{\"color\":\"#E5ECF6\",\"width\":0.5},\"pattern\":{\"fillmode\":\"overlay\",\"size\":10,\"solidity\":0.2}},\"type\":\"barpolar\"}],\"pie\":[{\"automargin\":true,\"type\":\"pie\"}]},\"layout\":{\"autotypenumbers\":\"strict\",\"colorway\":[\"#636efa\",\"#EF553B\",\"#00cc96\",\"#ab63fa\",\"#FFA15A\",\"#19d3f3\",\"#FF6692\",\"#B6E880\",\"#FF97FF\",\"#FECB52\"],\"font\":{\"color\":\"#2a3f5f\"},\"hovermode\":\"closest\",\"hoverlabel\":{\"align\":\"left\"},\"paper_bgcolor\":\"white\",\"plot_bgcolor\":\"#E5ECF6\",\"polar\":{\"bgcolor\":\"#E5ECF6\",\"angularaxis\":{\"gridcolor\":\"white\",\"linecolor\":\"white\",\"ticks\":\"\"},\"radialaxis\":{\"gridcolor\":\"white\",\"linecolor\":\"white\",\"ticks\":\"\"}},\"ternary\":{\"bgcolor\":\"#E5ECF6\",\"aaxis\":{\"gridcolor\":\"white\",\"linecolor\":\"white\",\"ticks\":\"\"},\"baxis\":{\"gridcolor\":\"white\",\"linecolor\":\"white\",\"ticks\":\"\"},\"caxis\":{\"gridcolor\":\"white\",\"linecolor\":\"white\",\"ticks\":\"\"}},\"coloraxis\":{\"colorbar\":{\"outlinewidth\":0,\"ticks\":\"\"}},\"colorscale\":{\"sequential\":[[0.0,\"#0d0887\"],[0.1111111111111111,\"#46039f\"],[0.2222222222222222,\"#7201a8\"],[0.3333333333333333,\"#9c179e\"],[0.4444444444444444,\"#bd3786\"],[0.5555555555555556,\"#d8576b\"],[0.6666666666666666,\"#ed7953\"],[0.7777777777777778,\"#fb9f3a\"],[0.8888888888888888,\"#fdca26\"],[1.0,\"#f0f921\"]],\"sequentialminus\":[[0.0,\"#0d0887\"],[0.1111111111111111,\"#46039f\"],[0.2222222222222222,\"#7201a8\"],[0.3333333333333333,\"#9c179e\"],[0.4444444444444444,\"#bd3786\"],[0.5555555555555556,\"#d8576b\"],[0.6666666666666666,\"#ed7953\"],[0.7777777777777778,\"#fb9f3a\"],[0.8888888888888888,\"#fdca26\"],[1.0,\"#f0f921\"]],\"diverging\":[[0,\"#8e0152\"],[0.1,\"#c51b7d\"],[0.2,\"#de77ae\"],[0.3,\"#f1b6da\"],[0.4,\"#fde0ef\"],[0.5,\"#f7f7f7\"],[0.6,\"#e6f5d0\"],[0.7,\"#b8e186\"],[0.8,\"#7fbc41\"],[0.9,\"#4d9221\"],[1,\"#276419\"]]},\"xaxis\":{\"gridcolor\":\"white\",\"linecolor\":\"white\",\"ticks\":\"\",\"title\":{\"standoff\":15},\"zerolinecolor\":\"white\",\"automargin\":true,\"zerolinewidth\":2},\"yaxis\":{\"gridcolor\":\"white\",\"linecolor\":\"white\",\"ticks\":\"\",\"title\":{\"standoff\":15},\"zerolinecolor\":\"white\",\"automargin\":true,\"zerolinewidth\":2},\"scene\":{\"xaxis\":{\"backgroundcolor\":\"#E5ECF6\",\"gridcolor\":\"white\",\"linecolor\":\"white\",\"showbackground\":true,\"ticks\":\"\",\"zerolinecolor\":\"white\",\"gridwidth\":2},\"yaxis\":{\"backgroundcolor\":\"#E5ECF6\",\"gridcolor\":\"white\",\"linecolor\":\"white\",\"showbackground\":true,\"ticks\":\"\",\"zerolinecolor\":\"white\",\"gridwidth\":2},\"zaxis\":{\"backgroundcolor\":\"#E5ECF6\",\"gridcolor\":\"white\",\"linecolor\":\"white\",\"showbackground\":true,\"ticks\":\"\",\"zerolinecolor\":\"white\",\"gridwidth\":2}},\"shapedefaults\":{\"line\":{\"color\":\"#2a3f5f\"}},\"annotationdefaults\":{\"arrowcolor\":\"#2a3f5f\",\"arrowhead\":0,\"arrowwidth\":1},\"geo\":{\"bgcolor\":\"white\",\"landcolor\":\"#E5ECF6\",\"subunitcolor\":\"white\",\"showland\":true,\"showlakes\":true,\"lakecolor\":\"white\"},\"title\":{\"x\":0.05},\"mapbox\":{\"style\":\"light\"}}},\"xaxis\":{\"anchor\":\"y\",\"domain\":[0.0,1.0],\"title\":{\"text\":\"num_events_target_period\"}},\"yaxis\":{\"anchor\":\"x\",\"domain\":[0.0,1.0],\"title\":{\"text\":\"num_members\"}},\"legend\":{\"title\":{\"text\":\"category_name\"},\"tracegroupgap\":0},\"title\":{\"text\":\"Number of Events vs Number of Members\"}},                        {\"responsive\": true}                    ).then(function(){\n",
       "                            \n",
       "var gd = document.getElementById('011f2983-196f-4809-be04-4ce570c2567f');\n",
       "var x = new MutationObserver(function (mutations, observer) {{\n",
       "        var display = window.getComputedStyle(gd).display;\n",
       "        if (!display || display === 'none') {{\n",
       "            console.log([gd, 'removed!']);\n",
       "            Plotly.purge(gd);\n",
       "            observer.disconnect();\n",
       "        }}\n",
       "}});\n",
       "\n",
       "// Listen for the removal of the full notebook cells\n",
       "var notebookContainer = gd.closest('#notebook-container');\n",
       "if (notebookContainer) {{\n",
       "    x.observe(notebookContainer, {childList: true});\n",
       "}}\n",
       "\n",
       "// Listen for the clearing of the current output cell\n",
       "var outputEl = gd.closest('.output');\n",
       "if (outputEl) {{\n",
       "    x.observe(outputEl, {childList: true});\n",
       "}}\n",
       "\n",
       "                        })                };                });            </script>        </div>"
      ]
     },
     "metadata": {},
     "output_type": "display_data"
    }
   ],
   "source": [
    "import plotly.express as px\n",
    "\n",
    "px.scatter(meta_groups_i, x=\"num_events_target_period\", y=\"num_members\", color=\"category_name\",\n",
    "                 title=\"Number of Events vs Number of Members\")"
   ]
  },
  {
   "cell_type": "code",
   "execution_count": null,
   "id": "eb6731a0",
   "metadata": {},
   "outputs": [],
   "source": []
  },
  {
   "cell_type": "code",
   "execution_count": 301,
   "id": "e60fd601",
   "metadata": {},
   "outputs": [],
   "source": [
    "#toyed with the idea of identifying the point of diminishing return\n",
    "#fiteventstomembers2 = np.polyfit(x=meta_groups_i['num_events_target_period'],y=meta_groups_i['num_members'],deg=2)\n",
    "#foffiteventstomembers2 = np.poly(fiteventstomembers2)"
   ]
  },
  {
   "cell_type": "code",
   "execution_count": 272,
   "id": "a74f73cd",
   "metadata": {},
   "outputs": [
    {
     "data": {
      "text/html": [
       "<div>\n",
       "<style scoped>\n",
       "    .dataframe tbody tr th:only-of-type {\n",
       "        vertical-align: middle;\n",
       "    }\n",
       "\n",
       "    .dataframe tbody tr th {\n",
       "        vertical-align: top;\n",
       "    }\n",
       "\n",
       "    .dataframe thead th {\n",
       "        text-align: right;\n",
       "    }\n",
       "</style>\n",
       "<table border=\"1\" class=\"dataframe\">\n",
       "  <thead>\n",
       "    <tr style=\"text-align: right;\">\n",
       "      <th></th>\n",
       "      <th>group_id</th>\n",
       "      <th>group_name</th>\n",
       "      <th>num_members</th>\n",
       "      <th>category_id</th>\n",
       "      <th>category_name_x</th>\n",
       "      <th>organizer_id</th>\n",
       "      <th>group_urlname</th>\n",
       "      <th>avg_rsvps</th>\n",
       "      <th>first_event</th>\n",
       "      <th>num_events</th>\n",
       "      <th>event_id</th>\n",
       "      <th>name</th>\n",
       "      <th>time</th>\n",
       "      <th>time_ts</th>\n",
       "      <th>day_of_week</th>\n",
       "      <th>category_name_y</th>\n",
       "    </tr>\n",
       "  </thead>\n",
       "  <tbody>\n",
       "    <tr>\n",
       "      <th>0</th>\n",
       "      <td>19728145</td>\n",
       "      <td>Stepping Out Social Dance Meetup</td>\n",
       "      <td>1778</td>\n",
       "      <td>5</td>\n",
       "      <td>Dancing</td>\n",
       "      <td>118484462</td>\n",
       "      <td>steppingoutsocialdance</td>\n",
       "      <td>16.575</td>\n",
       "      <td>2016-06-11 23:30:00</td>\n",
       "      <td>200</td>\n",
       "      <td>243960284</td>\n",
       "      <td>Line Dancing  at Post 88. Information Only</td>\n",
       "      <td>2017-10-30 23:15:00</td>\n",
       "      <td>2017-10-30 23:15:00</td>\n",
       "      <td>Monday</td>\n",
       "      <td>Dancing</td>\n",
       "    </tr>\n",
       "    <tr>\n",
       "      <th>1</th>\n",
       "      <td>19728145</td>\n",
       "      <td>Stepping Out Social Dance Meetup</td>\n",
       "      <td>1778</td>\n",
       "      <td>5</td>\n",
       "      <td>Dancing</td>\n",
       "      <td>118484462</td>\n",
       "      <td>steppingoutsocialdance</td>\n",
       "      <td>16.575</td>\n",
       "      <td>2016-06-11 23:30:00</td>\n",
       "      <td>200</td>\n",
       "      <td>243113702</td>\n",
       "      <td>Halloween Party At Post 88. With Red Light 11</td>\n",
       "      <td>2017-10-29 00:00:00</td>\n",
       "      <td>2017-10-29 00:00:00</td>\n",
       "      <td>Sunday</td>\n",
       "      <td>Dancing</td>\n",
       "    </tr>\n",
       "    <tr>\n",
       "      <th>2</th>\n",
       "      <td>19728145</td>\n",
       "      <td>Stepping Out Social Dance Meetup</td>\n",
       "      <td>1778</td>\n",
       "      <td>5</td>\n",
       "      <td>Dancing</td>\n",
       "      <td>118484462</td>\n",
       "      <td>steppingoutsocialdance</td>\n",
       "      <td>16.575</td>\n",
       "      <td>2016-06-11 23:30:00</td>\n",
       "      <td>200</td>\n",
       "      <td>244318821</td>\n",
       "      <td>Music, Dancing And Bar'q.  Information Only.</td>\n",
       "      <td>2017-10-26 23:00:00</td>\n",
       "      <td>2017-10-26 23:00:00</td>\n",
       "      <td>Thursday</td>\n",
       "      <td>Dancing</td>\n",
       "    </tr>\n",
       "    <tr>\n",
       "      <th>3</th>\n",
       "      <td>19728145</td>\n",
       "      <td>Stepping Out Social Dance Meetup</td>\n",
       "      <td>1778</td>\n",
       "      <td>5</td>\n",
       "      <td>Dancing</td>\n",
       "      <td>118484462</td>\n",
       "      <td>steppingoutsocialdance</td>\n",
       "      <td>16.575</td>\n",
       "      <td>2016-06-11 23:30:00</td>\n",
       "      <td>200</td>\n",
       "      <td>243634634</td>\n",
       "      <td>Salsa dancing. Lesson And Dancing At Plaza Mar...</td>\n",
       "      <td>2017-10-22 01:00:00</td>\n",
       "      <td>2017-10-22 01:00:00</td>\n",
       "      <td>Sunday</td>\n",
       "      <td>Dancing</td>\n",
       "    </tr>\n",
       "    <tr>\n",
       "      <th>4</th>\n",
       "      <td>19728145</td>\n",
       "      <td>Stepping Out Social Dance Meetup</td>\n",
       "      <td>1778</td>\n",
       "      <td>5</td>\n",
       "      <td>Dancing</td>\n",
       "      <td>118484462</td>\n",
       "      <td>steppingoutsocialdance</td>\n",
       "      <td>16.575</td>\n",
       "      <td>2016-06-11 23:30:00</td>\n",
       "      <td>200</td>\n",
       "      <td>243306264</td>\n",
       "      <td>Friday night Dance Party At Preston . October ...</td>\n",
       "      <td>2017-10-21 00:00:00</td>\n",
       "      <td>2017-10-21 00:00:00</td>\n",
       "      <td>Saturday</td>\n",
       "      <td>Dancing</td>\n",
       "    </tr>\n",
       "  </tbody>\n",
       "</table>\n",
       "</div>"
      ],
      "text/plain": [
       "   group_id                        group_name  num_members  category_id  \\\n",
       "0  19728145  Stepping Out Social Dance Meetup         1778            5   \n",
       "1  19728145  Stepping Out Social Dance Meetup         1778            5   \n",
       "2  19728145  Stepping Out Social Dance Meetup         1778            5   \n",
       "3  19728145  Stepping Out Social Dance Meetup         1778            5   \n",
       "4  19728145  Stepping Out Social Dance Meetup         1778            5   \n",
       "\n",
       "  category_name_x  organizer_id           group_urlname  avg_rsvps  \\\n",
       "0         Dancing     118484462  steppingoutsocialdance     16.575   \n",
       "1         Dancing     118484462  steppingoutsocialdance     16.575   \n",
       "2         Dancing     118484462  steppingoutsocialdance     16.575   \n",
       "3         Dancing     118484462  steppingoutsocialdance     16.575   \n",
       "4         Dancing     118484462  steppingoutsocialdance     16.575   \n",
       "\n",
       "          first_event  num_events   event_id  \\\n",
       "0 2016-06-11 23:30:00         200  243960284   \n",
       "1 2016-06-11 23:30:00         200  243113702   \n",
       "2 2016-06-11 23:30:00         200  244318821   \n",
       "3 2016-06-11 23:30:00         200  243634634   \n",
       "4 2016-06-11 23:30:00         200  243306264   \n",
       "\n",
       "                                                name                 time  \\\n",
       "0         Line Dancing  at Post 88. Information Only  2017-10-30 23:15:00   \n",
       "1      Halloween Party At Post 88. With Red Light 11  2017-10-29 00:00:00   \n",
       "2     Music, Dancing And Bar'q.  Information Only.    2017-10-26 23:00:00   \n",
       "3  Salsa dancing. Lesson And Dancing At Plaza Mar...  2017-10-22 01:00:00   \n",
       "4  Friday night Dance Party At Preston . October ...  2017-10-21 00:00:00   \n",
       "\n",
       "              time_ts day_of_week category_name_y  \n",
       "0 2017-10-30 23:15:00      Monday         Dancing  \n",
       "1 2017-10-29 00:00:00      Sunday         Dancing  \n",
       "2 2017-10-26 23:00:00    Thursday         Dancing  \n",
       "3 2017-10-22 01:00:00      Sunday         Dancing  \n",
       "4 2017-10-21 00:00:00    Saturday         Dancing  "
      ]
     },
     "execution_count": 272,
     "metadata": {},
     "output_type": "execute_result"
    }
   ],
   "source": [
    "group_event_merged.head()"
   ]
  },
  {
   "cell_type": "code",
   "execution_count": 273,
   "id": "17792c4e",
   "metadata": {},
   "outputs": [
    {
     "data": {
      "text/plain": [
       "Timedelta('364 days 23:15:00')"
      ]
     },
     "execution_count": 273,
     "metadata": {},
     "output_type": "execute_result"
    }
   ],
   "source": [
    "max(group_event_merged['time_ts'])-min(group_event_merged['time_ts'])"
   ]
  },
  {
   "cell_type": "markdown",
   "id": "bbcb5da0",
   "metadata": {},
   "source": [
    "identifying the subset of the RSVP data that relates to the groups during the period of interest.\n",
    "\n",
    "RSVP subset below had fewer event IDs than the event data that was merged into group_event_merged.\n",
    "\n",
    "Tracking down one of these instances showed to not be a data integrity issue or error in the handling of the data, but instead revealed that some events do not have records in the RSVP data set."
   ]
  },
  {
   "cell_type": "code",
   "execution_count": 274,
   "id": "69fb7beb",
   "metadata": {},
   "outputs": [],
   "source": [
    "#measure of engagement - average percent of events attended per member\n",
    "rsvp_subset = rsvps.loc[rsvps['event_id'].isin(group_event_merged['event_id'])]"
   ]
  },
  {
   "cell_type": "code",
   "execution_count": 275,
   "id": "4c10443b",
   "metadata": {},
   "outputs": [
    {
     "data": {
      "text/plain": [
       "False"
      ]
     },
     "execution_count": 275,
     "metadata": {},
     "output_type": "execute_result"
    }
   ],
   "source": [
    "'''checking to see if the number of events in each is the same. It isnt '''\n",
    "len(group_event_merged['event_id'].unique())==len(rsvp_subset['event_id'].unique())"
   ]
  },
  {
   "cell_type": "code",
   "execution_count": 276,
   "id": "99366c73",
   "metadata": {},
   "outputs": [
    {
     "data": {
      "text/plain": [
       "7854"
      ]
     },
     "execution_count": 276,
     "metadata": {},
     "output_type": "execute_result"
    }
   ],
   "source": [
    "len(group_event_merged['event_id'].unique())"
   ]
  },
  {
   "cell_type": "code",
   "execution_count": 277,
   "id": "dfaf2265",
   "metadata": {},
   "outputs": [
    {
     "data": {
      "text/plain": [
       "7745"
      ]
     },
     "execution_count": 277,
     "metadata": {},
     "output_type": "execute_result"
    }
   ],
   "source": [
    "len(rsvp_subset['event_id'].unique())"
   ]
  },
  {
   "cell_type": "code",
   "execution_count": 278,
   "id": "c754cde6",
   "metadata": {},
   "outputs": [
    {
     "data": {
      "text/html": [
       "<div>\n",
       "<style scoped>\n",
       "    .dataframe tbody tr th:only-of-type {\n",
       "        vertical-align: middle;\n",
       "    }\n",
       "\n",
       "    .dataframe tbody tr th {\n",
       "        vertical-align: top;\n",
       "    }\n",
       "\n",
       "    .dataframe thead th {\n",
       "        text-align: right;\n",
       "    }\n",
       "</style>\n",
       "<table border=\"1\" class=\"dataframe\">\n",
       "  <thead>\n",
       "    <tr style=\"text-align: right;\">\n",
       "      <th></th>\n",
       "      <th>event_id</th>\n",
       "      <th>member_id</th>\n",
       "      <th>group_id</th>\n",
       "    </tr>\n",
       "  </thead>\n",
       "  <tbody>\n",
       "    <tr>\n",
       "      <th>4</th>\n",
       "      <td>244444551</td>\n",
       "      <td>1720391</td>\n",
       "      <td>18571126</td>\n",
       "    </tr>\n",
       "    <tr>\n",
       "      <th>5</th>\n",
       "      <td>244257722</td>\n",
       "      <td>1720391</td>\n",
       "      <td>18571126</td>\n",
       "    </tr>\n",
       "    <tr>\n",
       "      <th>6</th>\n",
       "      <td>243997614</td>\n",
       "      <td>1720391</td>\n",
       "      <td>18571126</td>\n",
       "    </tr>\n",
       "    <tr>\n",
       "      <th>7</th>\n",
       "      <td>243711748</td>\n",
       "      <td>1720391</td>\n",
       "      <td>18571126</td>\n",
       "    </tr>\n",
       "    <tr>\n",
       "      <th>8</th>\n",
       "      <td>243587675</td>\n",
       "      <td>1720391</td>\n",
       "      <td>18571126</td>\n",
       "    </tr>\n",
       "  </tbody>\n",
       "</table>\n",
       "</div>"
      ],
      "text/plain": [
       "    event_id  member_id  group_id\n",
       "4  244444551    1720391  18571126\n",
       "5  244257722    1720391  18571126\n",
       "6  243997614    1720391  18571126\n",
       "7  243711748    1720391  18571126\n",
       "8  243587675    1720391  18571126"
      ]
     },
     "execution_count": 278,
     "metadata": {},
     "output_type": "execute_result"
    }
   ],
   "source": [
    "rsvp_subset.head()"
   ]
  },
  {
   "cell_type": "code",
   "execution_count": 289,
   "id": "a34bd5e2",
   "metadata": {},
   "outputs": [
    {
     "data": {
      "text/html": [
       "<div>\n",
       "<style scoped>\n",
       "    .dataframe tbody tr th:only-of-type {\n",
       "        vertical-align: middle;\n",
       "    }\n",
       "\n",
       "    .dataframe tbody tr th {\n",
       "        vertical-align: top;\n",
       "    }\n",
       "\n",
       "    .dataframe thead th {\n",
       "        text-align: right;\n",
       "    }\n",
       "</style>\n",
       "<table border=\"1\" class=\"dataframe\">\n",
       "  <thead>\n",
       "    <tr style=\"text-align: right;\">\n",
       "      <th></th>\n",
       "      <th>event_id</th>\n",
       "      <th>group_id</th>\n",
       "      <th>name</th>\n",
       "      <th>time</th>\n",
       "      <th>time_ts</th>\n",
       "      <th>day_of_week</th>\n",
       "    </tr>\n",
       "  </thead>\n",
       "  <tbody>\n",
       "    <tr>\n",
       "      <th>408</th>\n",
       "      <td>qrzvjgyvqbdc</td>\n",
       "      <td>8796112</td>\n",
       "      <td>NCFUG Monthly Meeting</td>\n",
       "      <td>2016-12-23 00:30:00</td>\n",
       "      <td>2016-12-23 00:30:00</td>\n",
       "      <td>Friday</td>\n",
       "    </tr>\n",
       "    <tr>\n",
       "      <th>409</th>\n",
       "      <td>qrzvjgyvpbgc</td>\n",
       "      <td>8796112</td>\n",
       "      <td>NCFUG Monthly Meeting</td>\n",
       "      <td>2016-11-25 00:30:00</td>\n",
       "      <td>2016-11-25 00:30:00</td>\n",
       "      <td>Friday</td>\n",
       "    </tr>\n",
       "  </tbody>\n",
       "</table>\n",
       "</div>"
      ],
      "text/plain": [
       "         event_id  group_id                   name                 time  \\\n",
       "408  qrzvjgyvqbdc   8796112  NCFUG Monthly Meeting  2016-12-23 00:30:00   \n",
       "409  qrzvjgyvpbgc   8796112  NCFUG Monthly Meeting  2016-11-25 00:30:00   \n",
       "\n",
       "                time_ts day_of_week  \n",
       "408 2016-12-23 00:30:00      Friday  \n",
       "409 2016-11-25 00:30:00      Friday  "
      ]
     },
     "execution_count": 289,
     "metadata": {},
     "output_type": "execute_result"
    }
   ],
   "source": [
    "meta_events.loc[(meta_events['group_id'].isin(\\\n",
    "\n",
    "group_event_merged.loc[~ group_event_merged['group_id'].isin(rsvp_subset['group_id'])]['group_id']))\\\n",
    "           \n",
    "           & (meta_events['time_ts']>=(max(meta_events['time_ts']).round('d')-pd.DateOffset(months=12)))]"
   ]
  },
  {
   "cell_type": "code",
   "execution_count": 303,
   "id": "041a9d80",
   "metadata": {},
   "outputs": [
    {
     "data": {
      "text/html": [
       "<div>\n",
       "<style scoped>\n",
       "    .dataframe tbody tr th:only-of-type {\n",
       "        vertical-align: middle;\n",
       "    }\n",
       "\n",
       "    .dataframe tbody tr th {\n",
       "        vertical-align: top;\n",
       "    }\n",
       "\n",
       "    .dataframe thead th {\n",
       "        text-align: right;\n",
       "    }\n",
       "</style>\n",
       "<table border=\"1\" class=\"dataframe\">\n",
       "  <thead>\n",
       "    <tr style=\"text-align: right;\">\n",
       "      <th></th>\n",
       "      <th>event_id</th>\n",
       "      <th>member_id</th>\n",
       "      <th>group_id</th>\n",
       "    </tr>\n",
       "  </thead>\n",
       "  <tbody>\n",
       "    <tr>\n",
       "      <th>843</th>\n",
       "      <td>qrzvjgyvnbkc</td>\n",
       "      <td>135318882</td>\n",
       "      <td>8796112</td>\n",
       "    </tr>\n",
       "    <tr>\n",
       "      <th>844</th>\n",
       "      <td>qrzvjgyvhbjc</td>\n",
       "      <td>12480841</td>\n",
       "      <td>8796112</td>\n",
       "    </tr>\n",
       "    <tr>\n",
       "      <th>845</th>\n",
       "      <td>qrzvjgyvdbhc</td>\n",
       "      <td>9961811</td>\n",
       "      <td>8796112</td>\n",
       "    </tr>\n",
       "    <tr>\n",
       "      <th>846</th>\n",
       "      <td>qrzvjgyvdbhc</td>\n",
       "      <td>135318882</td>\n",
       "      <td>8796112</td>\n",
       "    </tr>\n",
       "  </tbody>\n",
       "</table>\n",
       "</div>"
      ],
      "text/plain": [
       "         event_id  member_id  group_id\n",
       "843  qrzvjgyvnbkc  135318882   8796112\n",
       "844  qrzvjgyvhbjc   12480841   8796112\n",
       "845  qrzvjgyvdbhc    9961811   8796112\n",
       "846  qrzvjgyvdbhc  135318882   8796112"
      ]
     },
     "execution_count": 303,
     "metadata": {},
     "output_type": "execute_result"
    }
   ],
   "source": [
    "rsvps.loc[rsvps['group_id']==8796112]"
   ]
  },
  {
   "cell_type": "code",
   "execution_count": 290,
   "id": "e79aaad6",
   "metadata": {},
   "outputs": [
    {
     "data": {
      "text/html": [
       "<div>\n",
       "<style scoped>\n",
       "    .dataframe tbody tr th:only-of-type {\n",
       "        vertical-align: middle;\n",
       "    }\n",
       "\n",
       "    .dataframe tbody tr th {\n",
       "        vertical-align: top;\n",
       "    }\n",
       "\n",
       "    .dataframe thead th {\n",
       "        text-align: right;\n",
       "    }\n",
       "</style>\n",
       "<table border=\"1\" class=\"dataframe\">\n",
       "  <thead>\n",
       "    <tr style=\"text-align: right;\">\n",
       "      <th></th>\n",
       "      <th>event_id</th>\n",
       "      <th>member_id</th>\n",
       "      <th>group_id</th>\n",
       "    </tr>\n",
       "  </thead>\n",
       "  <tbody>\n",
       "  </tbody>\n",
       "</table>\n",
       "</div>"
      ],
      "text/plain": [
       "Empty DataFrame\n",
       "Columns: [event_id, member_id, group_id]\n",
       "Index: []"
      ]
     },
     "execution_count": 290,
     "metadata": {},
     "output_type": "execute_result"
    }
   ],
   "source": [
    "rsvp_subset.loc[rsvp_subset['group_id']==8796112]"
   ]
  },
  {
   "cell_type": "code",
   "execution_count": 292,
   "id": "dd390548",
   "metadata": {},
   "outputs": [
    {
     "data": {
      "text/plain": [
       "Timestamp('2016-10-31 00:00:00')"
      ]
     },
     "execution_count": 292,
     "metadata": {},
     "output_type": "execute_result"
    }
   ],
   "source": [
    "(max(meta_events['time_ts']).round('d')-pd.DateOffset(months=12))"
   ]
  },
  {
   "cell_type": "code",
   "execution_count": 293,
   "id": "ad7e6e6b",
   "metadata": {},
   "outputs": [
    {
     "data": {
      "text/plain": [
       "Timestamp('2017-10-30 23:15:00')"
      ]
     },
     "execution_count": 293,
     "metadata": {},
     "output_type": "execute_result"
    }
   ],
   "source": [
    "max(meta_events['time_ts'])"
   ]
  },
  {
   "cell_type": "code",
   "execution_count": 294,
   "id": "d9c7849f",
   "metadata": {},
   "outputs": [
    {
     "data": {
      "text/html": [
       "<div>\n",
       "<style scoped>\n",
       "    .dataframe tbody tr th:only-of-type {\n",
       "        vertical-align: middle;\n",
       "    }\n",
       "\n",
       "    .dataframe tbody tr th {\n",
       "        vertical-align: top;\n",
       "    }\n",
       "\n",
       "    .dataframe thead th {\n",
       "        text-align: right;\n",
       "    }\n",
       "</style>\n",
       "<table border=\"1\" class=\"dataframe\">\n",
       "  <thead>\n",
       "    <tr style=\"text-align: right;\">\n",
       "      <th></th>\n",
       "      <th>group_id</th>\n",
       "      <th>group_name</th>\n",
       "      <th>num_members</th>\n",
       "      <th>category_id</th>\n",
       "      <th>category_name_x</th>\n",
       "      <th>organizer_id</th>\n",
       "      <th>group_urlname</th>\n",
       "      <th>avg_rsvps</th>\n",
       "      <th>first_event</th>\n",
       "      <th>num_events</th>\n",
       "      <th>event_id</th>\n",
       "      <th>name</th>\n",
       "      <th>time</th>\n",
       "      <th>time_ts</th>\n",
       "      <th>day_of_week</th>\n",
       "      <th>category_name_y</th>\n",
       "    </tr>\n",
       "  </thead>\n",
       "  <tbody>\n",
       "    <tr>\n",
       "      <th>7380</th>\n",
       "      <td>8796112</td>\n",
       "      <td>Nashville ColdFusion User Group</td>\n",
       "      <td>41</td>\n",
       "      <td>34</td>\n",
       "      <td>Tech</td>\n",
       "      <td>12480841</td>\n",
       "      <td>Nashville-ColdFusion-User-Group</td>\n",
       "      <td>1.333333</td>\n",
       "      <td>2016-02-26 00:30:00</td>\n",
       "      <td>7</td>\n",
       "      <td>qrzvjgyvqbdc</td>\n",
       "      <td>NCFUG Monthly Meeting</td>\n",
       "      <td>2016-12-23 00:30:00</td>\n",
       "      <td>2016-12-23 00:30:00</td>\n",
       "      <td>Friday</td>\n",
       "      <td>Tech</td>\n",
       "    </tr>\n",
       "    <tr>\n",
       "      <th>7381</th>\n",
       "      <td>8796112</td>\n",
       "      <td>Nashville ColdFusion User Group</td>\n",
       "      <td>41</td>\n",
       "      <td>34</td>\n",
       "      <td>Tech</td>\n",
       "      <td>12480841</td>\n",
       "      <td>Nashville-ColdFusion-User-Group</td>\n",
       "      <td>1.333333</td>\n",
       "      <td>2016-02-26 00:30:00</td>\n",
       "      <td>7</td>\n",
       "      <td>qrzvjgyvpbgc</td>\n",
       "      <td>NCFUG Monthly Meeting</td>\n",
       "      <td>2016-11-25 00:30:00</td>\n",
       "      <td>2016-11-25 00:30:00</td>\n",
       "      <td>Friday</td>\n",
       "      <td>Tech</td>\n",
       "    </tr>\n",
       "  </tbody>\n",
       "</table>\n",
       "</div>"
      ],
      "text/plain": [
       "      group_id                       group_name  num_members  category_id  \\\n",
       "7380   8796112  Nashville ColdFusion User Group           41           34   \n",
       "7381   8796112  Nashville ColdFusion User Group           41           34   \n",
       "\n",
       "     category_name_x  organizer_id                    group_urlname  \\\n",
       "7380            Tech      12480841  Nashville-ColdFusion-User-Group   \n",
       "7381            Tech      12480841  Nashville-ColdFusion-User-Group   \n",
       "\n",
       "      avg_rsvps         first_event  num_events      event_id  \\\n",
       "7380   1.333333 2016-02-26 00:30:00           7  qrzvjgyvqbdc   \n",
       "7381   1.333333 2016-02-26 00:30:00           7  qrzvjgyvpbgc   \n",
       "\n",
       "                       name                 time             time_ts  \\\n",
       "7380  NCFUG Monthly Meeting  2016-12-23 00:30:00 2016-12-23 00:30:00   \n",
       "7381  NCFUG Monthly Meeting  2016-11-25 00:30:00 2016-11-25 00:30:00   \n",
       "\n",
       "     day_of_week category_name_y  \n",
       "7380      Friday            Tech  \n",
       "7381      Friday            Tech  "
      ]
     },
     "execution_count": 294,
     "metadata": {},
     "output_type": "execute_result"
    }
   ],
   "source": [
    "group_event_merged.loc[group_event_merged['group_id']==8796112]"
   ]
  },
  {
   "cell_type": "markdown",
   "id": "87f62763",
   "metadata": {},
   "source": [
    "Below I create a feature to measure group loyalty by measuring the percent of events each member attends within each group and then getting an average of those.\n",
    "Newer members to engage with a group will drag the average down, so may need to consider percent since first engagement"
   ]
  },
  {
   "cell_type": "code",
   "execution_count": 305,
   "id": "f5a1cb08",
   "metadata": {},
   "outputs": [
    {
     "data": {
      "text/html": [
       "<div>\n",
       "<style scoped>\n",
       "    .dataframe tbody tr th:only-of-type {\n",
       "        vertical-align: middle;\n",
       "    }\n",
       "\n",
       "    .dataframe tbody tr th {\n",
       "        vertical-align: top;\n",
       "    }\n",
       "\n",
       "    .dataframe thead th {\n",
       "        text-align: right;\n",
       "    }\n",
       "</style>\n",
       "<table border=\"1\" class=\"dataframe\">\n",
       "  <thead>\n",
       "    <tr style=\"text-align: right;\">\n",
       "      <th></th>\n",
       "      <th>member_id</th>\n",
       "      <th>group_id</th>\n",
       "      <th>weight</th>\n",
       "    </tr>\n",
       "  </thead>\n",
       "  <tbody>\n",
       "    <tr>\n",
       "      <th>0</th>\n",
       "      <td>2069</td>\n",
       "      <td>19277993</td>\n",
       "      <td>3</td>\n",
       "    </tr>\n",
       "    <tr>\n",
       "      <th>1</th>\n",
       "      <td>625050</td>\n",
       "      <td>19277993</td>\n",
       "      <td>2</td>\n",
       "    </tr>\n",
       "    <tr>\n",
       "      <th>2</th>\n",
       "      <td>1939496</td>\n",
       "      <td>19277993</td>\n",
       "      <td>1</td>\n",
       "    </tr>\n",
       "    <tr>\n",
       "      <th>3</th>\n",
       "      <td>2606806</td>\n",
       "      <td>19277993</td>\n",
       "      <td>4</td>\n",
       "    </tr>\n",
       "    <tr>\n",
       "      <th>4</th>\n",
       "      <td>3438546</td>\n",
       "      <td>19277993</td>\n",
       "      <td>1</td>\n",
       "    </tr>\n",
       "  </tbody>\n",
       "</table>\n",
       "</div>"
      ],
      "text/plain": [
       "   member_id  group_id  weight\n",
       "0       2069  19277993       3\n",
       "1     625050  19277993       2\n",
       "2    1939496  19277993       1\n",
       "3    2606806  19277993       4\n",
       "4    3438546  19277993       1"
      ]
     },
     "execution_count": 305,
     "metadata": {},
     "output_type": "execute_result"
    }
   ],
   "source": [
    "m_to_g_edges.head()"
   ]
  },
  {
   "cell_type": "code",
   "execution_count": 313,
   "id": "332f2b78",
   "metadata": {},
   "outputs": [
    {
     "ename": "ValueError",
     "evalue": "could not broadcast input array from shape (54250,2) into shape (54250,)",
     "output_type": "error",
     "traceback": [
      "\u001b[0;31m---------------------------------------------------------------------------\u001b[0m",
      "\u001b[0;31mValueError\u001b[0m                                Traceback (most recent call last)",
      "\u001b[0;32m/var/folders/w6/m13k9fgs76s835wznks2wrwh0000gn/T/ipykernel_62077/13058338.py\u001b[0m in \u001b[0;36m<module>\u001b[0;34m\u001b[0m\n\u001b[0;32m----> 1\u001b[0;31m \u001b[0mrsvp_subset_aggregate\u001b[0m \u001b[0;34m=\u001b[0m \u001b[0mpd\u001b[0m\u001b[0;34m.\u001b[0m\u001b[0munique\u001b[0m\u001b[0;34m(\u001b[0m\u001b[0mrsvp_subset\u001b[0m\u001b[0;34m[\u001b[0m\u001b[0;34m[\u001b[0m\u001b[0;34m'group_id'\u001b[0m\u001b[0;34m,\u001b[0m\u001b[0;34m'member_id'\u001b[0m\u001b[0;34m]\u001b[0m\u001b[0;34m]\u001b[0m\u001b[0;34m)\u001b[0m\u001b[0;34m\u001b[0m\u001b[0;34m\u001b[0m\u001b[0m\n\u001b[0m",
      "\u001b[0;32m~/opt/anaconda3/lib/python3.9/site-packages/pandas/core/algorithms.py\u001b[0m in \u001b[0;36munique\u001b[0;34m(values)\u001b[0m\n\u001b[1;32m    419\u001b[0m     \u001b[0marray\u001b[0m\u001b[0;34m(\u001b[0m\u001b[0;34m[\u001b[0m\u001b[0;34m(\u001b[0m\u001b[0;34m'a'\u001b[0m\u001b[0;34m,\u001b[0m \u001b[0;34m'b'\u001b[0m\u001b[0;34m)\u001b[0m\u001b[0;34m,\u001b[0m \u001b[0;34m(\u001b[0m\u001b[0;34m'b'\u001b[0m\u001b[0;34m,\u001b[0m \u001b[0;34m'a'\u001b[0m\u001b[0;34m)\u001b[0m\u001b[0;34m,\u001b[0m \u001b[0;34m(\u001b[0m\u001b[0;34m'a'\u001b[0m\u001b[0;34m,\u001b[0m \u001b[0;34m'c'\u001b[0m\u001b[0;34m)\u001b[0m\u001b[0;34m]\u001b[0m\u001b[0;34m,\u001b[0m \u001b[0mdtype\u001b[0m\u001b[0;34m=\u001b[0m\u001b[0mobject\u001b[0m\u001b[0;34m)\u001b[0m\u001b[0;34m\u001b[0m\u001b[0;34m\u001b[0m\u001b[0m\n\u001b[1;32m    420\u001b[0m     \"\"\"\n\u001b[0;32m--> 421\u001b[0;31m     \u001b[0mvalues\u001b[0m \u001b[0;34m=\u001b[0m \u001b[0m_ensure_arraylike\u001b[0m\u001b[0;34m(\u001b[0m\u001b[0mvalues\u001b[0m\u001b[0;34m)\u001b[0m\u001b[0;34m\u001b[0m\u001b[0;34m\u001b[0m\u001b[0m\n\u001b[0m\u001b[1;32m    422\u001b[0m \u001b[0;34m\u001b[0m\u001b[0m\n\u001b[1;32m    423\u001b[0m     \u001b[0;32mif\u001b[0m \u001b[0mis_extension_array_dtype\u001b[0m\u001b[0;34m(\u001b[0m\u001b[0mvalues\u001b[0m\u001b[0;34m)\u001b[0m\u001b[0;34m:\u001b[0m\u001b[0;34m\u001b[0m\u001b[0;34m\u001b[0m\u001b[0m\n",
      "\u001b[0;32m~/opt/anaconda3/lib/python3.9/site-packages/pandas/core/algorithms.py\u001b[0m in \u001b[0;36m_ensure_arraylike\u001b[0;34m(values)\u001b[0m\n\u001b[1;32m    235\u001b[0m             \u001b[0;32mif\u001b[0m \u001b[0misinstance\u001b[0m\u001b[0;34m(\u001b[0m\u001b[0mvalues\u001b[0m\u001b[0;34m,\u001b[0m \u001b[0mtuple\u001b[0m\u001b[0;34m)\u001b[0m\u001b[0;34m:\u001b[0m\u001b[0;34m\u001b[0m\u001b[0;34m\u001b[0m\u001b[0m\n\u001b[1;32m    236\u001b[0m                 \u001b[0mvalues\u001b[0m \u001b[0;34m=\u001b[0m \u001b[0mlist\u001b[0m\u001b[0;34m(\u001b[0m\u001b[0mvalues\u001b[0m\u001b[0;34m)\u001b[0m\u001b[0;34m\u001b[0m\u001b[0;34m\u001b[0m\u001b[0m\n\u001b[0;32m--> 237\u001b[0;31m             \u001b[0mvalues\u001b[0m \u001b[0;34m=\u001b[0m \u001b[0mconstruct_1d_object_array_from_listlike\u001b[0m\u001b[0;34m(\u001b[0m\u001b[0mvalues\u001b[0m\u001b[0;34m)\u001b[0m\u001b[0;34m\u001b[0m\u001b[0;34m\u001b[0m\u001b[0m\n\u001b[0m\u001b[1;32m    238\u001b[0m         \u001b[0;32melse\u001b[0m\u001b[0;34m:\u001b[0m\u001b[0;34m\u001b[0m\u001b[0;34m\u001b[0m\u001b[0m\n\u001b[1;32m    239\u001b[0m             \u001b[0mvalues\u001b[0m \u001b[0;34m=\u001b[0m \u001b[0mnp\u001b[0m\u001b[0;34m.\u001b[0m\u001b[0masarray\u001b[0m\u001b[0;34m(\u001b[0m\u001b[0mvalues\u001b[0m\u001b[0;34m)\u001b[0m\u001b[0;34m\u001b[0m\u001b[0;34m\u001b[0m\u001b[0m\n",
      "\u001b[0;32m~/opt/anaconda3/lib/python3.9/site-packages/pandas/core/dtypes/cast.py\u001b[0m in \u001b[0;36mconstruct_1d_object_array_from_listlike\u001b[0;34m(values)\u001b[0m\n\u001b[1;32m   1988\u001b[0m     \u001b[0;31m# making a 1D array that contains list-likes is a bit tricky:\u001b[0m\u001b[0;34m\u001b[0m\u001b[0;34m\u001b[0m\u001b[0m\n\u001b[1;32m   1989\u001b[0m     \u001b[0mresult\u001b[0m \u001b[0;34m=\u001b[0m \u001b[0mnp\u001b[0m\u001b[0;34m.\u001b[0m\u001b[0mempty\u001b[0m\u001b[0;34m(\u001b[0m\u001b[0mlen\u001b[0m\u001b[0;34m(\u001b[0m\u001b[0mvalues\u001b[0m\u001b[0;34m)\u001b[0m\u001b[0;34m,\u001b[0m \u001b[0mdtype\u001b[0m\u001b[0;34m=\u001b[0m\u001b[0;34m\"object\"\u001b[0m\u001b[0;34m)\u001b[0m\u001b[0;34m\u001b[0m\u001b[0;34m\u001b[0m\u001b[0m\n\u001b[0;32m-> 1990\u001b[0;31m     \u001b[0mresult\u001b[0m\u001b[0;34m[\u001b[0m\u001b[0;34m:\u001b[0m\u001b[0;34m]\u001b[0m \u001b[0;34m=\u001b[0m \u001b[0mvalues\u001b[0m\u001b[0;34m\u001b[0m\u001b[0;34m\u001b[0m\u001b[0m\n\u001b[0m\u001b[1;32m   1991\u001b[0m     \u001b[0;32mreturn\u001b[0m \u001b[0mresult\u001b[0m\u001b[0;34m\u001b[0m\u001b[0;34m\u001b[0m\u001b[0m\n\u001b[1;32m   1992\u001b[0m \u001b[0;34m\u001b[0m\u001b[0m\n",
      "\u001b[0;31mValueError\u001b[0m: could not broadcast input array from shape (54250,2) into shape (54250,)"
     ]
    }
   ],
   "source": [
    "rsvp_subset_aggregate = pd.unique(rsvp_subset[['group_id','member_id']])"
   ]
  },
  {
   "cell_type": "code",
   "execution_count": 314,
   "id": "b55976c3",
   "metadata": {},
   "outputs": [],
   "source": [
    "\n",
    "rsvp_subset_aggregate= rsvp_subset_aggregate[['group_id', 'member_id']].merge(rsvp_subset.groupby(\\\n",
    "                                ['group_id','member_id'])['event_id']\\\n",
    "                               .size().reset_index(name='num_events_attended'), \\\n",
    "                                                                 how='left',left_on=['group_id','member_id'],\\\n",
    "                                                                right_on=['group_id','member_id'])"
   ]
  },
  {
   "cell_type": "code",
   "execution_count": 316,
   "id": "ce91636d",
   "metadata": {},
   "outputs": [],
   "source": [
    "rsvp_subset_aggregate=rsvp_subset_aggregate.drop_duplicates()"
   ]
  },
  {
   "cell_type": "code",
   "execution_count": 317,
   "id": "42dda3b2",
   "metadata": {},
   "outputs": [
    {
     "data": {
      "text/html": [
       "<div>\n",
       "<style scoped>\n",
       "    .dataframe tbody tr th:only-of-type {\n",
       "        vertical-align: middle;\n",
       "    }\n",
       "\n",
       "    .dataframe tbody tr th {\n",
       "        vertical-align: top;\n",
       "    }\n",
       "\n",
       "    .dataframe thead th {\n",
       "        text-align: right;\n",
       "    }\n",
       "</style>\n",
       "<table border=\"1\" class=\"dataframe\">\n",
       "  <thead>\n",
       "    <tr style=\"text-align: right;\">\n",
       "      <th></th>\n",
       "      <th>group_id</th>\n",
       "      <th>member_id</th>\n",
       "      <th>num_events_attended</th>\n",
       "    </tr>\n",
       "  </thead>\n",
       "  <tbody>\n",
       "    <tr>\n",
       "      <th>0</th>\n",
       "      <td>18571126</td>\n",
       "      <td>1720391</td>\n",
       "      <td>15</td>\n",
       "    </tr>\n",
       "    <tr>\n",
       "      <th>5</th>\n",
       "      <td>18571126</td>\n",
       "      <td>194158019</td>\n",
       "      <td>2</td>\n",
       "    </tr>\n",
       "    <tr>\n",
       "      <th>6</th>\n",
       "      <td>18571126</td>\n",
       "      <td>186264694</td>\n",
       "      <td>1</td>\n",
       "    </tr>\n",
       "    <tr>\n",
       "      <th>18</th>\n",
       "      <td>18821254</td>\n",
       "      <td>125145522</td>\n",
       "      <td>3</td>\n",
       "    </tr>\n",
       "    <tr>\n",
       "      <th>21</th>\n",
       "      <td>20586888</td>\n",
       "      <td>1720391</td>\n",
       "      <td>11</td>\n",
       "    </tr>\n",
       "  </tbody>\n",
       "</table>\n",
       "</div>"
      ],
      "text/plain": [
       "    group_id  member_id  num_events_attended\n",
       "0   18571126    1720391                   15\n",
       "5   18571126  194158019                    2\n",
       "6   18571126  186264694                    1\n",
       "18  18821254  125145522                    3\n",
       "21  20586888    1720391                   11"
      ]
     },
     "execution_count": 317,
     "metadata": {},
     "output_type": "execute_result"
    }
   ],
   "source": [
    "rsvp_subset_aggregate.head()"
   ]
  },
  {
   "cell_type": "code",
   "execution_count": 321,
   "id": "07f6c26d",
   "metadata": {},
   "outputs": [
    {
     "data": {
      "text/html": [
       "<div>\n",
       "<style scoped>\n",
       "    .dataframe tbody tr th:only-of-type {\n",
       "        vertical-align: middle;\n",
       "    }\n",
       "\n",
       "    .dataframe tbody tr th {\n",
       "        vertical-align: top;\n",
       "    }\n",
       "\n",
       "    .dataframe thead th {\n",
       "        text-align: right;\n",
       "    }\n",
       "</style>\n",
       "<table border=\"1\" class=\"dataframe\">\n",
       "  <thead>\n",
       "    <tr style=\"text-align: right;\">\n",
       "      <th></th>\n",
       "      <th>group_id</th>\n",
       "      <th>group_name</th>\n",
       "      <th>num_members</th>\n",
       "      <th>category_id</th>\n",
       "      <th>category_name</th>\n",
       "      <th>organizer_id</th>\n",
       "      <th>group_urlname</th>\n",
       "      <th>avg_rsvps</th>\n",
       "      <th>first_event</th>\n",
       "      <th>num_events</th>\n",
       "    </tr>\n",
       "  </thead>\n",
       "  <tbody>\n",
       "    <tr>\n",
       "      <th>0</th>\n",
       "      <td>339011</td>\n",
       "      <td>Nashville Hiking Meetup</td>\n",
       "      <td>15838</td>\n",
       "      <td>23</td>\n",
       "      <td>Outdoors &amp; Adventure</td>\n",
       "      <td>4353803</td>\n",
       "      <td>nashville-hiking</td>\n",
       "      <td>10.462312</td>\n",
       "      <td>2017-06-14 14:00:00</td>\n",
       "      <td>200</td>\n",
       "    </tr>\n",
       "    <tr>\n",
       "      <th>1</th>\n",
       "      <td>19728145</td>\n",
       "      <td>Stepping Out Social Dance Meetup</td>\n",
       "      <td>1778</td>\n",
       "      <td>5</td>\n",
       "      <td>Dancing</td>\n",
       "      <td>118484462</td>\n",
       "      <td>steppingoutsocialdance</td>\n",
       "      <td>16.575000</td>\n",
       "      <td>2016-06-11 23:30:00</td>\n",
       "      <td>200</td>\n",
       "    </tr>\n",
       "    <tr>\n",
       "      <th>2</th>\n",
       "      <td>6335372</td>\n",
       "      <td>Nashville soccer</td>\n",
       "      <td>2869</td>\n",
       "      <td>32</td>\n",
       "      <td>Sports &amp; Recreation</td>\n",
       "      <td>108448302</td>\n",
       "      <td>Nashville-soccer</td>\n",
       "      <td>17.945000</td>\n",
       "      <td>2017-02-23 00:00:00</td>\n",
       "      <td>200</td>\n",
       "    </tr>\n",
       "    <tr>\n",
       "      <th>3</th>\n",
       "      <td>10016242</td>\n",
       "      <td>NashJS</td>\n",
       "      <td>1975</td>\n",
       "      <td>34</td>\n",
       "      <td>Tech</td>\n",
       "      <td>8111102</td>\n",
       "      <td>nashjs</td>\n",
       "      <td>81.782609</td>\n",
       "      <td>2015-11-12 00:00:00</td>\n",
       "      <td>23</td>\n",
       "    </tr>\n",
       "    <tr>\n",
       "      <th>4</th>\n",
       "      <td>21174496</td>\n",
       "      <td>20's &amp; 30's Women looking for girlfriends</td>\n",
       "      <td>2782</td>\n",
       "      <td>31</td>\n",
       "      <td>Socializing</td>\n",
       "      <td>184580248</td>\n",
       "      <td>new-friends-in-Nashville</td>\n",
       "      <td>30.450000</td>\n",
       "      <td>2016-12-04 01:00:00</td>\n",
       "      <td>40</td>\n",
       "    </tr>\n",
       "  </tbody>\n",
       "</table>\n",
       "</div>"
      ],
      "text/plain": [
       "   group_id                                 group_name  num_members  \\\n",
       "0    339011                    Nashville Hiking Meetup        15838   \n",
       "1  19728145           Stepping Out Social Dance Meetup         1778   \n",
       "2   6335372                           Nashville soccer         2869   \n",
       "3  10016242                                     NashJS         1975   \n",
       "4  21174496  20's & 30's Women looking for girlfriends         2782   \n",
       "\n",
       "   category_id         category_name  organizer_id             group_urlname  \\\n",
       "0           23  Outdoors & Adventure       4353803          nashville-hiking   \n",
       "1            5               Dancing     118484462    steppingoutsocialdance   \n",
       "2           32   Sports & Recreation     108448302          Nashville-soccer   \n",
       "3           34                  Tech       8111102                    nashjs   \n",
       "4           31           Socializing     184580248  new-friends-in-Nashville   \n",
       "\n",
       "   avg_rsvps         first_event  num_events  \n",
       "0  10.462312 2017-06-14 14:00:00         200  \n",
       "1  16.575000 2016-06-11 23:30:00         200  \n",
       "2  17.945000 2017-02-23 00:00:00         200  \n",
       "3  81.782609 2015-11-12 00:00:00          23  \n",
       "4  30.450000 2016-12-04 01:00:00          40  "
      ]
     },
     "execution_count": 321,
     "metadata": {},
     "output_type": "execute_result"
    }
   ],
   "source": [
    "meta_groups.head()"
   ]
  },
  {
   "cell_type": "code",
   "execution_count": 323,
   "id": "7be4b333",
   "metadata": {},
   "outputs": [],
   "source": [
    "rsvp_subset_aggregate = rsvp_subset_aggregate.merge(meta_groups[['group_id','category_name']], how='left', on='group_id')"
   ]
  },
  {
   "cell_type": "code",
   "execution_count": 324,
   "id": "64cb2dd5",
   "metadata": {},
   "outputs": [
    {
     "data": {
      "text/plain": [
       "<AxesSubplot:xlabel='category_name', ylabel='Number of Events'>"
      ]
     },
     "execution_count": 324,
     "metadata": {},
     "output_type": "execute_result"
    },
    {
     "data": {
      "image/png": "[encoded data removed]",
      "text/plain": [
       "<Figure size 432x288 with 1 Axes>"
      ]
     },
     "metadata": {
      "needs_background": "light"
     },
     "output_type": "display_data"
    }
   ],
   "source": [
    "rsvp_subset_aggregate.groupby('category_name')['num_events_attended'].agg('mean').plot(kind='bar', ylabel='Number of Events')"
   ]
  },
  {
   "cell_type": "code",
   "execution_count": null,
   "id": "e4642024",
   "metadata": {},
   "outputs": [],
   "source": [
    "#need to get the date of the first event attended and then the number of events that occurred since then\n"
   ]
  }
 ],
 "metadata": {
  "kernelspec": {
   "display_name": "Python 3 (ipykernel)",
   "language": "python",
   "name": "python3"
  },
  "language_info": {
   "codemirror_mode": {
    "name": "ipython",
    "version": 3
   },
   "file_extension": ".py",
   "mimetype": "text/x-python",
   "name": "python",
   "nbconvert_exporter": "python",
   "pygments_lexer": "ipython3",
   "version": "3.9.7"
  }
 },
 "nbformat": 4,
 "nbformat_minor": 5
}
